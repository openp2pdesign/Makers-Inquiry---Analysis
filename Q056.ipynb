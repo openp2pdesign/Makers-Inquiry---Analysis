{
 "metadata": {
  "name": ""
 },
 "nbformat": 3,
 "nbformat_minor": 0,
 "worksheets": [
  {
   "cells": [
    {
     "cell_type": "heading",
     "level": 1,
     "metadata": {},
     "source": [
      "Q056 - In che modo comunichi la tua offerta di servizi?"
     ]
    },
    {
     "cell_type": "code",
     "collapsed": false,
     "input": [
      "# -*- coding: UTF-8 -*-\n",
      "\n",
      "# Render our plots inline\n",
      "%matplotlib inline \n",
      "\n",
      "import pandas as pd\n",
      "import matplotlib.pyplot as plt\n",
      "import numpy as np\n",
      "import seaborn\n",
      "\n",
      "pd.set_option('display.mpl_style', 'default') # Make the graphs a bit prettier, overridden by seaborn\n",
      "pd.set_option('display.max_columns', None) # Display all the columns\n",
      "plt.rcParams['font.family'] = 'sans-serif' # Sans Serif fonts for all the graphs\n",
      "\n",
      "# Reference for color palettes: http://web.stanford.edu/~mwaskom/software/seaborn/tutorial/color_palettes.html"
     ],
     "language": "python",
     "metadata": {},
     "outputs": [],
     "prompt_number": 1
    },
    {
     "cell_type": "code",
     "collapsed": false,
     "input": [
      "# Load csv file first\n",
      "data = pd.read_csv(\"data/results-makers-40.csv\", encoding=\"utf-8\")"
     ],
     "language": "python",
     "metadata": {},
     "outputs": [],
     "prompt_number": 2
    },
    {
     "cell_type": "code",
     "collapsed": false,
     "input": [
      "# Check data\n",
      "#data[0:4] # Equals to data.head()"
     ],
     "language": "python",
     "metadata": {},
     "outputs": [],
     "prompt_number": 3
    },
    {
     "cell_type": "code",
     "collapsed": false,
     "input": [
      "# Get rid of the people who did not answer to this section\n",
      "data = data.loc[data['Q001'] == 'Gestore di makerspace']"
     ],
     "language": "python",
     "metadata": {},
     "outputs": [],
     "prompt_number": 4
    },
    {
     "cell_type": "code",
     "collapsed": false,
     "input": [
      "# Range: Q056[SQ001] - Q056[SQ005] - Q056[other]\n",
      "\n",
      "offer_columns = ['Q056[SQ001]','Q056[SQ002]','Q056[SQ003]','Q056[SQ004]','Q056[SQ005]']\n",
      "offer_options = ['Sito web del makerspace','Altre piattaforme web','Social media','Partecipazione a fiere ed eventi','Conoscenze personai (passaparola)']\n",
      "offer = data[offer_columns]\n",
      "offer.replace(u'S\u00ec', 'Si', inplace=True) # Get rid of accented characters \n",
      "offer_other = data['Q057[other]'].str.lower().value_counts()"
     ],
     "language": "python",
     "metadata": {},
     "outputs": [
      {
       "output_type": "stream",
       "stream": "stderr",
       "text": [
        "-c:6: SettingWithCopyWarning: A value is trying to be set on a copy of a slice from a DataFrame\n"
       ]
      }
     ],
     "prompt_number": 5
    },
    {
     "cell_type": "code",
     "collapsed": false,
     "input": [
      "#offer[0:4]"
     ],
     "language": "python",
     "metadata": {},
     "outputs": [],
     "prompt_number": 6
    },
    {
     "cell_type": "code",
     "collapsed": false,
     "input": [
      "#\u00a0Gather data\n",
      "offer_b = {}\n",
      "\n",
      "for k,i in enumerate(offer_columns):\n",
      "    offer_b[k] = offer[i].value_counts(dropna=False)\n",
      "    print \"Data:\",offer_options[k]\n",
      "    print offer_b[k]\n",
      "    print\n",
      "    print \"Data %:\",offer_options[k]\n",
      "    print offer[i].value_counts(normalize=True,dropna=False)*100\n",
      "    print\n",
      "    \n",
      "yes = []\n",
      "no = []\n",
      "nanvalue = []\n",
      "\n",
      "for k,i in enumerate(offer_columns):\n",
      "    offer_presents = offer_b[k].index.tolist()\n",
      "    \n",
      "    #\u00a0Convert NaN to \"NaN\"\n",
      "    for o,h in enumerate(offer_presents):\n",
      "        if type(h) is float:\n",
      "            offer_presents.pop(o)\n",
      "            offer_presents.append(\"NaN\")\n",
      "    \n",
      "    #\u00a0Reassign new list with \"NaN\"\n",
      "    offer_b[k].index = offer_presents\n",
      "    \n",
      "    #\u00a0Check for empty values, and put a 0 instead\n",
      "    if \"Si\" not in offer_presents:\n",
      "        yes.append(0)\n",
      "    if \"No\" not in offer_presents:\n",
      "        no.append(0)\n",
      "    if \"NaN\" not in offer_presents:\n",
      "        nanvalue.append(0)\n",
      "    \n",
      "    for j in offer_presents:\n",
      "        if j == \"Si\":\n",
      "            yes.append(offer_b[k].ix[\"Si\"])\n",
      "        elif j == \"No\":\n",
      "            no.append(offer_b[k].ix[\"No\"])\n",
      "        elif j == \"NaN\":\n",
      "            nanvalue.append(offer_b[k].ix[\"NaN\"]) "
     ],
     "language": "python",
     "metadata": {},
     "outputs": [
      {
       "output_type": "stream",
       "stream": "stdout",
       "text": [
        "Data: Sito web del makerspace\n",
        "Si     20\n",
        "No      9\n",
        "NaN     0\n",
        "dtype: int64"
       ]
      },
      {
       "output_type": "stream",
       "stream": "stdout",
       "text": [
        "\n",
        "\n",
        "Data %: Sito web del makerspace\n",
        "Si     68.965517\n",
        "No     31.034483\n",
        "NaN     0.000000\n",
        "dtype: float64\n",
        "\n",
        "Data: Altre piattaforme web\n",
        "No     24\n",
        "Si      5\n",
        "NaN     0\n",
        "dtype: int64\n",
        "\n",
        "Data %: Altre piattaforme web\n",
        "No     82.758621\n",
        "Si     17.241379\n",
        "NaN     0.000000\n",
        "dtype: float64\n",
        "\n",
        "Data: Social media\n",
        "Si     22\n",
        "No      7\n",
        "NaN     0\n",
        "dtype: int64\n",
        "\n",
        "Data %: Social media\n",
        "Si     75.862069\n",
        "No     24.137931\n",
        "NaN     0.000000\n",
        "dtype: float64\n",
        "\n",
        "Data: Partecipazione a fiere ed eventi\n",
        "Si     19\n",
        "No     10\n",
        "NaN     0\n",
        "dtype: int64\n",
        "\n",
        "Data %: Partecipazione a fiere ed eventi\n",
        "Si     65.517241\n",
        "No     34.482759\n",
        "NaN     0.000000\n",
        "dtype: float64\n",
        "\n",
        "Data: Conoscenze personai (passaparola)\n",
        "Si     16\n",
        "No     13\n",
        "NaN     0\n",
        "dtype: int64\n",
        "\n",
        "Data %: Conoscenze personai (passaparola)\n",
        "Si     55.172414\n",
        "No     44.827586\n",
        "NaN     0.000000\n",
        "dtype: float64\n",
        "\n"
       ]
      }
     ],
     "prompt_number": 7
    },
    {
     "cell_type": "code",
     "collapsed": false,
     "input": [
      "# Plot the data\n",
      "plt.figure(figsize=(8,6))\n",
      "plt.xlabel('Tipo di comunicazione')\n",
      "plt.ylabel('Persone')\n",
      "plt.title('In che modo comunichi la tua offerta di servizi?')\n",
      "plt.xticks(range(len(offer_options)+1),offer_options,rotation=90)\n",
      "ind = np.arange(len(offer_columns))   # the x locations for the groups\n",
      "width = 0.25                              # the width of the bars\n",
      "\n",
      "my_colors = seaborn.color_palette(\"Set1\", 3) # Set color palette\n",
      "rect1 = plt.bar(ind,yes,width,color=my_colors[1],align='center') # Plot Yes\n",
      "rect2 = plt.bar(ind+width,no,width,color=my_colors[0],align='center') # Plot No \n",
      "rect3 = plt.bar(ind+width*2,nanvalue,width,color=my_colors[2],align='center') # Plot NaN \n",
      "plt.legend( (rect1, rect2, rect3), ('Si', 'No', 'NaN') )\n",
      "plt.savefig(\"pdf/Q056-MakerspaceOffer01.pdf\")"
     ],
     "language": "python",
     "metadata": {},
     "outputs": [
      {
       "metadata": {},
       "output_type": "display_data",
       "png": "[encoded data removed]",
       "text": [
        "<matplotlib.figure.Figure at 0x10809f710>"
       ]
      }
     ],
     "prompt_number": 8
    },
    {
     "cell_type": "code",
     "collapsed": false,
     "input": [
      "# Get \"other\" data\n",
      "offer_other = data[\"Q056[other]\"].str.lower().value_counts()\n",
      "print \"Data:\"\n",
      "print offer_other\n",
      "print \"\"\n",
      "print \"Data %:\"\n",
      "print data[\"Q056[other]\"].str.lower().value_counts(normalize=True) * 100\n",
      "\n",
      "# Plot bar\n",
      "plt.figure(figsize=(8,6))\n",
      "plt.title('In che modo comunichi la tua offerta di servizi? Altro')\n",
      "plt.xticks(range(len(offer_other.index)),offer_other.index,rotation=90)\n",
      "plt.xlabel('Lingue')\n",
      "plt.ylabel('Persone')\n",
      "ind = np.arange(len(offer_other))   # the x locations for the groups\n",
      "width = 0.35                       # the width of the bars\n",
      "\n",
      "my_colors = seaborn.color_palette(\"husl\", len(offer_other)) # Set color palette\n",
      "rect1 = plt.bar(ind,offer_other,width,color=my_colors,align='center')\n",
      "plt.savefig(\"pdf/Q056-MakerspaceOffer02.pdf\") # Save pdf"
     ],
     "language": "python",
     "metadata": {},
     "outputs": [
      {
       "output_type": "stream",
       "stream": "stdout",
       "text": [
        "Data:\n",
        "come maker non offro servizi    1\n",
        "dtype: int64\n",
        "\n",
        "Data %:\n",
        "come maker non offro servizi    3.448276\n",
        "dtype: float64\n"
       ]
      },
      {
       "metadata": {},
       "output_type": "display_data",
       "png": "[encoded data removed]",
       "text": [
        "<matplotlib.figure.Figure at 0x108080990>"
       ]
      }
     ],
     "prompt_number": 9
    },
    {
     "cell_type": "code",
     "collapsed": false,
     "input": [],
     "language": "python",
     "metadata": {},
     "outputs": [],
     "prompt_number": 7
    }
   ],
   "metadata": {}
  }
 ]
}