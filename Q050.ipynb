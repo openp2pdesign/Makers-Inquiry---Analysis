{
 "metadata": {
  "name": "",
  "signature": "sha256:7f6cad2298e722e2b77e2410bda06fbc3b0c74cbaf58814f3ca471dd297c49ff"
 },
 "nbformat": 3,
 "nbformat_minor": 0,
 "worksheets": [
  {
   "cells": [
    {
     "cell_type": "heading",
     "level": 1,
     "metadata": {},
     "source": [
      "Q050 - A chi vendi i tuoi progetti o prodotti?"
     ]
    },
    {
     "cell_type": "code",
     "collapsed": false,
     "input": [
      "# -*- coding: UTF-8 -*-\n",
      "\n",
      "# Render our plots inline\n",
      "%matplotlib inline \n",
      "\n",
      "import pandas as pd\n",
      "import matplotlib\n",
      "import matplotlib.pyplot as plt\n",
      "import numpy as np\n",
      "import seaborn\n",
      "import shutil\n",
      "\n",
      "pd.set_option('display.mpl_style', 'default') # Make the graphs a bit prettier, overridden by seaborn\n",
      "pd.set_option('display.max_columns', None) # Display all the columns\n",
      "plt.rcParams['font.family'] = 'sans-serif' # Sans Serif fonts for all the graphs\n",
      "\n",
      "# Reference for color palettes: http://web.stanford.edu/~mwaskom/software/seaborn/tutorial/color_palettes.html\n",
      "\n",
      "# Change the font\n",
      "matplotlib.rcParams.update({'font.family': 'Source Sans Pro'})"
     ],
     "language": "python",
     "metadata": {},
     "outputs": [],
     "prompt_number": 1
    },
    {
     "cell_type": "code",
     "collapsed": false,
     "input": [
      "# Load csv file first\n",
      "data = pd.read_csv(\"data/results-makers-40.csv\", encoding=\"utf-8\")"
     ],
     "language": "python",
     "metadata": {},
     "outputs": [],
     "prompt_number": 2
    },
    {
     "cell_type": "code",
     "collapsed": false,
     "input": [
      "# Check data\n",
      "#data[0:4] # Equals to data.head()"
     ],
     "language": "python",
     "metadata": {},
     "outputs": [],
     "prompt_number": 3
    },
    {
     "cell_type": "code",
     "collapsed": false,
     "input": [
      "# Range: Q050[SQ001] - Q050[SQ008] - Q050[other]\n",
      "\n",
      "business_columns = ['Q050[SQ001]','Q050[SQ002]','Q050[SQ003]','Q050[SQ004]',\n",
      "                    'Q050[SQ005]','Q050[SQ006]','Q050[SQ007]','Q050[SQ008]',]\n",
      "business_options = ['Imprese tradizionali',\n",
      "                  'Artigiani',\n",
      "                  'Distributori',\n",
      "                  'Makers',\n",
      "                  'Finanziatori (crowdfunding/venture capitalist)',\n",
      "                  'Professionisti',\n",
      "                  'Amici e parenti',\n",
      "                  'Non vendo i miei prodotti'\n",
      "                  ]\n",
      "business = data[business_columns]\n",
      "business.replace(u'S\u00ec', 'Si', inplace=True) # Get rid of accented characters \n",
      "business_other = data['Q050[other]'].str.lower().value_counts()"
     ],
     "language": "python",
     "metadata": {},
     "outputs": [
      {
       "output_type": "stream",
       "stream": "stderr",
       "text": [
        "-c:15: SettingWithCopyWarning: \n",
        "A value is trying to be set on a copy of a slice from a DataFrame\n",
        "\n",
        "See the the caveats in the documentation: http://pandas.pydata.org/pandas-docs/stable/indexing.html#indexing-view-versus-copy\n"
       ]
      }
     ],
     "prompt_number": 4
    },
    {
     "cell_type": "code",
     "collapsed": false,
     "input": [
      "#business[0:4]"
     ],
     "language": "python",
     "metadata": {},
     "outputs": [],
     "prompt_number": 5
    },
    {
     "cell_type": "code",
     "collapsed": false,
     "input": [
      "%%capture output\n",
      "\n",
      "# Save the output as a variable that can be saved to a file\n",
      "# Gather data\n",
      "business_b = {}\n",
      "for k,i in enumerate(business_columns):\n",
      "    business_b[k] = business[i].value_counts(dropna=False)\n",
      "    print \"Data:\",business_options[k]\n",
      "    print business_b[k]\n",
      "    print\n",
      "    print \"Data %:\",business_options[k]\n",
      "    print business[i].value_counts(normalize=True,dropna=False)*100\n",
      "    print"
     ],
     "language": "python",
     "metadata": {},
     "outputs": [],
     "prompt_number": 6
    },
    {
     "cell_type": "code",
     "collapsed": false,
     "input": [
      "# Save+show the output to a text file\n",
      "%save Q050-MakerBusiness01.py str(output)\n",
      "shutil.move(\"Q050-MakerBusiness01.py\", \"text/Q050-MakerBusiness01.txt\")"
     ],
     "language": "python",
     "metadata": {},
     "outputs": [
      {
       "output_type": "stream",
       "stream": "stdout",
       "text": [
        "The following commands were written to file `Q050-MakerBusiness01.py`:\n",
        "Data: Imprese tradizionali\n",
        "No     105\n",
        "Si      27\n",
        "NaN      2\n",
        "dtype: int64\n",
        "\n",
        "Data %: Imprese tradizionali\n",
        "No     78.358209\n",
        "Si     20.149254\n",
        "NaN     1.492537\n",
        "dtype: float64\n",
        "\n",
        "Data: Artigiani\n",
        "No     114\n",
        "Si      18\n",
        "NaN      2\n",
        "dtype: int64\n",
        "\n",
        "Data %: Artigiani\n",
        "No     85.074627\n",
        "Si     13.432836\n",
        "NaN     1.492537\n",
        "dtype: float64\n",
        "\n",
        "Data: Distributori\n",
        "No     106\n",
        "Si      26\n",
        "NaN      2\n",
        "dtype: int64\n",
        "\n",
        "Data %: Distributori\n",
        "No     79.104478\n",
        "Si     19.402985\n",
        "NaN     1.492537\n",
        "dtype: float64\n",
        "\n",
        "Data: Makers\n",
        "No     114\n",
        "Si      18\n",
        "NaN      2\n",
        "dtype: int64\n",
        "\n",
        "Data %: Makers\n",
        "No     85.074627\n",
        "Si     13.432836\n",
        "NaN     1.492537\n",
        "dtype: float64\n",
        "\n",
        "Data: Finanziatori (crowdfunding/venture capitalist)\n",
        "No     123\n",
        "Si       9\n",
        "NaN      2\n",
        "dtype: int64\n",
        "\n",
        "Data %: Finanziatori (crowdfunding/venture capitalist)\n",
        "No     91.791045\n",
        "Si      6.716418\n",
        "NaN     1.492537\n",
        "dtype: float64\n",
        "\n",
        "Data: Professionisti\n",
        "No     96\n",
        "Si     36\n",
        "NaN     2\n",
        "dtype: int64\n",
        "\n",
        "Data %: Professionisti\n",
        "No     71.641791\n",
        "Si     26.865672\n",
        "NaN     1.492537\n",
        "dtype: float64\n",
        "\n",
        "Data: Amici e parenti\n",
        "No     101\n",
        "Si      31\n",
        "NaN      2\n",
        "dtype: int64\n",
        "\n",
        "Data %: Amici e parenti\n",
        "No     75.373134\n",
        "Si     23.134328\n",
        "NaN     1.492537\n",
        "dtype: float64\n",
        "\n",
        "Data: Non vendo i miei prodotti\n",
        "No     99\n",
        "Si     33\n",
        "NaN     2\n",
        "dtype: int64\n",
        "\n",
        "Data %: Non vendo i miei prodotti\n",
        "No     73.880597\n",
        "Si     24.626866\n",
        "NaN     1.492537\n",
        "dtype: float64\n",
        "\n",
        "\n"
       ]
      }
     ],
     "prompt_number": 7
    },
    {
     "cell_type": "code",
     "collapsed": false,
     "input": [
      "yes = []\n",
      "no = []\n",
      "nanvalue = []\n",
      "\n",
      "for k,i in enumerate(business_columns):\n",
      "    business_presents = business_b[k].index.tolist()\n",
      "    \n",
      "    #\u00a0Convert NaN to \"NaN\"\n",
      "    for o,h in enumerate(business_presents):\n",
      "        if type(h) is float:\n",
      "            business_presents.pop(o)\n",
      "            business_presents.append(\"NaN\")\n",
      "    \n",
      "    #\u00a0Reassign new list with \"NaN\"\n",
      "    business_b[k].index = business_presents\n",
      "    \n",
      "    #\u00a0Check for empty values, and put a 0 instead\n",
      "    if \"Si\" not in business_presents:\n",
      "        yes.append(0)\n",
      "    if \"No\" not in business_presents:\n",
      "        no.append(0)\n",
      "    if \"NaN\" not in business_presents:\n",
      "        nanvalue.append(0)\n",
      "    \n",
      "    for j in business_presents:\n",
      "        if j == \"Si\":\n",
      "            yes.append(business_b[k].ix[\"Si\"])\n",
      "        elif j == \"No\":\n",
      "            no.append(business_b[k].ix[\"No\"])\n",
      "        elif j == \"NaN\":\n",
      "            nanvalue.append(business_b[k].ix[\"NaN\"]) "
     ],
     "language": "python",
     "metadata": {},
     "outputs": [],
     "prompt_number": 8
    },
    {
     "cell_type": "code",
     "collapsed": false,
     "input": [
      "# Plot the data\n",
      "plt.figure(figsize=(8,6))\n",
      "plt.xlabel(u'Clienti', fontsize=16)\n",
      "plt.ylabel('Persone', fontsize=16)\n",
      "plt.title(u'A chi vendi i tuoi progetti o prodotti?', fontsize=18, y=1.02)\n",
      "plt.xticks(range(len(business_options)+1),business_options,rotation=90)\n",
      "ind = np.arange(len(business_columns))   # the x locations for the groups\n",
      "width = 0.25                              # the width of the bars\n",
      "\n",
      "my_colors = seaborn.color_palette(\"Set1\", 3) # Set color palette\n",
      "rect1 = plt.bar(ind,yes,width,color=my_colors[1],align='center') # Plot Yes\n",
      "rect2 = plt.bar(ind+width,no,width,color=my_colors[0],align='center') # Plot No \n",
      "rect3 = plt.bar(ind+width*2,nanvalue,width,color=my_colors[2],align='center') # Plot NaN\n",
      "plt.legend( (rect1, rect2, rect3), ('Si', 'No', 'NaN') )\n",
      "plt.savefig(\"svg/Q050-MakerBusiness01.svg\")\n",
      "plt.savefig(\"png/Q050-MakerBusiness01.png\")\n",
      "plt.savefig(\"pdf/Q050-MakerBusiness01.pdf\")"
     ],
     "language": "python",
     "metadata": {},
     "outputs": [
      {
       "metadata": {},
       "output_type": "display_data",
       "png": "[encoded data removed]",
       "text": [
        "<matplotlib.figure.Figure at 0x10e2b2e90>"
       ]
      }
     ],
     "prompt_number": 9
    },
    {
     "cell_type": "code",
     "collapsed": false,
     "input": [
      "%%capture output\n",
      "\n",
      "# Save the output as a variable that can be saved to a file\n",
      "# Get \"other\" data\n",
      "business_other = data[\"Q050[other]\"].str.lower().value_counts()\n",
      "print \"Data:\"\n",
      "print business_other\n",
      "print \"\"\n",
      "print \"Data %:\"\n",
      "print data[\"Q050[other]\"].str.lower().value_counts(normalize=True) * 100"
     ],
     "language": "python",
     "metadata": {},
     "outputs": [],
     "prompt_number": 10
    },
    {
     "cell_type": "code",
     "collapsed": false,
     "input": [
      "# Save+show the output to a text file\n",
      "%save Q050-MakerBusiness02.py str(output)\n",
      "shutil.move(\"Q050-MakerBusiness02.py\", \"text/Q050-MakerBusiness02.txt\")"
     ],
     "language": "python",
     "metadata": {},
     "outputs": [
      {
       "output_type": "stream",
       "stream": "stdout",
       "text": [
        "The following commands were written to file `Q050-MakerBusiness02.py`:\n",
        "Data:\n",
        "privati                                   4\n",
        "clienti                                   3\n",
        "clienti privati                           3\n",
        "committenti privati                       1\n",
        "a chi \u00e8 interessato all'acquisto          1\n",
        "non vendo ancora i miei servizi           1\n",
        "famiglie con bambini                      1\n",
        "non prodotti da vendere. che tristezza    1\n",
        "negozi                                    1\n",
        "consumatori generali                      1\n",
        "consumatori                               1\n",
        "rivenditori, al pubblico                  1\n",
        "per ora gli ho sempre regalati            1\n",
        "ancora non li ho venduti                  1\n",
        "committenti                               1\n",
        "dtype: int64\n",
        "\n",
        "Data %:\n",
        "privati                                   2.985075\n",
        "clienti                                   2.238806\n",
        "clienti privati                           2.238806\n",
        "committenti privati                       0.746269\n",
        "a chi \u00e8 interessato all'acquisto          0.746269\n",
        "non vendo ancora i miei servizi           0.746269\n",
        "famiglie con bambini                      0.746269\n",
        "non prodotti da vendere. che tristezza    0.746269\n",
        "negozi                                    0.746269\n",
        "consumatori generali                      0.746269\n",
        "consumatori                               0.746269\n",
        "rivenditori, al pubblico                  0.746269\n",
        "per ora gli ho sempre regalati            0.746269\n",
        "ancora non li ho venduti                  0.746269\n",
        "committenti                               0.746269\n",
        "dtype: float64\n",
        "\n"
       ]
      }
     ],
     "prompt_number": 11
    },
    {
     "cell_type": "code",
     "collapsed": false,
     "input": [
      "# Plot bar\n",
      "plt.figure(figsize=(8,6))\n",
      "plt.title(u'A chi vendi i tuoi progetti o prodotti? Altro', fontsize=18, y=1.02)\n",
      "plt.xticks(range(len(business_other.index)),business_other.index,rotation=90)\n",
      "plt.xlabel(u'Clienti', fontsize=16)\n",
      "plt.ylabel('Persone', fontsize=16)\n",
      "ind = np.arange(len(business_other))   # the x locations for the groups\n",
      "width = 0.35                       # the width of the bars\n",
      "\n",
      "my_colors = seaborn.color_palette(\"husl\", len(business_other)) # Set color palette\n",
      "rect1 = plt.bar(ind,business_other,width,color=my_colors,align='center')\n",
      "plt.savefig(\"svg/Q050-MakerBusiness02.svg\")\n",
      "plt.savefig(\"png/Q050-MakerBusiness02.png\")\n",
      "plt.savefig(\"pdf/Q050-MakerBusiness02.pdf\")"
     ],
     "language": "python",
     "metadata": {},
     "outputs": [
      {
       "metadata": {},
       "output_type": "display_data",
       "png": "[encoded data removed]",
       "text": [
        "<matplotlib.figure.Figure at 0x10e2b2390>"
       ]
      }
     ],
     "prompt_number": 12
    }
   ],
   "metadata": {}
  }
 ]
}