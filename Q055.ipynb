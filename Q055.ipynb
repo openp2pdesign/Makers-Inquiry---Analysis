{
 "metadata": {
  "name": ""
 },
 "nbformat": 3,
 "nbformat_minor": 0,
 "worksheets": [
  {
   "cells": [
    {
     "cell_type": "heading",
     "level": 1,
     "metadata": {},
     "source": [
      "Q055 - A quali soggetti offri questi servizi?"
     ]
    },
    {
     "cell_type": "code",
     "collapsed": false,
     "input": [
      "# -*- coding: UTF-8 -*-\n",
      "\n",
      "# Render our plots inline\n",
      "%matplotlib inline \n",
      "\n",
      "import pandas as pd\n",
      "import matplotlib.pyplot as plt\n",
      "import numpy as np\n",
      "import seaborn\n",
      "\n",
      "pd.set_option('display.mpl_style', 'default') # Make the graphs a bit prettier, overridden by seaborn\n",
      "pd.set_option('display.max_columns', None) # Display all the columns\n",
      "plt.rcParams['font.family'] = 'sans-serif' # Sans Serif fonts for all the graphs\n",
      "\n",
      "# Reference for color palettes: http://web.stanford.edu/~mwaskom/software/seaborn/tutorial/color_palettes.html"
     ],
     "language": "python",
     "metadata": {},
     "outputs": [],
     "prompt_number": 1
    },
    {
     "cell_type": "code",
     "collapsed": false,
     "input": [
      "# Load csv file first\n",
      "data = pd.read_csv(\"data/results-makers-40.csv\", encoding=\"utf-8\")"
     ],
     "language": "python",
     "metadata": {},
     "outputs": [],
     "prompt_number": 2
    },
    {
     "cell_type": "code",
     "collapsed": false,
     "input": [
      "# Check data\n",
      "#data[0:4] # Equals to data.head()"
     ],
     "language": "python",
     "metadata": {},
     "outputs": [],
     "prompt_number": 3
    },
    {
     "cell_type": "code",
     "collapsed": false,
     "input": [
      "# Get rid of the people who did not answer to this section\n",
      "data = data.loc[data['Q001'] == 'Gestore di makerspace']"
     ],
     "language": "python",
     "metadata": {},
     "outputs": [],
     "prompt_number": 4
    },
    {
     "cell_type": "code",
     "collapsed": false,
     "input": [
      "# Range: Q055[SQ001] - Q055[SQ010] - Q055[other]\n",
      "\n",
      "services_columns = ['Q055[SQ001]','Q055[SQ002]','Q055[SQ003]','Q055[SQ004]','Q055[SQ005]',\n",
      "                    'Q055[SQ006]','Q055[SQ007]','Q055[SQ008]','Q055[SQ009]','Q055[SQ010]']\n",
      "services_options = ['Imprese',\n",
      "                    'Artigiani',\n",
      "                    'Professionisti',\n",
      "                    'Enti e Istituzioni pubbliche e private',\n",
      "                    'Makers',\n",
      "                    'Bambini',\n",
      "                    'Studenti',\n",
      "                    'Pensionati',\n",
      "                    'Disoccupati',\n",
      "                    'Finanziatori (crowdfunding/venture capitalist)'                    \n",
      "                    ]\n",
      "services = data[services_columns]\n",
      "services.replace(u'S\u00ec', 'Si', inplace=True) # Get rid of accented characters \n",
      "services_other = data['Q055[other]'].str.lower().value_counts()"
     ],
     "language": "python",
     "metadata": {},
     "outputs": [
      {
       "output_type": "stream",
       "stream": "stderr",
       "text": [
        "-c:17: SettingWithCopyWarning: A value is trying to be set on a copy of a slice from a DataFrame\n"
       ]
      }
     ],
     "prompt_number": 5
    },
    {
     "cell_type": "code",
     "collapsed": false,
     "input": [
      "#services[0:4]"
     ],
     "language": "python",
     "metadata": {},
     "outputs": [],
     "prompt_number": 6
    },
    {
     "cell_type": "code",
     "collapsed": false,
     "input": [
      "#\u00a0Gather data\n",
      "services_b = {}\n",
      "\n",
      "for k,i in enumerate(services_columns):\n",
      "    services_b[k] = services[i].value_counts(dropna=False)\n",
      "    print \"Data:\",services_options[k]\n",
      "    print services_b[k]\n",
      "    print\n",
      "    print \"Data %:\",services_options[k]\n",
      "    print services[i].value_counts(normalize=True,dropna=False)*100\n",
      "    print\n",
      "    \n",
      "yes = []\n",
      "no = []\n",
      "nanvalue = []\n",
      "\n",
      "for k,i in enumerate(services_columns):\n",
      "    services_presents = services_b[k].index.tolist()\n",
      "    \n",
      "    #\u00a0Convert NaN to \"NaN\"\n",
      "    for o,h in enumerate(services_presents):\n",
      "        if type(h) is float:\n",
      "            services_presents.pop(o)\n",
      "            services_presents.append(\"NaN\")\n",
      "    \n",
      "    #\u00a0Reassign new list with \"NaN\"\n",
      "    services_b[k].index = services_presents\n",
      "    \n",
      "    #\u00a0Check for empty values, and put a 0 instead\n",
      "    if \"Si\" not in services_presents:\n",
      "        yes.append(0)\n",
      "    if \"No\" not in services_presents:\n",
      "        no.append(0)\n",
      "    if \"NaN\" not in services_presents:\n",
      "        nanvalue.append(0)\n",
      "    \n",
      "    for j in services_presents:\n",
      "        if j == \"Si\":\n",
      "            yes.append(services_b[k].ix[\"Si\"])\n",
      "        elif j == \"No\":\n",
      "            no.append(services_b[k].ix[\"No\"])\n",
      "        elif j == \"NaN\":\n",
      "            nanvalue.append(services_b[k].ix[\"NaN\"]) "
     ],
     "language": "python",
     "metadata": {},
     "outputs": [
      {
       "output_type": "stream",
       "stream": "stdout",
       "text": [
        "Data: Imprese\n",
        "Si     20\n",
        "No      9\n",
        "NaN     0\n",
        "dtype: int64"
       ]
      },
      {
       "output_type": "stream",
       "stream": "stdout",
       "text": [
        "\n",
        "\n",
        "Data %: Imprese\n",
        "Si     68.965517\n",
        "No     31.034483\n",
        "NaN     0.000000\n",
        "dtype: float64\n",
        "\n",
        "Data: Artigiani\n",
        "Si     18\n",
        "No     11\n",
        "NaN     0\n",
        "dtype: int64\n",
        "\n",
        "Data %: Artigiani\n",
        "Si     62.068966\n",
        "No     37.931034\n",
        "NaN     0.000000\n",
        "dtype: float64\n",
        "\n",
        "Data: Professionisti\n",
        "Si     21\n",
        "No      8\n",
        "NaN     0\n",
        "dtype: int64\n",
        "\n",
        "Data %: Professionisti\n",
        "Si     72.413793\n",
        "No     27.586207\n",
        "NaN     0.000000\n",
        "dtype: float64\n",
        "\n",
        "Data: Enti e Istituzioni pubbliche e private\n",
        "Si     17\n",
        "No     12\n",
        "NaN     0\n",
        "dtype: int64\n",
        "\n",
        "Data %: Enti e Istituzioni pubbliche e private\n",
        "Si     58.62069\n",
        "No     41.37931\n",
        "NaN     0.00000\n",
        "dtype: float64\n",
        "\n",
        "Data: Makers\n",
        "Si     21\n",
        "No      8\n",
        "NaN     0\n",
        "dtype: int64\n",
        "\n",
        "Data %: Makers\n",
        "Si     72.413793\n",
        "No     27.586207\n",
        "NaN     0.000000\n",
        "dtype: float64\n",
        "\n",
        "Data: Bambini\n",
        "No     15\n",
        "Si     14\n",
        "NaN     0\n",
        "dtype: int64"
       ]
      },
      {
       "output_type": "stream",
       "stream": "stdout",
       "text": [
        "\n",
        "\n",
        "Data %: Bambini\n",
        "No     51.724138\n",
        "Si     48.275862\n",
        "NaN     0.000000\n",
        "dtype: float64\n",
        "\n",
        "Data: Studenti\n",
        "Si     19\n",
        "No     10\n",
        "NaN     0\n",
        "dtype: int64\n",
        "\n",
        "Data %: Studenti\n",
        "Si     65.517241\n",
        "No     34.482759\n",
        "NaN     0.000000\n",
        "dtype: float64\n",
        "\n",
        "Data: Pensionati\n",
        "No     21\n",
        "Si      8\n",
        "NaN     0\n",
        "dtype: int64\n",
        "\n",
        "Data %: Pensionati\n",
        "No     72.413793\n",
        "Si     27.586207\n",
        "NaN     0.000000\n",
        "dtype: float64\n",
        "\n",
        "Data: Disoccupati\n",
        "No     18\n",
        "Si     11\n",
        "NaN     0\n",
        "dtype: int64\n",
        "\n",
        "Data %: Disoccupati\n",
        "No     62.068966\n",
        "Si     37.931034\n",
        "NaN     0.000000\n",
        "dtype: float64\n",
        "\n",
        "Data: Finanziatori (crowdfunding/venture capitalist)\n",
        "No     22\n",
        "Si      7\n",
        "NaN     0\n",
        "dtype: int64\n",
        "\n",
        "Data %: Finanziatori (crowdfunding/venture capitalist)\n",
        "No     75.862069\n",
        "Si     24.137931\n",
        "NaN     0.000000\n",
        "dtype: float64\n",
        "\n"
       ]
      }
     ],
     "prompt_number": 6
    },
    {
     "cell_type": "code",
     "collapsed": false,
     "input": [
      "# Plot the data\n",
      "plt.figure(figsize=(8,6))\n",
      "plt.xlabel(u'Utenti')\n",
      "plt.ylabel('Persone')\n",
      "plt.title(u'A quali soggetti offri questi servizi?')\n",
      "plt.xticks(range(len(services_options)+1),services_options,rotation=90)\n",
      "ind = np.arange(len(services_columns))   # the x locations for the groups\n",
      "width = 0.25                              # the width of the bars\n",
      "\n",
      "my_colors = seaborn.color_palette(\"Set1\", 3) # Set color palette\n",
      "rect1 = plt.bar(ind,yes,width,color=my_colors[1],align='center') # Plot Yes\n",
      "rect2 = plt.bar(ind+width,no,width,color=my_colors[0],align='center') # Plot No \n",
      "rect3 = plt.bar(ind+width*2,nanvalue,width,color=my_colors[2],align='center') # Plot NaN \n",
      "plt.legend( (rect1, rect2, rect3), ('Si', 'No', 'NaN') )\n",
      "plt.savefig(\"pdf/Q055-MakerspaceServices01.pdf\")"
     ],
     "language": "python",
     "metadata": {},
     "outputs": [
      {
       "metadata": {},
       "output_type": "display_data",
       "png": "[encoded data removed]",
       "text": [
        "<matplotlib.figure.Figure at 0x10dbdfa10>"
       ]
      }
     ],
     "prompt_number": 7
    },
    {
     "cell_type": "code",
     "collapsed": false,
     "input": [
      "# Get \"other\" data\n",
      "services_other = data[\"Q055[other]\"].str.lower().value_counts()\n",
      "print \"Data:\"\n",
      "print services_other\n",
      "print \"\"\n",
      "print \"Data %:\"\n",
      "print data[\"Q055[other]\"].str.lower().value_counts(normalize=True) * 100\n",
      "\n",
      "# Plot bar\n",
      "plt.figure(figsize=(8,6))\n",
      "plt.title(u'A quali soggetti offri questi servizi? Altro')\n",
      "plt.xticks(range(len(services_other.index)),services_other.index,rotation=90)\n",
      "plt.xlabel(u'Servizi')\n",
      "plt.ylabel('Persone')\n",
      "ind = np.arange(len(services_other))   # the x locations for the groups\n",
      "width = 0.35                       # the width of the bars\n",
      "\n",
      "my_colors = seaborn.color_palette(\"husl\", len(services_other)) # Set color palette\n",
      "rect1 = plt.bar(ind,services_other,width,color=my_colors,align='center')\n",
      "plt.savefig(\"pdf/Q055-MakerspaceServices02.pdf\") # Save pdf"
     ],
     "language": "python",
     "metadata": {},
     "outputs": [
      {
       "output_type": "stream",
       "stream": "stdout",
       "text": [
        "Data:\n",
        "come maker non offro servizi    1\n",
        "dtype: int64\n",
        "\n",
        "Data %:\n",
        "come maker non offro servizi    3.448276\n",
        "dtype: float64\n"
       ]
      },
      {
       "metadata": {},
       "output_type": "display_data",
       "png": "[encoded data removed]",
       "text": [
        "<matplotlib.figure.Figure at 0x10df593d0>"
       ]
      }
     ],
     "prompt_number": 8
    },
    {
     "cell_type": "code",
     "collapsed": false,
     "input": [],
     "language": "python",
     "metadata": {},
     "outputs": []
    }
   ],
   "metadata": {}
  }
 ]
}