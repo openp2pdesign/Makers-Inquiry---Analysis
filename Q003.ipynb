{
 "metadata": {
  "name": "",
  "signature": "sha256:3e707aae2994ecc9936ce827c21ff4309280b2430103c041980d17bbdbaa5f7d"
 },
 "nbformat": 3,
 "nbformat_minor": 0,
 "worksheets": [
  {
   "cells": [
    {
     "cell_type": "heading",
     "level": 1,
     "metadata": {},
     "source": [
      "Q003 - Qual \u00e9 la tua et\u00e1?"
     ]
    },
    {
     "cell_type": "code",
     "collapsed": false,
     "input": [
      "# -*- coding: UTF-8 -*-\n",
      "\n",
      "# Render our plots inline\n",
      "%matplotlib inline \n",
      "\n",
      "import pandas as pd\n",
      "import matplotlib\n",
      "import matplotlib.pyplot as plt\n",
      "import numpy as np\n",
      "import seaborn\n",
      "import shutil\n",
      "\n",
      "pd.set_option('display.mpl_style', 'default') # Make the graphs a bit prettier, overridden by seaborn\n",
      "pd.set_option('display.max_columns', None) # Display all the columns\n",
      "plt.rcParams['font.family'] = 'sans-serif' # Sans Serif fonts for all the graphs\n",
      "\n",
      "# Reference for color palettes: http://web.stanford.edu/~mwaskom/software/seaborn/tutorial/color_palettes.html\n",
      "\n",
      "# Change the font\n",
      "matplotlib.rcParams.update({'font.family': 'Source Sans Pro'})"
     ],
     "language": "python",
     "metadata": {},
     "outputs": [],
     "prompt_number": 1
    },
    {
     "cell_type": "code",
     "collapsed": false,
     "input": [
      "# Load csv file first\n",
      "data = pd.read_csv(\"data/results-makers-40.csv\", encoding=\"utf-8\")"
     ],
     "language": "python",
     "metadata": {},
     "outputs": [],
     "prompt_number": 2
    },
    {
     "cell_type": "code",
     "collapsed": false,
     "input": [
      "# Check data\n",
      "#data[0:4] # Equals to data.head()"
     ],
     "language": "python",
     "metadata": {},
     "outputs": [],
     "prompt_number": 3
    },
    {
     "cell_type": "code",
     "collapsed": false,
     "input": [
      "%%capture output\n",
      "\n",
      "# Save the output as a variable that can be saved to a file\n",
      "#\u00a0Get the distribution of ages\n",
      "age = data[\"Q003\"].value_counts()\n",
      "print \"Data:\"\n",
      "print age\n",
      "print \"\"\n",
      "print \"Data %:\"\n",
      "print data[\"Q003\"].value_counts(normalize=True) * 100\n",
      "print \"\"\n",
      "print \"Data: statistics:\"\n",
      "print data[\"Q003\"].describe()"
     ],
     "language": "python",
     "metadata": {},
     "outputs": [],
     "prompt_number": 4
    },
    {
     "cell_type": "code",
     "collapsed": false,
     "input": [
      "# Save+show the output to a text file\n",
      "%save Q003-Et\u00e1Maker.py str(output)\n",
      "shutil.move(\"Q003-Et\u00e1Maker.py\", \"text/Q003-Et\u00e1Maker.txt\")"
     ],
     "language": "python",
     "metadata": {},
     "outputs": [
      {
       "output_type": "stream",
       "stream": "stdout",
       "text": [
        "The following commands were written to file `Q003-Et\u00e1Maker.py`:\n",
        "Data:\n",
        "36    14\n",
        "31     8\n",
        "29     8\n",
        "33     8\n",
        "40     7\n",
        "41     7\n",
        "25     6\n",
        "35     5\n",
        "38     5\n",
        "26     5\n",
        "45     4\n",
        "44     4\n",
        "43     4\n",
        "28     4\n",
        "27     4\n",
        "37     3\n",
        "30     3\n",
        "32     3\n",
        "21     3\n",
        "39     3\n",
        "42     3\n",
        "49     3\n",
        "34     2\n",
        "46     2\n",
        "47     2\n",
        "52     2\n",
        "24     2\n",
        "58     1\n",
        "48     1\n",
        "53     1\n",
        "55     1\n",
        "56     1\n",
        "23     1\n",
        "22     1\n",
        "60     1\n",
        "dtype: int64\n",
        "\n",
        "Data %:\n",
        "36    10.447761\n",
        "31     5.970149\n",
        "29     5.970149\n",
        "33     5.970149\n",
        "40     5.223881\n",
        "41     5.223881\n",
        "25     4.477612\n",
        "35     3.731343\n",
        "38     3.731343\n",
        "26     3.731343\n",
        "45     2.985075\n",
        "44     2.985075\n",
        "43     2.985075\n",
        "28     2.985075\n",
        "27     2.985075\n",
        "37     2.238806\n",
        "30     2.238806\n",
        "32     2.238806\n",
        "21     2.238806\n",
        "39     2.238806\n",
        "42     2.238806\n",
        "49     2.238806\n",
        "34     1.492537\n",
        "46     1.492537\n",
        "47     1.492537\n",
        "52     1.492537\n",
        "24     1.492537\n",
        "58     0.746269\n",
        "48     0.746269\n",
        "53     0.746269\n",
        "55     0.746269\n",
        "56     0.746269\n",
        "23     0.746269\n",
        "22     0.746269\n",
        "60     0.746269\n",
        "dtype: float64\n",
        "\n",
        "Data: statistics:\n",
        "count    132.000000\n",
        "mean      35.901515\n",
        "std        8.243304\n",
        "min       21.000000\n",
        "25%       29.000000\n",
        "50%       36.000000\n",
        "75%       41.000000\n",
        "max       60.000000\n",
        "Name: Q003, dtype: float64\n",
        "\n"
       ]
      }
     ],
     "prompt_number": 5
    },
    {
     "cell_type": "code",
     "collapsed": false,
     "input": [
      "# Plot the data 01\n",
      "plt.figure(figsize=(8,6))\n",
      "plt.xlabel(u'Et\u00e1', fontsize=16)\n",
      "plt.ylabel('Persone', fontsize=16)\n",
      "plt.title(u\"Qual \u00e9 la tua et\u00e1?\", fontsize=18, y=1.02)\n",
      "my_colors = seaborn.color_palette(\"husl\", len(age)) # Set color palette\n",
      "age.plot(kind=\"bar\",color=my_colors)\n",
      "plt.savefig(u\"svg/Q003-Et\u00e1Maker01.svg\")\n",
      "plt.savefig(u\"png/Q003-Et\u00e1Maker01.png\")\n",
      "plt.savefig(u\"pdf/Q003-Et\u00e1Maker01.pdf\")"
     ],
     "language": "python",
     "metadata": {},
     "outputs": [
      {
       "metadata": {},
       "output_type": "display_data",
       "png": "[encoded data removed]",
       "text": [
        "<matplotlib.figure.Figure at 0x10a29d650>"
       ]
      }
     ],
     "prompt_number": 6
    },
    {
     "cell_type": "code",
     "collapsed": false,
     "input": [
      "# Plot the data 02\n",
      "\n",
      "# Reorder value_counts by index (age) natural order\n",
      "age1 = age.sort_index()\n",
      "\n",
      "plt.figure(figsize=(8,6))\n",
      "plt.title(u'Qual \u00e9 la tua et\u00e1?', fontsize=18, y=1.02)\n",
      "plt.xlabel(u'Et\u00e1', fontsize=16)\n",
      "plt.ylabel('Persone', fontsize=16)\n",
      "\n",
      "#\u00a0Plot the data\n",
      "my_colors = seaborn.color_palette(\"husl\", len(age1)) # Set color palette\n",
      "age1.plot(kind='bar',color=my_colors)\n",
      "plt.savefig(u\"svg/Q003-Et\u00e1Maker02.svg\")\n",
      "plt.savefig(u\"png/Q003-Et\u00e1Maker02.png\")\n",
      "plt.savefig(u\"pdf/Q003-Et\u00e1Maker02.pdf\")"
     ],
     "language": "python",
     "metadata": {},
     "outputs": [
      {
       "metadata": {},
       "output_type": "display_data",
       "png": "[encoded data removed]",
       "text": [
        "<matplotlib.figure.Figure at 0x109fb2ad0>"
       ]
      }
     ],
     "prompt_number": 7
    },
    {
     "cell_type": "code",
     "collapsed": false,
     "input": [
      "#\u00a0Check histogram\n",
      "plt.figure(figsize=(8,6))\n",
      "plt.title(u'Qual \u00e9 la tua et\u00e1?', fontsize=18, y=1.02)\n",
      "plt.xlabel(u'Et\u00e1', fontsize=16)\n",
      "plt.ylabel('Persone', fontsize=16)\n",
      "data[\"Q003\"].hist(bins=60)\n",
      "plt.savefig(u\"svg/Q003-Et\u00e1Maker03.svg\")\n",
      "plt.savefig(u\"png/Q003-Et\u00e1Maker03.png\")\n",
      "plt.savefig(u\"pdf/Q003-Et\u00e1Maker03.pdf\")"
     ],
     "language": "python",
     "metadata": {},
     "outputs": [
      {
       "metadata": {},
       "output_type": "display_data",
       "png": "[encoded data removed]",
       "text": [
        "<matplotlib.figure.Figure at 0x10a0549d0>"
       ]
      }
     ],
     "prompt_number": 8
    },
    {
     "cell_type": "code",
     "collapsed": false,
     "input": [],
     "language": "python",
     "metadata": {},
     "outputs": [],
     "prompt_number": 8
    }
   ],
   "metadata": {}
  }
 ]
}