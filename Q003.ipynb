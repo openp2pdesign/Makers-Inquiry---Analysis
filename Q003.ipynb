{
 "metadata": {
  "name": ""
 },
 "nbformat": 3,
 "nbformat_minor": 0,
 "worksheets": [
  {
   "cells": [
    {
     "cell_type": "heading",
     "level": 1,
     "metadata": {},
     "source": [
      "Q003 - Qual \u00e9 la tua et\u00e1?"
     ]
    },
    {
     "cell_type": "code",
     "collapsed": false,
     "input": [
      "# -*- coding: UTF-8 -*-\n",
      "\n",
      "# Render our plots inline\n",
      "%matplotlib inline \n",
      "\n",
      "import pandas as pd\n",
      "import matplotlib.pyplot as plt\n",
      "import numpy as np\n",
      "import seaborn\n",
      "\n",
      "pd.set_option('display.mpl_style', 'default') # Make the graphs a bit prettier, overridden by seaborn\n",
      "pd.set_option('display.max_columns', None) # Display all the columns\n",
      "plt.rcParams['font.family'] = 'sans-serif' # Sans Serif fonts for all the graphs\n",
      "\n",
      "# Reference for color palettes: http://web.stanford.edu/~mwaskom/software/seaborn/tutorial/color_palettes.html"
     ],
     "language": "python",
     "metadata": {},
     "outputs": [],
     "prompt_number": 1
    },
    {
     "cell_type": "code",
     "collapsed": false,
     "input": [
      "# Load csv file first\n",
      "data = pd.read_csv(\"data/results-makers.csv\", encoding=\"utf-8\")"
     ],
     "language": "python",
     "metadata": {},
     "outputs": [],
     "prompt_number": 2
    },
    {
     "cell_type": "code",
     "collapsed": false,
     "input": [
      "# Check data\n",
      "#data[0:4] # Equals to data.head()"
     ],
     "language": "python",
     "metadata": {},
     "outputs": [],
     "prompt_number": 3
    },
    {
     "cell_type": "code",
     "collapsed": false,
     "input": [
      "#\u00a0Get the distribution of ages\n",
      "age = data[\"Q003\"].value_counts(dropna=False)\n",
      "print \"Data:\"\n",
      "print age\n",
      "print \"\"\n",
      "print \"Data %:\"\n",
      "print data[\"Q003\"].value_counts(normalize=True,dropna=False) * 100\n",
      "print \"\"\n",
      "print \"Data: statistics:\"\n",
      "print data[\"Q003\"].describe()\n",
      "\n",
      "# Plot the data 01\n",
      "plt.figure(figsize=(8,6))\n",
      "plt.xlabel(u'Et\u00e1')\n",
      "plt.ylabel('Persone')\n",
      "my_colors = seaborn.color_palette(\"husl\", len(age)) # Set color palette\n",
      "age.plot(kind=\"bar\",title=u\"Et\u00e1 dei Maker\",color=my_colors)\n",
      "plt.savefig(u\"pdf/Q003-Et\u00e1Maker01.pdf\") # Save pdf"
     ],
     "language": "python",
     "metadata": {},
     "outputs": [
      {
       "output_type": "stream",
       "stream": "stdout",
       "text": [
        "Data:\n",
        " 36    8\n",
        " 31    8\n",
        " 41    7\n",
        " 29    6\n",
        " 40    6\n",
        " 25    5\n",
        " 38    4\n",
        " 43    4\n",
        " 26    4\n",
        " 28    3\n",
        " 44    3\n",
        " 33    3\n",
        " 42    3\n",
        " 39    3\n",
        " 30    3\n",
        " 21    3\n",
        " 35    3\n",
        " 32    3\n",
        " 27    2\n",
        " 24    2\n",
        "NaN    2\n",
        " 34    2\n",
        " 37    2\n",
        " 45    2\n",
        " 47    2\n",
        " 52    2\n",
        " 56    1\n",
        " 46    1\n",
        " 49    1\n",
        " 53    1\n",
        " 23    1\n",
        " 22    1\n",
        " 55    1\n",
        " 58    1\n",
        "dtype: int64"
       ]
      },
      {
       "output_type": "stream",
       "stream": "stdout",
       "text": [
        "\n",
        "\n",
        "Data %:\n",
        " 36    7.766990\n",
        " 31    7.766990\n",
        " 41    6.796117\n",
        " 29    5.825243\n",
        " 40    5.825243\n",
        " 25    4.854369\n",
        " 38    3.883495\n",
        " 43    3.883495\n",
        " 26    3.883495\n",
        " 28    2.912621\n",
        " 44    2.912621\n",
        " 33    2.912621\n",
        " 42    2.912621\n",
        " 39    2.912621\n",
        " 30    2.912621\n",
        " 21    2.912621\n",
        " 35    2.912621\n",
        " 32    2.912621\n",
        " 27    1.941748\n",
        " 24    1.941748\n",
        "NaN    1.941748\n",
        " 34    1.941748\n",
        " 37    1.941748\n",
        " 45    1.941748\n",
        " 47    1.941748\n",
        " 52    1.941748\n",
        " 56    0.970874\n",
        " 46    0.970874\n",
        " 49    0.970874\n",
        " 53    0.970874\n",
        " 23    0.970874\n",
        " 22    0.970874\n",
        " 55    0.970874\n",
        " 58    0.970874\n",
        "dtype: float64\n",
        "\n",
        "Data: statistics:\n",
        "count    101.000000\n",
        "mean      35.603960\n",
        "std        8.300698\n",
        "min       21.000000\n",
        "25%       29.000000\n",
        "50%       36.000000\n",
        "75%       41.000000\n",
        "max       58.000000\n",
        "dtype: float64"
       ]
      },
      {
       "output_type": "stream",
       "stream": "stdout",
       "text": [
        "\n"
       ]
      },
      {
       "metadata": {},
       "output_type": "display_data",
       "png": "[encoded data removed]",
       "text": [
        "<matplotlib.figure.Figure at 0x10d06d9d0>"
       ]
      }
     ],
     "prompt_number": 4
    },
    {
     "cell_type": "code",
     "collapsed": false,
     "input": [
      "# Plot the data 02\n",
      "\n",
      "# Reorder value_counts by index (age) natural order\n",
      "age1 = age.sort_index()\n",
      "\n",
      "plt.figure(figsize=(8,6))\n",
      "plt.title(u'Et\u00e1 dei Maker')\n",
      "plt.xlabel(u'Et\u00e1')\n",
      "plt.ylabel('Persone')\n",
      "\n",
      "#\u00a0Plot the data\n",
      "my_colors = seaborn.color_palette(\"husl\", len(age1)) # Set color palette\n",
      "age1.plot(kind='bar',title=u\"Et\u00e1 dei Maker\",color=my_colors)\n",
      "plt.savefig(u\"pdf/Q003-Et\u00e1Maker02.pdf\") # Save pdf"
     ],
     "language": "python",
     "metadata": {},
     "outputs": [
      {
       "metadata": {},
       "output_type": "display_data",
       "png": "[encoded data removed]",
       "text": [
        "<matplotlib.figure.Figure at 0x10d065fd0>"
       ]
      }
     ],
     "prompt_number": 5
    },
    {
     "cell_type": "code",
     "collapsed": false,
     "input": [
      "#\u00a0Check histogram\n",
      "plt.figure(figsize=(8,6))\n",
      "plt.title(u'Et\u00e1 dei Maker')\n",
      "plt.xlabel(u'Et\u00e1')\n",
      "plt.ylabel('Persone')\n",
      "data[\"Q003\"].hist(bins=60)\n",
      "plt.savefig(u\"pdf/Q003-Et\u00e1Maker03.pdf\") # Save pdf"
     ],
     "language": "python",
     "metadata": {},
     "outputs": [
      {
       "metadata": {},
       "output_type": "display_data",
       "png": "[encoded data removed]",
       "text": [
        "<matplotlib.figure.Figure at 0x10ca25950>"
       ]
      }
     ],
     "prompt_number": 9
    },
    {
     "cell_type": "code",
     "collapsed": false,
     "input": [],
     "language": "python",
     "metadata": {},
     "outputs": []
    }
   ],
   "metadata": {}
  }
 ]
}