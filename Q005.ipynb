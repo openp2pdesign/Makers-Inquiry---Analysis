{
 "metadata": {
  "name": ""
 },
 "nbformat": 3,
 "nbformat_minor": 0,
 "worksheets": [
  {
   "cells": [
    {
     "cell_type": "heading",
     "level": 1,
     "metadata": {},
     "source": [
      "Q005 - Qual \u00e9 la tua nazionalit\u00e1?"
     ]
    },
    {
     "cell_type": "code",
     "collapsed": false,
     "input": [
      "# -*- coding: UTF-8 -*-\n",
      "\n",
      "# Render our plots inline\n",
      "%matplotlib inline \n",
      "\n",
      "import pandas as pd\n",
      "import matplotlib.pyplot as plt\n",
      "import numpy as np\n",
      "import seaborn\n",
      "\n",
      "pd.set_option('display.mpl_style', 'default') # Make the graphs a bit prettier, overridden by seaborn\n",
      "pd.set_option('display.max_columns', None) # Display all the columns\n",
      "plt.rcParams['font.family'] = 'sans-serif' # Sans Serif fonts for all the graphs\n",
      "\n",
      "# Reference for color palettes: http://web.stanford.edu/~mwaskom/software/seaborn/tutorial/color_palettes.html"
     ],
     "language": "python",
     "metadata": {},
     "outputs": [],
     "prompt_number": 1
    },
    {
     "cell_type": "code",
     "collapsed": false,
     "input": [
      "# Load csv file first\n",
      "data = pd.read_csv(\"data/results-makers-40.csv\", encoding=\"utf-8\")"
     ],
     "language": "python",
     "metadata": {},
     "outputs": [],
     "prompt_number": 2
    },
    {
     "cell_type": "code",
     "collapsed": false,
     "input": [
      "# Check data\n",
      "#data[0:4] # Equals to data.head()"
     ],
     "language": "python",
     "metadata": {},
     "outputs": [],
     "prompt_number": 3
    },
    {
     "cell_type": "code",
     "collapsed": false,
     "input": [
      "# Get the distribution of nationalities\n",
      "data[\"Q005\"] = data[\"Q005\"].str.lower()\n",
      "nationalities = data[\"Q005\"].value_counts(dropna=False)\n",
      "print \"\"\n",
      "print \"Data:\"\n",
      "print nationalities\n",
      "print \"\"\n",
      "print \"Data %:\"\n",
      "print data[\"Q005\"].value_counts(normalize=True,dropna=False) * 100\n",
      "\n",
      "# Merge similar values\n",
      "for h,i in enumerate(data[\"Q005\"]):\n",
      "    if i == \"italy\" or i == \"italia\" or i == \"it\" or i == \"ita\" or i == \"italiano\" or i == \"italiana\":\n",
      "        data.ix[h,\"Q005\"] = \"italiana\"\n",
      "        \n",
      "#\u00a0Get the distribution of nationalities\n",
      "data[\"Q005\"] = data[\"Q005\"].str.lower()\n",
      "nationalities = data[\"Q005\"].value_counts(dropna=False)\n",
      "print \"\"\n",
      "print \"Data:\"\n",
      "print nationalities\n",
      "print \"\"\n",
      "print \"Data %:\"\n",
      "print data[\"Q005\"].value_counts(normalize=True,dropna=False) * 100\n",
      "\n",
      "# Plot the data\n",
      "plt.figure(figsize=(8,6))\n",
      "plt.xlabel(u'Nazionalit\u00e1')\n",
      "plt.ylabel('Persone')\n",
      "my_colors = seaborn.color_palette(\"husl\", len(nationalities)) # Set color palette\n",
      "nationalities.plot(kind=\"bar\",title=u\"Q005 - Qual \u00e9 la tua nazionalit\u00e1?\",color=my_colors)\n",
      "plt.savefig(u\"pdf/Q005-Nazionalit\u00e1Maker.pdf\") # Save pdf"
     ],
     "language": "python",
     "metadata": {},
     "outputs": [
      {
       "output_type": "stream",
       "stream": "stdout",
       "text": [
        "\n",
        "Data:\n",
        "italiana    88\n",
        "italia      38\n",
        "NaN          2\n",
        "italiano     1\n",
        "it           1\n",
        "brasile      1\n",
        "italy        1\n",
        "ita          1\n",
        "iran         1\n",
        "dtype: int64"
       ]
      },
      {
       "output_type": "stream",
       "stream": "stdout",
       "text": [
        "\n",
        "\n",
        "Data %:\n",
        "italiana    65.671642\n",
        "italia      28.358209\n",
        "NaN          1.492537\n",
        "italiano     0.746269\n",
        "it           0.746269\n",
        "brasile      0.746269\n",
        "italy        0.746269\n",
        "ita          0.746269\n",
        "iran         0.746269\n",
        "dtype: float64\n"
       ]
      },
      {
       "output_type": "stream",
       "stream": "stdout",
       "text": [
        "\n",
        "Data:\n",
        "italiana    130\n",
        "NaN           2\n",
        "brasile       1\n",
        "iran          1\n",
        "dtype: int64\n",
        "\n",
        "Data %:\n",
        "italiana    97.014925\n",
        "NaN          1.492537\n",
        "brasile      0.746269\n",
        "iran         0.746269\n",
        "dtype: float64\n"
       ]
      },
      {
       "metadata": {},
       "output_type": "display_data",
       "png": "[encoded data removed]",
       "text": [
        "<matplotlib.figure.Figure at 0x10c5ef0d0>"
       ]
      }
     ],
     "prompt_number": 4
    },
    {
     "cell_type": "code",
     "collapsed": false,
     "input": [],
     "language": "python",
     "metadata": {},
     "outputs": [],
     "prompt_number": 4
    }
   ],
   "metadata": {}
  }
 ]
}