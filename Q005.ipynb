{
 "metadata": {
  "name": ""
 },
 "nbformat": 3,
 "nbformat_minor": 0,
 "worksheets": [
  {
   "cells": [
    {
     "cell_type": "heading",
     "level": 1,
     "metadata": {},
     "source": [
      "Q005 - Qual \u00e9 la tua nazionalit\u00e1?"
     ]
    },
    {
     "cell_type": "code",
     "collapsed": false,
     "input": [
      "# -*- coding: UTF-8 -*-\n",
      "\n",
      "# Render our plots inline\n",
      "%matplotlib inline \n",
      "\n",
      "import pandas as pd\n",
      "import matplotlib.pyplot as plt\n",
      "import numpy as np\n",
      "import seaborn\n",
      "\n",
      "pd.set_option('display.mpl_style', 'default') # Make the graphs a bit prettier, overridden by seaborn\n",
      "pd.set_option('display.max_columns', None) # Display all the columns\n",
      "plt.rcParams['font.family'] = 'sans-serif' # Sans Serif fonts for all the graphs\n",
      "\n",
      "# Reference for color palettes: http://web.stanford.edu/~mwaskom/software/seaborn/tutorial/color_palettes.html"
     ],
     "language": "python",
     "metadata": {},
     "outputs": [],
     "prompt_number": 1
    },
    {
     "cell_type": "code",
     "collapsed": false,
     "input": [
      "# Load csv file first\n",
      "data = pd.read_csv(\"data/results-makers.csv\", encoding=\"utf-8\")"
     ],
     "language": "python",
     "metadata": {},
     "outputs": [],
     "prompt_number": 2
    },
    {
     "cell_type": "code",
     "collapsed": false,
     "input": [
      "# Re-format colums to fix a mistake\n",
      "# Comment/delete this if not part of the Italian research\n",
      "substitutes = ['id','submitdate','lastpage','startlanguage','startdate','datestamp','ipaddr',\n",
      "               'Q001','Q002','Q003','Q004','Q005','Q006','Q007','Q007[other]','Q008','Q009[SQ001]',\n",
      "               'Q009[SQ002]','Q009[SQ003]','Q009[SQ004]','Q009[SQ005]','Q009[SQ006]','Q009[other]',\n",
      "               'Q010','Q011','Q011[other]','Q012','Q013','Q014','Q015','Q016','Q016[other]','Q017',\n",
      "               'Q018','Q019[SQ001]','Q019[SQ002]','Q019[SQ003]','Q019[SQ004]','Q019[SQ005]','Q019[SQ006]',\n",
      "               'Q019[SQ007]','Q019[SQ008]','Q019[SQ009]','Q019[other]','Q020[SQ001]','Q021[SQ001]',\n",
      "               'Q021[SQ002]','Q021[SQ003]','Q021[SQ004]','Q021[SQ005]','Q022[SQ001]','Q022[SQ002]',\n",
      "               'Q022[SQ003]','Q022[SQ004]','Q022[SQ005]','Q023[SQ001]','Q023[SQ002]','Q023[SQ003]',\n",
      "               'Q023[SQ004]','Q023[SQ005]','Q024[SQ001]','Q024[SQ002]','Q024[SQ003]','Q024[SQ004]',\n",
      "               'Q024[SQ005]','Q024[other]','Q025','Q026','Q027[SQ001]','Q027[SQ002]','Q027[SQ003]',\n",
      "               'Q027[SQ004]','Q027[SQ005]','Q027[SQ006]','Q027[SQ007]','Q027[SQ008]','Q027[other]',\n",
      "               'Q028[SQ001]','Q028[SQ002]','Q028[SQ003]','Q028[SQ004]','Q028[SQ005]','Q028[SQ006]',\n",
      "               'Q028[SQ007]','Q028[SQ008]','Q028[SQ009]','Q028[SQ010]','Q028[SQ011]','Q028[other]',\n",
      "               'Q029[SQ001]','Q029[SQ002]','Q029[SQ003]','Q029[SQ004]','Q029[SQ005]','Q030[SQ001]',\n",
      "               'Q030[SQ002]','Q030[SQ003]','Q030[SQ004]','Q030[SQ005]','Q030[SQ006]','Q030[SQ007]',\n",
      "               'Q031','Q032','Q032[other]','Q033[SQ001]','Q033[SQ002]','Q033[SQ003]','Q033[SQ004]',\n",
      "               'Q033[other]','Q034','Q035','Q036[SQ001]','Q036[SQ002]','Q036[SQ013]','Q036[SQ003]',\n",
      "               'Q036[SQ004]','Q036[SQ005]','Q036[SQ006]','Q036[SQ007]','Q036[SQ008]','Q036[SQ009]',\n",
      "               'Q036[SQ010]','Q036[SQ011]','Q036[SQ012]','Q036[other]','Q037[SQ001]','Q037[SQ002]',\n",
      "               'Q037[SQ003]','Q037[SQ004]','Q037[SQ005]','Q037[other]','Q038','Q039[SQ001]','Q039[SQ002]',\n",
      "               'Q039[SQ003]','Q039[SQ004]','Q039[SQ005]','Q039[other]','Q040[SQ001]','Q040[SQ002]',\n",
      "               'Q040[SQ003]','Q041[SQ001]','Q041[SQ002]','Q041[SQ003]','Q042[SQ001]','Q042[SQ002]',\n",
      "               'Q042[SQ003]','Q042[SQ004]','Q042[other]','Q043[SQ001]','Q043[SQ002]','Q043[SQ003]',\n",
      "               'Q043[SQ004]','Q043[SQ005]','Q043[SQ006]','Q043[other]','Q044[SQ001]','Q044[SQ002]',\n",
      "               'Q044[SQ003]','Q044[SQ004]','Q044[SQ005]','Q044[SQ006]','Q044[SQ007]','Q044[SQ008]',\n",
      "               'Q044[SQ009]','Q045','Q046','Q047[SQ001]','Q047[SQ002]','Q047[SQ003]','Q047[SQ004]',\n",
      "               'Q047[other]','Q048[SQ001]','Q048[SQ002]','Q048[SQ003]','Q048[SQ004]','Q048[SQ005]',\n",
      "               'Q048[other]','Q049[SQ001]','Q049[SQ002]','Q049[SQ003]','Q049[SQ004]','Q049[other]',\n",
      "               'Q050[SQ001]','Q050[SQ002]','Q050[SQ003]','Q050[SQ004]','Q050[SQ005]','Q050[SQ006]',\n",
      "               'Q050[SQ007]','Q050[SQ008]','Q050[other]','Q051[SQ001]','Q051[SQ002]','Q051[SQ003]',\n",
      "               'Q051[SQ004]','Q051[SQ005]','Q051[SQ006]','Q051[other]','Q052[SQ001]','Q052[SQ002]',\n",
      "               'Q052[SQ003]','Q052[SQ004]','Q052[SQ005]','Q052[SQ006]','Q052[SQ007]','Q052[SQ008]',\n",
      "               'Q052[SQ009]','Q052[SQ010]','Q052[SQ011]','Q052[other]','Q053[SQ001]','Q053[SQ002]',\n",
      "               'Q053[SQ003]','Q053[SQ004]','Q053[other]','Q054[SQ001]','Q054[SQ002]','Q054[SQ003]',\n",
      "               'Q054[SQ004]','Q054[SQ005]','Q054[SQ006]','Q054[SQ007]','Q054[SQ008]','Q054[SQ009]',\n",
      "               'Q054[SQ010]','Q054[other]','Q055[SQ001]','Q055[SQ002]','Q055[SQ003]','Q055[SQ004]',\n",
      "               'Q055[SQ005]','Q055[SQ006]','Q055[SQ007]','Q055[SQ008]','Q055[SQ009]','Q055[SQ010]',\n",
      "               'Q055[other]','Q056[SQ001]','Q056[SQ002]','Q056[SQ003]','Q056[SQ004]','Q056[SQ005]',\n",
      "               'Q056[other]','Q057[SQ001]','Q057[SQ002]','Q057[other]','Q058[SQ001]','Q058[SQ002]',\n",
      "               'Q058[SQ003]','Q058[SQ004]','Q058[SQ005]','Q058[other]','Q059[SQ001]','Q059[SQ002]',\n",
      "               'Q059[SQ003]','Q059[other]','Q060','Q061','Q062[SQ001]','Q062[SQ002]','Q062[SQ003]',\n",
      "               'Q062[SQ004]','Q062[SQ005]','Q062[other]','Q063[SQ001]','Q063[SQ002]','Q063[SQ003]',\n",
      "               'Q064','Q065','Q065[filecount]','Q066[SQ001]','Q066[SQ002]','Q066[SQ003]','Q067','Q067[filecount]'\n",
      "               ]\n",
      "\n",
      "data.columns = substitutes"
     ],
     "language": "python",
     "metadata": {},
     "outputs": [],
     "prompt_number": 3
    },
    {
     "cell_type": "code",
     "collapsed": false,
     "input": [
      "# Check data\n",
      "#data[0:4] # Equals to data.head()"
     ],
     "language": "python",
     "metadata": {},
     "outputs": [],
     "prompt_number": 4
    },
    {
     "cell_type": "code",
     "collapsed": false,
     "input": [
      "# Get the distribution of nationalities\n",
      "data[\"Q005\"] = data[\"Q005\"].str.lower()\n",
      "nationalities = data[\"Q005\"].value_counts()\n",
      "print \"Data:\"\n",
      "print nationalities\n",
      "print \"\"\n",
      "print \"Data %:\"\n",
      "print data[\"Q005\"].value_counts(normalize=True) * 100\n",
      "\n",
      "# Merge similar values\n",
      "for h,i in enumerate(data[\"Q005\"]):\n",
      "    if i == \"italy\" or i == \"italia\" or i == \"it\" or i == \"ita\":\n",
      "        data.ix[h,\"Q005\"] = \"italiana\"\n",
      "        \n",
      "#\u00a0Get the distribution of nationalities\n",
      "data[\"Q005\"] = data[\"Q005\"].str.lower()\n",
      "nationalities = data[\"Q005\"].value_counts()\n",
      "print \"Data:\"\n",
      "print nationalities\n",
      "print \"\"\n",
      "print \"Data %:\"\n",
      "print data[\"Q005\"].value_counts(normalize=True) * 100\n",
      "\n",
      "# Plot the data\n",
      "plt.figure(figsize=(8,6))\n",
      "plt.xlabel(u'Nazionalit\u00e1')\n",
      "plt.ylabel('Persone')\n",
      "my_colors = seaborn.color_palette(\"husl\", len(nationalities)) # Set color palette\n",
      "nationalities.plot(kind=\"bar\",title=u\"Nazionalit\u00e1 dei Maker\",color=my_colors)\n",
      "plt.savefig(u\"pdf/Q005-Nazionalit\u00e1 dei Maker.pdf\") # Save pdf"
     ],
     "language": "python",
     "metadata": {},
     "outputs": [
      {
       "output_type": "stream",
       "stream": "stdout",
       "text": [
        "Data:\n",
        "italiana    73\n",
        "italia      30\n",
        "ita          1\n",
        "it           1\n",
        "italy        1\n",
        "dtype: int64"
       ]
      },
      {
       "output_type": "stream",
       "stream": "stdout",
       "text": [
        "\n",
        "\n",
        "Data %:\n",
        "italiana    41.714286\n",
        "italia      17.142857\n",
        "ita          0.571429\n",
        "it           0.571429\n",
        "italy        0.571429\n",
        "dtype: float64\n",
        "Data:"
       ]
      },
      {
       "output_type": "stream",
       "stream": "stdout",
       "text": [
        "\n",
        "italiana    106\n",
        "dtype: int64\n",
        "\n",
        "Data %:\n",
        "italiana    60.571429\n",
        "dtype: float64\n"
       ]
      },
      {
       "metadata": {},
       "output_type": "display_data",
       "png": "[encoded data removed]",
       "text": [
        "<matplotlib.figure.Figure at 0x10847a690>"
       ]
      }
     ],
     "prompt_number": 5
    },
    {
     "cell_type": "code",
     "collapsed": false,
     "input": [],
     "language": "python",
     "metadata": {},
     "outputs": [],
     "prompt_number": 5
    }
   ],
   "metadata": {}
  }
 ]
}