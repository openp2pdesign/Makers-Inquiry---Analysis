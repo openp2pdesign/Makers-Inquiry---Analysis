{
 "metadata": {
  "name": "",
  "signature": "sha256:c182df8506ae1c97b23a06d2858e6447789671018e6d5d9a9d86f274c4b53374"
 },
 "nbformat": 3,
 "nbformat_minor": 0,
 "worksheets": [
  {
   "cells": [
    {
     "cell_type": "heading",
     "level": 1,
     "metadata": {},
     "source": [
      "Q057 - Che tipo di formazione/aggiornamento offri?"
     ]
    },
    {
     "cell_type": "code",
     "collapsed": false,
     "input": [
      "# -*- coding: UTF-8 -*-\n",
      "\n",
      "# Render our plots inline\n",
      "%matplotlib inline \n",
      "\n",
      "import pandas as pd\n",
      "import matplotlib.pyplot as plt\n",
      "import numpy as np\n",
      "import seaborn\n",
      "\n",
      "pd.set_option('display.mpl_style', 'default') # Make the graphs a bit prettier, overridden by seaborn\n",
      "pd.set_option('display.max_columns', None) # Display all the columns\n",
      "plt.rcParams['font.family'] = 'sans-serif' # Sans Serif fonts for all the graphs\n",
      "\n",
      "# Reference for color palettes: http://web.stanford.edu/~mwaskom/software/seaborn/tutorial/color_palettes.html"
     ],
     "language": "python",
     "metadata": {},
     "outputs": [],
     "prompt_number": 1
    },
    {
     "cell_type": "code",
     "collapsed": false,
     "input": [
      "# Load csv file first\n",
      "data = pd.read_csv(\"data/results-makers-40.csv\", encoding=\"utf-8\")"
     ],
     "language": "python",
     "metadata": {},
     "outputs": [],
     "prompt_number": 2
    },
    {
     "cell_type": "code",
     "collapsed": false,
     "input": [
      "# Check data\n",
      "#data[0:4] # Equals to data.head()"
     ],
     "language": "python",
     "metadata": {},
     "outputs": [],
     "prompt_number": 3
    },
    {
     "cell_type": "code",
     "collapsed": false,
     "input": [
      "# Range: Q057[SQ001] - Q057[SQ002] - Q057[other]\n",
      "\n",
      "education_columns = ['Q057[SQ001]','Q057[SQ002]']\n",
      "education_options = ['Workshop/corsi base su tecnologie','Workshop/corsi avanzati su tecnologie']\n",
      "education = data[education_columns]\n",
      "education.replace(u'S\u00ec', 'Si', inplace=True) # Get rid of accented characters \n",
      "education_other = data['Q057[other]'].str.lower().value_counts()"
     ],
     "language": "python",
     "metadata": {},
     "outputs": [
      {
       "output_type": "stream",
       "stream": "stderr",
       "text": [
        "-c:6: SettingWithCopyWarning: A value is trying to be set on a copy of a slice from a DataFrame\n"
       ]
      }
     ],
     "prompt_number": 4
    },
    {
     "cell_type": "code",
     "collapsed": false,
     "input": [
      "#places[0:4]"
     ],
     "language": "python",
     "metadata": {},
     "outputs": [],
     "prompt_number": 5
    },
    {
     "cell_type": "heading",
     "level": 2,
     "metadata": {},
     "source": [
      "Combinations..."
     ]
    },
    {
     "cell_type": "code",
     "collapsed": false,
     "input": [
      "# Create all the possible combinations from the main options\n",
      "# See http://stackoverflow.com/questions/17176887/python-get-all-permutation-of-a-list-w-o-repetitions\n",
      "\n",
      "import itertools \n",
      "\n",
      "all_combinations = {}\n",
      "all_combinations_columns = []\n",
      "\n",
      "for i in range(1, len(education_columns)+1):\n",
      "    comb = list(itertools.combinations(education_columns, i))\n",
      "    for k in comb:\n",
      "        #\u00a0Each combination\n",
      "        all_combinations[k] = {}\n",
      "        all_combinations[k][\"col_list\"] = list(k)\n",
      "        #\u00a0Build the string and boolean list of each combination\n",
      "        comb_list = []\n",
      "        comb_bool_list = []\n",
      "        # Put default False value\n",
      "        for l in education_columns:\n",
      "            comb_bool_list.append(False)\n",
      "        for j in k:\n",
      "            pos = education_columns.index(j) # Get position\n",
      "            comb_list.append(education_options[pos])\n",
      "            comb_bool_list[pos] = True\n",
      "        all_combinations[k][\"list\"] = comb_list\n",
      "        all_combinations[k][\"bool_list\"] = comb_bool_list\n",
      "        all_combinations[k][\"str\"] = \", \".join(comb_list)"
     ],
     "language": "python",
     "metadata": {},
     "outputs": [],
     "prompt_number": 6
    },
    {
     "cell_type": "code",
     "collapsed": false,
     "input": [
      "#\u00a0Check which combinations correspond each row\n",
      "str_values = []\n",
      "for i in education.index:\n",
      "    current_bool_list = list(education.ix[i].isin([\"Si\"]))\n",
      "    for i in all_combinations:\n",
      "        if current_bool_list == all_combinations[i][\"bool_list\"]:\n",
      "            str_values.append(all_combinations[i][\"str\"])"
     ],
     "language": "python",
     "metadata": {},
     "outputs": [],
     "prompt_number": 7
    },
    {
     "cell_type": "code",
     "collapsed": false,
     "input": [
      "# Add combination column\n",
      "education[\"Combination\"] = pd.Series(str_values)"
     ],
     "language": "python",
     "metadata": {},
     "outputs": [],
     "prompt_number": 8
    },
    {
     "cell_type": "code",
     "collapsed": false,
     "input": [
      "# Gather data\n",
      "resulting_combinations = education[\"Combination\"].value_counts()\n",
      "resulting_combinations_percentage = education[\"Combination\"].value_counts(normalize=True)*100"
     ],
     "language": "python",
     "metadata": {},
     "outputs": [],
     "prompt_number": 9
    },
    {
     "cell_type": "code",
     "collapsed": false,
     "input": [
      "#\u00a0Plotting the first 10 values of the most popular combinations\n",
      "resulting_combinations[0:10].plot(kind='bar',figsize=(20,10),rot=90)\n",
      "plt.savefig(\"pdf/Q057-Combinazioni.pdf\")"
     ],
     "language": "python",
     "metadata": {},
     "outputs": [
      {
       "metadata": {},
       "output_type": "display_data",
       "png": "[encoded data removed]",
       "text": [
        "<matplotlib.figure.Figure at 0x10fd1dfd0>"
       ]
      }
     ],
     "prompt_number": 10
    },
    {
     "cell_type": "code",
     "collapsed": false,
     "input": [
      "#\u00a0Data of the combinations\n",
      "resulting_combinations"
     ],
     "language": "python",
     "metadata": {},
     "outputs": [
      {
       "metadata": {},
       "output_type": "pyout",
       "prompt_number": 11,
       "text": [
        "Workshop/corsi base su tecnologie, Workshop/corsi avanzati su tecnologie    14\n",
        "Workshop/corsi base su tecnologie                               11\n",
        "dtype: int64"
       ]
      }
     ],
     "prompt_number": 11
    },
    {
     "cell_type": "code",
     "collapsed": false,
     "input": [
      "# Data of the combinations: percentage\n",
      "resulting_combinations_percentage"
     ],
     "language": "python",
     "metadata": {},
     "outputs": [
      {
       "metadata": {},
       "output_type": "pyout",
       "prompt_number": 12,
       "text": [
        "Workshop/corsi base su tecnologie, Workshop/corsi avanzati su tecnologie    10.447761\n",
        "Workshop/corsi base su tecnologie                                8.208955\n",
        "dtype: float64"
       ]
      }
     ],
     "prompt_number": 12
    },
    {
     "cell_type": "code",
     "collapsed": false,
     "input": [],
     "language": "python",
     "metadata": {},
     "outputs": []
    }
   ],
   "metadata": {}
  }
 ]
}