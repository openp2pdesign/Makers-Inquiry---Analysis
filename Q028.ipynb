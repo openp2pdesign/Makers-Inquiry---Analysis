{
 "metadata": {
  "name": "",
  "signature": "sha256:c3f588a5d977e56b13798a84205f350bf45643d483e6b232a11a86f962e6369e"
 },
 "nbformat": 3,
 "nbformat_minor": 0,
 "worksheets": [
  {
   "cells": [
    {
     "cell_type": "heading",
     "level": 1,
     "metadata": {},
     "source": [
      "Q028 - Quali tra le seguenti parole chiave associ al making?"
     ]
    },
    {
     "cell_type": "code",
     "collapsed": false,
     "input": [
      "# -*- coding: UTF-8 -*-\n",
      "\n",
      "# Render our plots inline\n",
      "%matplotlib inline \n",
      "\n",
      "import pandas as pd\n",
      "import matplotlib\n",
      "import matplotlib.pyplot as plt\n",
      "import numpy as np\n",
      "import seaborn\n",
      "import shutil\n",
      "\n",
      "pd.set_option('display.mpl_style', 'default') # Make the graphs a bit prettier, overridden by seaborn\n",
      "pd.set_option('display.max_columns', None) # Display all the columns\n",
      "plt.rcParams['font.family'] = 'sans-serif' # Sans Serif fonts for all the graphs\n",
      "\n",
      "# Reference for color palettes: http://web.stanford.edu/~mwaskom/software/seaborn/tutorial/color_palettes.html\n",
      "\n",
      "# Change the font\n",
      "matplotlib.rcParams.update({'font.family': 'Source Sans Pro'})"
     ],
     "language": "python",
     "metadata": {},
     "outputs": [],
     "prompt_number": 1
    },
    {
     "cell_type": "code",
     "collapsed": false,
     "input": [
      "# Load csv file first\n",
      "data = pd.read_csv(\"data/results-makers-40.csv\", encoding=\"utf-8\")"
     ],
     "language": "python",
     "metadata": {},
     "outputs": [],
     "prompt_number": 2
    },
    {
     "cell_type": "code",
     "collapsed": false,
     "input": [
      "# Check data\n",
      "#data[0:4] # Equals to data.head()"
     ],
     "language": "python",
     "metadata": {},
     "outputs": [],
     "prompt_number": 3
    },
    {
     "cell_type": "code",
     "collapsed": false,
     "input": [
      "# Range: Q028[SQ001] - Q028[SQ011] - Q028[other]\n",
      "\n",
      "meaning_columns = ['Q028[SQ001]','Q028[SQ002]','Q028[SQ003]','Q028[SQ004]','Q028[SQ005]','Q028[SQ006]',\n",
      "                       'Q028[SQ007]','Q028[SQ008]','Q028[SQ009]','Q028[SQ010]','Q028[SQ011]']\n",
      "meaning_options = [u\"DIY\",u\"Autoproduzione\",u\"Digital Fabrication (Fabbing)\",u\"Fab Lab e makerspace\",\n",
      "                   u\"Physical computing e tinkering\",u\"Openness (Open Design, Open Hardware,...)\",\n",
      "                   u\"Collaboration e sharing\",u\"Passatempo\",u\"Nel tempo libero\",u\"Come attivit\u00e1 ricreativa\",\n",
      "                   u\"Come attivit\u00e1 di consumo\"]\n",
      "\n",
      "meaning = data[meaning_columns]\n",
      "meaning.replace(u'S\u00ec', 'Si', inplace=True) # Get rid of accented characters \n",
      "meaning_other = data['Q028[other]'].str.lower().value_counts()"
     ],
     "language": "python",
     "metadata": {},
     "outputs": [
      {
       "output_type": "stream",
       "stream": "stderr",
       "text": [
        "-c:11: SettingWithCopyWarning: \n",
        "A value is trying to be set on a copy of a slice from a DataFrame\n",
        "\n",
        "See the the caveats in the documentation: http://pandas.pydata.org/pandas-docs/stable/indexing.html#indexing-view-versus-copy\n"
       ]
      }
     ],
     "prompt_number": 4
    },
    {
     "cell_type": "code",
     "collapsed": false,
     "input": [
      "#meaning[0:4]"
     ],
     "language": "python",
     "metadata": {},
     "outputs": [],
     "prompt_number": 5
    },
    {
     "cell_type": "code",
     "collapsed": false,
     "input": [
      "%%capture output\n",
      "\n",
      "# Save the output as a variable that can be saved to a file\n",
      "# Gather data\n",
      "meaning_b = {}\n",
      "for k,i in enumerate(meaning_columns):\n",
      "    meaning_b[k] = meaning[i].value_counts(dropna=False)\n",
      "    print \"Data:\",meaning_options[k].encode('utf-8')\n",
      "    print meaning_b[k]\n",
      "    print\n",
      "    print \"Data %:\",meaning_options[k].encode('utf-8')\n",
      "    print meaning[i].value_counts(normalize=True,dropna=False)*100\n",
      "    print"
     ],
     "language": "python",
     "metadata": {},
     "outputs": [],
     "prompt_number": 6
    },
    {
     "cell_type": "code",
     "collapsed": false,
     "input": [
      "# Save+show the output to a text file\n",
      "%save Q028-MakerSignificatiMaking01.py str(output)\n",
      "shutil.move(\"Q028-MakerSignificatiMaking01.py\", \"text/Q028-MakerSignificatiMaking01.txt\")"
     ],
     "language": "python",
     "metadata": {},
     "outputs": [
      {
       "output_type": "stream",
       "stream": "stdout",
       "text": [
        "The following commands were written to file `Q028-MakerSignificatiMaking01.py`:\n",
        "Data: DIY\n",
        "Si     69\n",
        "No     65\n",
        "NaN     0\n",
        "dtype: int64\n",
        "\n",
        "Data %: DIY\n",
        "Si     51.492537\n",
        "No     48.507463\n",
        "NaN     0.000000\n",
        "dtype: float64\n",
        "\n",
        "Data: Autoproduzione\n",
        "Si     101\n",
        "No      33\n",
        "NaN      0\n",
        "dtype: int64\n",
        "\n",
        "Data %: Autoproduzione\n",
        "Si     75.373134\n",
        "No     24.626866\n",
        "NaN     0.000000\n",
        "dtype: float64\n",
        "\n",
        "Data: Digital Fabrication (Fabbing)\n",
        "Si     71\n",
        "No     63\n",
        "NaN     0\n",
        "dtype: int64\n",
        "\n",
        "Data %: Digital Fabrication (Fabbing)\n",
        "Si     52.985075\n",
        "No     47.014925\n",
        "NaN     0.000000\n",
        "dtype: float64\n",
        "\n",
        "Data: Fab Lab e makerspace\n",
        "Si     82\n",
        "No     52\n",
        "NaN     0\n",
        "dtype: int64\n",
        "\n",
        "Data %: Fab Lab e makerspace\n",
        "Si     61.19403\n",
        "No     38.80597\n",
        "NaN     0.00000\n",
        "dtype: float64\n",
        "\n",
        "Data: Physical computing e tinkering\n",
        "No     109\n",
        "Si      25\n",
        "NaN      0\n",
        "dtype: int64\n",
        "\n",
        "Data %: Physical computing e tinkering\n",
        "No     81.343284\n",
        "Si     18.656716\n",
        "NaN     0.000000\n",
        "dtype: float64\n",
        "\n",
        "Data: Openness (Open Design, Open Hardware,...)\n",
        "No     81\n",
        "Si     53\n",
        "NaN     0\n",
        "dtype: int64\n",
        "\n",
        "Data %: Openness (Open Design, Open Hardware,...)\n",
        "No     60.447761\n",
        "Si     39.552239\n",
        "NaN     0.000000\n",
        "dtype: float64\n",
        "\n",
        "Data: Collaboration e sharing\n",
        "No     71\n",
        "Si     63\n",
        "NaN     0\n",
        "dtype: int64\n",
        "\n",
        "Data %: Collaboration e sharing\n",
        "No     52.985075\n",
        "Si     47.014925\n",
        "NaN     0.000000\n",
        "dtype: float64\n",
        "\n",
        "Data: Passatempo\n",
        "No     121\n",
        "Si      13\n",
        "NaN      0\n",
        "dtype: int64\n",
        "\n",
        "Data %: Passatempo\n",
        "No     90.298507\n",
        "Si      9.701493\n",
        "NaN     0.000000\n",
        "dtype: float64\n",
        "\n",
        "Data: Nel tempo libero\n",
        "No     120\n",
        "Si      14\n",
        "NaN      0\n",
        "dtype: int64\n",
        "\n",
        "Data %: Nel tempo libero\n",
        "No     89.552239\n",
        "Si     10.447761\n",
        "NaN     0.000000\n",
        "dtype: float64\n",
        "\n",
        "Data: Come attivit\u00e1 ricreativa\n",
        "No     119\n",
        "Si      15\n",
        "NaN      0\n",
        "dtype: int64\n",
        "\n",
        "Data %: Come attivit\u00e1 ricreativa\n",
        "No     88.80597\n",
        "Si     11.19403\n",
        "NaN     0.00000\n",
        "dtype: float64\n",
        "\n",
        "Data: Come attivit\u00e1 di consumo\n",
        "No     123\n",
        "Si      11\n",
        "NaN      0\n",
        "dtype: int64\n",
        "\n",
        "Data %: Come attivit\u00e1 di consumo\n",
        "No     91.791045\n",
        "Si      8.208955\n",
        "NaN     0.000000\n",
        "dtype: float64\n",
        "\n",
        "\n"
       ]
      }
     ],
     "prompt_number": 7
    },
    {
     "cell_type": "code",
     "collapsed": false,
     "input": [
      "yes = []\n",
      "no = []\n",
      "nanvalue = []\n",
      "\n",
      "for k,i in enumerate(meaning_columns):\n",
      "    meaning_presents = meaning_b[k].index.tolist()\n",
      "    \n",
      "    #\u00a0Convert NaN to \"NaN\"\n",
      "    for o,h in enumerate(meaning_presents):\n",
      "        if type(h) is float:\n",
      "            meaning_presents.pop(o)\n",
      "            meaning_presents.append(\"NaN\")\n",
      "    \n",
      "    #\u00a0Reassign new list with \"NaN\"\n",
      "    meaning_b[k].index = meaning_presents\n",
      "    \n",
      "    #\u00a0Check for empty values, and put a 0 instead\n",
      "    if \"Si\" not in meaning_presents:\n",
      "        yes.append(0)\n",
      "    if \"No\" not in meaning_presents:\n",
      "        no.append(0)\n",
      "    if \"NaN\" not in meaning_presents:\n",
      "        nanvalue.append(0)\n",
      "    \n",
      "    for j in meaning_presents:\n",
      "        if j == \"Si\":\n",
      "            yes.append(meaning_b[k].ix[\"Si\"])\n",
      "        elif j == \"No\":\n",
      "            no.append(meaning_b[k].ix[\"No\"])\n",
      "        elif j == \"NaN\":\n",
      "            nanvalue.append(meaning_b[k].ix[\"NaN\"]) "
     ],
     "language": "python",
     "metadata": {},
     "outputs": [],
     "prompt_number": 8
    },
    {
     "cell_type": "code",
     "collapsed": false,
     "input": [
      "# Plot the data\n",
      "plt.figure(figsize=(8,6))\n",
      "plt.xlabel('Significati', fontsize=16)\n",
      "plt.ylabel('Persone', fontsize=16)\n",
      "plt.title('Quali tra le seguenti parole chiave associ al making?', fontsize=18, y=1.02)\n",
      "plt.xticks(range(len(meaning_options)+1),meaning_options,rotation=90)\n",
      "ind = np.arange(len(meaning_columns))   # the x locations for the groups\n",
      "width = 0.35                              # the width of the bars\n",
      "\n",
      "my_colors = seaborn.color_palette(\"Set1\", 3) # Set color palette\n",
      "rect1 = plt.bar(ind,yes,width,color=my_colors[0],align='center') # Plot Yes\n",
      "rect2 = plt.bar(ind+width,no,width,color=my_colors[1],align='center') # Plot No \n",
      "rect3 = plt.bar(ind+width*2,nanvalue,width,color=my_colors[2],align='center') # Plot NaN\n",
      "plt.legend( (rect1, rect2, rect3), ('Si', 'No', 'NaN') )\n",
      "plt.savefig(\"svg/Q028-MakerSignificatiMaking01.svg\")\n",
      "plt.savefig(\"png/Q028-MakerSignificatiMaking01.png\")\n",
      "plt.savefig(\"pdf/Q028-MakerSignificatiMaking01.pdf\")"
     ],
     "language": "python",
     "metadata": {},
     "outputs": [
      {
       "metadata": {},
       "output_type": "display_data",
       "png": "[encoded data removed]",
       "text": [
        "<matplotlib.figure.Figure at 0x109e33a50>"
       ]
      }
     ],
     "prompt_number": 9
    },
    {
     "cell_type": "code",
     "collapsed": false,
     "input": [
      "%%capture output\n",
      "\n",
      "# Save the output as a variable that can be saved to a file\n",
      "# Get \"other\" data\n",
      "meaning_other = data[\"Q028[other]\"].str.lower().value_counts()\n",
      "print \"Data:\"\n",
      "print meaning_other\n",
      "print \"\"\n",
      "print \"Data %:\"\n",
      "print data[\"Q028[other]\"].str.lower().value_counts(normalize=True) * 100"
     ],
     "language": "python",
     "metadata": {},
     "outputs": [],
     "prompt_number": 10
    },
    {
     "cell_type": "code",
     "collapsed": false,
     "input": [
      "# Save+show the output to a text file\n",
      "%save Q028-MakerSignificatiMaking02.py str(output)\n",
      "shutil.move(\"Q028-MakerSignificatiMaking02.py\", \"text/Q028-MakerSignificatiMaking02.txt\")"
     ],
     "language": "python",
     "metadata": {},
     "outputs": [
      {
       "output_type": "stream",
       "stream": "stdout",
       "text": [
        "The following commands were written to file `Q028-MakerSignificatiMaking02.py`:\n",
        "Data:\n",
        "liberarsi dal peso ereditato.    1\n",
        "progettazione e ricerca          1\n",
        "creativit\u00e0, arte, studio         1\n",
        "relax                            1\n",
        "ricerca personale                1\n",
        "conoscenza superficiale.         1\n",
        "dtype: int64\n",
        "\n",
        "Data %:\n",
        "liberarsi dal peso ereditato.    0.746269\n",
        "progettazione e ricerca          0.746269\n",
        "creativit\u00e0, arte, studio         0.746269\n",
        "relax                            0.746269\n",
        "ricerca personale                0.746269\n",
        "conoscenza superficiale.         0.746269\n",
        "dtype: float64\n",
        "\n"
       ]
      }
     ],
     "prompt_number": 11
    },
    {
     "cell_type": "code",
     "collapsed": false,
     "input": [
      "# Plot bar\n",
      "plt.figure(figsize=(8,6))\n",
      "plt.title('Quali tra le seguenti parole chiave associ al making? Altro', fontsize=18, y=1.02)\n",
      "plt.xticks(range(len(meaning_other.index)),meaning_other.index,rotation=90)\n",
      "plt.xlabel('Significati', fontsize=16)\n",
      "plt.ylabel('Persone', fontsize=16)\n",
      "ind = np.arange(len(meaning_other))   # the x locations for the groups\n",
      "width = 0.35                       # the width of the bars\n",
      "\n",
      "my_colors = seaborn.color_palette(\"husl\", len(meaning_other)) # Set color palette\n",
      "rect1 = plt.bar(ind,meaning_other,width,color=my_colors,align='center')\n",
      "plt.savefig(\"svg/Q028-MakerSignificatiMaking02.svg\")\n",
      "plt.savefig(\"png/Q028-MakerSignificatiMaking02.png\")\n",
      "plt.savefig(\"pdf/Q028-MakerSignificatiMaking02.pdf\")"
     ],
     "language": "python",
     "metadata": {},
     "outputs": [
      {
       "metadata": {},
       "output_type": "display_data",
       "png": "[encoded data removed]",
       "text": [
        "<matplotlib.figure.Figure at 0x10958e250>"
       ]
      }
     ],
     "prompt_number": 12
    },
    {
     "cell_type": "code",
     "collapsed": false,
     "input": [],
     "language": "python",
     "metadata": {},
     "outputs": [],
     "prompt_number": 12
    }
   ],
   "metadata": {}
  }
 ]
}