{
 "metadata": {
  "name": "",
  "signature": "sha256:21bacec0eb19b73d3c4d6595c28d70fed8c1e8f1f7bd609279fd3a5b0b1a4652"
 },
 "nbformat": 3,
 "nbformat_minor": 0,
 "worksheets": [
  {
   "cells": [
    {
     "cell_type": "heading",
     "level": 1,
     "metadata": {},
     "source": [
      "Q023 - Come hai acquisito queste competenze?"
     ]
    },
    {
     "cell_type": "code",
     "collapsed": false,
     "input": [
      "# -*- coding: UTF-8 -*-\n",
      "\n",
      "# Render our plots inline\n",
      "%matplotlib inline \n",
      "\n",
      "import pandas as pd\n",
      "import matplotlib\n",
      "import matplotlib.pyplot as plt\n",
      "import numpy as np\n",
      "import seaborn\n",
      "import shutil\n",
      "\n",
      "pd.set_option('display.mpl_style', 'default') # Make the graphs a bit prettier, overridden by seaborn\n",
      "pd.set_option('display.max_columns', None) # Display all the columns\n",
      "plt.rcParams['font.family'] = 'sans-serif' # Sans Serif fonts for all the graphs\n",
      "\n",
      "# Reference for color palettes: http://web.stanford.edu/~mwaskom/software/seaborn/tutorial/color_palettes.html\n",
      "\n",
      "# Change the font\n",
      "matplotlib.rcParams.update({'font.family': 'Source Sans Pro'})"
     ],
     "language": "python",
     "metadata": {},
     "outputs": [],
     "prompt_number": 11
    },
    {
     "cell_type": "code",
     "collapsed": false,
     "input": [
      "# Load csv file first\n",
      "data = pd.read_csv(\"data/results-makers-40.csv\", encoding=\"utf-8\")"
     ],
     "language": "python",
     "metadata": {},
     "outputs": [],
     "prompt_number": 2
    },
    {
     "cell_type": "code",
     "collapsed": false,
     "input": [
      "# Check data\n",
      "#data[0:4] # Equals to data.head()"
     ],
     "language": "python",
     "metadata": {},
     "outputs": [],
     "prompt_number": 3
    },
    {
     "cell_type": "code",
     "collapsed": false,
     "input": [
      "# Range: Q022[SQ001] - Q022[SQ005]\n",
      "\n",
      "skills_columns = ['Q023[SQ001]','Q023[SQ002]','Q023[SQ003]','Q023[SQ004]','Q023[SQ005]']\n",
      "skills_options = ['Informatica','Elettronica','Progettazione CAD/CAM','Fabbricazione Digitale','Fabbricazione Analogica',]\n",
      "skills = data[skills_columns]\n",
      "skills.replace(\"Autodidatta (Online/offline community)\", 'Autodidatta', inplace=True) # Simplify text \n",
      "skills.replace(u\"Scuola / Universit\u00e0\", 'Scuola', inplace=True) # Simplify text \n",
      "skills.replace(np.nan, 'Nessuna risposta', inplace=True) # Simplify text "
     ],
     "language": "python",
     "metadata": {},
     "outputs": [
      {
       "output_type": "stream",
       "stream": "stderr",
       "text": [
        "-c:6: SettingWithCopyWarning: A value is trying to be set on a copy of a slice from a DataFrame\n",
        "-c:7: SettingWithCopyWarning: A value is trying to be set on a copy of a slice from a DataFrame\n"
       ]
      },
      {
       "output_type": "stream",
       "stream": "stderr",
       "text": [
        "-c:8: SettingWithCopyWarning: A value is trying to be set on a copy of a slice from a DataFrame\n"
       ]
      }
     ],
     "prompt_number": 4
    },
    {
     "cell_type": "code",
     "collapsed": false,
     "input": [
      "#skills"
     ],
     "language": "python",
     "metadata": {},
     "outputs": [],
     "prompt_number": 5
    },
    {
     "cell_type": "code",
     "collapsed": false,
     "input": [
      "%%capture output\n",
      "\n",
      "# Save the output as a variable that can be saved to a file\n",
      "# Gather data\n",
      "skills_b = {}\n",
      "for k,i in enumerate(skills_columns):\n",
      "    skills_b[k] = skills[i].value_counts()\n",
      "    print \"Data:\",skills_options[k]\n",
      "    print skills_b[k]\n",
      "    print\n",
      "    print \"Data %:\",skills_options[k]\n",
      "    print skills[i].value_counts(normalize=True)*100\n",
      "    print"
     ],
     "language": "python",
     "metadata": {},
     "outputs": [],
     "prompt_number": 6
    },
    {
     "cell_type": "code",
     "collapsed": false,
     "input": [
      "# Save+show the output to a text file\n",
      "%save Q023-MakerQualiCompetenzeDove.py str(output)\n",
      "shutil.move(\"Q023-MakerQualiCompetenzeDove.py\", \"text/Q023-MakerQualiCompetenzeDove.txt\")"
     ],
     "language": "python",
     "metadata": {},
     "outputs": [
      {
       "output_type": "stream",
       "stream": "stdout",
       "text": [
        "The following commands were written to file `Q023-MakerQualiCompetenzeDove.py`:\n",
        "Data: Informatica\n",
        "Autodidatta         54\n",
        "Scuola              36\n",
        "Nessuna risposta    22\n",
        "Lavoro              20\n",
        "Altro                2\n",
        "dtype: int64\n",
        "\n",
        "Data %: Informatica\n",
        "Autodidatta         40.298507\n",
        "Scuola              26.865672\n",
        "Nessuna risposta    16.417910\n",
        "Lavoro              14.925373\n",
        "Altro                1.492537\n",
        "dtype: float64\n",
        "\n",
        "Data: Elettronica\n",
        "Autodidatta         67\n",
        "Nessuna risposta    41\n",
        "Scuola              22\n",
        "Lavoro               3\n",
        "Altro                1\n",
        "dtype: int64\n",
        "\n",
        "Data %: Elettronica\n",
        "Autodidatta         50.000000\n",
        "Nessuna risposta    30.597015\n",
        "Scuola              16.417910\n",
        "Lavoro               2.238806\n",
        "Altro                0.746269\n",
        "dtype: float64\n",
        "\n",
        "Data: Progettazione CAD/CAM\n",
        "Scuola              42\n",
        "Lavoro              36\n",
        "Autodidatta         33\n",
        "Nessuna risposta    20\n",
        "Altro                3\n",
        "dtype: int64\n",
        "\n",
        "Data %: Progettazione CAD/CAM\n",
        "Scuola              31.343284\n",
        "Lavoro              26.865672\n",
        "Autodidatta         24.626866\n",
        "Nessuna risposta    14.925373\n",
        "Altro                2.238806\n",
        "dtype: float64\n",
        "\n",
        "Data: Fabbricazione Digitale\n",
        "Autodidatta         61\n",
        "Nessuna risposta    32\n",
        "Lavoro              25\n",
        "Scuola               8\n",
        "Altro                8\n",
        "dtype: int64\n",
        "\n",
        "Data %: Fabbricazione Digitale\n",
        "Autodidatta         45.522388\n",
        "Nessuna risposta    23.880597\n",
        "Lavoro              18.656716\n",
        "Scuola               5.970149\n",
        "Altro                5.970149\n",
        "dtype: float64\n",
        "\n",
        "Data: Fabbricazione Analogica\n",
        "Autodidatta         54\n",
        "Lavoro              27\n",
        "Nessuna risposta    23\n",
        "Scuola              15\n",
        "Altro               15\n",
        "dtype: int64\n",
        "\n",
        "Data %: Fabbricazione Analogica\n",
        "Autodidatta         40.298507\n",
        "Lavoro              20.149254\n",
        "Nessuna risposta    17.164179\n",
        "Scuola              11.194030\n",
        "Altro               11.194030\n",
        "dtype: float64\n",
        "\n",
        "\n"
       ]
      }
     ],
     "prompt_number": 7
    },
    {
     "cell_type": "code",
     "collapsed": false,
     "input": [
      "autodidatta = []\n",
      "scuola = []\n",
      "lavoro = []\n",
      "altro = []\n",
      "nanvalue = []\n",
      "\n",
      "for k,i in enumerate(skills_columns):\n",
      "    skills_presents = skills_b[k].index.tolist()\n",
      "    \n",
      "    #\u00a0Reassign new list with \"NaN\"\n",
      "    skills_b[k].index = skills_presents\n",
      "    \n",
      "    #\u00a0Check for empty values, and put a 0 instead\n",
      "    if \"Autodidatta\" not in skills_presents:\n",
      "        autodidatta.append(0)\n",
      "    if \"Scuola\" not in skills_presents:\n",
      "        scuola.append(0)\n",
      "    if \"Lavoro\" not in skills_presents:\n",
      "        lavoro.append(0)\n",
      "    if \"Altro\" not in skills_presents:\n",
      "        altro.append(0)\n",
      "    if \"Nessuna risposta\" not in skills_presents:\n",
      "        nanvalue.append(0)\n",
      "    \n",
      "    print \"\"\n",
      "    for j in skills_presents:\n",
      "        print j, type(j), skills_b[k].ix[j]\n",
      "        if j == \"Autodidatta\":\n",
      "            autodidatta.append(skills_b[k].ix[j])\n",
      "        elif j == \"Scuola\":\n",
      "            scuola.append(skills_b[k].ix[j])\n",
      "        elif j == \"Lavoro\":\n",
      "            lavoro.append(skills_b[k].ix[j])\n",
      "        elif j == \"Altro\":\n",
      "            altro.append(skills_b[k].ix[j])\n",
      "        elif j == \"Nessuna risposta\":\n",
      "            nanvalue.append(skills_b[k].ix[j]) "
     ],
     "language": "python",
     "metadata": {},
     "outputs": [
      {
       "output_type": "stream",
       "stream": "stdout",
       "text": [
        "\n",
        "Autodidatta <type 'str'> 54\n",
        "Scuola <type 'str'> 36\n",
        "Nessuna risposta <type 'str'> 22\n",
        "Lavoro <type 'unicode'> 20\n",
        "Altro <type 'unicode'> 2\n",
        "\n",
        "Autodidatta <type 'str'> 67\n",
        "Nessuna risposta <type 'str'> 41\n",
        "Scuola <type 'str'> 22\n",
        "Lavoro <type 'unicode'> 3\n",
        "Altro <type 'unicode'> 1\n",
        "\n",
        "Scuola <type 'str'> 42\n",
        "Lavoro <type 'unicode'> 36\n",
        "Autodidatta <type 'str'> 33\n",
        "Nessuna risposta <type 'str'> 20\n",
        "Altro <type 'unicode'> 3\n",
        "\n",
        "Autodidatta <type 'str'> 61\n",
        "Nessuna risposta <type 'str'> 32\n",
        "Lavoro <type 'unicode'> 25\n",
        "Scuola <type 'str'> 8\n",
        "Altro <type 'unicode'> 8\n",
        "\n",
        "Autodidatta <type 'str'> 54\n",
        "Lavoro <type 'unicode'> 27\n",
        "Nessuna risposta <type 'str'> 23\n",
        "Scuola <type 'str'> 15\n",
        "Altro <type 'unicode'> 15\n"
       ]
      }
     ],
     "prompt_number": 8
    },
    {
     "cell_type": "code",
     "collapsed": false,
     "input": [
      "#\u00a0Debug\n",
      "print autodidatta\n",
      "print altro\n",
      "print nanvalue"
     ],
     "language": "python",
     "metadata": {},
     "outputs": [
      {
       "output_type": "stream",
       "stream": "stdout",
       "text": [
        "[54, 67, 33, 61, 54]\n",
        "[2, 1, 3, 8, 15]\n",
        "[22, 41, 20, 32, 23]\n"
       ]
      }
     ],
     "prompt_number": 9
    },
    {
     "cell_type": "code",
     "collapsed": false,
     "input": [
      "# Plot the data\n",
      "plt.figure(figsize=(12,6))\n",
      "plt.xlabel('Competenze', fontsize=16)\n",
      "plt.ylabel('Persone', fontsize=16)\n",
      "plt.title('Come hai acquisito queste competenze?', fontsize=18, y=1.02)\n",
      "plt.xticks(range(len(skills_options)+1),skills_options,rotation=0)\n",
      "ind = np.arange(len(skills_columns))   # the x locations for the groups\n",
      "width = 0.15                              # the width of the bars\n",
      "\n",
      "my_colors = seaborn.color_palette(\"Set1\", 6) # Set color palette\n",
      "rect1 = plt.bar(ind,autodidatta,width,color=my_colors[0],align='center') # Plot Autodidatta\n",
      "rect2 = plt.bar(ind+width,scuola,width,color=my_colors[1],align='center') # Plot Scuola \n",
      "rect3 = plt.bar(ind+width*2,lavoro,width,color=my_colors[2],align='center') # Plot Lavoro\n",
      "rect4 = plt.bar(ind+width*3,altro,width,color=my_colors[3],align='center') # Plot Altro\n",
      "rect5 = plt.bar(ind+width*4,nanvalue,width,color=my_colors[5],align='center') # Plot NaN\n",
      "plt.legend( (rect1, rect2, rect3, rect4, rect5), ('Autodidatta', u'Scuola/Universit\u00e1', 'Lavoro', 'Altro', 'NaN') )\n",
      "plt.savefig(\"svg/Q023-MakerQualiCompetenzeDove.svg\")\n",
      "plt.savefig(\"png/Q023-MakerQualiCompetenzeDove.png\")\n",
      "plt.savefig(\"pdf/Q023-MakerQualiCompetenzeDove.pdf\")"
     ],
     "language": "python",
     "metadata": {},
     "outputs": [
      {
       "metadata": {},
       "output_type": "display_data",
       "png": "[encoded data removed]",
       "text": [
        "<matplotlib.figure.Figure at 0x1102a3950>"
       ]
      }
     ],
     "prompt_number": 12
    },
    {
     "cell_type": "code",
     "collapsed": false,
     "input": [],
     "language": "python",
     "metadata": {},
     "outputs": [],
     "prompt_number": 9
    }
   ],
   "metadata": {}
  }
 ]
}