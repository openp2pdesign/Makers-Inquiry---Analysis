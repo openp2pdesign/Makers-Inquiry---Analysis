{
 "metadata": {
  "name": ""
 },
 "nbformat": 3,
 "nbformat_minor": 0,
 "worksheets": [
  {
   "cells": [
    {
     "cell_type": "heading",
     "level": 1,
     "metadata": {},
     "source": [
      "Q057 - Che tipo di formazione/aggiornamento offri?"
     ]
    },
    {
     "cell_type": "code",
     "collapsed": false,
     "input": [
      "# -*- coding: UTF-8 -*-\n",
      "\n",
      "# Render our plots inline\n",
      "%matplotlib inline \n",
      "\n",
      "import pandas as pd\n",
      "import matplotlib.pyplot as plt\n",
      "import numpy as np\n",
      "import seaborn\n",
      "\n",
      "pd.set_option('display.mpl_style', 'default') # Make the graphs a bit prettier, overridden by seaborn\n",
      "pd.set_option('display.max_columns', None) # Display all the columns\n",
      "plt.rcParams['font.family'] = 'sans-serif' # Sans Serif fonts for all the graphs\n",
      "\n",
      "# Reference for color palettes: http://web.stanford.edu/~mwaskom/software/seaborn/tutorial/color_palettes.html"
     ],
     "language": "python",
     "metadata": {},
     "outputs": [],
     "prompt_number": 1
    },
    {
     "cell_type": "code",
     "collapsed": false,
     "input": [
      "# Load csv file first\n",
      "data = pd.read_csv(\"data/results-makers-40.csv\", encoding=\"utf-8\")"
     ],
     "language": "python",
     "metadata": {},
     "outputs": [],
     "prompt_number": 2
    },
    {
     "cell_type": "code",
     "collapsed": false,
     "input": [
      "# Check data\n",
      "#data[0:4] # Equals to data.head()"
     ],
     "language": "python",
     "metadata": {},
     "outputs": [],
     "prompt_number": 3
    },
    {
     "cell_type": "code",
     "collapsed": false,
     "input": [
      "# Range: Q057[SQ001] - Q057[SQ002] - Q057[other]\n",
      "\n",
      "education_columns = ['Q057[SQ001]','Q057[SQ002]']\n",
      "education_options = ['Workshop/corsi base su tecnologie','Workshop/corsi avanzati su tecnologie']\n",
      "education = data[education_columns]\n",
      "education.replace(u'S\u00ec', 'Si', inplace=True) # Get rid of accented characters \n",
      "education_other = data['Q057[other]'].str.lower().value_counts()"
     ],
     "language": "python",
     "metadata": {},
     "outputs": [
      {
       "output_type": "stream",
       "stream": "stderr",
       "text": [
        "-c:6: SettingWithCopyWarning: A value is trying to be set on a copy of a slice from a DataFrame\n"
       ]
      }
     ],
     "prompt_number": 4
    },
    {
     "cell_type": "code",
     "collapsed": false,
     "input": [
      "#education[0:4]"
     ],
     "language": "python",
     "metadata": {},
     "outputs": [],
     "prompt_number": 5
    },
    {
     "cell_type": "code",
     "collapsed": false,
     "input": [
      "#\u00a0Gather data\n",
      "education_b = {}\n",
      "\n",
      "# Get rid of the people who did not answer to this section\n",
      "education = education.dropna()\n",
      "\n",
      "for k,i in enumerate(education_columns):\n",
      "    education_b[k] = education[i].value_counts(dropna=False)\n",
      "    print \"Data:\",education_options[k]\n",
      "    print education_b[k]\n",
      "    print\n",
      "    print \"Data %:\",education_options[k]\n",
      "    print education[i].value_counts(normalize=True,dropna=False)*100\n",
      "    print\n",
      "    \n",
      "yes = []\n",
      "no = []\n",
      "nanvalue = []\n",
      "\n",
      "for k,i in enumerate(education_columns):\n",
      "    education_presents = education_b[k].index.tolist()\n",
      "    \n",
      "    #\u00a0Convert NaN to \"NaN\"\n",
      "    for o,h in enumerate(education_presents):\n",
      "        if type(h) is float:\n",
      "            education_presents.pop(o)\n",
      "            education_presents.append(\"NaN\")\n",
      "    \n",
      "    #\u00a0Reassign new list with \"NaN\"\n",
      "    education_b[k].index = education_presents\n",
      "    \n",
      "    #\u00a0Check for empty values, and put a 0 instead\n",
      "    if \"Si\" not in education_presents:\n",
      "        yes.append(0)\n",
      "    if \"No\" not in education_presents:\n",
      "        no.append(0)\n",
      "    if \"NaN\" not in education_presents:\n",
      "        nanvalue.append(0)\n",
      "    \n",
      "    for j in education_presents:\n",
      "        if j == \"Si\":\n",
      "            yes.append(education_b[k].ix[\"Si\"])\n",
      "        elif j == \"No\":\n",
      "            no.append(education_b[k].ix[\"No\"])\n",
      "        elif j == \"NaN\":\n",
      "            nanvalue.append(education_b[k].ix[\"NaN\"]) \n",
      "\n"
     ],
     "language": "python",
     "metadata": {},
     "outputs": [
      {
       "output_type": "stream",
       "stream": "stdout",
       "text": [
        "Data: Workshop/corsi base su tecnologie\n",
        "Si     25\n",
        "No      4\n",
        "NaN     0\n",
        "dtype: int64"
       ]
      },
      {
       "output_type": "stream",
       "stream": "stdout",
       "text": [
        "\n",
        "\n",
        "Data %: Workshop/corsi base su tecnologie\n",
        "Si     86.206897\n",
        "No     13.793103\n",
        "NaN     0.000000\n",
        "dtype: float64\n",
        "\n",
        "Data: Workshop/corsi avanzati su tecnologie\n",
        "No     15\n",
        "Si     14\n",
        "NaN     0\n",
        "dtype: int64\n",
        "\n",
        "Data %: Workshop/corsi avanzati su tecnologie\n",
        "No     51.724138\n",
        "Si     48.275862\n",
        "NaN     0.000000\n",
        "dtype: float64\n",
        "\n"
       ]
      }
     ],
     "prompt_number": 6
    },
    {
     "cell_type": "code",
     "collapsed": false,
     "input": [
      "# Plot the data\n",
      "plt.figure(figsize=(8,6))\n",
      "plt.xlabel('Tipo di formazione')\n",
      "plt.ylabel('Persone')\n",
      "plt.title('Che tipo di formazione/aggiornamenti offri?')\n",
      "plt.xticks(range(len(education_options)+1),education_options,rotation=90)\n",
      "ind = np.arange(len(education_columns))   # the x locations for the groups\n",
      "width = 0.25                              # the width of the bars\n",
      "\n",
      "my_colors = seaborn.color_palette(\"Set1\", 3) # Set color palette\n",
      "rect1 = plt.bar(ind,yes,width,color=my_colors[1],align='center') # Plot Yes\n",
      "rect2 = plt.bar(ind+width,no,width,color=my_colors[0],align='center') # Plot No \n",
      "plt.legend( (rect1, rect2), ('Si', 'No') )\n",
      "plt.savefig(\"pdf/Q057-MakerspaceEducation01.pdf\")"
     ],
     "language": "python",
     "metadata": {},
     "outputs": [
      {
       "metadata": {},
       "output_type": "display_data",
       "png": "[encoded data removed]",
       "text": [
        "<matplotlib.figure.Figure at 0x10b366250>"
       ]
      }
     ],
     "prompt_number": 7
    },
    {
     "cell_type": "code",
     "collapsed": false,
     "input": [
      "# Get \"other\" data\n",
      "education_other = data[\"Q057[other]\"].str.lower().value_counts()\n",
      "print \"Data:\"\n",
      "print education_other\n",
      "print \"\"\n",
      "print \"Data %:\"\n",
      "print data[\"Q057[other]\"].str.lower().value_counts(normalize=True) * 100\n",
      "\n",
      "# Plot bar\n",
      "plt.figure(figsize=(8,6))\n",
      "plt.title('Che tipo di formazione/aggiornamento offri? Altro')\n",
      "plt.xticks(range(len(education_other.index)),education_other.index,rotation=90)\n",
      "plt.xlabel('Lingue')\n",
      "plt.ylabel('Persone')\n",
      "ind = np.arange(len(education_other))   # the x locations for the groups\n",
      "width = 0.35                       # the width of the bars\n",
      "\n",
      "my_colors = seaborn.color_palette(\"husl\", len(education_other)) # Set color palette\n",
      "rect1 = plt.bar(ind,education_other,width,color=my_colors,align='center')\n",
      "plt.savefig(\"pdf/Q057-MakerspaceEducation02.pdf\") # Save pdf"
     ],
     "language": "python",
     "metadata": {},
     "outputs": [
      {
       "output_type": "stream",
       "stream": "stdout",
       "text": [
        "Data:\n",
        "lezioni in classe    1\n",
        "eventi aperti        1\n",
        "dtype: int64\n",
        "\n",
        "Data %:\n",
        "lezioni in classe    0.746269\n",
        "eventi aperti        0.746269\n",
        "dtype: float64\n"
       ]
      },
      {
       "metadata": {},
       "output_type": "display_data",
       "png": "[encoded data removed]",
       "text": [
        "<matplotlib.figure.Figure at 0x10b401b50>"
       ]
      }
     ],
     "prompt_number": 8
    },
    {
     "cell_type": "code",
     "collapsed": false,
     "input": [],
     "language": "python",
     "metadata": {},
     "outputs": [],
     "prompt_number": 7
    }
   ],
   "metadata": {}
  }
 ]
}