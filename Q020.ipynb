{
 "metadata": {
  "name": "",
  "signature": "sha256:948d1ca40aad094f506d709e2683b81dda53201581a03de0c15bfb27d0a2f86c"
 },
 "nbformat": 3,
 "nbformat_minor": 0,
 "worksheets": [
  {
   "cells": [
    {
     "cell_type": "heading",
     "level": 1,
     "metadata": {},
     "source": [
      "Q020 - Quanto in % del tuo reddito annuale proviene dall\u2019attivit\u00e0 di making?"
     ]
    },
    {
     "cell_type": "code",
     "collapsed": false,
     "input": [
      "# -*- coding: UTF-8 -*-\n",
      "\n",
      "# Render our plots inline\n",
      "%matplotlib inline \n",
      "\n",
      "import pandas as pd\n",
      "import matplotlib\n",
      "import matplotlib.pyplot as plt\n",
      "import numpy as np\n",
      "import seaborn\n",
      "import shutil\n",
      "\n",
      "pd.set_option('display.mpl_style', 'default') # Make the graphs a bit prettier, overridden by seaborn\n",
      "pd.set_option('display.max_columns', None) # Display all the columns\n",
      "plt.rcParams['font.family'] = 'sans-serif' # Sans Serif fonts for all the graphs\n",
      "\n",
      "# Reference for color palettes: http://web.stanford.edu/~mwaskom/software/seaborn/tutorial/color_palettes.html\n",
      "\n",
      "# Change the font\n",
      "matplotlib.rcParams.update({'font.family': 'Source Sans Pro'})"
     ],
     "language": "python",
     "metadata": {},
     "outputs": [],
     "prompt_number": 1
    },
    {
     "cell_type": "code",
     "collapsed": false,
     "input": [
      "# Load csv file first\n",
      "data = pd.read_csv(\"data/results-makers-40.csv\", encoding=\"utf-8\")"
     ],
     "language": "python",
     "metadata": {},
     "outputs": [],
     "prompt_number": 2
    },
    {
     "cell_type": "code",
     "collapsed": false,
     "input": [
      "# Check data\n",
      "#data[0:4] # Equals to data.head()"
     ],
     "language": "python",
     "metadata": {},
     "outputs": [],
     "prompt_number": 3
    },
    {
     "cell_type": "code",
     "collapsed": false,
     "input": [
      "%%capture output\n",
      "\n",
      "# Save the output as a variable that can be saved to a file\n",
      "# Get the distribution of income\n",
      "income = data[\"Q020[SQ001]\"].value_counts(dropna=False)\n",
      "print \"Data:\"\n",
      "print income\n",
      "print \"\"\n",
      "print \"Data %:\"\n",
      "print data[\"Q020[SQ001]\"].value_counts(normalize=True,dropna=False) * 100"
     ],
     "language": "python",
     "metadata": {},
     "outputs": [],
     "prompt_number": 4
    },
    {
     "cell_type": "code",
     "collapsed": false,
     "input": [
      "# Save+show the output to a text file\n",
      "%save Q020-MakerPercentualeReddito01.py str(output)\n",
      "shutil.move(\"Q020-MakerPercentualeReddito01.py\", \"text/Q020-MakerPercentualeReddito01.txt\")"
     ],
     "language": "python",
     "metadata": {},
     "outputs": [
      {
       "output_type": "stream",
       "stream": "stdout",
       "text": [
        "The following commands were written to file `Q020-MakerPercentualeReddito01.py`:\n",
        "Data:\n",
        "NaN     64\n",
        "10%     30\n",
        "100%    10\n",
        "20%     10\n",
        "50%      6\n",
        "80%      4\n",
        "70%      3\n",
        "40%      3\n",
        "30%      2\n",
        "90%      1\n",
        "60%      1\n",
        "dtype: int64\n",
        "\n",
        "Data %:\n",
        "NaN     47.761194\n",
        "10%     22.388060\n",
        "100%     7.462687\n",
        "20%      7.462687\n",
        "50%      4.477612\n",
        "80%      2.985075\n",
        "70%      2.238806\n",
        "40%      2.238806\n",
        "30%      1.492537\n",
        "90%      0.746269\n",
        "60%      0.746269\n",
        "dtype: float64\n",
        "\n"
       ]
      }
     ],
     "prompt_number": 5
    },
    {
     "cell_type": "code",
     "collapsed": false,
     "input": [
      "# Plot the data\n",
      "plt.figure(figsize=(8,6))\n",
      "plt.xlabel(u'% Reddito', fontsize=16)\n",
      "plt.ylabel('Persone', fontsize=16)\n",
      "plt.title(u\"Quanto in % del tuo reddito annuale proviene dall\u2019attivit\u00e0 di making?\", fontsize=18, y=1.02)\n",
      "my_colors = seaborn.color_palette(\"husl\", len(income)) # Set color palette\n",
      "income.plot(kind=\"bar\",color=my_colors)\n",
      "plt.savefig(\"svg/Q020-MakerPercentualeReddito01.svg\")\n",
      "plt.savefig(\"png/Q020-MakerPercentualeReddito01.png\")\n",
      "plt.savefig(\"pdf/Q020-MakerPercentualeReddito01.pdf\")"
     ],
     "language": "python",
     "metadata": {},
     "outputs": [
      {
       "metadata": {},
       "output_type": "display_data",
       "png": "[encoded data removed]",
       "text": [
        "<matplotlib.figure.Figure at 0x116075510>"
       ]
      }
     ],
     "prompt_number": 6
    },
    {
     "cell_type": "code",
     "collapsed": false,
     "input": [
      "%%capture output\n",
      "\n",
      "# Save the output as a variable that can be saved to a file\n",
      "#\u00a0Order of the choices\n",
      "income_order = [np.nan,\"10%\",\"20%\",\"30%\",\"40%\",\"50%\",\"60%\",\"70%\",\"80%\",\"90%\",\"100%\"]\n",
      "\n",
      "income2 = income.reindex(income_order)\n",
      "\n",
      "# Get the distribution of way of living, reindexed\n",
      "print \"Data:\"\n",
      "print income2\n",
      "print \"\"\n",
      "print \"Data %:\"\n",
      "income2_normalized = data[\"Q020[SQ001]\"].value_counts(normalize=True) * 100\n",
      "print income2_normalized.reindex(income_order)"
     ],
     "language": "python",
     "metadata": {},
     "outputs": [],
     "prompt_number": 7
    },
    {
     "cell_type": "code",
     "collapsed": false,
     "input": [
      "# Save+show the output to a text file\n",
      "%save Q020-MakerPercentualeReddito02.py str(Q020b)\n",
      "shutil.move(\"Q020-MakerPercentualeReddito02.py\", \"text/Q020-MakerPercentualeReddito02.txt\")"
     ],
     "language": "python",
     "metadata": {},
     "outputs": [
      {
       "output_type": "stream",
       "stream": "stdout",
       "text": [
        "The following commands were written to file `Q020-MakerPercentualeReddito02.py`:\n",
        "Data:\n",
        "NaN     64\n",
        "10%     30\n",
        "20%     10\n",
        "30%      2\n",
        "40%      3\n",
        "50%      6\n",
        "60%      1\n",
        "70%      3\n",
        "80%      4\n",
        "90%      1\n",
        "100%    10\n",
        "dtype: int64\n",
        "\n",
        "Data %:\n",
        "NaN           NaN\n",
        "10%     22.388060\n",
        "20%      7.462687\n",
        "30%      1.492537\n",
        "40%      2.238806\n",
        "50%      4.477612\n",
        "60%      0.746269\n",
        "70%      2.238806\n",
        "80%      2.985075\n",
        "90%      0.746269\n",
        "100%     7.462687\n",
        "dtype: float64\n",
        "\n"
       ]
      }
     ],
     "prompt_number": 8
    },
    {
     "cell_type": "code",
     "collapsed": false,
     "input": [
      "# Plot the data\n",
      "plt.figure(figsize=(8,6))\n",
      "plt.xlabel(u'% Reddito', fontsize=16)\n",
      "plt.ylabel('Persone', fontsize=16)\n",
      "plt.title(u\"Quanto in % del tuo reddito annuale proviene dall\u2019attivit\u00e0 di making?\", fontsize=18, y=1.02)\n",
      "my_colors = seaborn.color_palette(\"husl\", len(income2)) # Set color palette\n",
      "income2.plot(kind=\"bar\",color=my_colors)\n",
      "plt.savefig(\"svg/Q020-MakerPercentualeReddito02.svg\")\n",
      "plt.savefig(\"png/Q020-MakerPercentualeReddito02.png\")\n",
      "plt.savefig(\"pdf/Q020-MakerPercentualeReddito02.pdf\")"
     ],
     "language": "python",
     "metadata": {},
     "outputs": [
      {
       "metadata": {},
       "output_type": "display_data",
       "png": "[encoded data removed]",
       "text": [
        "<matplotlib.figure.Figure at 0x1159fe5d0>"
       ]
      }
     ],
     "prompt_number": 9
    },
    {
     "cell_type": "code",
     "collapsed": false,
     "input": [],
     "language": "python",
     "metadata": {},
     "outputs": [],
     "prompt_number": 9
    }
   ],
   "metadata": {}
  }
 ]
}