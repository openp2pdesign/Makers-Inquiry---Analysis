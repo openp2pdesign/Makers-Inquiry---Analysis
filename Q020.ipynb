{
 "metadata": {
  "name": ""
 },
 "nbformat": 3,
 "nbformat_minor": 0,
 "worksheets": [
  {
   "cells": [
    {
     "cell_type": "heading",
     "level": 1,
     "metadata": {},
     "source": [
      "Q020 - Quanto in % del tuo reddito annuale proviene dall\u2019attivit\u00e0 di making?"
     ]
    },
    {
     "cell_type": "code",
     "collapsed": false,
     "input": [
      "# -*- coding: UTF-8 -*-\n",
      "\n",
      "# Render our plots inline\n",
      "%matplotlib inline \n",
      "\n",
      "import pandas as pd\n",
      "import matplotlib.pyplot as plt\n",
      "import numpy as np\n",
      "import seaborn\n",
      "\n",
      "pd.set_option('display.mpl_style', 'default') # Make the graphs a bit prettier, overridden by seaborn\n",
      "pd.set_option('display.max_columns', None) # Display all the columns\n",
      "plt.rcParams['font.family'] = 'sans-serif' # Sans Serif fonts for all the graphs\n",
      "\n",
      "# Reference for color palettes: http://web.stanford.edu/~mwaskom/software/seaborn/tutorial/color_palettes.html"
     ],
     "language": "python",
     "metadata": {},
     "outputs": [],
     "prompt_number": 1
    },
    {
     "cell_type": "code",
     "collapsed": false,
     "input": [
      "# Load csv file first\n",
      "data = pd.read_csv(\"data/results-makers-40.csv\", encoding=\"utf-8\")"
     ],
     "language": "python",
     "metadata": {},
     "outputs": [],
     "prompt_number": 3
    },
    {
     "cell_type": "code",
     "collapsed": false,
     "input": [
      "# Check data\n",
      "#data[0:4] # Equals to data.head()"
     ],
     "language": "python",
     "metadata": {},
     "outputs": [],
     "prompt_number": 4
    },
    {
     "cell_type": "code",
     "collapsed": false,
     "input": [
      "# Get the distribution of income\n",
      "income = data[\"Q020[SQ001]\"].value_counts(dropna=False)\n",
      "print \"Data:\"\n",
      "print income\n",
      "print \"\"\n",
      "print \"Data %:\"\n",
      "print data[\"Q020[SQ001]\"].value_counts(normalize=True,dropna=False) * 100\n",
      "\n",
      "# Plot the data\n",
      "plt.figure(figsize=(8,6))\n",
      "plt.xlabel(u'% Reddito')\n",
      "plt.ylabel('Persone')\n",
      "my_colors = seaborn.color_palette(\"husl\", len(income)) # Set color palette\n",
      "income.plot(kind=\"bar\",title=\"Maker: % del reddito\",color=my_colors)\n",
      "plt.savefig(\"pdf/Q020-MakerPercentualeReddito01.pdf\") # Save pdf"
     ],
     "language": "python",
     "metadata": {},
     "outputs": [
      {
       "output_type": "stream",
       "stream": "stdout",
       "text": [
        "Data:\n",
        "NaN     64\n",
        "10%     30\n",
        "100%    10\n",
        "20%     10\n",
        "50%      6\n",
        "80%      4\n",
        "70%      3\n",
        "40%      3\n",
        "30%      2\n",
        "90%      1\n",
        "60%      1\n",
        "dtype: int64"
       ]
      },
      {
       "output_type": "stream",
       "stream": "stdout",
       "text": [
        "\n",
        "\n",
        "Data %:\n",
        "NaN     47.761194\n",
        "10%     22.388060\n",
        "100%     7.462687\n",
        "20%      7.462687\n",
        "50%      4.477612\n",
        "80%      2.985075\n",
        "70%      2.238806\n",
        "40%      2.238806\n",
        "30%      1.492537\n",
        "90%      0.746269\n",
        "60%      0.746269\n",
        "dtype: float64\n"
       ]
      },
      {
       "metadata": {},
       "output_type": "display_data",
       "png": "[encoded data removed]",
       "text": [
        "<matplotlib.figure.Figure at 0x104115610>"
       ]
      }
     ],
     "prompt_number": 5
    },
    {
     "cell_type": "code",
     "collapsed": false,
     "input": [
      "#\u00a0Order of the choices\n",
      "income_order = [NaN,\"10%\",\"20%\",\"30%\",\"40%\",\"50%\",\"60%\",\"70%\",\"80%\",\"90%\",\"100%\"]\n",
      "\n",
      "income2 = income.reindex(income_order)\n",
      "\n",
      "# Get the distribution of way of living, reindexed\n",
      "print \"Data:\"\n",
      "print income2\n",
      "print \"\"\n",
      "print \"Data %:\"\n",
      "income2_normalized = data[\"Q020[SQ001]\"].value_counts(normalize=True) * 100\n",
      "print income2_normalized.reindex(income_order)\n",
      "\n",
      "# Plot the data\n",
      "plt.figure(figsize=(8,6))\n",
      "plt.xlabel(u'% Reddito')\n",
      "plt.ylabel('Persone')\n",
      "my_colors = seaborn.color_palette(\"husl\", len(income2)) # Set color palette\n",
      "income2.plot(kind=\"bar\",title=\"Maker: % Reddito\",color=my_colors)\n",
      "plt.savefig(\"pdf/Q020-MakerPercentualeReddito02.pdf\") # Save pdf"
     ],
     "language": "python",
     "metadata": {},
     "outputs": [
      {
       "output_type": "stream",
       "stream": "stdout",
       "text": [
        "Data:\n",
        "NaN     64\n",
        "10%     30\n",
        "20%     10\n",
        "30%      2\n",
        "40%      3\n",
        "50%      6\n",
        "60%      1\n",
        "70%      3\n",
        "80%      4\n",
        "90%      1\n",
        "100%    10\n",
        "dtype: int64\n",
        "\n",
        "Data %:\n",
        "NaN           NaN\n",
        "10%     22.388060\n",
        "20%      7.462687\n",
        "30%      1.492537\n",
        "40%      2.238806\n",
        "50%      4.477612\n",
        "60%      0.746269\n",
        "70%      2.238806\n",
        "80%      2.985075\n",
        "90%      0.746269\n",
        "100%     7.462687\n",
        "dtype: float64\n"
       ]
      },
      {
       "metadata": {},
       "output_type": "display_data",
       "png": "[encoded data removed]",
       "text": [
        "<matplotlib.figure.Figure at 0x10787fb90>"
       ]
      }
     ],
     "prompt_number": 9
    },
    {
     "cell_type": "code",
     "collapsed": false,
     "input": [],
     "language": "python",
     "metadata": {},
     "outputs": [],
     "prompt_number": 5
    }
   ],
   "metadata": {}
  }
 ]
}