{
 "metadata": {
  "name": "",
  "signature": "sha256:eef5d7f09d9e925e28cac87f06677c06fd36d5f316892d6716a5bba852141129"
 },
 "nbformat": 3,
 "nbformat_minor": 0,
 "worksheets": [
  {
   "cells": [
    {
     "cell_type": "heading",
     "level": 1,
     "metadata": {},
     "source": [
      "Q022 - Qual \u00e8 il livello delle tue competenze tecniche e tecnologiche?"
     ]
    },
    {
     "cell_type": "code",
     "collapsed": false,
     "input": [
      "# -*- coding: UTF-8 -*-\n",
      "\n",
      "# Render our plots inline\n",
      "%matplotlib inline \n",
      "\n",
      "import pandas as pd\n",
      "import matplotlib\n",
      "import matplotlib.pyplot as plt\n",
      "import numpy as np\n",
      "import seaborn\n",
      "\n",
      "import math\n",
      "\n",
      "pd.set_option('display.mpl_style', 'default') # Make the graphs a bit prettier, overridden by seaborn\n",
      "pd.set_option('display.max_columns', None) # Display all the columns\n",
      "plt.rcParams['font.family'] = 'sans-serif' # Sans Serif fonts for all the graphs\n",
      "\n",
      "# Reference for color palettes: http://web.stanford.edu/~mwaskom/software/seaborn/tutorial/color_palettes.html\n",
      "\n",
      "# Change the font\n",
      "matplotlib.rcParams.update({'font.family': 'Source Sans Pro'})"
     ],
     "language": "python",
     "metadata": {},
     "outputs": [],
     "prompt_number": 1
    },
    {
     "cell_type": "code",
     "collapsed": false,
     "input": [
      "# Load csv file first\n",
      "data = pd.read_csv(\"data/results-makers-40.csv\", encoding=\"utf-8\")"
     ],
     "language": "python",
     "metadata": {},
     "outputs": [],
     "prompt_number": 2
    },
    {
     "cell_type": "code",
     "collapsed": false,
     "input": [
      "# Check data\n",
      "#data[0:4] # Equals to data.head()"
     ],
     "language": "python",
     "metadata": {},
     "outputs": [],
     "prompt_number": 3
    },
    {
     "cell_type": "code",
     "collapsed": false,
     "input": [
      "# Range: Q021[SQ001] - Q021[SQ005]\n",
      "\n",
      "skills_columns = ['Q022[SQ001]','Q022[SQ002]','Q022[SQ003]','Q022[SQ004]','Q022[SQ005]']\n",
      "skills_options = ['Informatica','Elettronica','Progettazione CAD/CAM','Fabbricazione Digitale','Fabbricazione Analogica',]\n",
      "skills = data[skills_columns]\n",
      "skills.replace(u'\u201cGuru\u201d (geek)', 'Guru', inplace=True) # Simplify text "
     ],
     "language": "python",
     "metadata": {},
     "outputs": [
      {
       "output_type": "stream",
       "stream": "stderr",
       "text": [
        "-c:6: SettingWithCopyWarning: \n",
        "A value is trying to be set on a copy of a slice from a DataFrame\n",
        "\n",
        "See the the caveats in the documentation: http://pandas.pydata.org/pandas-docs/stable/indexing.html#indexing-view-versus-copy\n"
       ]
      }
     ],
     "prompt_number": 4
    },
    {
     "cell_type": "code",
     "collapsed": false,
     "input": [
      "#skills"
     ],
     "language": "python",
     "metadata": {},
     "outputs": [],
     "prompt_number": 5
    },
    {
     "cell_type": "code",
     "collapsed": false,
     "input": [
      "#\u00a0Gather data\n",
      "skills_b = {}\n",
      "for k,i in enumerate(skills_columns):\n",
      "    skills_b[k] = skills[i].value_counts(dropna=False)\n",
      "    print \"Data:\",skills_options[k]\n",
      "    print skills_b[k]\n",
      "    print\n",
      "    print \"Data %:\",skills_options[k]\n",
      "    print skills[i].value_counts(normalize=True,dropna=False)*100\n",
      "    print\n",
      "\n",
      "nessuno = []\n",
      "elementare = []\n",
      "amatoriale = []\n",
      "professionale = []\n",
      "guru = []  \n",
      "nanvalue = []"
     ],
     "language": "python",
     "metadata": {},
     "outputs": [
      {
       "output_type": "stream",
       "stream": "stdout",
       "text": [
        "Data: Informatica\n",
        "Professionale    40\n",
        "Amatoriale       38\n",
        "Elementare       24\n",
        "Nessuno          14\n",
        "Guru              9\n",
        "NaN               9\n",
        "dtype: int64\n",
        "\n",
        "Data %: Informatica\n",
        "Professionale    29.850746\n",
        "Amatoriale       28.358209\n",
        "Elementare       17.910448\n",
        "Nessuno          10.447761\n",
        "Guru              6.716418\n",
        "NaN               6.716418\n",
        "dtype: float64\n",
        "\n",
        "Data: Elettronica\n",
        "Elementare       52\n",
        "Amatoriale       29\n",
        "Nessuno          25\n",
        "NaN              19\n",
        "Professionale     8\n",
        "Guru              1\n",
        "dtype: int64\n",
        "\n",
        "Data %: Elettronica\n",
        "Elementare       38.805970\n",
        "Amatoriale       21.641791\n",
        "Nessuno          18.656716\n",
        "NaN              14.179104\n",
        "Professionale     5.970149\n",
        "Guru              0.746269\n",
        "dtype: float64\n",
        "\n",
        "Data: Progettazione CAD/CAM\n",
        "Professionale    58\n",
        "Amatoriale       30\n",
        "Elementare       16\n",
        "NaN              11\n",
        "Guru             10\n",
        "Nessuno           9\n",
        "dtype: int64\n",
        "\n",
        "Data %: Progettazione CAD/CAM\n",
        "Professionale    43.283582\n",
        "Amatoriale       22.388060\n",
        "Elementare       11.940299\n",
        "NaN               8.208955\n",
        "Guru              7.462687\n",
        "Nessuno           6.716418\n",
        "dtype: float64\n",
        "\n",
        "Data: Fabbricazione Digitale\n",
        "Amatoriale       41\n",
        "Professionale    33\n",
        "Nessuno          18\n",
        "Elementare       16\n",
        "NaN              16\n",
        "Guru             10\n",
        "dtype: int64\n",
        "\n",
        "Data %: Fabbricazione Digitale\n",
        "Amatoriale       30.597015\n",
        "Professionale    24.626866\n",
        "Nessuno          13.432836\n",
        "Elementare       11.940299\n",
        "NaN              11.940299\n",
        "Guru              7.462687\n",
        "dtype: float64\n",
        "\n",
        "Data: Fabbricazione Analogica\n",
        "Amatoriale       52\n",
        "Professionale    33\n",
        "Elementare       15\n",
        "NaN              13\n",
        "Guru             12\n",
        "Nessuno           9\n",
        "dtype: int64\n",
        "\n",
        "Data %: Fabbricazione Analogica\n",
        "Amatoriale       38.805970\n",
        "Professionale    24.626866\n",
        "Elementare       11.194030\n",
        "NaN               9.701493\n",
        "Guru              8.955224\n",
        "Nessuno           6.716418\n",
        "dtype: float64\n",
        "\n"
       ]
      }
     ],
     "prompt_number": 6
    },
    {
     "cell_type": "code",
     "collapsed": false,
     "input": [
      "for k,i in enumerate(skills_columns):\n",
      "    skills_presents = skills_b[k].index.tolist()\n",
      "    \n",
      "    #\u00a0Convert NaN to \"NaN\"\n",
      "    for o,h in enumerate(skills_presents):\n",
      "        if type(h) is float:\n",
      "            skills_presents.pop(o)\n",
      "            skills_presents.append(\"NaN\")\n",
      "    \n",
      "    #\u00a0Reassign new list with \"NaN\"\n",
      "    skills_b[k].index = skills_presents\n",
      "    \n",
      "    #\u00a0Check for empty values, and put a 0 instead\n",
      "    if \"Nessuno\" not in skills_presents:\n",
      "        nessuno.append(0)\n",
      "    if \"Elementare\" not in skills_presents:\n",
      "        elementare.append(0)\n",
      "    if \"Amatoriale\" not in skills_presents:\n",
      "        amatoriale.append(0)\n",
      "    if \"Professionale\" not in skills_presents:\n",
      "        professionale.append(0)\n",
      "    if \"Guru\" not in skills_presents:\n",
      "        guru.append(0)\n",
      "    if \"NaN\" not in skills_presents:\n",
      "        nanvalue.append(0)\n",
      "    \n",
      "    for j in skills_presents:\n",
      "        if j == \"Nessuno\":\n",
      "            nessuno.append(skills_b[k].ix[\"Nessuno\"])\n",
      "        elif j == \"Elementare\":\n",
      "            elementare.append(skills_b[k].ix[\"Elementare\"])\n",
      "        elif j == \"Amatoriale\":\n",
      "            amatoriale.append(skills_b[k].ix[\"Amatoriale\"])\n",
      "        elif j == \"Professionale\":\n",
      "            professionale.append(skills_b[k].ix[\"Professionale\"])     \n",
      "        elif j == \"Guru\":\n",
      "            guru.append(skills_b[k].ix[\"Guru\"])\n",
      "        elif j == \"NaN\":\n",
      "            nanvalue.append(skills_b[k].ix[\"NaN\"])         "
     ],
     "language": "python",
     "metadata": {},
     "outputs": [],
     "prompt_number": 7
    },
    {
     "cell_type": "code",
     "collapsed": false,
     "input": [
      "# Plot the data\n",
      "plt.figure(figsize=(16,6))\n",
      "plt.xlabel('Competenze', fontsize=16)\n",
      "plt.ylabel('Persone', fontsize=16)\n",
      "plt.title(u'Qual \u00e8 il livello delle tue competenze tecniche e tecnologiche?', fontsize=18, y=1.02)\n",
      "plt.xticks(range(len(skills_options)+1),skills_options,rotation=0)\n",
      "ind = np.arange(len(skills_columns))   # the x locations for the groups\n",
      "width = 0.15                              # the width of the bars\n",
      "\n",
      "my_colors = seaborn.color_palette(\"Set1\", 6) # Set color palette\n",
      "rect1 = plt.bar(ind,nessuno,width,color=my_colors[0],align='center') # Plot Nessuno\n",
      "rect2 = plt.bar(ind+width,elementare,width,color=my_colors[1],align='center') # Plot Elementare \n",
      "rect3 = plt.bar(ind+width*2,amatoriale,width,color=my_colors[2],align='center') # Plot Amatoriale\n",
      "rect4 = plt.bar(ind+width*3,professionale,width,color=my_colors[3],align='center') # Plot Professionale\n",
      "rect5 = plt.bar(ind+width*4,guru,width,color=my_colors[4],align='center') # Plot Guru\n",
      "rect6 = plt.bar(ind+width*5,nanvalue,width,color=my_colors[5],align='center') # Plot NaN\n",
      "plt.legend( (rect1, rect2, rect3, rect4, rect5, rect6), ('Nessuno', 'Elementare', 'Amatoriale', 'Professionale', 'Guru', 'NaN') )\n",
      "plt.savefig(\"svg/Q022-MakerQualiCompetenze.svg\")\n",
      "plt.savefig(\"png/Q022-MakerQualiCompetenze.png\")\n",
      "plt.savefig(\"pdf/Q022-MakerQualiCompetenze.pdf\")"
     ],
     "language": "python",
     "metadata": {},
     "outputs": [
      {
       "metadata": {},
       "output_type": "display_data",
       "png": "[encoded data removed]",
       "text": [
        "<matplotlib.figure.Figure at 0x105139ed0>"
       ]
      }
     ],
     "prompt_number": 8
    },
    {
     "cell_type": "code",
     "collapsed": false,
     "input": [],
     "language": "python",
     "metadata": {},
     "outputs": [],
     "prompt_number": 8
    }
   ],
   "metadata": {}
  }
 ]
}