{
 "metadata": {
  "name": "",
  "signature": "sha256:dee4024751137074767e555e596588713e51d5154fcc0929ef0669f26d42f595"
 },
 "nbformat": 3,
 "nbformat_minor": 0,
 "worksheets": [
  {
   "cells": [
    {
     "cell_type": "heading",
     "level": 1,
     "metadata": {},
     "source": [
      "Q022 - Qual \u00e8 il livello delle tue competenze tecniche e tecnologiche?"
     ]
    },
    {
     "cell_type": "code",
     "collapsed": false,
     "input": [
      "# -*- coding: UTF-8 -*-\n",
      "\n",
      "# Render our plots inline\n",
      "%matplotlib inline \n",
      "\n",
      "import pandas as pd\n",
      "import matplotlib\n",
      "import matplotlib.pyplot as plt\n",
      "import numpy as np\n",
      "import seaborn\n",
      "import shutil\n",
      "\n",
      "import math\n",
      "\n",
      "pd.set_option('display.mpl_style', 'default') # Make the graphs a bit prettier, overridden by seaborn\n",
      "pd.set_option('display.max_columns', None) # Display all the columns\n",
      "plt.rcParams['font.family'] = 'sans-serif' # Sans Serif fonts for all the graphs\n",
      "\n",
      "# Reference for color palettes: http://web.stanford.edu/~mwaskom/software/seaborn/tutorial/color_palettes.html\n",
      "\n",
      "# Change the font\n",
      "matplotlib.rcParams.update({'font.family': 'Source Sans Pro'})"
     ],
     "language": "python",
     "metadata": {},
     "outputs": [],
     "prompt_number": 12
    },
    {
     "cell_type": "code",
     "collapsed": false,
     "input": [
      "# Load csv file first\n",
      "data = pd.read_csv(\"data/results-makers-40.csv\", encoding=\"utf-8\")"
     ],
     "language": "python",
     "metadata": {},
     "outputs": [],
     "prompt_number": 2
    },
    {
     "cell_type": "code",
     "collapsed": false,
     "input": [
      "# Check data\n",
      "#data[0:4] # Equals to data.head()"
     ],
     "language": "python",
     "metadata": {},
     "outputs": [],
     "prompt_number": 3
    },
    {
     "cell_type": "code",
     "collapsed": false,
     "input": [
      "# Range: Q021[SQ001] - Q021[SQ005]\n",
      "\n",
      "skills_columns = ['Q022[SQ001]','Q022[SQ002]','Q022[SQ003]','Q022[SQ004]','Q022[SQ005]']\n",
      "skills_options = ['Informatica','Elettronica','Progettazione CAD/CAM','Fabbricazione Digitale','Fabbricazione Analogica',]\n",
      "skills = data[skills_columns]\n",
      "skills.replace(u'\u201cGuru\u201d (geek)', 'Guru', inplace=True) # Simplify text \n",
      "skills.replace(np.nan, 'Nessuna risposta', inplace=True) # Simplify text "
     ],
     "language": "python",
     "metadata": {},
     "outputs": [
      {
       "output_type": "stream",
       "stream": "stderr",
       "text": [
        "-c:6: SettingWithCopyWarning: A value is trying to be set on a copy of a slice from a DataFrame\n",
        "-c:7: SettingWithCopyWarning: A value is trying to be set on a copy of a slice from a DataFrame\n"
       ]
      }
     ],
     "prompt_number": 4
    },
    {
     "cell_type": "code",
     "collapsed": false,
     "input": [
      "#skills"
     ],
     "language": "python",
     "metadata": {},
     "outputs": [],
     "prompt_number": 5
    },
    {
     "cell_type": "code",
     "collapsed": false,
     "input": [
      "%%capture output\n",
      "\n",
      "# Save the output as a variable that can be saved to a file\n",
      "#\u00a0Gather data\n",
      "skills_b = {}\n",
      "for k,i in enumerate(skills_columns):\n",
      "    skills_b[k] = skills[i].value_counts()\n",
      "    print \"Data:\",skills_options[k]\n",
      "    print skills_b[k]\n",
      "    print\n",
      "    print \"Data %:\",skills_options[k]\n",
      "    print skills[i].value_counts(normalize=True)*100\n",
      "    print"
     ],
     "language": "python",
     "metadata": {},
     "outputs": [],
     "prompt_number": 6
    },
    {
     "cell_type": "code",
     "collapsed": false,
     "input": [
      "# Save+show the output to a text file\n",
      "%save Q022-MakerQualiCompetenze.py str(output)\n",
      "shutil.move(\"Q022-MakerQualiCompetenze.py\", \"text/Q022-MakerQualiCompetenze.txt\")"
     ],
     "language": "python",
     "metadata": {},
     "outputs": [
      {
       "output_type": "stream",
       "stream": "stdout",
       "text": [
        "The following commands were written to file `Q022-MakerQualiCompetenze.py`:\n",
        "Data: Informatica\n",
        "Professionale       40\n",
        "Amatoriale          38\n",
        "Elementare          24\n",
        "Nessuno             14\n",
        "Nessuna risposta     9\n",
        "Guru                 9\n",
        "dtype: int64\n",
        "\n",
        "Data %: Informatica\n",
        "Professionale       29.850746\n",
        "Amatoriale          28.358209\n",
        "Elementare          17.910448\n",
        "Nessuno             10.447761\n",
        "Nessuna risposta     6.716418\n",
        "Guru                 6.716418\n",
        "dtype: float64\n",
        "\n",
        "Data: Elettronica\n",
        "Elementare          52\n",
        "Amatoriale          29\n",
        "Nessuno             25\n",
        "Nessuna risposta    19\n",
        "Professionale        8\n",
        "Guru                 1\n",
        "dtype: int64\n",
        "\n",
        "Data %: Elettronica\n",
        "Elementare          38.805970\n",
        "Amatoriale          21.641791\n",
        "Nessuno             18.656716\n",
        "Nessuna risposta    14.179104\n",
        "Professionale        5.970149\n",
        "Guru                 0.746269\n",
        "dtype: float64\n",
        "\n",
        "Data: Progettazione CAD/CAM\n",
        "Professionale       58\n",
        "Amatoriale          30\n",
        "Elementare          16\n",
        "Nessuna risposta    11\n",
        "Guru                10\n",
        "Nessuno              9\n",
        "dtype: int64\n",
        "\n",
        "Data %: Progettazione CAD/CAM\n",
        "Professionale       43.283582\n",
        "Amatoriale          22.388060\n",
        "Elementare          11.940299\n",
        "Nessuna risposta     8.208955\n",
        "Guru                 7.462687\n",
        "Nessuno              6.716418\n",
        "dtype: float64\n",
        "\n",
        "Data: Fabbricazione Digitale\n",
        "Amatoriale          41\n",
        "Professionale       33\n",
        "Nessuno             18\n",
        "Nessuna risposta    16\n",
        "Elementare          16\n",
        "Guru                10\n",
        "dtype: int64\n",
        "\n",
        "Data %: Fabbricazione Digitale\n",
        "Amatoriale          30.597015\n",
        "Professionale       24.626866\n",
        "Nessuno             13.432836\n",
        "Nessuna risposta    11.940299\n",
        "Elementare          11.940299\n",
        "Guru                 7.462687\n",
        "dtype: float64\n",
        "\n",
        "Data: Fabbricazione Analogica\n",
        "Amatoriale          52\n",
        "Professionale       33\n",
        "Elementare          15\n",
        "Nessuna risposta    13\n",
        "Guru                12\n",
        "Nessuno              9\n",
        "dtype: int64\n",
        "\n",
        "Data %: Fabbricazione Analogica\n",
        "Amatoriale          38.805970\n",
        "Professionale       24.626866\n",
        "Elementare          11.194030\n",
        "Nessuna risposta     9.701493\n",
        "Guru                 8.955224\n",
        "Nessuno              6.716418\n",
        "dtype: float64\n",
        "\n",
        "\n"
       ]
      }
     ],
     "prompt_number": 7
    },
    {
     "cell_type": "code",
     "collapsed": false,
     "input": [
      "nessuno = []\n",
      "elementare = []\n",
      "amatoriale = []\n",
      "professionale = []\n",
      "guru = []  \n",
      "nanvalue = []\n",
      "\n",
      "for k,i in enumerate(skills_columns):\n",
      "    skills_presents = skills_b[k].index.tolist()\n",
      "    \n",
      "    #\u00a0Reassign new list with \"NaN\"\n",
      "    skills_b[k].index = skills_presents\n",
      "    \n",
      "    #\u00a0Check for empty values, and put a 0 instead\n",
      "    if \"Nessuno\" not in skills_presents:\n",
      "        nessuno.append(0)\n",
      "    if \"Elementare\" not in skills_presents:\n",
      "        elementare.append(0)\n",
      "    if \"Amatoriale\" not in skills_presents:\n",
      "        amatoriale.append(0)\n",
      "    if \"Professionale\" not in skills_presents:\n",
      "        professionale.append(0)\n",
      "    if \"Guru\" not in skills_presents:\n",
      "        guru.append(0)\n",
      "    if \"Nessuna risposta\" not in skills_presents:\n",
      "        nanvalue.append(0)\n",
      "    \n",
      "    for j in skills_presents:\n",
      "        if j == \"Nessuno\":\n",
      "            nessuno.append(skills_b[k].ix[j])\n",
      "        elif j == \"Elementare\":\n",
      "            elementare.append(skills_b[k].ix[j])\n",
      "        elif j == \"Amatoriale\":\n",
      "            amatoriale.append(skills_b[k].ix[j])\n",
      "        elif j == \"Professionale\":\n",
      "            professionale.append(skills_b[k].ix[j])     \n",
      "        elif j == \"Guru\":\n",
      "            guru.append(skills_b[k].ix[j])\n",
      "        elif j == \"Nessuna risposta\":\n",
      "            nanvalue.append(skills_b[k].ix[j])          "
     ],
     "language": "python",
     "metadata": {},
     "outputs": [],
     "prompt_number": 10
    },
    {
     "cell_type": "code",
     "collapsed": false,
     "input": [
      "# Plot the data\n",
      "plt.figure(figsize=(16,6))\n",
      "plt.xlabel('Competenze', fontsize=16)\n",
      "plt.ylabel('Persone', fontsize=16)\n",
      "plt.title(u'Qual \u00e8 il livello delle tue competenze tecniche e tecnologiche?', fontsize=18, y=1.02)\n",
      "plt.xticks(range(len(skills_options)+1),skills_options,rotation=0)\n",
      "ind = np.arange(len(skills_columns))   # the x locations for the groups\n",
      "width = 0.15                              # the width of the bars\n",
      "\n",
      "my_colors = seaborn.color_palette(\"Set1\", 6) # Set color palette\n",
      "rect1 = plt.bar(ind,nessuno,width,color=my_colors[0],align='center') # Plot Nessuno\n",
      "rect2 = plt.bar(ind+width,elementare,width,color=my_colors[1],align='center') # Plot Elementare \n",
      "rect3 = plt.bar(ind+width*2,amatoriale,width,color=my_colors[2],align='center') # Plot Amatoriale\n",
      "rect4 = plt.bar(ind+width*3,professionale,width,color=my_colors[3],align='center') # Plot Professionale\n",
      "rect5 = plt.bar(ind+width*4,guru,width,color=my_colors[4],align='center') # Plot Guru\n",
      "rect6 = plt.bar(ind+width*5,nanvalue,width,color=my_colors[5],align='center') # Plot NaN\n",
      "plt.legend( (rect1, rect2, rect3, rect4, rect5, rect6), ('Nessuno', 'Elementare', 'Amatoriale', 'Professionale', 'Guru', 'NaN') )\n",
      "plt.savefig(\"svg/Q022-MakerQualiCompetenze.svg\")\n",
      "plt.savefig(\"png/Q022-MakerQualiCompetenze.png\")\n",
      "plt.savefig(\"pdf/Q022-MakerQualiCompetenze.pdf\")"
     ],
     "language": "python",
     "metadata": {},
     "outputs": [
      {
       "metadata": {},
       "output_type": "display_data",
       "png": "[encoded data removed]",
       "text": [
        "<matplotlib.figure.Figure at 0x116524a90>"
       ]
      }
     ],
     "prompt_number": 13
    },
    {
     "cell_type": "code",
     "collapsed": false,
     "input": [],
     "language": "python",
     "metadata": {},
     "outputs": [],
     "prompt_number": 9
    }
   ],
   "metadata": {}
  }
 ]
}