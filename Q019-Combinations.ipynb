{
 "metadata": {
  "name": "",
  "signature": "sha256:eadc80ca464205eeca2b8548d220ef88a132ab96988aadafdd48aeaab87ceedb"
 },
 "nbformat": 3,
 "nbformat_minor": 0,
 "worksheets": [
  {
   "cells": [
    {
     "cell_type": "heading",
     "level": 1,
     "metadata": {},
     "source": [
      "Q019 - Dove svolgi la tua attivit\u00e0 di making?"
     ]
    },
    {
     "cell_type": "code",
     "collapsed": false,
     "input": [
      "# -*- coding: UTF-8 -*-\n",
      "\n",
      "# Render our plots inline\n",
      "%matplotlib inline \n",
      "\n",
      "import pandas as pd\n",
      "import matplotlib.pyplot as plt\n",
      "import numpy as np\n",
      "import seaborn\n",
      "\n",
      "pd.set_option('display.mpl_style', 'default') # Make the graphs a bit prettier, overridden by seaborn\n",
      "pd.set_option('display.max_columns', None) # Display all the columns\n",
      "plt.rcParams['font.family'] = 'sans-serif' # Sans Serif fonts for all the graphs\n",
      "\n",
      "# Reference for color palettes: http://web.stanford.edu/~mwaskom/software/seaborn/tutorial/color_palettes.html"
     ],
     "language": "python",
     "metadata": {},
     "outputs": [],
     "prompt_number": 1
    },
    {
     "cell_type": "code",
     "collapsed": false,
     "input": [
      "# Load csv file first\n",
      "data = pd.read_csv(\"data/results-makers-40.csv\", encoding=\"utf-8\")"
     ],
     "language": "python",
     "metadata": {},
     "outputs": [],
     "prompt_number": 2
    },
    {
     "cell_type": "code",
     "collapsed": false,
     "input": [
      "# Check data\n",
      "#data[0:4] # Equals to data.head()"
     ],
     "language": "python",
     "metadata": {},
     "outputs": [],
     "prompt_number": 3
    },
    {
     "cell_type": "code",
     "collapsed": false,
     "input": [
      "# Range: Q019[SQ001] - Q019[SQ009] - Q009[other]\n",
      "\n",
      "places_columns = ['Q019[SQ001]','Q019[SQ002]','Q019[SQ003]','Q019[SQ004]',\n",
      "                  'Q019[SQ005]','Q019[SQ006]','Q019[SQ007]','Q019[SQ008]','Q019[SQ009]']\n",
      "places_options = ['Casa','Ufficio','Coworking','Officina','Laboratorio artigiano',\n",
      "                  u'Scuola/Universit\u00e0 (aula)',u'Universit\u00e0 (laboratorio)','Fabbrica','Makerspace / Fab Lab / ...']\n",
      "places = data[places_columns]\n",
      "places.replace(u'S\u00ec', 'Si', inplace=True) # Get rid of accented characters \n",
      "places_other = data['Q019[other]'].str.lower().value_counts()"
     ],
     "language": "python",
     "metadata": {},
     "outputs": [
      {
       "output_type": "stream",
       "stream": "stderr",
       "text": [
        "-c:8: SettingWithCopyWarning: \n",
        "A value is trying to be set on a copy of a slice from a DataFrame\n",
        "\n",
        "See the the caveats in the documentation: http://pandas.pydata.org/pandas-docs/stable/indexing.html#indexing-view-versus-copy\n"
       ]
      }
     ],
     "prompt_number": 4
    },
    {
     "cell_type": "code",
     "collapsed": false,
     "input": [
      "#places[0:4]"
     ],
     "language": "python",
     "metadata": {},
     "outputs": [],
     "prompt_number": 6
    },
    {
     "cell_type": "heading",
     "level": 2,
     "metadata": {},
     "source": [
      "Combinations..."
     ]
    },
    {
     "cell_type": "code",
     "collapsed": false,
     "input": [
      "# Create all the possible combinations from the main options\n",
      "# See http://stackoverflow.com/questions/17176887/python-get-all-permutation-of-a-list-w-o-repetitions\n",
      "\n",
      "import itertools \n",
      "\n",
      "all_combinations = {}\n",
      "all_combinations_columns = []\n",
      "\n",
      "for i in range(1, len(places_columns)+1):\n",
      "    comb = list(itertools.combinations(places_columns, i))\n",
      "    for k in comb:\n",
      "        #\u00a0Each combination\n",
      "        all_combinations[k] = {}\n",
      "        all_combinations[k][\"col_list\"] = list(k)\n",
      "        #\u00a0Build the string and boolean list of each combination\n",
      "        comb_list = []\n",
      "        comb_bool_list = []\n",
      "        # Put default False value\n",
      "        for l in places_columns:\n",
      "            comb_bool_list.append(False)\n",
      "        for j in k:\n",
      "            pos = places_columns.index(j) # Get position\n",
      "            comb_list.append(places_options[pos])\n",
      "            comb_bool_list[pos] = True\n",
      "        all_combinations[k][\"list\"] = comb_list\n",
      "        all_combinations[k][\"bool_list\"] = comb_bool_list\n",
      "        all_combinations[k][\"str\"] = \", \".join(comb_list)"
     ],
     "language": "python",
     "metadata": {},
     "outputs": [],
     "prompt_number": 7
    },
    {
     "cell_type": "code",
     "collapsed": false,
     "input": [
      "#\u00a0Check which combinations correspond each row\n",
      "str_values = []\n",
      "for i in places.index:\n",
      "    current_bool_list = list(places.ix[i].isin([\"Si\"]))\n",
      "    for i in all_combinations:\n",
      "        if current_bool_list == all_combinations[i][\"bool_list\"]:\n",
      "            str_values.append(all_combinations[i][\"str\"])"
     ],
     "language": "python",
     "metadata": {},
     "outputs": [],
     "prompt_number": 8
    },
    {
     "cell_type": "code",
     "collapsed": false,
     "input": [
      "# Add combination column\n",
      "places[\"Combination\"] = pd.Series(str_values)"
     ],
     "language": "python",
     "metadata": {},
     "outputs": [
      {
       "output_type": "stream",
       "stream": "stderr",
       "text": [
        "-c:2: SettingWithCopyWarning: \n",
        "A value is trying to be set on a copy of a slice from a DataFrame.\n",
        "Try using .loc[row_indexer,col_indexer] = value instead\n",
        "\n",
        "See the the caveats in the documentation: http://pandas.pydata.org/pandas-docs/stable/indexing.html#indexing-view-versus-copy\n"
       ]
      }
     ],
     "prompt_number": 9
    },
    {
     "cell_type": "code",
     "collapsed": false,
     "input": [
      "# Gather data\n",
      "resulting_combinations = places[\"Combination\"].value_counts()\n",
      "resulting_combinations_percentage = places[\"Combination\"].value_counts(normalize=True)*100"
     ],
     "language": "python",
     "metadata": {},
     "outputs": [],
     "prompt_number": 10
    },
    {
     "cell_type": "code",
     "collapsed": false,
     "input": [
      "#\u00a0Plotting the first 10 values of the most popular combinations\n",
      "resulting_combinations[0:10].plot(figsize=(20,10),rot=90)"
     ],
     "language": "python",
     "metadata": {},
     "outputs": [
      {
       "metadata": {},
       "output_type": "pyout",
       "prompt_number": 11,
       "text": [
        "<matplotlib.axes._subplots.AxesSubplot at 0x111356090>"
       ]
      },
      {
       "metadata": {},
       "output_type": "display_data",
       "png": "[encoded data removed]",
       "text": [
        "<matplotlib.figure.Figure at 0x111687590>"
       ]
      }
     ],
     "prompt_number": 11
    },
    {
     "cell_type": "code",
     "collapsed": false,
     "input": [
      "#\u00a0Data of the combinations\n",
      "resulting_combinations"
     ],
     "language": "python",
     "metadata": {},
     "outputs": [
      {
       "metadata": {},
       "output_type": "pyout",
       "prompt_number": 12,
       "text": [
        "Casa                                                            25\n",
        "Makerspace / Fab Lab / ...                                      22\n",
        "Laboratorio artigiano                                           12\n",
        "Casa, Makerspace / Fab Lab / ...                                11\n",
        "Casa, Ufficio                                                    7\n",
        "Casa, Laboratorio artigiano                                      5\n",
        "Ufficio                                                          5\n",
        "Coworking, Makerspace / Fab Lab / ...                            3\n",
        "Ufficio, Laboratorio artigiano                                   3\n",
        "Casa, Ufficio, Laboratorio artigiano                             3\n",
        "Coworking                                                        2\n",
        "Casa, Universit\u00e0 (laboratorio)                                   2\n",
        "Laboratorio artigiano, Makerspace / Fab Lab / ...                2\n",
        "Casa, Laboratorio artigiano, Makerspace / Fab Lab / ...          2\n",
        "Casa, Ufficio, Scuola/Universit\u00e0 (aula)                          1\n",
        "Casa, Ufficio, Universit\u00e0 (laboratorio), Makerspace / Fab Lab / ...     1\n",
        "Scuola/Universit\u00e0 (aula)                                         1\n",
        "Ufficio, Laboratorio artigiano, Fabbrica                         1\n",
        "Casa, Laboratorio artigiano, Fabbrica                            1\n",
        "Officina, Makerspace / Fab Lab / ...                             1\n",
        "Casa, Coworking, Laboratorio artigiano, Makerspace / Fab Lab / ...     1\n",
        "Coworking, Laboratorio artigiano                                 1\n",
        "Universit\u00e0 (laboratorio), Makerspace / Fab Lab / ...             1\n",
        "Officina, Laboratorio artigiano, Makerspace / Fab Lab / ...      1\n",
        "Casa, Ufficio, Laboratorio artigiano, Makerspace / Fab Lab / ...     1\n",
        "Casa, Scuola/Universit\u00e0 (aula)                                   1\n",
        "Casa, Officina                                                   1\n",
        "Casa, Ufficio, Officina, Laboratorio artigiano, Makerspace / Fab Lab / ...     1\n",
        "Ufficio, Officina, Fabbrica                                      1\n",
        "Ufficio, Officina                                                1\n",
        "Ufficio, Makerspace / Fab Lab / ...                              1\n",
        "Casa, Ufficio, Officina, Laboratorio artigiano, Fabbrica, Makerspace / Fab Lab / ...     1\n",
        "Casa, Officina, Laboratorio artigiano                            1\n",
        "Casa, Coworking, Laboratorio artigiano                           1\n",
        "Universit\u00e0 (laboratorio)                                         1\n",
        "Casa, Ufficio, Makerspace / Fab Lab / ...                        1\n",
        "Casa, Ufficio, Coworking, Scuola/Universit\u00e0 (aula), Universit\u00e0 (laboratorio), Makerspace / Fab Lab / ...     1\n",
        "dtype: int64"
       ]
      }
     ],
     "prompt_number": 12
    },
    {
     "cell_type": "code",
     "collapsed": false,
     "input": [
      "# Data of the combinations: percentage\n",
      "resulting_combinations_percentage"
     ],
     "language": "python",
     "metadata": {},
     "outputs": [
      {
       "metadata": {},
       "output_type": "pyout",
       "prompt_number": 13,
       "text": [
        "Casa                                                            18.656716\n",
        "Makerspace / Fab Lab / ...                                      16.417910\n",
        "Laboratorio artigiano                                            8.955224\n",
        "Casa, Makerspace / Fab Lab / ...                                 8.208955\n",
        "Casa, Ufficio                                                    5.223881\n",
        "Casa, Laboratorio artigiano                                      3.731343\n",
        "Ufficio                                                          3.731343\n",
        "Coworking, Makerspace / Fab Lab / ...                            2.238806\n",
        "Ufficio, Laboratorio artigiano                                   2.238806\n",
        "Casa, Ufficio, Laboratorio artigiano                             2.238806\n",
        "Coworking                                                        1.492537\n",
        "Casa, Universit\u00e0 (laboratorio)                                   1.492537\n",
        "Laboratorio artigiano, Makerspace / Fab Lab / ...                1.492537\n",
        "Casa, Laboratorio artigiano, Makerspace / Fab Lab / ...          1.492537\n",
        "Casa, Ufficio, Scuola/Universit\u00e0 (aula)                          0.746269\n",
        "Casa, Ufficio, Universit\u00e0 (laboratorio), Makerspace / Fab Lab / ...     0.746269\n",
        "Scuola/Universit\u00e0 (aula)                                         0.746269\n",
        "Ufficio, Laboratorio artigiano, Fabbrica                         0.746269\n",
        "Casa, Laboratorio artigiano, Fabbrica                            0.746269\n",
        "Officina, Makerspace / Fab Lab / ...                             0.746269\n",
        "Casa, Coworking, Laboratorio artigiano, Makerspace / Fab Lab / ...     0.746269\n",
        "Coworking, Laboratorio artigiano                                 0.746269\n",
        "Universit\u00e0 (laboratorio), Makerspace / Fab Lab / ...             0.746269\n",
        "Officina, Laboratorio artigiano, Makerspace / Fab Lab / ...      0.746269\n",
        "Casa, Ufficio, Laboratorio artigiano, Makerspace / Fab Lab / ...     0.746269\n",
        "Casa, Scuola/Universit\u00e0 (aula)                                   0.746269\n",
        "Casa, Officina                                                   0.746269\n",
        "Casa, Ufficio, Officina, Laboratorio artigiano, Makerspace / Fab Lab / ...     0.746269\n",
        "Ufficio, Officina, Fabbrica                                      0.746269\n",
        "Ufficio, Officina                                                0.746269\n",
        "Ufficio, Makerspace / Fab Lab / ...                              0.746269\n",
        "Casa, Ufficio, Officina, Laboratorio artigiano, Fabbrica, Makerspace / Fab Lab / ...     0.746269\n",
        "Casa, Officina, Laboratorio artigiano                            0.746269\n",
        "Casa, Coworking, Laboratorio artigiano                           0.746269\n",
        "Universit\u00e0 (laboratorio)                                         0.746269\n",
        "Casa, Ufficio, Makerspace / Fab Lab / ...                        0.746269\n",
        "Casa, Ufficio, Coworking, Scuola/Universit\u00e0 (aula), Universit\u00e0 (laboratorio), Makerspace / Fab Lab / ...     0.746269\n",
        "dtype: float64"
       ]
      }
     ],
     "prompt_number": 13
    },
    {
     "cell_type": "code",
     "collapsed": false,
     "input": [],
     "language": "python",
     "metadata": {},
     "outputs": []
    }
   ],
   "metadata": {}
  }
 ]
}