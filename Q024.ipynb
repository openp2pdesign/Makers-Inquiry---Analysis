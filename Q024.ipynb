{
 "metadata": {
  "name": "",
  "signature": "sha256:cb51a6698e98154d035c2f1fa684ff50316a61f749d2585cc13c301b49964920"
 },
 "nbformat": 3,
 "nbformat_minor": 0,
 "worksheets": [
  {
   "cells": [
    {
     "cell_type": "heading",
     "level": 1,
     "metadata": {},
     "source": [
      "Q024 - Qual \u00e8 il tuo livello di \u2018confidenza\u2019 con le tecnologie?"
     ]
    },
    {
     "cell_type": "code",
     "collapsed": false,
     "input": [
      "# -*- coding: UTF-8 -*-\n",
      "\n",
      "# Render our plots inline\n",
      "%matplotlib inline \n",
      "\n",
      "import pandas as pd\n",
      "import matplotlib.pyplot as plt\n",
      "import numpy as np\n",
      "import seaborn\n",
      "import shutil\n",
      "\n",
      "pd.set_option('display.mpl_style', 'default') # Make the graphs a bit prettier, overridden by seaborn\n",
      "pd.set_option('display.max_columns', None) # Display all the columns\n",
      "plt.rcParams['font.family'] = 'sans-serif' # Sans Serif fonts for all the graphs\n",
      "\n",
      "# Reference for color palettes: http://web.stanford.edu/~mwaskom/software/seaborn/tutorial/color_palettes.html\n",
      "\n",
      "# Change the font\n",
      "matplotlib.rcParams.update({'font.family': 'Source Sans Pro'})"
     ],
     "language": "python",
     "metadata": {},
     "outputs": [],
     "prompt_number": 1
    },
    {
     "cell_type": "code",
     "collapsed": false,
     "input": [
      "# Load csv file first\n",
      "data = pd.read_csv(\"data/results-makers-40.csv\", encoding=\"utf-8\")"
     ],
     "language": "python",
     "metadata": {},
     "outputs": [],
     "prompt_number": 2
    },
    {
     "cell_type": "code",
     "collapsed": false,
     "input": [
      "# Check data\n",
      "#data[0:4] # Equals to data.head()"
     ],
     "language": "python",
     "metadata": {},
     "outputs": [],
     "prompt_number": 3
    },
    {
     "cell_type": "code",
     "collapsed": false,
     "input": [
      "# Range: Q023[SQ001] - Q023[SQ005] - Q023[other]\n",
      "\n",
      "confidence_columns = ['Q024[SQ001]','Q024[SQ002]','Q024[SQ003]','Q024[SQ004]','Q024[SQ005]']\n",
      "confidence_options = ['Le progetto','Le costruisco','Le modifico','Le riparo','Le rigenero']\n",
      "confidence = data[confidence_columns]\n",
      "confidence.replace(u'S\u00ec', 'Si', inplace=True) # Get rid of accented characters \n",
      "confidence_other = data['Q024[other]'].str.lower().value_counts()"
     ],
     "language": "python",
     "metadata": {},
     "outputs": [
      {
       "output_type": "stream",
       "stream": "stderr",
       "text": [
        "-c:6: SettingWithCopyWarning: \n",
        "A value is trying to be set on a copy of a slice from a DataFrame\n",
        "\n",
        "See the the caveats in the documentation: http://pandas.pydata.org/pandas-docs/stable/indexing.html#indexing-view-versus-copy\n"
       ]
      }
     ],
     "prompt_number": 4
    },
    {
     "cell_type": "code",
     "collapsed": false,
     "input": [
      "#confidence[0:4]"
     ],
     "language": "python",
     "metadata": {},
     "outputs": [],
     "prompt_number": 5
    },
    {
     "cell_type": "code",
     "collapsed": false,
     "input": [
      "%%capture output\n",
      "\n",
      "# Save the output as a variable that can be saved to a file\n",
      "# Gather data\n",
      "confidence_b = {}\n",
      "for k,i in enumerate(confidence_columns):\n",
      "    confidence_b[k] = confidence[i].value_counts(dropna=False)\n",
      "    print \"Data:\",confidence_options[k]\n",
      "    print confidence_b[k]\n",
      "    print\n",
      "    print \"Data %:\",confidence_options[k]\n",
      "    print confidence[i].value_counts(normalize=True,dropna=False)*100\n",
      "    print"
     ],
     "language": "python",
     "metadata": {},
     "outputs": [],
     "prompt_number": 6
    },
    {
     "cell_type": "code",
     "collapsed": false,
     "input": [
      "# Save+show the output to a text file\n",
      "%save Q024-MakerConfidenzaTecnologia01.py str(output)\n",
      "shutil.move(\"Q024-MakerConfidenzaTecnologia01.py\", \"text/Q024-MakerConfidenzaTecnologia01.txt\")"
     ],
     "language": "python",
     "metadata": {},
     "outputs": [
      {
       "output_type": "stream",
       "stream": "stdout",
       "text": [
        "The following commands were written to file `Q024-MakerConfidenzaTecnologia01.py`:\n",
        "Data: Le progetto\n",
        "No     76\n",
        "Si     58\n",
        "NaN     0\n",
        "dtype: int64\n",
        "\n",
        "Data %: Le progetto\n",
        "No     56.716418\n",
        "Si     43.283582\n",
        "NaN     0.000000\n",
        "dtype: float64\n",
        "\n",
        "Data: Le costruisco\n",
        "No     79\n",
        "Si     55\n",
        "NaN     0\n",
        "dtype: int64\n",
        "\n",
        "Data %: Le costruisco\n",
        "No     58.955224\n",
        "Si     41.044776\n",
        "NaN     0.000000\n",
        "dtype: float64\n",
        "\n",
        "Data: Le modifico\n",
        "No     83\n",
        "Si     51\n",
        "NaN     0\n",
        "dtype: int64\n",
        "\n",
        "Data %: Le modifico\n",
        "No     61.940299\n",
        "Si     38.059701\n",
        "NaN     0.000000\n",
        "dtype: float64\n",
        "\n",
        "Data: Le riparo\n",
        "No     96\n",
        "Si     38\n",
        "NaN     0\n",
        "dtype: int64\n",
        "\n",
        "Data %: Le riparo\n",
        "No     71.641791\n",
        "Si     28.358209\n",
        "NaN     0.000000\n",
        "dtype: float64\n",
        "\n",
        "Data: Le rigenero\n",
        "No     113\n",
        "Si      21\n",
        "NaN      0\n",
        "dtype: int64\n",
        "\n",
        "Data %: Le rigenero\n",
        "No     84.328358\n",
        "Si     15.671642\n",
        "NaN     0.000000\n",
        "dtype: float64\n",
        "\n",
        "\n"
       ]
      }
     ],
     "prompt_number": 7
    },
    {
     "cell_type": "code",
     "collapsed": false,
     "input": [
      "yes = []\n",
      "no = []\n",
      "nanvalue = []\n",
      "\n",
      "for k,i in enumerate(confidence_columns):\n",
      "    confidence_presents = confidence_b[k].index.tolist()\n",
      "    \n",
      "    #\u00a0Convert NaN to \"NaN\"\n",
      "    for o,h in enumerate(confidence_presents):\n",
      "        if type(h) is float:\n",
      "            confidence_presents.pop(o)\n",
      "            confidence_presents.append(\"NaN\")\n",
      "    \n",
      "    #\u00a0Reassign new list with \"NaN\"\n",
      "    confidence_b[k].index = confidence_presents\n",
      "    \n",
      "    #\u00a0Check for empty values, and put a 0 instead\n",
      "    if \"Si\" not in confidence_presents:\n",
      "        yes.append(0)\n",
      "    if \"No\" not in confidence_presents:\n",
      "        no.append(0)\n",
      "    if \"NaN\" not in confidence_presents:\n",
      "        nanvalue.append(0)\n",
      "    \n",
      "    for j in confidence_presents:\n",
      "        if j == \"Si\":\n",
      "            yes.append(confidence_b[k].ix[\"Si\"])\n",
      "        elif j == \"No\":\n",
      "            no.append(confidence_b[k].ix[\"No\"])\n",
      "        elif j == \"NaN\":\n",
      "            nanvalue.append(confidence_b[k].ix[\"NaN\"]) "
     ],
     "language": "python",
     "metadata": {},
     "outputs": [],
     "prompt_number": 8
    },
    {
     "cell_type": "code",
     "collapsed": false,
     "input": [
      "# Plot the data\n",
      "plt.figure(figsize=(8,6))\n",
      "plt.xlabel('Confidenza', fontsize=16)\n",
      "plt.ylabel('Persone', fontsize=16)\n",
      "plt.title(u\"Qual \u00e8 il tuo livello di \u2018confidenza\u2019 con le tecnologie?\", fontsize=18, y=1.02)\n",
      "plt.xticks(range(len(confidence_options)+1),confidence_options,rotation=0)\n",
      "ind = np.arange(len(confidence_columns))   # the x locations for the groups\n",
      "width = 0.35                              # the width of the bars\n",
      "\n",
      "my_colors = seaborn.color_palette(\"Set1\", 3) # Set color palette\n",
      "rect1 = plt.bar(ind,yes,width,color=my_colors[1],align='center') # Plot Yes\n",
      "rect2 = plt.bar(ind+width,no,width,color=my_colors[0],align='center') # Plot No \n",
      "rect3 = plt.bar(ind+width*2,nanvalue,width,color=my_colors[2],align='center') # Plot NaN\n",
      "plt.legend( (rect1, rect2, rect3), ('Si', 'No', 'NaN') )\n",
      "plt.savefig(\"svg/Q024-MakerConfidenzaTecnologia01.svg\")\n",
      "plt.savefig(\"png/Q024-MakerConfidenzaTecnologia01.png\")\n",
      "plt.savefig(\"pdf/Q024-MakerConfidenzaTecnologia01.pdf\")"
     ],
     "language": "python",
     "metadata": {},
     "outputs": [
      {
       "metadata": {},
       "output_type": "display_data",
       "png": "[encoded data removed]",
       "text": [
        "<matplotlib.figure.Figure at 0x10edca710>"
       ]
      }
     ],
     "prompt_number": 9
    },
    {
     "cell_type": "code",
     "collapsed": false,
     "input": [
      "%%capture output\n",
      "\n",
      "# Save the output as a variable that can be saved to a file\n",
      "# Get \"other\" data\n",
      "confidence_other = data[\"Q024[other]\"].str.lower().value_counts()\n",
      "print \"Data:\"\n",
      "print confidence_other\n",
      "print \"\"\n",
      "print \"Data %:\"\n",
      "print data[\"Q024[other]\"].str.lower().value_counts(normalize=True) * 100"
     ],
     "language": "python",
     "metadata": {},
     "outputs": [],
     "prompt_number": 10
    },
    {
     "cell_type": "code",
     "collapsed": false,
     "input": [
      "# Save+show the output to a text file\n",
      "%save Q024-MakerConfidenzaTecnologia02.py str(Q024b)\n",
      "shutil.move(\"Q024-MakerConfidenzaTecnologia02.py\", \"text/Q024-MakerConfidenzaTecnologia02.txt\")"
     ],
     "language": "python",
     "metadata": {},
     "outputs": [
      {
       "output_type": "stream",
       "stream": "stdout",
       "text": [
        "The following commands were written to file `Q024-MakerConfidenzaTecnologia02.py`:\n",
        "Data:\n",
        "le uso                                                          8\n",
        "le utilizzo                                                     4\n",
        "basso                                                           1\n",
        "le odio e le amo                                                1\n",
        "base                                                            1\n",
        "primo approccio                                                 1\n",
        "utente evoluto                                                  1\n",
        "le creo, in senso di idee                                       1\n",
        "non capisco la domanda                                          1\n",
        "le pubblicizzo, diffondo                                        1\n",
        "molto basso                                                     1\n",
        "progetto relazioni e idee, metto insieme i tecnici e gli esperti, facilito le relazioni e i flussi di contenuti    1\n",
        "dtype: int64\n",
        "\n",
        "Data %:\n",
        "le uso                                                          5.970149\n",
        "le utilizzo                                                     2.985075\n",
        "basso                                                           0.746269\n",
        "le odio e le amo                                                0.746269\n",
        "base                                                            0.746269\n",
        "primo approccio                                                 0.746269\n",
        "utente evoluto                                                  0.746269\n",
        "le creo, in senso di idee                                       0.746269\n",
        "non capisco la domanda                                          0.746269\n",
        "le pubblicizzo, diffondo                                        0.746269\n",
        "molto basso                                                     0.746269\n",
        "progetto relazioni e idee, metto insieme i tecnici e gli esperti, facilito le relazioni e i flussi di contenuti    0.746269\n",
        "dtype: float64\n",
        "\n"
       ]
      }
     ],
     "prompt_number": 11
    },
    {
     "cell_type": "code",
     "collapsed": false,
     "input": [
      "# Plot bar\n",
      "plt.figure(figsize=(8,6))\n",
      "plt.title(u\"Qual \u00e8 il tuo livello di \u2018confidenza\u2019 con le tecnologie?. Altro\", fontsize=18, y=1.02)\n",
      "plt.xticks(range(len(confidence_other.index)),confidence_other.index,rotation=90)\n",
      "plt.xlabel('Confidenza', fontsize=16)\n",
      "plt.ylabel('Persone', fontsize=16)\n",
      "ind = np.arange(len(confidence_other))   # the x locations for the groups\n",
      "width = 0.35                       # the width of the bars\n",
      "\n",
      "my_colors = seaborn.color_palette(\"husl\", len(confidence_other)) # Set color palette\n",
      "rect1 = plt.bar(ind,confidence_other,width,color=my_colors,align='center')\n",
      "plt.savefig(\"svg/Q024-MakerConfidenzaTecnologia02.svg\")\n",
      "plt.savefig(\"png/Q024-MakerConfidenzaTecnologia02.png\")\n",
      "plt.savefig(\"pdf/Q024-MakerConfidenzaTecnologia02.pdf\")"
     ],
     "language": "python",
     "metadata": {},
     "outputs": [
      {
       "metadata": {},
       "output_type": "display_data",
       "png": "[encoded data removed]",
       "text": [
        "<matplotlib.figure.Figure at 0x10ef91810>"
       ]
      }
     ],
     "prompt_number": 12
    },
    {
     "cell_type": "code",
     "collapsed": false,
     "input": [],
     "language": "python",
     "metadata": {},
     "outputs": [],
     "prompt_number": 12
    }
   ],
   "metadata": {}
  }
 ]
}