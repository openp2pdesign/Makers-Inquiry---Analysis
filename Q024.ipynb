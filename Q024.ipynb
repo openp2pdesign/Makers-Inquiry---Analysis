{
 "metadata": {
  "name": ""
 },
 "nbformat": 3,
 "nbformat_minor": 0,
 "worksheets": [
  {
   "cells": [
    {
     "cell_type": "heading",
     "level": 1,
     "metadata": {},
     "source": [
      "Q024 - Qual \u00e8 il tuo livello di \u2018confidenza\u2019 con le tecnologie?"
     ]
    },
    {
     "cell_type": "code",
     "collapsed": false,
     "input": [
      "# -*- coding: UTF-8 -*-\n",
      "\n",
      "# Render our plots inline\n",
      "%matplotlib inline \n",
      "\n",
      "import pandas as pd\n",
      "import matplotlib.pyplot as plt\n",
      "import numpy as np\n",
      "import seaborn\n",
      "\n",
      "pd.set_option('display.mpl_style', 'default') # Make the graphs a bit prettier, overridden by seaborn\n",
      "pd.set_option('display.max_columns', None) # Display all the columns\n",
      "plt.rcParams['font.family'] = 'sans-serif' # Sans Serif fonts for all the graphs\n",
      "\n",
      "# Reference for color palettes: http://web.stanford.edu/~mwaskom/software/seaborn/tutorial/color_palettes.html"
     ],
     "language": "python",
     "metadata": {},
     "outputs": [],
     "prompt_number": 1
    },
    {
     "cell_type": "code",
     "collapsed": false,
     "input": [
      "# Load csv file first\n",
      "data = pd.read_csv(\"data/results-makers.csv\", encoding=\"utf-8\")"
     ],
     "language": "python",
     "metadata": {},
     "outputs": [],
     "prompt_number": 2
    },
    {
     "cell_type": "code",
     "collapsed": false,
     "input": [
      "# Re-format colums to fix a mistake\n",
      "# Comment/delete this if not part of the Italian research\n",
      "substitutes = ['id','submitdate','lastpage','startlanguage','startdate','datestamp','ipaddr',\n",
      "               'Q001','Q002','Q003','Q004','Q005','Q006','Q007','Q007[other]','Q008','Q009[SQ001]',\n",
      "               'Q009[SQ002]','Q009[SQ003]','Q009[SQ004]','Q009[SQ005]','Q009[SQ006]','Q009[other]',\n",
      "               'Q010','Q011','Q011[other]','Q012','Q013','Q014','Q015','Q016','Q016[other]','Q017',\n",
      "               'Q018','Q019[SQ001]','Q019[SQ002]','Q019[SQ003]','Q019[SQ004]','Q019[SQ005]','Q019[SQ006]',\n",
      "               'Q019[SQ007]','Q019[SQ008]','Q019[SQ009]','Q019[other]','Q020[SQ001]','Q021[SQ001]',\n",
      "               'Q021[SQ002]','Q021[SQ003]','Q021[SQ004]','Q021[SQ005]','Q022[SQ001]','Q022[SQ002]',\n",
      "               'Q022[SQ003]','Q022[SQ004]','Q022[SQ005]','Q023[SQ001]','Q023[SQ002]','Q023[SQ003]',\n",
      "               'Q023[SQ004]','Q023[SQ005]','Q024[SQ001]','Q024[SQ002]','Q024[SQ003]','Q024[SQ004]',\n",
      "               'Q024[SQ005]','Q024[other]','Q025','Q026','Q027[SQ001]','Q027[SQ002]','Q027[SQ003]',\n",
      "               'Q027[SQ004]','Q027[SQ005]','Q027[SQ006]','Q027[SQ007]','Q027[SQ008]','Q027[other]',\n",
      "               'Q028[SQ001]','Q028[SQ002]','Q028[SQ003]','Q028[SQ004]','Q028[SQ005]','Q028[SQ006]',\n",
      "               'Q028[SQ007]','Q028[SQ008]','Q028[SQ009]','Q028[SQ010]','Q028[SQ011]','Q028[other]',\n",
      "               'Q029[SQ001]','Q029[SQ002]','Q029[SQ003]','Q029[SQ004]','Q029[SQ005]','Q030[SQ001]',\n",
      "               'Q030[SQ002]','Q030[SQ003]','Q030[SQ004]','Q030[SQ005]','Q030[SQ006]','Q030[SQ007]',\n",
      "               'Q031','Q032','Q032[other]','Q033[SQ001]','Q033[SQ002]','Q033[SQ003]','Q033[SQ004]',\n",
      "               'Q033[other]','Q034','Q035','Q036[SQ001]','Q036[SQ002]','Q036[SQ013]','Q036[SQ003]',\n",
      "               'Q036[SQ004]','Q036[SQ005]','Q036[SQ006]','Q036[SQ007]','Q036[SQ008]','Q036[SQ009]',\n",
      "               'Q036[SQ010]','Q036[SQ011]','Q036[SQ012]','Q036[other]','Q037[SQ001]','Q037[SQ002]',\n",
      "               'Q037[SQ003]','Q037[SQ004]','Q037[SQ005]','Q037[other]','Q038','Q039[SQ001]','Q039[SQ002]',\n",
      "               'Q039[SQ003]','Q039[SQ004]','Q039[SQ005]','Q039[other]','Q040[SQ001]','Q040[SQ002]',\n",
      "               'Q040[SQ003]','Q041[SQ001]','Q041[SQ002]','Q041[SQ003]','Q042[SQ001]','Q042[SQ002]',\n",
      "               'Q042[SQ003]','Q042[SQ004]','Q042[other]','Q043[SQ001]','Q043[SQ002]','Q043[SQ003]',\n",
      "               'Q043[SQ004]','Q043[SQ005]','Q043[SQ006]','Q043[other]','Q044[SQ001]','Q044[SQ002]',\n",
      "               'Q044[SQ003]','Q044[SQ004]','Q044[SQ005]','Q044[SQ006]','Q044[SQ007]','Q044[SQ008]',\n",
      "               'Q044[SQ009]','Q045','Q046','Q047[SQ001]','Q047[SQ002]','Q047[SQ003]','Q047[SQ004]',\n",
      "               'Q047[other]','Q048[SQ001]','Q048[SQ002]','Q048[SQ003]','Q048[SQ004]','Q048[SQ005]',\n",
      "               'Q048[other]','Q049[SQ001]','Q049[SQ002]','Q049[SQ003]','Q049[SQ004]','Q049[other]',\n",
      "               'Q050[SQ001]','Q050[SQ002]','Q050[SQ003]','Q050[SQ004]','Q050[SQ005]','Q050[SQ006]',\n",
      "               'Q050[SQ007]','Q050[SQ008]','Q050[other]','Q051[SQ001]','Q051[SQ002]','Q051[SQ003]',\n",
      "               'Q051[SQ004]','Q051[SQ005]','Q051[SQ006]','Q051[other]','Q052[SQ001]','Q052[SQ002]',\n",
      "               'Q052[SQ003]','Q052[SQ004]','Q052[SQ005]','Q052[SQ006]','Q052[SQ007]','Q052[SQ008]',\n",
      "               'Q052[SQ009]','Q052[SQ010]','Q052[SQ011]','Q052[other]','Q053[SQ001]','Q053[SQ002]',\n",
      "               'Q053[SQ003]','Q053[SQ004]','Q053[other]','Q054[SQ001]','Q054[SQ002]','Q054[SQ003]',\n",
      "               'Q054[SQ004]','Q054[SQ005]','Q054[SQ006]','Q054[SQ007]','Q054[SQ008]','Q054[SQ009]',\n",
      "               'Q054[SQ010]','Q054[other]','Q055[SQ001]','Q055[SQ002]','Q055[SQ003]','Q055[SQ004]',\n",
      "               'Q055[SQ005]','Q055[SQ006]','Q055[SQ007]','Q055[SQ008]','Q055[SQ009]','Q055[SQ010]',\n",
      "               'Q055[other]','Q056[SQ001]','Q056[SQ002]','Q056[SQ003]','Q056[SQ004]','Q056[SQ005]',\n",
      "               'Q056[other]','Q057[SQ001]','Q057[SQ002]','Q057[other]','Q058[SQ001]','Q058[SQ002]',\n",
      "               'Q058[SQ003]','Q058[SQ004]','Q058[SQ005]','Q058[other]','Q059[SQ001]','Q059[SQ002]',\n",
      "               'Q059[SQ003]','Q059[other]','Q060','Q061','Q062[SQ001]','Q062[SQ002]','Q062[SQ003]',\n",
      "               'Q062[SQ004]','Q062[SQ005]','Q062[other]','Q063[SQ001]','Q063[SQ002]','Q063[SQ003]',\n",
      "               'Q064','Q065','Q065[filecount]','Q066[SQ001]','Q066[SQ002]','Q066[SQ003]','Q067','Q067[filecount]'\n",
      "               ]\n",
      "\n",
      "data.columns = substitutes"
     ],
     "language": "python",
     "metadata": {},
     "outputs": [],
     "prompt_number": 3
    },
    {
     "cell_type": "code",
     "collapsed": false,
     "input": [
      "# Check data\n",
      "#data[0:4] # Equals to data.head()"
     ],
     "language": "python",
     "metadata": {},
     "outputs": [],
     "prompt_number": 4
    },
    {
     "cell_type": "code",
     "collapsed": false,
     "input": [
      "# Range: Q023[SQ001] - Q023[SQ005] - Q023[other]\n",
      "\n",
      "confidence_columns = ['Q024[SQ001]','Q024[SQ002]','Q024[SQ003]','Q024[SQ004]','Q024[SQ005]']\n",
      "confidence_options = ['Le progetto','Le costruisco','Le modifico','Le riparo','Le rigenero']\n",
      "confidence = data[confidence_columns]\n",
      "confidence.replace(u'S\u00ec', 'Si', inplace=True) # Get rid of accented characters \n",
      "confidence_other = data['Q024[other]'].str.lower().value_counts()"
     ],
     "language": "python",
     "metadata": {},
     "outputs": [
      {
       "output_type": "stream",
       "stream": "stderr",
       "text": [
        "-c:6: SettingWithCopyWarning: A value is trying to be set on a copy of a slice from a DataFrame\n"
       ]
      }
     ],
     "prompt_number": 5
    },
    {
     "cell_type": "code",
     "collapsed": false,
     "input": [
      "confidence[0:4]"
     ],
     "language": "python",
     "metadata": {},
     "outputs": [
      {
       "html": [
        "<div style=\"max-height:1000px;max-width:1500px;overflow:auto;\">\n",
        "<table border=\"1\" class=\"dataframe\">\n",
        "  <thead>\n",
        "    <tr style=\"text-align: right;\">\n",
        "      <th></th>\n",
        "      <th>Q024[SQ001]</th>\n",
        "      <th>Q024[SQ002]</th>\n",
        "      <th>Q024[SQ003]</th>\n",
        "      <th>Q024[SQ004]</th>\n",
        "      <th>Q024[SQ005]</th>\n",
        "    </tr>\n",
        "  </thead>\n",
        "  <tbody>\n",
        "    <tr>\n",
        "      <th>0</th>\n",
        "      <td>  Si</td>\n",
        "      <td>  Si</td>\n",
        "      <td>  Si</td>\n",
        "      <td>  No</td>\n",
        "      <td>  No</td>\n",
        "    </tr>\n",
        "    <tr>\n",
        "      <th>1</th>\n",
        "      <td> NaN</td>\n",
        "      <td> NaN</td>\n",
        "      <td> NaN</td>\n",
        "      <td> NaN</td>\n",
        "      <td> NaN</td>\n",
        "    </tr>\n",
        "    <tr>\n",
        "      <th>2</th>\n",
        "      <td> NaN</td>\n",
        "      <td> NaN</td>\n",
        "      <td> NaN</td>\n",
        "      <td> NaN</td>\n",
        "      <td> NaN</td>\n",
        "    </tr>\n",
        "    <tr>\n",
        "      <th>3</th>\n",
        "      <td> NaN</td>\n",
        "      <td> NaN</td>\n",
        "      <td> NaN</td>\n",
        "      <td> NaN</td>\n",
        "      <td> NaN</td>\n",
        "    </tr>\n",
        "  </tbody>\n",
        "</table>\n",
        "<p>4 rows \u00d7 5 columns</p>\n",
        "</div>"
       ],
       "metadata": {},
       "output_type": "pyout",
       "prompt_number": 6,
       "text": [
        "  Q024[SQ001] Q024[SQ002] Q024[SQ003] Q024[SQ004] Q024[SQ005]\n",
        "0          Si          Si          Si          No          No\n",
        "1         NaN         NaN         NaN         NaN         NaN\n",
        "2         NaN         NaN         NaN         NaN         NaN\n",
        "3         NaN         NaN         NaN         NaN         NaN\n",
        "\n",
        "[4 rows x 5 columns]"
       ]
      }
     ],
     "prompt_number": 6
    },
    {
     "cell_type": "code",
     "collapsed": false,
     "input": [
      "#\u00a0Gather data\n",
      "confidence_b = {}\n",
      "for k,i in enumerate(confidence_columns):\n",
      "    confidence_b[k] = confidence[i].value_counts()\n",
      "    print \"Data:\",confidence_options[k]\n",
      "    print confidence_b[k]\n",
      "    print\n",
      "    print \"Data %:\",confidence_options[k]\n",
      "    print confidence[i].value_counts(normalize=True)*100\n",
      "    print\n",
      "    \n",
      "yes = []\n",
      "no = []\n",
      "\n",
      "# Get data for plotting, and check that we have all the values for Yes and No\n",
      "for k,i in enumerate(confidence_columns):\n",
      "    if len(confidence_b[k].index) == 2:\n",
      "        if confidence_b[k].index[0] == \"Si\":\n",
      "            yes.append(confidence_b[k].iloc[0])\n",
      "            no.append(confidence_b[k].iloc[1])\n",
      "        elif confidence_b[k].index[1] == \"Si\":\n",
      "            yes.append(confidence_b[k].iloc[1])\n",
      "            no.append(confidence_b[k].iloc[0])\n",
      "    elif len(confidence_b[k].index) == 1:\n",
      "        if confidence_b[k].index[0] == \"Si\":\n",
      "            yes.append(confidence_b[k].iloc[0])\n",
      "            no.append(0)\n",
      "        elif confidence_b[k].index[0] == \"No\":\n",
      "            yes.append(0)\n",
      "            no.append(confidence_b[k].iloc[0])\n",
      "    else:\n",
      "        yes.append(0)\n",
      "        no.append(0)\n",
      "\n",
      "# Plot the data\n",
      "plt.figure(figsize=(8,6))\n",
      "plt.xlabel('Confidenza')\n",
      "plt.ylabel('Persone')\n",
      "plt.title('Maker: Confidenza con le tecnologie')\n",
      "plt.xticks(range(len(confidence_options)),confidence_options,rotation=0)\n",
      "ind = np.arange(len(confidence_columns))   # the x locations for the groups\n",
      "width = 0.35                              # the width of the bars\n",
      "\n",
      "my_colors = seaborn.color_palette(\"Set1\", 2) # Set color palette\n",
      "rect1 = plt.bar(ind,yes,width,color=my_colors[0],align='center') # Plot Yes\n",
      "rect2 = plt.bar(ind+width,no,width,color=my_colors[1],align='center') # Plot No \n",
      "plt.legend( (rect1, rect2), ('Si', 'No') )\n",
      "plt.savefig(\"pdf/Q024-MakerConfidenzaTecnologia01.pdf\")"
     ],
     "language": "python",
     "metadata": {},
     "outputs": [
      {
       "output_type": "stream",
       "stream": "stdout",
       "text": [
        "Data: Le progetto\n",
        "No    53\n",
        "Si    41\n",
        "dtype: int64"
       ]
      },
      {
       "output_type": "stream",
       "stream": "stdout",
       "text": [
        "\n",
        "\n",
        "Data %: Le progetto\n",
        "No    30.285714\n",
        "Si    23.428571\n",
        "dtype: float64\n",
        "\n",
        "Data: Le costruisco\n",
        "No    57\n",
        "Si    37\n",
        "dtype: int64\n",
        "\n",
        "Data %: Le costruisco\n",
        "No    32.571429\n",
        "Si    21.142857\n",
        "dtype: float64\n",
        "\n",
        "Data: Le modifico\n",
        "No    56\n",
        "Si    38\n",
        "dtype: int64\n",
        "\n",
        "Data %: Le modifico\n",
        "No    32.000000\n",
        "Si    21.714286\n",
        "dtype: float64\n",
        "\n",
        "Data: Le riparo\n",
        "No    69\n",
        "Si    25\n",
        "dtype: int64\n",
        "\n",
        "Data %: Le riparo\n",
        "No    39.428571\n",
        "Si    14.285714\n",
        "dtype: float64\n",
        "\n",
        "Data: Le rigenero\n",
        "No    82\n",
        "Si    12\n",
        "dtype: int64\n",
        "\n",
        "Data %: Le rigenero\n",
        "No    46.857143\n",
        "Si     6.857143\n",
        "dtype: float64\n",
        "\n"
       ]
      },
      {
       "metadata": {},
       "output_type": "display_data",
       "png": "[encoded data removed]",
       "text": [
        "<matplotlib.figure.Figure at 0x1091731d0>"
       ]
      }
     ],
     "prompt_number": 7
    },
    {
     "cell_type": "code",
     "collapsed": false,
     "input": [
      "# Get \"other\" data\n",
      "confidence_other = data[\"Q024[other]\"].str.lower().value_counts()\n",
      "print \"Data:\"\n",
      "print confidence_other\n",
      "print \"\"\n",
      "print \"Data %:\"\n",
      "print data[\"Q024[other]\"].str.lower().value_counts(normalize=True) * 100\n",
      "\n",
      "# Plot bar\n",
      "plt.figure(figsize=(8,6))\n",
      "plt.title('Maker: Confidenza con le tecnologie. Altro')\n",
      "plt.xticks(range(len(confidence_other.index)),confidence_other.index,rotation=90)\n",
      "plt.xlabel('Confidenza')\n",
      "plt.ylabel('Persone')\n",
      "ind = np.arange(len(confidence_other))   # the x locations for the groups\n",
      "width = 0.35                       # the width of the bars\n",
      "\n",
      "my_colors = seaborn.color_palette(\"husl\", len(confidence_other)) # Set color palette\n",
      "rect1 = plt.bar(ind,confidence_other,width,color=my_colors,align='center')\n",
      "plt.savefig(\"pdf/Q024-MakerConfidenzaTecnologia02.pdf\") # Save pdf"
     ],
     "language": "python",
     "metadata": {},
     "outputs": [
      {
       "output_type": "stream",
       "stream": "stdout",
       "text": [
        "Data:\n",
        "le uso                                                          6\n",
        "le utilizzo                                                     3\n",
        "utente evoluto                                                  1\n",
        "le creo, in senso di idee                                       1\n",
        "le pubblicizzo, diffondo                                        1\n",
        "progetto relazioni e idee, metto insieme i tecnici e gli esperti, facilito le relazioni e i flussi di contenuti    1\n",
        "dtype: int64\n",
        "\n",
        "Data %:\n",
        "le uso                                                          3.428571\n",
        "le utilizzo                                                     1.714286\n",
        "utente evoluto                                                  0.571429\n",
        "le creo, in senso di idee                                       0.571429\n",
        "le pubblicizzo, diffondo                                        0.571429\n",
        "progetto relazioni e idee, metto insieme i tecnici e gli esperti, facilito le relazioni e i flussi di contenuti    0.571429\n",
        "dtype: float64\n"
       ]
      },
      {
       "metadata": {},
       "output_type": "display_data",
       "png": "[encoded data removed]",
       "text": [
        "<matplotlib.figure.Figure at 0x109180590>"
       ]
      }
     ],
     "prompt_number": 8
    },
    {
     "cell_type": "code",
     "collapsed": false,
     "input": [],
     "language": "python",
     "metadata": {},
     "outputs": [],
     "prompt_number": 8
    }
   ],
   "metadata": {}
  }
 ]
}