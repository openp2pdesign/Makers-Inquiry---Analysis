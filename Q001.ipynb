{
 "metadata": {
  "name": ""
 },
 "nbformat": 3,
 "nbformat_minor": 0,
 "worksheets": [
  {
   "cells": [
    {
     "cell_type": "heading",
     "level": 1,
     "metadata": {},
     "source": [
      "Q001 - Profilo rispetto all\u2019indagine"
     ]
    },
    {
     "cell_type": "code",
     "collapsed": false,
     "input": [
      "# -*- coding: UTF-8 -*-\n",
      "\n",
      "# Render our plots inline\n",
      "%matplotlib inline \n",
      "\n",
      "import pandas as pd\n",
      "import matplotlib.pyplot as plt\n",
      "import numpy as np\n",
      "import seaborn\n",
      "\n",
      "pd.set_option('display.mpl_style', 'default') # Make the graphs a bit prettier, overridden by seaborn\n",
      "pd.set_option('display.max_columns', None) # Display all the columns\n",
      "plt.rcParams['font.family'] = 'sans-serif' # Sans Serif fonts for all the graphs\n",
      "\n",
      "# Reference for color palettes: http://web.stanford.edu/~mwaskom/software/seaborn/tutorial/color_palettes.html"
     ],
     "language": "python",
     "metadata": {},
     "outputs": [],
     "prompt_number": 1
    },
    {
     "cell_type": "code",
     "collapsed": false,
     "input": [
      "# Load csv file first\n",
      "data = pd.read_csv(\"data/results-makers-40.csv\", encoding=\"utf-8\")"
     ],
     "language": "python",
     "metadata": {},
     "outputs": [],
     "prompt_number": 2
    },
    {
     "cell_type": "code",
     "collapsed": false,
     "input": [
      "# Check data\n",
      "#data[0:4] # Equals to data.head()"
     ],
     "language": "python",
     "metadata": {},
     "outputs": [],
     "prompt_number": 3
    },
    {
     "cell_type": "code",
     "collapsed": false,
     "input": [
      "profile = data[\"Q001\"].value_counts()\n",
      "print \"Data:\"\n",
      "print profile\n",
      "print \"\"\n",
      "print \"Data %:\"\n",
      "print data[\"Q001\"].value_counts(normalize=True) * 100\n",
      "\n",
      "# Plot the data\n",
      "plt.figure(figsize=(8,6))\n",
      "plt.xlabel('Tipologia')\n",
      "plt.ylabel('Persone')\n",
      "my_colors = seaborn.color_palette(\"husl\", len(profile)) # Set color palette\n",
      "profile.plot(kind='bar',title=\"Tipologia di Maker\",color=my_colors)\n",
      "plt.savefig(\"pdf/Q001-Tipologia di Maker.pdf\") # Save pdf"
     ],
     "language": "python",
     "metadata": {},
     "outputs": [
      {
       "output_type": "stream",
       "stream": "stdout",
       "text": [
        "Data:\n",
        "Progettista autoproduttore    65\n",
        "Maker                         40\n",
        "Gestore di makerspace         29\n",
        "dtype: int64\n",
        "\n",
        "Data %:\n",
        "Progettista autoproduttore    48.507463\n",
        "Maker                         29.850746\n",
        "Gestore di makerspace         21.641791\n",
        "dtype: float64\n"
       ]
      },
      {
       "metadata": {},
       "output_type": "display_data",
       "png": "[encoded data removed]",
       "text": [
        "<matplotlib.figure.Figure at 0x10845f910>"
       ]
      }
     ],
     "prompt_number": 5
    },
    {
     "cell_type": "code",
     "collapsed": false,
     "input": [],
     "language": "python",
     "metadata": {},
     "outputs": [],
     "prompt_number": 4
    }
   ],
   "metadata": {}
  }
 ]
}