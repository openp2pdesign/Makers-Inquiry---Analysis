{
 "metadata": {
  "name": "",
  "signature": "sha256:d5edc8e386bbd21500f22303f54f1443a59993056090dc877c177cecc23059e8"
 },
 "nbformat": 3,
 "nbformat_minor": 0,
 "worksheets": [
  {
   "cells": [
    {
     "cell_type": "heading",
     "level": 1,
     "metadata": {},
     "source": [
      "Q017 - Da quanto tempo ti occupi di making?"
     ]
    },
    {
     "cell_type": "code",
     "collapsed": false,
     "input": [
      "# -*- coding: UTF-8 -*-\n",
      "\n",
      "# Render our plots inline\n",
      "%matplotlib inline \n",
      "\n",
      "import pandas as pd\n",
      "import matplotlib\n",
      "import matplotlib.pyplot as plt\n",
      "import numpy as np\n",
      "import seaborn\n",
      "import shutil\n",
      "\n",
      "pd.set_option('display.mpl_style', 'default') # Make the graphs a bit prettier, overridden by seaborn\n",
      "pd.set_option('display.max_columns', None) # Display all the columns\n",
      "plt.rcParams['font.family'] = 'sans-serif' # Sans Serif fonts for all the graphs\n",
      "\n",
      "# Reference for color palettes: http://web.stanford.edu/~mwaskom/software/seaborn/tutorial/color_palettes.html\n",
      "\n",
      "# Change the font\n",
      "matplotlib.rcParams.update({'font.family': 'Source Sans Pro'})"
     ],
     "language": "python",
     "metadata": {},
     "outputs": [],
     "prompt_number": 1
    },
    {
     "cell_type": "code",
     "collapsed": false,
     "input": [
      "# Load csv file first\n",
      "data = pd.read_csv(\"data/results-makers-40.csv\", encoding=\"utf-8\")"
     ],
     "language": "python",
     "metadata": {},
     "outputs": [],
     "prompt_number": 2
    },
    {
     "cell_type": "code",
     "collapsed": false,
     "input": [
      "# Check data\n",
      "#data[0:4] # Equals to data.head()"
     ],
     "language": "python",
     "metadata": {},
     "outputs": [],
     "prompt_number": 3
    },
    {
     "cell_type": "code",
     "collapsed": false,
     "input": [
      "%%capture output\n",
      "\n",
      "# Save the output as a variable that can be saved to a file\n",
      "# Get the distribution of time of working on making\n",
      "time = data[\"Q017\"].value_counts(dropna=False)\n",
      "print \"Data:\"\n",
      "print time\n",
      "print \"\"\n",
      "print \"Data %:\"\n",
      "print data[\"Q017\"].value_counts(normalize=True,dropna=False) * 100"
     ],
     "language": "python",
     "metadata": {},
     "outputs": [],
     "prompt_number": 4
    },
    {
     "cell_type": "code",
     "collapsed": false,
     "input": [
      "# Save+show the output to a text file\n",
      "%save Q017-MakerEsperienza01.py str(output)\n",
      "shutil.move(\"Q017-MakerEsperienza01.py\", \"text/Q017-MakerEsperienza01.txt\")"
     ],
     "language": "python",
     "metadata": {},
     "outputs": [
      {
       "output_type": "stream",
       "stream": "stdout",
       "text": [
        "The following commands were written to file `Q017-MakerEsperienza01.py`:\n",
        "Data:\n",
        "Da 1 a 5 anni     81\n",
        "Meno di 1 anno    24\n",
        "Oltre 10 anni     15\n",
        "Da 5 a 10 anni    11\n",
        "NaN                3\n",
        "dtype: int64\n",
        "\n",
        "Data %:\n",
        "Da 1 a 5 anni     60.447761\n",
        "Meno di 1 anno    17.910448\n",
        "Oltre 10 anni     11.194030\n",
        "Da 5 a 10 anni     8.208955\n",
        "NaN                2.238806\n",
        "dtype: float64\n",
        "\n"
       ]
      }
     ],
     "prompt_number": 5
    },
    {
     "cell_type": "code",
     "collapsed": false,
     "input": [
      "# Plot the data\n",
      "plt.figure(figsize=(8,6))\n",
      "plt.xlabel(u'Tempo', fontsize=16)\n",
      "plt.ylabel('Persone', fontsize=16)\n",
      "plt.title(\"Da quanto tempo ti occupi di making?\", fontsize=18, y=1.02)\n",
      "my_colors = seaborn.color_palette(\"husl\", len(time)) # Set color palette\n",
      "time.plot(kind=\"bar\",color=my_colors)\n",
      "plt.savefig(\"svg/Q017-MakerEsperienza01.svg\")\n",
      "plt.savefig(\"png/Q017-MakerEsperienza01.png\")\n",
      "plt.savefig(\"pdf/Q017-MakerEsperienza01.pdf\")"
     ],
     "language": "python",
     "metadata": {},
     "outputs": [
      {
       "metadata": {},
       "output_type": "display_data",
       "png": "[encoded data removed]",
       "text": [
        "<matplotlib.figure.Figure at 0x1073d3390>"
       ]
      }
     ],
     "prompt_number": 6
    },
    {
     "cell_type": "code",
     "collapsed": false,
     "input": [
      "%%capture output\n",
      "\n",
      "# Save the output as a variable that can be saved to a file\n",
      "#\u00a0Order of the choices\n",
      "time_order = [\"Meno di 1 anno\",\"Da 1 a 5 anni\",\"Da 5 a 10 anni\",\"Oltre 10 anni\"]\n",
      "\n",
      "time2 = time.reindex(time_order)\n",
      "\n",
      "# Get the distribution of way of living, reindexed\n",
      "print \"Data:\"\n",
      "print time2\n",
      "print \"\"\n",
      "print \"Data %:\"\n",
      "time2_normalized = data[\"Q017\"].value_counts(normalize=True,dropna=False) * 100\n",
      "print time2_normalized.reindex(time_order)"
     ],
     "language": "python",
     "metadata": {},
     "outputs": [],
     "prompt_number": 7
    },
    {
     "cell_type": "code",
     "collapsed": false,
     "input": [
      "# Save+show the output to a text file\n",
      "%save Q017-MakerEsperienza02.py str(Q017b)\n",
      "shutil.move(\"Q017-MakerEsperienza02.py\", \"text/Q017-MakerEsperienza02.txt\")"
     ],
     "language": "python",
     "metadata": {},
     "outputs": [
      {
       "output_type": "stream",
       "stream": "stdout",
       "text": [
        "The following commands were written to file `Q017-MakerEsperienza02.py`:\n",
        "Data:\n",
        "Meno di 1 anno    24\n",
        "Da 1 a 5 anni     81\n",
        "Da 5 a 10 anni    11\n",
        "Oltre 10 anni     15\n",
        "dtype: int64\n",
        "\n",
        "Data %:\n",
        "Meno di 1 anno    17.910448\n",
        "Da 1 a 5 anni     60.447761\n",
        "Da 5 a 10 anni     8.208955\n",
        "Oltre 10 anni     11.194030\n",
        "dtype: float64\n",
        "\n"
       ]
      }
     ],
     "prompt_number": 8
    },
    {
     "cell_type": "code",
     "collapsed": false,
     "input": [
      "# Plot the data\n",
      "plt.figure(figsize=(8,6))\n",
      "plt.xlabel(u'Tempo', fontsize=16)\n",
      "plt.ylabel('Persone', fontsize=16)\n",
      "plt.title(\"Da quanto tempo ti occupi di making?\", fontsize=18, y=1.02)\n",
      "my_colors = seaborn.color_palette(\"husl\", len(time2)) # Set color palette\n",
      "time2.plot(kind=\"bar\",title=\"Da quanto tempo ti occupi di making?\",color=my_colors)\n",
      "plt.savefig(\"svg/Q017-MakerEsperienza02.svg\")\n",
      "plt.savefig(\"png/Q017-MakerEsperienza02.png\")\n",
      "plt.savefig(\"pdf/Q017-MakerEsperienza02.pdf\")"
     ],
     "language": "python",
     "metadata": {},
     "outputs": [
      {
       "metadata": {},
       "output_type": "display_data",
       "png": "[encoded data removed]",
       "text": [
        "<matplotlib.figure.Figure at 0x106c65b50>"
       ]
      }
     ],
     "prompt_number": 9
    },
    {
     "cell_type": "code",
     "collapsed": false,
     "input": [],
     "language": "python",
     "metadata": {},
     "outputs": [],
     "prompt_number": 9
    }
   ],
   "metadata": {}
  }
 ]
}