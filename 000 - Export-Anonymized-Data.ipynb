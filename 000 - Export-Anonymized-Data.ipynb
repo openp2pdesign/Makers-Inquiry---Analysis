{
 "cells": [
  {
   "cell_type": "markdown",
   "metadata": {},
   "source": [
    "# 000 - Export anonymized data"
   ]
  },
  {
   "cell_type": "code",
   "execution_count": 1,
   "metadata": {
    "collapsed": false
   },
   "outputs": [],
   "source": [
    "# -*- coding: UTF-8 -*-\n",
    "\n",
    "import pandas as pd\n",
    "import numpy as np"
   ]
  },
  {
   "cell_type": "code",
   "execution_count": 2,
   "metadata": {
    "collapsed": false
   },
   "outputs": [],
   "source": [
    "# Load csv file first\n",
    "data = pd.read_csv(\"data/results-makers-40.csv\", encoding=\"utf-8\")"
   ]
  },
  {
   "cell_type": "code",
   "execution_count": 3,
   "metadata": {
    "collapsed": false
   },
   "outputs": [],
   "source": [
    "# Check data\n",
    "#data # Equals to data.head()"
   ]
  },
  {
   "cell_type": "code",
   "execution_count": 4,
   "metadata": {
    "collapsed": true
   },
   "outputs": [],
   "source": [
    "# Get list of columns\n",
    "columns = list(data.columns.values)"
   ]
  },
  {
   "cell_type": "code",
   "execution_count": 5,
   "metadata": {
    "collapsed": false
   },
   "outputs": [],
   "source": [
    "# Delete element we do not want to export\n",
    "del_columns = [u'Unnamed: 0',\n",
    "               u'id',\n",
    "               u'submitdate', \n",
    "               u'lastpage', \n",
    "               u'startlanguage', \n",
    "               u'startdate', \n",
    "               u'datestamp', \n",
    "               u'ipaddr',\n",
    "               u'Q002'\n",
    "               ]\n",
    "for i in del_columns:\n",
    "    del columns[columns.index(i)]\n",
    "\n",
    "# Debug\n",
    "#print columns"
   ]
  },
  {
   "cell_type": "code",
   "execution_count": 6,
   "metadata": {
    "collapsed": false
   },
   "outputs": [],
   "source": [
    "# Shuffle the data in order to change the order of the rows\n",
    "# Learnt here: http://stackoverflow.com/a/15772330/2237113\n",
    "data_export = data[columns]\n",
    "sorted_data_export = data_export.reindex(np.random.permutation(data_export.index))\n",
    "\n",
    "# Debug\n",
    "#sorted_data_export"
   ]
  },
  {
   "cell_type": "code",
   "execution_count": 7,
   "metadata": {
    "collapsed": false
   },
   "outputs": [],
   "source": [
    "# Rename the index, for more anonymization... for all the anonymized data except business models data\n",
    "new_index = {}\n",
    "for k,i in enumerate(sorted_data_export.index):\n",
    "    new_index[i] = k\n",
    "sorted_data_anonymized_final = sorted_data_export.rename(index=new_index)\n",
    "\n",
    "#Debug\n",
    "#sorted_data_anonymized_final"
   ]
  },
  {
   "cell_type": "code",
   "execution_count": 8,
   "metadata": {
    "collapsed": false
   },
   "outputs": [],
   "source": [
    "# Export datasets\n",
    "sorted_data_anonymized_final.to_csv('data/makersinquiry-italy-2014.csv', encoding='utf-8')"
   ]
  }
 ],
 "metadata": {
  "kernelspec": {
   "display_name": "Python 2",
   "language": "python",
   "name": "python2"
  },
  "language_info": {
   "codemirror_mode": {
    "name": "ipython",
    "version": 2
   },
   "file_extension": ".py",
   "mimetype": "text/x-python",
   "name": "python",
   "nbconvert_exporter": "python",
   "pygments_lexer": "ipython2",
   "version": "2.7.9"
  }
 },
 "nbformat": 4,
 "nbformat_minor": 0
}
