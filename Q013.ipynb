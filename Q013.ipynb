{
 "metadata": {
  "name": ""
 },
 "nbformat": 3,
 "nbformat_minor": 0,
 "worksheets": [
  {
   "cells": [
    {
     "cell_type": "heading",
     "level": 1,
     "metadata": {},
     "source": [
      "Q013 - Il making \u00e8 la tua attivit\u00e0 principale?"
     ]
    },
    {
     "cell_type": "code",
     "collapsed": false,
     "input": [
      "# -*- coding: UTF-8 -*-\n",
      "\n",
      "# Render our plots inline\n",
      "%matplotlib inline \n",
      "\n",
      "import pandas as pd\n",
      "import matplotlib.pyplot as plt\n",
      "import numpy as np\n",
      "import seaborn\n",
      "\n",
      "pd.set_option('display.mpl_style', 'default') # Make the graphs a bit prettier, overridden by seaborn\n",
      "pd.set_option('display.max_columns', None) # Display all the columns\n",
      "plt.rcParams['font.family'] = 'sans-serif' # Sans Serif fonts for all the graphs\n",
      "\n",
      "# Reference for color palettes: http://web.stanford.edu/~mwaskom/software/seaborn/tutorial/color_palettes.html"
     ],
     "language": "python",
     "metadata": {},
     "outputs": [],
     "prompt_number": 1
    },
    {
     "cell_type": "code",
     "collapsed": false,
     "input": [
      "# Load csv file first\n",
      "data = pd.read_csv(\"data/results-makers.csv\", encoding=\"utf-8\")"
     ],
     "language": "python",
     "metadata": {},
     "outputs": [],
     "prompt_number": 2
    },
    {
     "cell_type": "code",
     "collapsed": false,
     "input": [
      "# Re-format colums to fix a mistake\n",
      "# Comment/delete this if not part of the Italian research\n",
      "substitutes = ['id','submitdate','lastpage','startlanguage','startdate','datestamp','ipaddr',\n",
      "               'Q001','Q002','Q003','Q004','Q005','Q006','Q007','Q007[other]','Q008','Q009[SQ001]',\n",
      "               'Q009[SQ002]','Q009[SQ003]','Q009[SQ004]','Q009[SQ005]','Q009[SQ006]','Q009[other]',\n",
      "               'Q010','Q011','Q011[other]','Q012','Q013','Q014','Q015','Q015','Q015[other]','Q016',\n",
      "               'Q017','Q018[SQ001]','Q018[SQ002]','Q018[SQ003]','Q018[SQ004]','Q018[SQ005]','Q018[SQ006]',\n",
      "               'Q018[SQ007]','Q018[SQ008]','Q018[SQ009]','Q018[other]','Q019[SQ001]','Q020[SQ001]',\n",
      "               'Q020[SQ002]','Q020[SQ003]','Q020[SQ004]','Q020[SQ005]','Q021[SQ001]','Q021[SQ002]',\n",
      "               'Q021[SQ003]','Q021[SQ004]','Q021[SQ005]','Q022[SQ001]','Q022[SQ002]','Q022[SQ003]',\n",
      "               'Q022[SQ004]','Q022[SQ005]','Q023[SQ001]','Q023[SQ002]','Q023[SQ003]','Q023[SQ004]',\n",
      "               'Q023[SQ005]','Q023[other]','Q024','Q025','Q026[SQ001]','Q026[SQ002]','Q026[SQ003]',\n",
      "               'Q026[SQ004]','Q026[SQ005]','Q026[SQ006]','Q026[SQ007]','Q026[SQ008]','Q026[other]',\n",
      "               'Q027[SQ001]','Q027[SQ002]','Q027[SQ003]','Q027[SQ004]','Q027[SQ005]','Q027[SQ006]',\n",
      "               'Q027[SQ007]','Q027[SQ008]','Q027[SQ009]','Q027[SQ010]','Q027[SQ011]','Q027[other]',\n",
      "               'Q028[SQ001]','Q028[SQ002]','Q028[SQ003]','Q028[SQ004]','Q028[SQ005]','Q029[SQ001]',\n",
      "               'Q029[SQ002]','Q029[SQ003]','Q029[SQ004]','Q029[SQ005]','Q029[SQ006]','Q029[SQ007]',\n",
      "               'Q030','Q031','Q031[other]','Q032[SQ001]Q032[SQ002]','','Q032[SQ003]','Q032[SQ004]',\n",
      "               'Q032[other]','Q033','Q034','Q035[SQ001]','Q035[SQ002]','Q035[SQ013]','Q035[SQ003]',\n",
      "               'Q035[SQ004]','Q035[SQ005]','Q035[SQ006]','Q035[SQ007]','Q035[SQ008]','Q035[SQ009]',\n",
      "               'Q035[SQ010]','Q035[SQ011]','Q035[SQ012]','Q035[other]','Q036[SQ001]','Q036[SQ002]',\n",
      "               'Q036[SQ003]','Q036[SQ004]','Q036[SQ005]','Q036[other]','Q037','Q038[SQ001]','Q038[SQ002]',\n",
      "               'Q038[SQ003]','Q038[SQ004]','Q038[SQ005]','Q038[other]','Q039[SQ001]','Q039[SQ002]',\n",
      "               'Q039[SQ003]','Q040[SQ001]','Q040[SQ002]','Q040[SQ003]','Q041[SQ001]','Q041[SQ002]',\n",
      "               'Q041[SQ003]','Q041[SQ004]','Q041[other]','Q042[SQ001]','Q042[SQ002]','Q042[SQ003]',\n",
      "               'Q042[SQ004]','Q042[SQ005]','Q042[SQ006]','Q042[other]','Q043[SQ001]','Q043[SQ002]',\n",
      "               'Q043[SQ003]','Q043[SQ004]','Q043[SQ005]','Q043[SQ006]','Q043[SQ007]','Q043[SQ008]',\n",
      "               'Q043[SQ009]','Q044','Q045','Q046[SQ001]Q046[SQ002]','','Q046[SQ003]','Q046[SQ004]',\n",
      "               'Q046[other]','Q047[SQ001]','Q047[SQ002]','Q047[SQ003]','Q047[SQ004]','Q047[SQ005]',\n",
      "               'Q047[other]','Q048[SQ001]','Q048[SQ002]','Q048[SQ003]','Q048[SQ004]','Q048[other]',\n",
      "               'Q049[SQ001]','Q049[SQ002]','Q049[SQ003]','Q049[SQ004]','Q049[SQ005]','Q049[SQ006]',\n",
      "               'Q049[SQ007]','Q049[SQ008]','Q049[other]','Q050[SQ001]','Q050[SQ002]','Q050[SQ003]',\n",
      "               'Q050[SQ004]','Q050[SQ005]','Q050[SQ006]','Q050[other]','Q051[SQ001]','Q051[SQ002]',\n",
      "               'Q051[SQ003]','Q051[SQ004]','Q051[SQ005]','Q051[SQ006]','Q051[SQ007]','Q051[SQ008]',\n",
      "               'Q051[SQ009]','Q051[SQ010]','Q051[SQ011]','Q051[other]','Q052[SQ001]','Q052[SQ002]',\n",
      "               'Q052[SQ003]','Q052[SQ004]','Q052[other]','Q053[SQ001]','Q053[SQ002]','Q053[SQ003]',\n",
      "               'Q053[SQ004]','Q053[SQ005]','Q053[SQ006]','Q053[SQ007]','Q053[SQ008]','Q053[SQ009]',\n",
      "               'Q053[SQ010]','Q053[other]','Q054[SQ001]','Q054[SQ002]','Q054[SQ003]','Q054[SQ004]',\n",
      "               'Q054[SQ005]','Q054[SQ006]','Q054[SQ007]','Q054[SQ008]','Q054[SQ009]','Q054[SQ010]',\n",
      "               'Q054[other]','Q055[SQ001]','Q055[SQ002]','Q055[SQ003]','Q055[SQ004]','Q055[SQ005]',\n",
      "               'Q055[other]','Q056[SQ001]','Q056[SQ002]','Q056[other]','Q057[SQ001]','Q057[SQ002]',\n",
      "               'Q057[SQ003]','Q057[SQ004]','Q057[SQ005]','Q057[other]','Q058[SQ001]','Q058[SQ002]',\n",
      "               'Q058[SQ003]','Q058[other]','Q059','Q060','Q061[SQ001]','Q061[SQ002]','Q061[SQ003]',\n",
      "               'Q061[SQ004]','Q061[SQ005]','Q061[other]','Q062[SQ001]','Q062[SQ002]','Q062[SQ003]',\n",
      "               'Q063','Q064','Q064[filecount]','Q065[SQ001]','Q065[SQ002]','Q065[SQ003]','Q066','Q066[filecount]'\n",
      "               ]\n",
      "\n",
      "data.columns = substitutes"
     ],
     "language": "python",
     "metadata": {},
     "outputs": [],
     "prompt_number": 3
    },
    {
     "cell_type": "code",
     "collapsed": false,
     "input": [
      "# Check data\n",
      "#data[0:4] # Equals to data.head()"
     ],
     "language": "python",
     "metadata": {},
     "outputs": [],
     "prompt_number": 4
    },
    {
     "cell_type": "code",
     "collapsed": false,
     "input": [
      "# Get the distribution of way of living\n",
      "activity = data[\"Q013\"].value_counts()\n",
      "print \"Data:\"\n",
      "print activity\n",
      "print \"\"\n",
      "print \"Data %:\"\n",
      "print data[\"Q013\"].value_counts(normalize=True) * 100\n",
      "\n",
      "# Plot the data\n",
      "plt.figure(figsize=(8,6))\n",
      "plt.xlabel(u'Tipo di Attivit\u00e1')\n",
      "plt.ylabel('Persone')\n",
      "my_colors = seaborn.color_palette(\"husl\", len(activity)) # Set color palette\n",
      "activity.plot(kind=\"bar\",title=u\"Maker: Tipo di attivit\u00e1\",color=my_colors)\n",
      "plt.savefig(u\"pdf/Q013-MakerTipoAttivit\u00e1.pdf\") # Save pdf"
     ],
     "language": "python",
     "metadata": {},
     "outputs": [
      {
       "output_type": "stream",
       "stream": "stdout",
       "text": [
        "Data:\n",
        "No, \u00e8 un\u2019attivit\u00e0 secondaria    60\n",
        "No, \u00e8 solo un hobby             23\n",
        "Si                              20\n",
        "dtype: int64"
       ]
      },
      {
       "output_type": "stream",
       "stream": "stdout",
       "text": [
        "\n",
        "\n",
        "Data %:\n",
        "No, \u00e8 un\u2019attivit\u00e0 secondaria    34.285714\n",
        "No, \u00e8 solo un hobby             13.142857\n",
        "Si                              11.428571\n",
        "dtype: float64\n"
       ]
      },
      {
       "metadata": {},
       "output_type": "display_data",
       "png": "[encoded data removed]",
       "text": [
        "<matplotlib.figure.Figure at 0x10b0b5a50>"
       ]
      }
     ],
     "prompt_number": 5
    },
    {
     "cell_type": "code",
     "collapsed": false,
     "input": [],
     "language": "python",
     "metadata": {},
     "outputs": [],
     "prompt_number": 5
    }
   ],
   "metadata": {}
  }
 ]
}