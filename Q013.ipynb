{
 "metadata": {
  "name": "",
  "signature": "sha256:cea5a9f8eaeec96c279a2c913cbf17ae296f0bb154dcedc973c119ea76e7c699"
 },
 "nbformat": 3,
 "nbformat_minor": 0,
 "worksheets": [
  {
   "cells": [
    {
     "cell_type": "heading",
     "level": 1,
     "metadata": {},
     "source": [
      "Q013 - Il making \u00e8 la tua attivit\u00e0 principale?"
     ]
    },
    {
     "cell_type": "code",
     "collapsed": false,
     "input": [
      "# -*- coding: UTF-8 -*-\n",
      "\n",
      "# Render our plots inline\n",
      "%matplotlib inline \n",
      "\n",
      "import pandas as pd\n",
      "import matplotlib\n",
      "import matplotlib.pyplot as plt\n",
      "import numpy as np\n",
      "import seaborn\n",
      "import shutil\n",
      "\n",
      "pd.set_option('display.mpl_style', 'default') # Make the graphs a bit prettier, overridden by seaborn\n",
      "pd.set_option('display.max_columns', None) # Display all the columns\n",
      "plt.rcParams['font.family'] = 'sans-serif' # Sans Serif fonts for all the graphs\n",
      "\n",
      "# Reference for color palettes: http://web.stanford.edu/~mwaskom/software/seaborn/tutorial/color_palettes.html\n",
      "\n",
      "# Change the font\n",
      "matplotlib.rcParams.update({'font.family': 'Source Sans Pro'})"
     ],
     "language": "python",
     "metadata": {},
     "outputs": [],
     "prompt_number": 1
    },
    {
     "cell_type": "code",
     "collapsed": false,
     "input": [
      "# Load csv file first\n",
      "data = pd.read_csv(\"data/results-makers-40.csv\", encoding=\"utf-8\")"
     ],
     "language": "python",
     "metadata": {},
     "outputs": [],
     "prompt_number": 2
    },
    {
     "cell_type": "code",
     "collapsed": false,
     "input": [
      "# Check data\n",
      "#data[0:4] # Equals to data.head()"
     ],
     "language": "python",
     "metadata": {},
     "outputs": [],
     "prompt_number": 3
    },
    {
     "cell_type": "code",
     "collapsed": false,
     "input": [
      "%%capture output\n",
      "\n",
      "# Save the output as a variable that can be saved to a file\n",
      "# Get the distribution of way of living\n",
      "activity = data[\"Q013\"].value_counts(dropna=False)\n",
      "print \"Data:\"\n",
      "print activity\n",
      "print \"\"\n",
      "print \"Data %:\"\n",
      "print data[\"Q013\"].value_counts(normalize=True,dropna=False) * 100"
     ],
     "language": "python",
     "metadata": {},
     "outputs": [],
     "prompt_number": 4
    },
    {
     "cell_type": "code",
     "collapsed": false,
     "input": [
      "# Save+show the output to a text file\n",
      "%save Q013-MakerTipoAttivit\u00e1.py str(output)\n",
      "shutil.move(\"Q013-MakerTipoAttivit\u00e1.py\", \"text/Q013-MakerTipoAttivit\u00e1.txt\")"
     ],
     "language": "python",
     "metadata": {},
     "outputs": [
      {
       "output_type": "stream",
       "stream": "stdout",
       "text": [
        "The following commands were written to file `Q013-MakerTipoAttivit\u00e1.py`:\n",
        "Data:\n",
        "No, \u00e8 un\u2019attivit\u00e0 secondaria    73\n",
        "Si                              35\n",
        "No, \u00e8 solo un hobby             26\n",
        "NaN                              0\n",
        "dtype: int64\n",
        "\n",
        "Data %:\n",
        "No, \u00e8 un\u2019attivit\u00e0 secondaria    54.477612\n",
        "Si                              26.119403\n",
        "No, \u00e8 solo un hobby             19.402985\n",
        "NaN                              0.000000\n",
        "dtype: float64\n",
        "\n"
       ]
      }
     ],
     "prompt_number": 5
    },
    {
     "cell_type": "code",
     "collapsed": false,
     "input": [
      "# Plot the data\n",
      "plt.figure(figsize=(8,6))\n",
      "plt.xlabel(u'Tipo di Attivit\u00e1', fontsize=16)\n",
      "plt.ylabel('Persone', fontsize=16)\n",
      "plt.title(u\"Il making \u00e8 la tua attivit\u00e0 principale?\", fontsize=18, y=1.02)\n",
      "my_colors = seaborn.color_palette(\"husl\", len(activity)) # Set color palette\n",
      "activity.plot(kind=\"bar\",color=my_colors)\n",
      "plt.savefig(u\"svg/Q013-MakerTipoAttivit\u00e1.svg\")\n",
      "plt.savefig(u\"png/Q013-MakerTipoAttivit\u00e1.png\")\n",
      "plt.savefig(u\"pdf/Q013-MakerTipoAttivit\u00e1.pdf\")"
     ],
     "language": "python",
     "metadata": {},
     "outputs": [
      {
       "metadata": {},
       "output_type": "display_data",
       "png": "[encoded data removed]",
       "text": [
        "<matplotlib.figure.Figure at 0x115222510>"
       ]
      }
     ],
     "prompt_number": 6
    }
   ],
   "metadata": {}
  }
 ]
}