{
 "metadata": {
  "name": "",
  "signature": "sha256:34763dee4c52715a27ff27df5258186abb9158a92bd5f044f0fae7972947995a"
 },
 "nbformat": 3,
 "nbformat_minor": 0,
 "worksheets": [
  {
   "cells": [
    {
     "cell_type": "heading",
     "level": 1,
     "metadata": {},
     "source": [
      "Q037 - Che attivit\u00e1 svolgi all'interno di queste comunit\u00e1?"
     ]
    },
    {
     "cell_type": "code",
     "collapsed": false,
     "input": [
      "# -*- coding: UTF-8 -*-\n",
      "\n",
      "# Render our plots inline\n",
      "%matplotlib inline \n",
      "\n",
      "import pandas as pd\n",
      "import matplotlib\n",
      "import matplotlib.pyplot as plt\n",
      "import numpy as np\n",
      "import seaborn\n",
      "import shutil\n",
      "\n",
      "pd.set_option('display.mpl_style', 'default') # Make the graphs a bit prettier, overridden by seaborn\n",
      "pd.set_option('display.max_columns', None) # Display all the columns\n",
      "plt.rcParams['font.family'] = 'sans-serif' # Sans Serif fonts for all the graphs\n",
      "\n",
      "# Reference for color palettes: http://web.stanford.edu/~mwaskom/software/seaborn/tutorial/color_palettes.html\n",
      "\n",
      "# Change the font\n",
      "matplotlib.rcParams.update({'font.family': 'Source Sans Pro'})"
     ],
     "language": "python",
     "metadata": {},
     "outputs": [],
     "prompt_number": 1
    },
    {
     "cell_type": "code",
     "collapsed": false,
     "input": [
      "# Load csv file first\n",
      "data = pd.read_csv(\"data/results-makers-40.csv\", encoding=\"utf-8\")"
     ],
     "language": "python",
     "metadata": {},
     "outputs": [],
     "prompt_number": 2
    },
    {
     "cell_type": "code",
     "collapsed": false,
     "input": [
      "# Check data\n",
      "#data[0:4] # Equals to data.head()"
     ],
     "language": "python",
     "metadata": {},
     "outputs": [],
     "prompt_number": 3
    },
    {
     "cell_type": "code",
     "collapsed": false,
     "input": [
      "# Range: Q037[SQ001] - Q037[SQ005] - Q037[other]\n",
      "\n",
      "communities_columns = ['Q037[SQ001]','Q037[SQ002]','Q037[SQ003]','Q037[SQ004]','Q037[SQ005]']\n",
      "communities_options = [u'Seguo le attivit\u00e1 della comunit\u00e1',\n",
      "                    'Scarico i contenuti disponibili',\n",
      "                    'Partecipo alla produzione e allo scambio di contenuti',\n",
      "                    'Partecipo allo sviluppo di progetti',\n",
      "                    \"Partecipo all'organizzazione di eventi\"\n",
      "                    ]\n",
      "communities = data[communities_columns]\n",
      "communities.replace(u'S\u00ec', 'Si', inplace=True) # Get rid of accented characters \n",
      "communities_other = data['Q037[other]'].str.lower().value_counts()"
     ],
     "language": "python",
     "metadata": {},
     "outputs": [
      {
       "output_type": "stream",
       "stream": "stderr",
       "text": [
        "-c:11: SettingWithCopyWarning: \n",
        "A value is trying to be set on a copy of a slice from a DataFrame\n",
        "\n",
        "See the the caveats in the documentation: http://pandas.pydata.org/pandas-docs/stable/indexing.html#indexing-view-versus-copy\n"
       ]
      }
     ],
     "prompt_number": 4
    },
    {
     "cell_type": "code",
     "collapsed": false,
     "input": [
      "#communities[0:4]"
     ],
     "language": "python",
     "metadata": {},
     "outputs": [],
     "prompt_number": 5
    },
    {
     "cell_type": "code",
     "collapsed": false,
     "input": [
      "%%capture output\n",
      "\n",
      "# Save the output as a variable that can be saved to a file\n",
      "# Gather data\n",
      "communities_b = {}\n",
      "for k,i in enumerate(communities_columns):\n",
      "    communities_b[k] = communities[i].value_counts(dropna=False)\n",
      "    print \"Data:\",communities_options[k].encode('utf-8')\n",
      "    print communities_b[k]\n",
      "    print\n",
      "    print \"Data %:\",communities_options[k].encode('utf-8')\n",
      "    print communities[i].value_counts(normalize=True,dropna=False)*100\n",
      "    print"
     ],
     "language": "python",
     "metadata": {},
     "outputs": [],
     "prompt_number": 6
    },
    {
     "cell_type": "code",
     "collapsed": false,
     "input": [
      "# Save+show the output to a text file\n",
      "%save Q037-communities01.py str(output)\n",
      "shutil.move(\"Q037-communities01.py\", \"text/Q037-communities01.txt\")"
     ],
     "language": "python",
     "metadata": {},
     "outputs": [
      {
       "output_type": "stream",
       "stream": "stdout",
       "text": [
        "The following commands were written to file `Q037-communities01.py`:\n",
        "Data: Seguo le attivit\u00e1 della comunit\u00e1\n",
        "Si     74\n",
        "NaN    46\n",
        "No     14\n",
        "dtype: int64\n",
        "\n",
        "Data %: Seguo le attivit\u00e1 della comunit\u00e1\n",
        "Si     55.223881\n",
        "NaN    34.328358\n",
        "No     10.447761\n",
        "dtype: float64\n",
        "\n",
        "Data: Scarico i contenuti disponibili\n",
        "No     52\n",
        "NaN    46\n",
        "Si     36\n",
        "dtype: int64\n",
        "\n",
        "Data %: Scarico i contenuti disponibili\n",
        "No     38.805970\n",
        "NaN    34.328358\n",
        "Si     26.865672\n",
        "dtype: float64\n",
        "\n",
        "Data: Partecipo alla produzione e allo scambio di contenuti\n",
        "No     54\n",
        "NaN    46\n",
        "Si     34\n",
        "dtype: int64\n",
        "\n",
        "Data %: Partecipo alla produzione e allo scambio di contenuti\n",
        "No     40.298507\n",
        "NaN    34.328358\n",
        "Si     25.373134\n",
        "dtype: float64\n",
        "\n",
        "Data: Partecipo allo sviluppo di progetti\n",
        "No     73\n",
        "NaN    46\n",
        "Si     15\n",
        "dtype: int64\n",
        "\n",
        "Data %: Partecipo allo sviluppo di progetti\n",
        "No     54.477612\n",
        "NaN    34.328358\n",
        "Si     11.194030\n",
        "dtype: float64\n",
        "\n",
        "Data: Partecipo all'organizzazione di eventi\n",
        "No     73\n",
        "NaN    46\n",
        "Si     15\n",
        "dtype: int64\n",
        "\n",
        "Data %: Partecipo all'organizzazione di eventi\n",
        "No     54.477612\n",
        "NaN    34.328358\n",
        "Si     11.194030\n",
        "dtype: float64\n",
        "\n",
        "\n"
       ]
      }
     ],
     "prompt_number": 7
    },
    {
     "cell_type": "code",
     "collapsed": false,
     "input": [
      "yes = []\n",
      "no = []\n",
      "nanvalue = []\n",
      "\n",
      "for k,i in enumerate(communities_columns):\n",
      "    communities_presents = communities_b[k].index.tolist()\n",
      "    \n",
      "    #\u00a0Convert NaN to \"NaN\"\n",
      "    for o,h in enumerate(communities_presents):\n",
      "        if type(h) is float:\n",
      "            communities_presents.pop(o)\n",
      "            communities_presents.append(\"NaN\")\n",
      "    \n",
      "    #\u00a0Reassign new list with \"NaN\"\n",
      "    communities_b[k].index = communities_presents\n",
      "    \n",
      "    #\u00a0Check for empty values, and put a 0 instead\n",
      "    if \"Si\" not in communities_presents:\n",
      "        yes.append(0)\n",
      "    if \"No\" not in communities_presents:\n",
      "        no.append(0)\n",
      "    if \"NaN\" not in communities_presents:\n",
      "        nanvalue.append(0)\n",
      "    \n",
      "    for j in communities_presents:\n",
      "        if j == \"Si\":\n",
      "            yes.append(communities_b[k].ix[\"Si\"])\n",
      "        elif j == \"No\":\n",
      "            no.append(communities_b[k].ix[\"No\"])\n",
      "        elif j == \"NaN\":\n",
      "            nanvalue.append(communities_b[k].ix[\"NaN\"]) "
     ],
     "language": "python",
     "metadata": {},
     "outputs": [],
     "prompt_number": 8
    },
    {
     "cell_type": "code",
     "collapsed": false,
     "input": [
      "# Plot the data\n",
      "plt.figure(figsize=(12,6))\n",
      "plt.xlabel(u'Attivit\u00e1', fontsize=16)\n",
      "plt.ylabel('Persone', fontsize=16)\n",
      "plt.title(u\"Che attivit\u00e1 svolgi all'interno di queste comunit\u00e1?\", fontsize=18, y=1.02)\n",
      "plt.xticks(range(len(communities_options)+1),communities_options,rotation=90)\n",
      "ind = np.arange(len(communities_columns))   # the x locations for the groups\n",
      "width = 0.25                              # the width of the bars\n",
      "\n",
      "my_colors = seaborn.color_palette(\"Set1\", 3) # Set color palette\n",
      "rect1 = plt.bar(ind,yes,width,color=my_colors[1],align='center') # Plot Yes\n",
      "rect2 = plt.bar(ind+width,no,width,color=my_colors[0],align='center') # Plot No \n",
      "rect3 = plt.bar(ind+width*2,nanvalue,width,color=my_colors[2],align='center') # Plot NaN\n",
      "plt.legend( (rect1, rect2, rect3), ('Si', 'No', 'NaN') )\n",
      "plt.savefig(\"svg/Q037-communities01.svg\")\n",
      "plt.savefig(\"png/Q037-communities01.png\")\n",
      "plt.savefig(\"pdf/Q037-communities01.pdf\")"
     ],
     "language": "python",
     "metadata": {},
     "outputs": [
      {
       "metadata": {},
       "output_type": "display_data",
       "png": "[encoded data removed]",
       "text": [
        "<matplotlib.figure.Figure at 0x107e857d0>"
       ]
      }
     ],
     "prompt_number": 9
    },
    {
     "cell_type": "code",
     "collapsed": false,
     "input": [
      "%%capture output\n",
      "\n",
      "# Save the output as a variable that can be saved to a file\n",
      "# Get \"other\" data\n",
      "communities_other = data[\"Q037[other]\"].str.lower().value_counts()\n",
      "print \"Data:\"\n",
      "print communities_other\n",
      "print \"\"\n",
      "print \"Data %:\"\n",
      "print data[\"Q037[other]\"].str.lower().value_counts(normalize=True) * 100"
     ],
     "language": "python",
     "metadata": {},
     "outputs": [],
     "prompt_number": 10
    },
    {
     "cell_type": "code",
     "collapsed": false,
     "input": [
      "# Save+show the output to a text file\n",
      "%save Q037-communities01.py str(output)\n",
      "shutil.move(\"Q037-communities01.py\", \"text/Q037-communities01.txt\")"
     ],
     "language": "python",
     "metadata": {},
     "outputs": [
      {
       "output_type": "stream",
       "stream": "stdout",
       "text": [
        "The following commands were written to file `Q037-communities01.py`:\n",
        "Data:\n",
        "Series([], dtype: int64)\n",
        "\n",
        "Data %:\n",
        "Series([], dtype: float64)\n",
        "\n"
       ]
      }
     ],
     "prompt_number": 11
    },
    {
     "cell_type": "code",
     "collapsed": false,
     "input": [
      "# Plot bar\n",
      "plt.figure(figsize=(8,6))\n",
      "plt.title(u\"Che attivit\u00e1 svolgi all'interno di queste comunit\u00e1? Altro\", fontsize=18, y=1.02)\n",
      "plt.xticks(range(len(communities_other.index)),communities_other.index,rotation=90)\n",
      "plt.xlabel(u'Attivit\u00e1', fontsize=16)\n",
      "plt.ylabel('Persone', fontsize=16)\n",
      "ind = np.arange(len(communities_other))   # the x locations for the groups\n",
      "width = 0.35                       # the width of the bars\n",
      "\n",
      "my_colors = seaborn.color_palette(\"husl\", len(communities_other)) # Set color palette\n",
      "rect1 = plt.bar(ind,communities_other,width,color=my_colors,align='center')\n",
      "plt.savefig(\"svg/Q037-communities02.svg\")\n",
      "plt.savefig(\"png/Q037-communities02.png\")\n",
      "plt.savefig(\"pdf/Q037-communities02.pdf\")"
     ],
     "language": "python",
     "metadata": {},
     "outputs": [
      {
       "metadata": {},
       "output_type": "display_data",
       "png": "[encoded data removed]",
       "text": [
        "<matplotlib.figure.Figure at 0x107e855d0>"
       ]
      }
     ],
     "prompt_number": 12
    },
    {
     "cell_type": "code",
     "collapsed": false,
     "input": [],
     "language": "python",
     "metadata": {},
     "outputs": [],
     "prompt_number": 12
    }
   ],
   "metadata": {}
  }
 ]
}