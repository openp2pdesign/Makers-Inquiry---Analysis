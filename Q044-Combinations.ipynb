{
 "metadata": {
  "name": "",
  "signature": "sha256:ac9eca841fb54f91336b984e328830ca2b7c7999e7701df4ac839355b69905ea"
 },
 "nbformat": 3,
 "nbformat_minor": 0,
 "worksheets": [
  {
   "cells": [
    {
     "cell_type": "heading",
     "level": 1,
     "metadata": {},
     "source": [
      "Q044 - Che tipo di progetti o prodotti realizzi?"
     ]
    },
    {
     "cell_type": "code",
     "collapsed": false,
     "input": [
      "# -*- coding: UTF-8 -*-\n",
      "\n",
      "# Render our plots inline\n",
      "%matplotlib inline \n",
      "\n",
      "import pandas as pd\n",
      "import matplotlib\n",
      "import matplotlib.pyplot as plt\n",
      "import numpy as np\n",
      "import seaborn\n",
      "import shutil\n",
      "\n",
      "pd.set_option('display.mpl_style', 'default') # Make the graphs a bit prettier, overridden by seaborn\n",
      "pd.set_option('display.max_columns', None) # Display all the columns\n",
      "plt.rcParams['font.family'] = 'sans-serif' # Sans Serif fonts for all the graphs\n",
      "\n",
      "# Reference for color palettes: http://web.stanford.edu/~mwaskom/software/seaborn/tutorial/color_palettes.html\n",
      "\n",
      "# Change the font\n",
      "matplotlib.rcParams.update({'font.family': 'Source Sans Pro'})"
     ],
     "language": "python",
     "metadata": {},
     "outputs": [],
     "prompt_number": 1
    },
    {
     "cell_type": "code",
     "collapsed": false,
     "input": [
      "# Load csv file first\n",
      "data = pd.read_csv(\"data/results-makers-40.csv\", encoding=\"utf-8\")"
     ],
     "language": "python",
     "metadata": {},
     "outputs": [],
     "prompt_number": 2
    },
    {
     "cell_type": "code",
     "collapsed": false,
     "input": [
      "# Check data\n",
      "#data[0:4] # Equals to data.head()"
     ],
     "language": "python",
     "metadata": {},
     "outputs": [],
     "prompt_number": 3
    },
    {
     "cell_type": "code",
     "collapsed": false,
     "input": [
      "# Range: Q044[SQ001] - Q044[SQ009]\n",
      "\n",
      "project_type_columns = ['Q044[SQ001]','Q044[SQ002]','Q044[SQ003]','Q044[SQ004]','Q044[SQ005]','Q044[SQ006]','Q044[SQ007]','Q044[SQ008]','Q044[SQ009]']\n",
      "project_type_options = ['Prototipi',\n",
      "                  'Prodotti unici',\n",
      "                  'Prodotti personalizzati',\n",
      "                  'Prodotti hackerati',\n",
      "                  'Prodotti rigenerati',\n",
      "                  'Prodotti riparati',\n",
      "                  'Prodotti in edizioni limitate',\n",
      "                  'Prodotto in piccola serie',\n",
      "                  'Programmi e applicazioni (software)']\n",
      "project_type = data[project_type_columns]\n",
      "project_type.replace(u'S\u00ec', 'Si', inplace=True) # Get rid of accented characters "
     ],
     "language": "python",
     "metadata": {},
     "outputs": [
      {
       "output_type": "stream",
       "stream": "stderr",
       "text": [
        "-c:14: SettingWithCopyWarning: \n",
        "A value is trying to be set on a copy of a slice from a DataFrame\n",
        "\n",
        "See the the caveats in the documentation: http://pandas.pydata.org/pandas-docs/stable/indexing.html#indexing-view-versus-copy\n"
       ]
      }
     ],
     "prompt_number": 4
    },
    {
     "cell_type": "code",
     "collapsed": false,
     "input": [
      "#project:type[0:4]"
     ],
     "language": "python",
     "metadata": {},
     "outputs": [],
     "prompt_number": 5
    },
    {
     "cell_type": "heading",
     "level": 2,
     "metadata": {},
     "source": [
      "Combinations..."
     ]
    },
    {
     "cell_type": "code",
     "collapsed": false,
     "input": [
      "# Create all the possible combinations from the main options\n",
      "# See http://stackoverflow.com/questions/17176887/python-get-all-permutation-of-a-list-w-o-repetitions\n",
      "\n",
      "import itertools \n",
      "\n",
      "all_combinations = {}\n",
      "all_combinations_columns = []\n",
      "\n",
      "for i in range(1, len(project_type_columns)+1):\n",
      "    comb = list(itertools.combinations(project_type_columns, i))\n",
      "    for k in comb:\n",
      "        #\u00a0Each combination\n",
      "        all_combinations[k] = {}\n",
      "        all_combinations[k][\"col_list\"] = list(k)\n",
      "        #\u00a0Build the string and boolean list of each combination\n",
      "        comb_list = []\n",
      "        comb_bool_list = []\n",
      "        # Put default False value\n",
      "        for l in project_type_columns:\n",
      "            comb_bool_list.append(False)\n",
      "        for j in k:\n",
      "            pos = project_type_columns.index(j) # Get position\n",
      "            comb_list.append(project_type_options[pos])\n",
      "            comb_bool_list[pos] = True\n",
      "        all_combinations[k][\"list\"] = comb_list\n",
      "        all_combinations[k][\"bool_list\"] = comb_bool_list\n",
      "        all_combinations[k][\"str\"] = \", \".join(comb_list)"
     ],
     "language": "python",
     "metadata": {},
     "outputs": [],
     "prompt_number": 6
    },
    {
     "cell_type": "code",
     "collapsed": false,
     "input": [
      "#\u00a0Check which combinations correspond each row\n",
      "str_values = []\n",
      "for i in project_type.index:\n",
      "    current_bool_list = list(project_type.ix[i].isin([\"Si\"]))\n",
      "    for i in all_combinations:\n",
      "        if current_bool_list == all_combinations[i][\"bool_list\"]:\n",
      "            str_values.append(all_combinations[i][\"str\"])"
     ],
     "language": "python",
     "metadata": {},
     "outputs": [],
     "prompt_number": 7
    },
    {
     "cell_type": "code",
     "collapsed": false,
     "input": [
      "# Add combination column\n",
      "project_type[\"Combination\"] = pd.Series(str_values)"
     ],
     "language": "python",
     "metadata": {},
     "outputs": [
      {
       "output_type": "stream",
       "stream": "stderr",
       "text": [
        "-c:2: SettingWithCopyWarning: \n",
        "A value is trying to be set on a copy of a slice from a DataFrame.\n",
        "Try using .loc[row_indexer,col_indexer] = value instead\n",
        "\n",
        "See the the caveats in the documentation: http://pandas.pydata.org/pandas-docs/stable/indexing.html#indexing-view-versus-copy\n"
       ]
      }
     ],
     "prompt_number": 8
    },
    {
     "cell_type": "code",
     "collapsed": false,
     "input": [
      "# Gather data\n",
      "resulting_combinations = project_type[\"Combination\"].value_counts(dropna=False)\n",
      "resulting_combinations_percentage = project_type[\"Combination\"].value_counts(normalize=True,dropna=False)*100"
     ],
     "language": "python",
     "metadata": {},
     "outputs": [],
     "prompt_number": 9
    },
    {
     "cell_type": "code",
     "collapsed": false,
     "input": [
      "#\u00a0Plotting the first 10 values of the most popular combinations\n",
      "resulting_combinations[0:10].plot(kind='bar',figsize=(20,10),rot=90)\n",
      "plt.title(u\"Che tipo di progetti o prodotti realizzi? Combinazioni\", fontsize=18, y=1.02)\n",
      "plt.ylabel(\"Persone\", fontsize=16)\n",
      "plt.xlabel(\"Combinazioni\", fontsize=16)\n",
      "plt.savefig(\"svg/Q044-Combinazioni.svg\")\n",
      "plt.savefig(\"png/Q044-Combinazioni.png\")\n",
      "plt.savefig(\"pdf/Q044-Combinazioni.pdf\")"
     ],
     "language": "python",
     "metadata": {},
     "outputs": [
      {
       "metadata": {},
       "output_type": "display_data",
       "png": "[encoded data removed]",
       "text": [
        "<matplotlib.figure.Figure at 0x10fa6fb50>"
       ]
      }
     ],
     "prompt_number": 10
    },
    {
     "cell_type": "code",
     "collapsed": false,
     "input": [
      "%%capture output\n",
      "\n",
      "# Save the output as a variable that can be saved to a file\n",
      "# Data of the combinations\n",
      "print \"Data:\"\n",
      "print resulting_combinations\n",
      "print\n",
      "# Data of the combinations: percentage\n",
      "print \"Data %:\"\n",
      "print resulting_combinations_percentage"
     ],
     "language": "python",
     "metadata": {},
     "outputs": [],
     "prompt_number": 11
    },
    {
     "cell_type": "code",
     "collapsed": false,
     "input": [
      "# Save+show the output to a text file\n",
      "%save Q044-Combinazioni.py str(output)\n",
      "shutil.move(\"Q044-Combinazioni.py\", \"text/Q044-Combinazioni.txt\")"
     ],
     "language": "python",
     "metadata": {},
     "outputs": [
      {
       "output_type": "stream",
       "stream": "stdout",
       "text": [
        "The following commands were written to file `Q044-Combinazioni.py`:\n",
        "Data:\n",
        "NaN                                                             9\n",
        "Prototipi                                                       8\n",
        "Prodotto in piccola serie                                       8\n",
        "Prodotti in edizioni limitate, Prodotto in piccola serie        6\n",
        "Prototipi, Prodotto in piccola serie                            6\n",
        "Prototipi, Prodotti unici, Prodotti personalizzati              6\n",
        "Prototipi, Prodotti personalizzati                              5\n",
        "Prodotti in edizioni limitate                                   5\n",
        "Prodotti personalizzati, Prodotto in piccola serie              5\n",
        "Prototipi, Prodotti unici, Prodotti personalizzati, Prodotti in edizioni limitate, Prodotto in piccola serie    4\n",
        "Prototipi, Prodotti unici                                       4\n",
        "Prodotti unici, Prodotti personalizzati                         3\n",
        "Prototipi, Prodotti unici, Prodotto in piccola serie            3\n",
        "Prodotti unici                                                  3\n",
        "Prototipi, Prodotti unici, Prodotti personalizzati, Prodotto in piccola serie    3\n",
        "Prototipi, Prodotti personalizzati, Prodotto in piccola serie    3\n",
        "Prototipi, Prodotti unici, Prodotti in edizioni limitate, Prodotto in piccola serie    2\n",
        "Prototipi, Prodotti personalizzati, Prodotti in edizioni limitate, Prodotto in piccola serie    2\n",
        "Programmi e applicazioni (software)                             2\n",
        "Prodotti personalizzati, Prodotti in edizioni limitate, Prodotto in piccola serie    2\n",
        "Prototipi, Prodotti unici, Prodotti personalizzati, Prodotti rigenerati, Prodotti riparati, Prodotti in edizioni limitate, Prodotto in piccola serie    2\n",
        "Prodotti personalizzati                                         2\n",
        "Prototipi, Prodotti unici, Programmi e applicazioni (software)    2\n",
        "Prototipi, Prodotti hackerati, Programmi e applicazioni (software)    2\n",
        "Prodotti unici, Prodotti personalizzati, Prodotti in edizioni limitate, Prodotto in piccola serie    2\n",
        "Prodotti unici, Prodotti personalizzati, Prodotto in piccola serie    2\n",
        "Prodotti rigenerati, Prodotti riparati                          1\n",
        "Prodotti hackerati, Programmi e applicazioni (software)         1\n",
        "Prototipi, Prodotti hackerati, Prodotti rigenerati, Prodotti riparati    1\n",
        "Prototipi, Prodotti personalizzati, Prodotti hackerati, Prodotti rigenerati, Prodotti riparati, Prodotto in piccola serie    1\n",
        "Prodotti personalizzati, Prodotti hackerati                     1\n",
        "Prodotti unici, Prodotti in edizioni limitate, Prodotto in piccola serie    1\n",
        "Prodotti unici, Prodotti personalizzati, Prodotti rigenerati, Prodotti in edizioni limitate, Prodotto in piccola serie    1\n",
        "Prototipi, Prodotti unici, Prodotti personalizzati, Prodotti riparati, Prodotto in piccola serie, Programmi e applicazioni (software)    1\n",
        "Prototipi, Prodotti personalizzati, Prodotti hackerati, Prodotti riparati, Prodotto in piccola serie    1\n",
        "Prototipi, Prodotti unici, Prodotti personalizzati, Prodotti in edizioni limitate    1\n",
        "Prototipi, Prodotti unici, Prodotti personalizzati, Prodotti hackerati, Prodotti rigenerati, Prodotto in piccola serie    1\n",
        "Prodotti unici, Prodotti rigenerati                             1\n",
        "Prototipi, Prodotti unici, Prodotti personalizzati, Prodotti hackerati, Prodotti rigenerati    1\n",
        "Prototipi, Prodotti unici, Prodotti personalizzati, Prodotti riparati, Prodotti in edizioni limitate, Prodotto in piccola serie    1\n",
        "Prototipi, Prodotti personalizzati, Prodotti rigenerati         1\n",
        "Prototipi, Prodotti unici, Prodotti rigenerati                  1\n",
        "Prototipi, Programmi e applicazioni (software)                  1\n",
        "Prodotti unici, Prodotti personalizzati, Prodotti in edizioni limitate    1\n",
        "Prototipi, Prodotti unici, Prodotti riparati                    1\n",
        "Prototipi, Prodotti rigenerati, Prodotti riparati, Prodotto in piccola serie    1\n",
        "Prototipi, Prodotti unici, Prodotti personalizzati, Prodotti hackerati, Prodotti rigenerati, Prodotti riparati, Prodotti in edizioni limitate, Prodotto in piccola serie    1\n",
        "Prototipi, Prodotti personalizzati, Prodotti riparati, Programmi e applicazioni (software)    1\n",
        "Prototipi, Prodotti in edizioni limitate, Prodotto in piccola serie    1\n",
        "Prototipi, Prodotti unici, Prodotti personalizzati, Prodotti rigenerati, Prodotti in edizioni limitate, Prodotto in piccola serie    1\n",
        "Prototipi, Prodotti unici, Prodotti in edizioni limitate, Programmi e applicazioni (software)    1\n",
        "Prototipi, Prodotti unici, Prodotti personalizzati, Prodotti hackerati, Prodotto in piccola serie, Programmi e applicazioni (software)    1\n",
        "Prototipi, Prodotti unici, Prodotti in edizioni limitate        1\n",
        "Prototipi, Prodotti personalizzati, Prodotti riparati, Prodotti in edizioni limitate    1\n",
        "Prototipi, Prodotti personalizzati, Programmi e applicazioni (software)    1\n",
        "Prototipi, Prodotti personalizzati, Prodotti hackerati, Prodotti in edizioni limitate, Prodotto in piccola serie, Programmi e applicazioni (software)    1\n",
        "Prodotti unici, Prodotti in edizioni limitate                   1\n",
        "Prodotti unici, Prodotto in piccola serie                       1\n",
        "Prototipi, Prodotti riparati                                    1\n",
        "Length: 59, dtype: int64\n",
        "\n",
        "Data %:\n",
        "NaN                                                             6.716418\n",
        "Prototipi                                                       5.970149\n",
        "Prodotto in piccola serie                                       5.970149\n",
        "Prodotti in edizioni limitate, Prodotto in piccola serie        4.477612\n",
        "Prototipi, Prodotto in piccola serie                            4.477612\n",
        "Prototipi, Prodotti unici, Prodotti personalizzati              4.477612\n",
        "Prototipi, Prodotti personalizzati                              3.731343\n",
        "Prodotti in edizioni limitate                                   3.731343\n",
        "Prodotti personalizzati, Prodotto in piccola serie              3.731343\n",
        "Prototipi, Prodotti unici, Prodotti personalizzati, Prodotti in edizioni limitate, Prodotto in piccola serie    2.985075\n",
        "Prototipi, Prodotti unici                                       2.985075\n",
        "Prodotti unici, Prodotti personalizzati                         2.238806\n",
        "Prototipi, Prodotti unici, Prodotto in piccola serie            2.238806\n",
        "Prodotti unici                                                  2.238806\n",
        "Prototipi, Prodotti unici, Prodotti personalizzati, Prodotto in piccola serie    2.238806\n",
        "Prototipi, Prodotti personalizzati, Prodotto in piccola serie    2.238806\n",
        "Prototipi, Prodotti unici, Prodotti in edizioni limitate, Prodotto in piccola serie    1.492537\n",
        "Prototipi, Prodotti personalizzati, Prodotti in edizioni limitate, Prodotto in piccola serie    1.492537\n",
        "Programmi e applicazioni (software)                             1.492537\n",
        "Prodotti personalizzati, Prodotti in edizioni limitate, Prodotto in piccola serie    1.492537\n",
        "Prototipi, Prodotti unici, Prodotti personalizzati, Prodotti rigenerati, Prodotti riparati, Prodotti in edizioni limitate, Prodotto in piccola serie    1.492537\n",
        "Prodotti personalizzati                                         1.492537\n",
        "Prototipi, Prodotti unici, Programmi e applicazioni (software)    1.492537\n",
        "Prototipi, Prodotti hackerati, Programmi e applicazioni (software)    1.492537\n",
        "Prodotti unici, Prodotti personalizzati, Prodotti in edizioni limitate, Prodotto in piccola serie    1.492537\n",
        "Prodotti unici, Prodotti personalizzati, Prodotto in piccola serie    1.492537\n",
        "Prodotti rigenerati, Prodotti riparati                          0.746269\n",
        "Prodotti hackerati, Programmi e applicazioni (software)         0.746269\n",
        "Prototipi, Prodotti hackerati, Prodotti rigenerati, Prodotti riparati    0.746269\n",
        "Prototipi, Prodotti personalizzati, Prodotti hackerati, Prodotti rigenerati, Prodotti riparati, Prodotto in piccola serie    0.746269\n",
        "Prodotti personalizzati, Prodotti hackerati                     0.746269\n",
        "Prodotti unici, Prodotti in edizioni limitate, Prodotto in piccola serie    0.746269\n",
        "Prodotti unici, Prodotti personalizzati, Prodotti rigenerati, Prodotti in edizioni limitate, Prodotto in piccola serie    0.746269\n",
        "Prototipi, Prodotti unici, Prodotti personalizzati, Prodotti riparati, Prodotto in piccola serie, Programmi e applicazioni (software)    0.746269\n",
        "Prototipi, Prodotti personalizzati, Prodotti hackerati, Prodotti riparati, Prodotto in piccola serie    0.746269\n",
        "Prototipi, Prodotti unici, Prodotti personalizzati, Prodotti in edizioni limitate    0.746269\n",
        "Prototipi, Prodotti unici, Prodotti personalizzati, Prodotti hackerati, Prodotti rigenerati, Prodotto in piccola serie    0.746269\n",
        "Prodotti unici, Prodotti rigenerati                             0.746269\n",
        "Prototipi, Prodotti unici, Prodotti personalizzati, Prodotti hackerati, Prodotti rigenerati    0.746269\n",
        "Prototipi, Prodotti unici, Prodotti personalizzati, Prodotti riparati, Prodotti in edizioni limitate, Prodotto in piccola serie    0.746269\n",
        "Prototipi, Prodotti personalizzati, Prodotti rigenerati         0.746269\n",
        "Prototipi, Prodotti unici, Prodotti rigenerati                  0.746269\n",
        "Prototipi, Programmi e applicazioni (software)                  0.746269\n",
        "Prodotti unici, Prodotti personalizzati, Prodotti in edizioni limitate    0.746269\n",
        "Prototipi, Prodotti unici, Prodotti riparati                    0.746269\n",
        "Prototipi, Prodotti rigenerati, Prodotti riparati, Prodotto in piccola serie    0.746269\n",
        "Prototipi, Prodotti unici, Prodotti personalizzati, Prodotti hackerati, Prodotti rigenerati, Prodotti riparati, Prodotti in edizioni limitate, Prodotto in piccola serie    0.746269\n",
        "Prototipi, Prodotti personalizzati, Prodotti riparati, Programmi e applicazioni (software)    0.746269\n",
        "Prototipi, Prodotti in edizioni limitate, Prodotto in piccola serie    0.746269\n",
        "Prototipi, Prodotti unici, Prodotti personalizzati, Prodotti rigenerati, Prodotti in edizioni limitate, Prodotto in piccola serie    0.746269\n",
        "Prototipi, Prodotti unici, Prodotti in edizioni limitate, Programmi e applicazioni (software)    0.746269\n",
        "Prototipi, Prodotti unici, Prodotti personalizzati, Prodotti hackerati, Prodotto in piccola serie, Programmi e applicazioni (software)    0.746269\n",
        "Prototipi, Prodotti unici, Prodotti in edizioni limitate        0.746269\n",
        "Prototipi, Prodotti personalizzati, Prodotti riparati, Prodotti in edizioni limitate    0.746269\n",
        "Prototipi, Prodotti personalizzati, Programmi e applicazioni (software)    0.746269\n",
        "Prototipi, Prodotti personalizzati, Prodotti hackerati, Prodotti in edizioni limitate, Prodotto in piccola serie, Programmi e applicazioni (software)    0.746269\n",
        "Prodotti unici, Prodotti in edizioni limitate                   0.746269\n",
        "Prodotti unici, Prodotto in piccola serie                       0.746269\n",
        "Prototipi, Prodotti riparati                                    0.746269\n",
        "Length: 59, dtype: float64\n",
        "\n"
       ]
      }
     ],
     "prompt_number": 12
    }
   ],
   "metadata": {}
  }
 ]
}