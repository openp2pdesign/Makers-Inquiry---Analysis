{
 "metadata": {
  "name": "",
  "signature": "sha256:053621117749ca51bfaed88e87d003e9cd0b9e5b260e96da26025730101b5cd0"
 },
 "nbformat": 3,
 "nbformat_minor": 0,
 "worksheets": [
  {
   "cells": [
    {
     "cell_type": "heading",
     "level": 1,
     "metadata": {},
     "source": [
      "Q019 - Dove svolgi la tua attivit\u00e0 di making?"
     ]
    },
    {
     "cell_type": "code",
     "collapsed": false,
     "input": [
      "# -*- coding: UTF-8 -*-\n",
      "\n",
      "# Render our plots inline\n",
      "%matplotlib inline \n",
      "\n",
      "import pandas as pd\n",
      "import matplotlib\n",
      "import matplotlib.pyplot as plt\n",
      "import numpy as np\n",
      "import seaborn\n",
      "import shutil\n",
      "\n",
      "pd.set_option('display.mpl_style', 'default') # Make the graphs a bit prettier, overridden by seaborn\n",
      "pd.set_option('display.max_columns', None) # Display all the columns\n",
      "plt.rcParams['font.family'] = 'sans-serif' # Sans Serif fonts for all the graphs\n",
      "\n",
      "# Reference for color palettes: http://web.stanford.edu/~mwaskom/software/seaborn/tutorial/color_palettes.html\n",
      "\n",
      "# Change the font\n",
      "matplotlib.rcParams.update({'font.family': 'Source Sans Pro'})"
     ],
     "language": "python",
     "metadata": {},
     "outputs": [],
     "prompt_number": 1
    },
    {
     "cell_type": "code",
     "collapsed": false,
     "input": [
      "# Load csv file first\n",
      "data = pd.read_csv(\"data/results-makers-40.csv\", encoding=\"utf-8\")"
     ],
     "language": "python",
     "metadata": {},
     "outputs": [],
     "prompt_number": 2
    },
    {
     "cell_type": "code",
     "collapsed": false,
     "input": [
      "# Check data\n",
      "#data[0:4] # Equals to data.head()"
     ],
     "language": "python",
     "metadata": {},
     "outputs": [],
     "prompt_number": 3
    },
    {
     "cell_type": "code",
     "collapsed": false,
     "input": [
      "# Range: Q019[SQ001] - Q019[SQ009] - Q009[other]\n",
      "\n",
      "places_columns = ['Q019[SQ001]','Q019[SQ002]','Q019[SQ003]','Q019[SQ004]',\n",
      "                  'Q019[SQ005]','Q019[SQ006]','Q019[SQ007]','Q019[SQ008]','Q019[SQ009]']\n",
      "places_options = [u'Casa',u'Ufficio',u'Coworking',u'Officina',u'Laboratorio artigiano',\n",
      "                  u'Scuola/Universit\u00e0 (aula)',u'Universit\u00e0 (laboratorio)',u'Fabbrica',u'Makerspace / Fab Lab / ...']\n",
      "places = data[places_columns]\n",
      "places.replace(u'S\u00ec', 'Si', inplace=True) # Get rid of accented characters \n",
      "places_other = data['Q019[other]'].str.lower().value_counts()"
     ],
     "language": "python",
     "metadata": {},
     "outputs": [
      {
       "output_type": "stream",
       "stream": "stderr",
       "text": [
        "-c:8: SettingWithCopyWarning: \n",
        "A value is trying to be set on a copy of a slice from a DataFrame\n",
        "\n",
        "See the the caveats in the documentation: http://pandas.pydata.org/pandas-docs/stable/indexing.html#indexing-view-versus-copy\n"
       ]
      }
     ],
     "prompt_number": 4
    },
    {
     "cell_type": "code",
     "collapsed": false,
     "input": [
      "#places[0:4]"
     ],
     "language": "python",
     "metadata": {},
     "outputs": [],
     "prompt_number": 5
    },
    {
     "cell_type": "code",
     "collapsed": false,
     "input": [
      "%%capture output\n",
      "\n",
      "# Save the output as a variable that can be saved to a file\n",
      "\n",
      "# Gather data\n",
      "places_b = {}\n",
      "for k,i in enumerate(places_columns):\n",
      "    places_b[k] = places[i].value_counts(dropna=False)\n",
      "    print \"Data:\",places_options[k].encode('utf-8')\n",
      "    print places_b[k]\n",
      "    print\n",
      "    print \"Data %:\",places_options[k].encode('utf-8')\n",
      "    print places[i].value_counts(normalize=True,dropna=False)*100\n",
      "    print"
     ],
     "language": "python",
     "metadata": {},
     "outputs": [],
     "prompt_number": 6
    },
    {
     "cell_type": "code",
     "collapsed": false,
     "input": [
      "# Save+show the output to a text file\n",
      "%save Q019-MakerDoveLavorano01.py str(output)\n",
      "shutil.move(\"Q019-MakerDoveLavorano01.py\", \"text/Q019-MakerDoveLavorano01.txt\")"
     ],
     "language": "python",
     "metadata": {},
     "outputs": [
      {
       "output_type": "stream",
       "stream": "stdout",
       "text": [
        "The following commands were written to file `Q019-MakerDoveLavorano01.py`:\n",
        "Data: Casa\n",
        "Si     68\n",
        "No     66\n",
        "NaN     0\n",
        "dtype: int64\n",
        "\n",
        "Data %: Casa\n",
        "Si     50.746269\n",
        "No     49.253731\n",
        "NaN     0.000000\n",
        "dtype: float64\n",
        "\n",
        "Data: Ufficio\n",
        "No     105\n",
        "Si      29\n",
        "NaN      0\n",
        "dtype: int64\n",
        "\n",
        "Data %: Ufficio\n",
        "No     78.358209\n",
        "Si     21.641791\n",
        "NaN     0.000000\n",
        "dtype: float64\n",
        "\n",
        "Data: Coworking\n",
        "No     125\n",
        "Si       9\n",
        "NaN      0\n",
        "dtype: int64\n",
        "\n",
        "Data %: Coworking\n",
        "No     93.283582\n",
        "Si      6.716418\n",
        "NaN     0.000000\n",
        "dtype: float64\n",
        "\n",
        "Data: Officina\n",
        "No     126\n",
        "Si       8\n",
        "NaN      0\n",
        "dtype: int64\n",
        "\n",
        "Data %: Officina\n",
        "No     94.029851\n",
        "Si      5.970149\n",
        "NaN     0.000000\n",
        "dtype: float64\n",
        "\n",
        "Data: Laboratorio artigiano\n",
        "No     97\n",
        "Si     37\n",
        "NaN     0\n",
        "dtype: int64\n",
        "\n",
        "Data %: Laboratorio artigiano\n",
        "No     72.38806\n",
        "Si     27.61194\n",
        "NaN     0.00000\n",
        "dtype: float64\n",
        "\n",
        "Data: Scuola/Universit\u00e0 (aula)\n",
        "No     130\n",
        "Si       4\n",
        "NaN      0\n",
        "dtype: int64\n",
        "\n",
        "Data %: Scuola/Universit\u00e0 (aula)\n",
        "No     97.014925\n",
        "Si      2.985075\n",
        "NaN     0.000000\n",
        "dtype: float64\n",
        "\n",
        "Data: Universit\u00e0 (laboratorio)\n",
        "No     128\n",
        "Si       6\n",
        "NaN      0\n",
        "dtype: int64\n",
        "\n",
        "Data %: Universit\u00e0 (laboratorio)\n",
        "No     95.522388\n",
        "Si      4.477612\n",
        "NaN     0.000000\n",
        "dtype: float64\n",
        "\n",
        "Data: Fabbrica\n",
        "No     130\n",
        "Si       4\n",
        "NaN      0\n",
        "dtype: int64\n",
        "\n",
        "Data %: Fabbrica\n",
        "No     97.014925\n",
        "Si      2.985075\n",
        "NaN     0.000000\n",
        "dtype: float64\n",
        "\n",
        "Data: Makerspace / Fab Lab / ...\n",
        "No     83\n",
        "Si     51\n",
        "NaN     0\n",
        "dtype: int64\n",
        "\n",
        "Data %: Makerspace / Fab Lab / ...\n",
        "No     61.940299\n",
        "Si     38.059701\n",
        "NaN     0.000000\n",
        "dtype: float64\n",
        "\n",
        "\n"
       ]
      }
     ],
     "prompt_number": 7
    },
    {
     "cell_type": "code",
     "collapsed": false,
     "input": [
      "yes = []\n",
      "no = []\n",
      "nanvalue = []\n",
      "\n",
      "for k,i in enumerate(places_columns):\n",
      "    places_presents = places_b[k].index.tolist()\n",
      "    \n",
      "    #\u00a0Convert NaN to \"NaN\"\n",
      "    for o,h in enumerate(places_presents):\n",
      "        if type(h) is float:\n",
      "            places_presents.pop(o)\n",
      "            places_presents.append(\"NaN\")\n",
      "    \n",
      "    #\u00a0Reassign new list with \"NaN\"\n",
      "    places_b[k].index = places_presents\n",
      "    \n",
      "    #\u00a0Check for empty values, and put a 0 instead\n",
      "    if \"Si\" not in places_presents:\n",
      "        yes.append(0)\n",
      "    if \"No\" not in places_presents:\n",
      "        no.append(0)\n",
      "    if \"NaN\" not in places_presents:\n",
      "        nanvalue.append(0)\n",
      "    \n",
      "    for j in places_presents:\n",
      "        if j == \"Si\":\n",
      "            yes.append(places_b[k].ix[\"Si\"])\n",
      "        elif j == \"No\":\n",
      "            no.append(places_b[k].ix[\"No\"])\n",
      "        elif j == \"NaN\":\n",
      "            nanvalue.append(places_b[k].ix[\"NaN\"]) "
     ],
     "language": "python",
     "metadata": {},
     "outputs": [],
     "prompt_number": 8
    },
    {
     "cell_type": "code",
     "collapsed": false,
     "input": [
      "# Plot the data\n",
      "plt.figure(figsize=(8,6))\n",
      "plt.xlabel('Luoghi', fontsize=16)\n",
      "plt.ylabel('Persone', fontsize=16)\n",
      "plt.title(u'Dove svolgi la tua attivit\u00e0 di making?', fontsize=18, y=1.02)\n",
      "plt.xticks(range(len(places_options)+1),places_options,rotation=90)\n",
      "ind = np.arange(len(places_columns))   # the x locations for the groups\n",
      "width = 0.35                              # the width of the bars\n",
      "\n",
      "my_colors = seaborn.color_palette(\"Set1\", 3) # Set color palette\n",
      "rect1 = plt.bar(ind,yes,width,color=my_colors[1],align='center') # Plot Yes\n",
      "rect2 = plt.bar(ind+width,no,width,color=my_colors[0],align='center') # Plot No \n",
      "rect3 = plt.bar(ind+width*2,nanvalue,width,color=my_colors[2],align='center') # Plot NaN\n",
      "plt.legend( (rect1, rect2, rect3), ('Si', 'No', 'NaN') )\n",
      "plt.savefig(\"svg/Q019-MakerDoveLavorano01.svg\")\n",
      "plt.savefig(\"png/Q019-MakerDoveLavorano01.png\")\n",
      "plt.savefig(\"pdf/Q019-MakerDoveLavorano01.pdf\")"
     ],
     "language": "python",
     "metadata": {},
     "outputs": [
      {
       "metadata": {},
       "output_type": "display_data",
       "png": "[encoded data removed]",
       "text": [
        "<matplotlib.figure.Figure at 0x10a4f4b50>"
       ]
      }
     ],
     "prompt_number": 9
    },
    {
     "cell_type": "code",
     "collapsed": false,
     "input": [
      "%%capture output\n",
      "\n",
      "# Save the output as a variable that can be saved to a file\n",
      "# Get \"other\" data\n",
      "places_other = data[\"Q019[other]\"].str.lower().value_counts()\n",
      "print \"Data:\"\n",
      "print places_other\n",
      "print \"\"\n",
      "print \"Data %:\"\n",
      "print data[\"Q019[other]\"].str.lower().value_counts(normalize=True) * 100"
     ],
     "language": "python",
     "metadata": {},
     "outputs": [],
     "prompt_number": 10
    },
    {
     "cell_type": "code",
     "collapsed": false,
     "input": [
      "# Save+show the output to a text file\n",
      "%save Q019-MakerDoveLavorano02.py str(Q019b)\n",
      "shutil.move(\"Q019-MakerDoveLavorano02.py\", \"text/Q019-MakerDoveLavorano02.txt\")"
     ],
     "language": "python",
     "metadata": {},
     "outputs": [
      {
       "output_type": "stream",
       "stream": "stdout",
       "text": [
        "The following commands were written to file `Q019-MakerDoveLavorano02.py`:\n",
        "Data:\n",
        "cantina di casa e fablab                                        1\n",
        "locali di famiglia tipo garage                                  1\n",
        "galleria/spazio condiviso                                       1\n",
        "attualmente in cerca di un nuovo spazio, collaboriamo con centri sociali e giovani della zona    1\n",
        "galleria                                                        1\n",
        "fablab                                                          1\n",
        "azienda agricola                                                1\n",
        "dtype: int64\n",
        "\n",
        "Data %:\n",
        "cantina di casa e fablab                                        0.746269\n",
        "locali di famiglia tipo garage                                  0.746269\n",
        "galleria/spazio condiviso                                       0.746269\n",
        "attualmente in cerca di un nuovo spazio, collaboriamo con centri sociali e giovani della zona    0.746269\n",
        "galleria                                                        0.746269\n",
        "fablab                                                          0.746269\n",
        "azienda agricola                                                0.746269\n",
        "dtype: float64\n",
        "\n"
       ]
      }
     ],
     "prompt_number": 11
    },
    {
     "cell_type": "code",
     "collapsed": false,
     "input": [
      "# Plot bar\n",
      "plt.figure(figsize=(8,6))\n",
      "plt.title(u'Dove svolgi la tua attivit\u00e0 di making? Altro', fontsize=18, y=1.02)\n",
      "plt.xticks(range(len(places_other.index)),places_other.index,rotation=90)\n",
      "plt.xlabel('Luoghi', fontsize=16)\n",
      "plt.ylabel('Persone', fontsize=16)\n",
      "ind = np.arange(len(places_other))   # the x locations for the groups\n",
      "width = 0.35                       # the width of the bars\n",
      "\n",
      "my_colors = seaborn.color_palette(\"husl\", len(places_other)) # Set color palette\n",
      "rect1 = plt.bar(ind,places_other,width,color=my_colors,align='center')\n",
      "plt.savefig(\"svg/Q019-MakerDoveLavorano02.svg\")\n",
      "plt.savefig(\"png/Q019-MakerDoveLavorano02.png\")\n",
      "plt.savefig(\"pdf/Q019-MakerDoveLavorano02.pdf\")"
     ],
     "language": "python",
     "metadata": {},
     "outputs": [
      {
       "metadata": {},
       "output_type": "display_data",
       "png": "[encoded data removed]",
       "text": [
        "<matplotlib.figure.Figure at 0x10a506550>"
       ]
      }
     ],
     "prompt_number": 12
    },
    {
     "cell_type": "code",
     "collapsed": false,
     "input": [],
     "language": "python",
     "metadata": {},
     "outputs": [],
     "prompt_number": 12
    }
   ],
   "metadata": {}
  }
 ]
}