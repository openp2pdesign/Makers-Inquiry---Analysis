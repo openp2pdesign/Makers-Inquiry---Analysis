{
 "metadata": {
  "name": "",
  "signature": "sha256:5b07a8769c12c2a34cb0162aed59adaca8cf5ecd102ce2ed34e0a14fbf6c3998"
 },
 "nbformat": 3,
 "nbformat_minor": 0,
 "worksheets": [
  {
   "cells": [
    {
     "cell_type": "heading",
     "level": 1,
     "metadata": {},
     "source": [
      "Q060 - Sei soddisfatto della tua attivit\u00e1 di making?"
     ]
    },
    {
     "cell_type": "code",
     "collapsed": false,
     "input": [
      "# -*- coding: UTF-8 -*-\n",
      "\n",
      "# Render our plots inline\n",
      "%matplotlib inline \n",
      "\n",
      "import pandas as pd\n",
      "import matplotlib\n",
      "import matplotlib.pyplot as plt\n",
      "import numpy as np\n",
      "import seaborn\n",
      "import shutil\n",
      "\n",
      "pd.set_option('display.mpl_style', 'default') # Make the graphs a bit prettier, overridden by seaborn\n",
      "pd.set_option('display.max_columns', None) # Display all the columns\n",
      "plt.rcParams['font.family'] = 'sans-serif' # Sans Serif fonts for all the graphs\n",
      "\n",
      "# Reference for color palettes: http://web.stanford.edu/~mwaskom/software/seaborn/tutorial/color_palettes.html\n",
      "\n",
      "# Change the font\n",
      "matplotlib.rcParams.update({'font.family': 'Source Sans Pro'})"
     ],
     "language": "python",
     "metadata": {},
     "outputs": [],
     "prompt_number": 1
    },
    {
     "cell_type": "code",
     "collapsed": false,
     "input": [
      "# Load csv file first\n",
      "data = pd.read_csv(\"data/results-makers-40.csv\", encoding=\"utf-8\")"
     ],
     "language": "python",
     "metadata": {},
     "outputs": [],
     "prompt_number": 2
    },
    {
     "cell_type": "code",
     "collapsed": false,
     "input": [
      "# Check data\n",
      "#data[0:4] # Equals to data.head()"
     ],
     "language": "python",
     "metadata": {},
     "outputs": [],
     "prompt_number": 3
    },
    {
     "cell_type": "code",
     "collapsed": false,
     "input": [
      "%%capture output\n",
      "\n",
      "# Save the output as a variable that can be saved to a file\n",
      "satisfaction = data[\"Q060\"].value_counts(dropna=False)\n",
      "print \"Data:\"\n",
      "print satisfaction\n",
      "print \"\"\n",
      "print \"Data %:\"\n",
      "print data[\"Q060\"].value_counts(normalize=True,dropna=False) * 100"
     ],
     "language": "python",
     "metadata": {},
     "outputs": [],
     "prompt_number": 4
    },
    {
     "cell_type": "code",
     "collapsed": false,
     "input": [
      "# Save+show the output to a text file\n",
      "%save Q060-Soddisfazione.py str(output)\n",
      "shutil.move(\"Q060-Soddisfazione.py\", \"text/Q060-Soddisfazione.txt\")"
     ],
     "language": "python",
     "metadata": {},
     "outputs": [
      {
       "output_type": "stream",
       "stream": "stdout",
       "text": [
        "The following commands were written to file `Q060-Soddisfazione.py`:\n",
        "Data:\n",
        "Abbastanza    49\n",
        "Molto         38\n",
        "Moltissimo    17\n",
        "Poco          16\n",
        "NaN           12\n",
        "Per nulla      2\n",
        "dtype: int64\n",
        "\n",
        "Data %:\n",
        "Abbastanza    36.567164\n",
        "Molto         28.358209\n",
        "Moltissimo    12.686567\n",
        "Poco          11.940299\n",
        "NaN            8.955224\n",
        "Per nulla      1.492537\n",
        "dtype: float64\n",
        "\n"
       ]
      }
     ],
     "prompt_number": 5
    },
    {
     "cell_type": "code",
     "collapsed": false,
     "input": [
      "# Plot the data\n",
      "plt.figure(figsize=(8,6))\n",
      "plt.xlabel('Soddisfazione', fontsize=16)\n",
      "plt.ylabel('Persone', fontsize=16)\n",
      "plt.title(u\"Sei soddisfatto della tua attivit\u00e1 di making?\", fontsize=18, y=1.02)\n",
      "my_colors = seaborn.color_palette(\"husl\", len(satisfaction)) # Set color palette\n",
      "satisfaction.plot(kind='bar',color=my_colors)\n",
      "plt.savefig(\"svg/Q060-Soddisfazione.svg\")\n",
      "plt.savefig(\"png/Q060-Soddisfazione.png\")\n",
      "plt.savefig(\"pdf/Q060-Soddisfazione.pdf\")"
     ],
     "language": "python",
     "metadata": {},
     "outputs": [
      {
       "metadata": {},
       "output_type": "display_data",
       "png": "[encoded data removed]",
       "text": [
        "<matplotlib.figure.Figure at 0x10f8ad590>"
       ]
      }
     ],
     "prompt_number": 6
    }
   ],
   "metadata": {}
  }
 ]
}