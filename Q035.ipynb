{
 "metadata": {
  "name": "",
  "signature": "sha256:aa17dbf0ff9005de735dc8197038bd450a3e6f44970b324b63af2db8e041f66b"
 },
 "nbformat": 3,
 "nbformat_minor": 0,
 "worksheets": [
  {
   "cells": [
    {
     "cell_type": "heading",
     "level": 1,
     "metadata": {},
     "source": [
      "Q035 - Partecipi a una o pi\u00fa comunit\u00e1 online dedicate al making?"
     ]
    },
    {
     "cell_type": "code",
     "collapsed": false,
     "input": [
      "# -*- coding: UTF-8 -*-\n",
      "\n",
      "# Render our plots inline\n",
      "%matplotlib inline \n",
      "\n",
      "import pandas as pd\n",
      "import matplotlib.pyplot as plt\n",
      "import numpy as np\n",
      "import seaborn\n",
      "\n",
      "pd.set_option('display.mpl_style', 'default') # Make the graphs a bit prettier, overridden by seaborn\n",
      "pd.set_option('display.max_columns', None) # Display all the columns\n",
      "plt.rcParams['font.family'] = 'sans-serif' # Sans Serif fonts for all the graphs\n",
      "\n",
      "# Reference for color palettes: http://web.stanford.edu/~mwaskom/software/seaborn/tutorial/color_palettes.html\n",
      "\n",
      "# Change the font\n",
      "matplotlib.rcParams.update({'font.family': 'Source Sans Pro'})"
     ],
     "language": "python",
     "metadata": {},
     "outputs": [],
     "prompt_number": 1
    },
    {
     "cell_type": "code",
     "collapsed": false,
     "input": [
      "# Load csv file first\n",
      "data = pd.read_csv(\"data/results-makers-40.csv\", encoding=\"utf-8\")"
     ],
     "language": "python",
     "metadata": {},
     "outputs": [],
     "prompt_number": 2
    },
    {
     "cell_type": "code",
     "collapsed": false,
     "input": [
      "# Check data\n",
      "#data[0:4] # Equals to data.head()"
     ],
     "language": "python",
     "metadata": {},
     "outputs": [],
     "prompt_number": 3
    },
    {
     "cell_type": "code",
     "collapsed": false,
     "input": [
      "# Get the distribution of contract type\n",
      "contract = data[\"Q035\"].value_counts(dropna=False)\n",
      "print \"Data:\"\n",
      "print contract\n",
      "print \"\"\n",
      "print \"Data %:\"\n",
      "print data[\"Q035\"].value_counts(normalize=True,dropna=False) * 100\n",
      "\n",
      "# Plot the data\n",
      "plt.figure(figsize=(8,6))\n",
      "plt.xlabel(u'Partecipazione', fontsize=16)\n",
      "plt.ylabel('Persone', fontsize=16)\n",
      "plt.title(u\"Partecipi a una o pi\u00fa comunit\u00e1 online dedicate al making?\", fontsize=18)\n",
      "my_colors = seaborn.color_palette(\"husl\", len(contract)) # Set color palette\n",
      "contract.plot(kind=\"bar\",color=my_colors)\n",
      "plt.savefig(\"svg/Q035-PartecipiOnline01.svg\")\n",
      "plt.savefig(\"png/Q035-PartecipiOnline01.png\")"
     ],
     "language": "python",
     "metadata": {},
     "outputs": [
      {
       "output_type": "stream",
       "stream": "stdout",
       "text": [
        "Data:\n",
        "Si, sono membro           56\n",
        "No                        46\n",
        "Si, ma non sono membro    32\n",
        "NaN                        0\n",
        "dtype: int64\n",
        "\n",
        "Data %:\n",
        "Si, sono membro           41.791045\n",
        "No                        34.328358\n",
        "Si, ma non sono membro    23.880597\n",
        "NaN                        0.000000\n",
        "dtype: float64\n"
       ]
      },
      {
       "metadata": {},
       "output_type": "display_data",
       "png": "[encoded data removed]",
       "text": [
        "<matplotlib.figure.Figure at 0x10c100a90>"
       ]
      }
     ],
     "prompt_number": 4
    },
    {
     "cell_type": "code",
     "collapsed": false,
     "input": [],
     "language": "python",
     "metadata": {},
     "outputs": []
    }
   ],
   "metadata": {}
  }
 ]
}