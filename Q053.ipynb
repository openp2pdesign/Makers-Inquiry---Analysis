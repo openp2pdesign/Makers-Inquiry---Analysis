{
 "metadata": {
  "name": ""
 },
 "nbformat": 3,
 "nbformat_minor": 0,
 "worksheets": [
  {
   "cells": [
    {
     "cell_type": "heading",
     "level": 1,
     "metadata": {},
     "source": [
      "Q053 - Chi sono i tuoi principali fornitori?"
     ]
    },
    {
     "cell_type": "code",
     "collapsed": false,
     "input": [
      "# -*- coding: UTF-8 -*-\n",
      "\n",
      "# Render our plots inline\n",
      "%matplotlib inline \n",
      "\n",
      "import pandas as pd\n",
      "import matplotlib.pyplot as plt\n",
      "import numpy as np\n",
      "import seaborn\n",
      "\n",
      "pd.set_option('display.mpl_style', 'default') # Make the graphs a bit prettier, overridden by seaborn\n",
      "pd.set_option('display.max_columns', None) # Display all the columns\n",
      "plt.rcParams['font.family'] = 'sans-serif' # Sans Serif fonts for all the graphs\n",
      "\n",
      "# Reference for color palettes: http://web.stanford.edu/~mwaskom/software/seaborn/tutorial/color_palettes.html"
     ],
     "language": "python",
     "metadata": {},
     "outputs": [],
     "prompt_number": 1
    },
    {
     "cell_type": "code",
     "collapsed": false,
     "input": [
      "# Load csv file first\n",
      "data = pd.read_csv(\"data/results-makers-40.csv\", encoding=\"utf-8\")"
     ],
     "language": "python",
     "metadata": {},
     "outputs": [],
     "prompt_number": 2
    },
    {
     "cell_type": "code",
     "collapsed": false,
     "input": [
      "# Check data\n",
      "#data[0:4] # Equals to data.head()"
     ],
     "language": "python",
     "metadata": {},
     "outputs": [],
     "prompt_number": 3
    },
    {
     "cell_type": "code",
     "collapsed": false,
     "input": [
      "# Range: Q053[SQ001] - Q053[SQ004] - Q053[other]\n",
      "\n",
      "business_columns = ['Q053[SQ001]','Q053[SQ002]','Q053[SQ003]','Q053[SQ004]']\n",
      "business_options = ['Fornitori di servizi',\n",
      "                  'Fornitori di beni intermedi',\n",
      "                  'Fornitori di tecnologie',\n",
      "                  'Fornitori di semilavorati']\n",
      "business = data[business_columns]\n",
      "business.replace(u'S\u00ec', 'Si', inplace=True) # Get rid of accented characters \n",
      "business_other = data['Q053[other]'].str.lower().value_counts()"
     ],
     "language": "python",
     "metadata": {},
     "outputs": [
      {
       "output_type": "stream",
       "stream": "stderr",
       "text": [
        "-c:9: SettingWithCopyWarning: A value is trying to be set on a copy of a slice from a DataFrame\n"
       ]
      }
     ],
     "prompt_number": 4
    },
    {
     "cell_type": "code",
     "collapsed": false,
     "input": [
      "business[0:4]"
     ],
     "language": "python",
     "metadata": {},
     "outputs": [
      {
       "html": [
        "<div style=\"max-height:1000px;max-width:1500px;overflow:auto;\">\n",
        "<table border=\"1\" class=\"dataframe\">\n",
        "  <thead>\n",
        "    <tr style=\"text-align: right;\">\n",
        "      <th></th>\n",
        "      <th>Q053[SQ001]</th>\n",
        "      <th>Q053[SQ002]</th>\n",
        "      <th>Q053[SQ003]</th>\n",
        "      <th>Q053[SQ004]</th>\n",
        "    </tr>\n",
        "  </thead>\n",
        "  <tbody>\n",
        "    <tr>\n",
        "      <th>0</th>\n",
        "      <td> Si</td>\n",
        "      <td> No</td>\n",
        "      <td> Si</td>\n",
        "      <td> No</td>\n",
        "    </tr>\n",
        "    <tr>\n",
        "      <th>1</th>\n",
        "      <td> No</td>\n",
        "      <td> No</td>\n",
        "      <td> No</td>\n",
        "      <td> No</td>\n",
        "    </tr>\n",
        "    <tr>\n",
        "      <th>2</th>\n",
        "      <td> Si</td>\n",
        "      <td> Si</td>\n",
        "      <td> No</td>\n",
        "      <td> Si</td>\n",
        "    </tr>\n",
        "    <tr>\n",
        "      <th>3</th>\n",
        "      <td> No</td>\n",
        "      <td> No</td>\n",
        "      <td> No</td>\n",
        "      <td> Si</td>\n",
        "    </tr>\n",
        "  </tbody>\n",
        "</table>\n",
        "</div>"
       ],
       "metadata": {},
       "output_type": "pyout",
       "prompt_number": 5,
       "text": [
        "  Q053[SQ001] Q053[SQ002] Q053[SQ003] Q053[SQ004]\n",
        "0          Si          No          Si          No\n",
        "1          No          No          No          No\n",
        "2          Si          Si          No          Si\n",
        "3          No          No          No          Si"
       ]
      }
     ],
     "prompt_number": 5
    },
    {
     "cell_type": "code",
     "collapsed": false,
     "input": [
      "#\u00a0Gather data\n",
      "business_b = {}\n",
      "for k,i in enumerate(business_columns):\n",
      "    business_b[k] = business[i].value_counts(dropna=False)\n",
      "    print \"Data:\",business_options[k]\n",
      "    print business_b[k]\n",
      "    print\n",
      "    print \"Data %:\",business_options[k]\n",
      "    print business[i].value_counts(normalize=True,dropna=False)*100\n",
      "    print\n",
      "    \n",
      "yes = []\n",
      "no = []\n",
      "nanvalue = []\n",
      "\n",
      "for k,i in enumerate(business_columns):\n",
      "    business_presents = business_b[k].index.tolist()\n",
      "    \n",
      "    #\u00a0Convert NaN to \"NaN\"\n",
      "    for o,h in enumerate(business_presents):\n",
      "        if type(h) is float:\n",
      "            business_presents.pop(o)\n",
      "            business_presents.append(\"NaN\")\n",
      "    \n",
      "    #\u00a0Reassign new list with \"NaN\"\n",
      "    business_b[k].index = business_presents\n",
      "    \n",
      "    #\u00a0Check for empty values, and put a 0 instead\n",
      "    if \"Si\" not in business_presents:\n",
      "        yes.append(0)\n",
      "    if \"No\" not in business_presents:\n",
      "        no.append(0)\n",
      "    if \"NaN\" not in business_presents:\n",
      "        nanvalue.append(0)\n",
      "    \n",
      "    for j in business_presents:\n",
      "        if j == \"Si\":\n",
      "            yes.append(business_b[k].ix[\"Si\"])\n",
      "        elif j == \"No\":\n",
      "            no.append(business_b[k].ix[\"No\"])\n",
      "        elif j == \"NaN\":\n",
      "            nanvalue.append(business_b[k].ix[\"NaN\"]) \n",
      "\n"
     ],
     "language": "python",
     "metadata": {},
     "outputs": [
      {
       "output_type": "stream",
       "stream": "stdout",
       "text": [
        "Data: Fornitori di servizi\n",
        "No     104\n",
        "Si      28\n",
        "NaN      2\n",
        "dtype: int64"
       ]
      },
      {
       "output_type": "stream",
       "stream": "stdout",
       "text": [
        "\n",
        "\n",
        "Data %: Fornitori di servizi\n",
        "No     77.611940\n",
        "Si     20.895522\n",
        "NaN     1.492537\n",
        "dtype: float64\n",
        "\n",
        "Data: Fornitori di beni intermedi\n",
        "No     102\n",
        "Si      30\n",
        "NaN      2\n",
        "dtype: int64\n",
        "\n",
        "Data %: Fornitori di beni intermedi\n",
        "No     76.119403\n",
        "Si     22.388060\n",
        "NaN     1.492537\n",
        "dtype: float64\n",
        "\n",
        "Data: Fornitori di tecnologie\n",
        "No     89\n",
        "Si     43\n",
        "NaN     2\n",
        "dtype: int64\n",
        "\n",
        "Data %: Fornitori di tecnologie\n",
        "No     66.417910\n",
        "Si     32.089552\n",
        "NaN     1.492537\n",
        "dtype: float64\n",
        "\n",
        "Data: Fornitori di semilavorati\n",
        "No     72\n",
        "Si     60\n",
        "NaN     2\n",
        "dtype: int64\n",
        "\n",
        "Data %: Fornitori di semilavorati\n",
        "No     53.731343\n",
        "Si     44.776119\n",
        "NaN     1.492537\n",
        "dtype: float64\n",
        "\n"
       ]
      }
     ],
     "prompt_number": 6
    },
    {
     "cell_type": "code",
     "collapsed": false,
     "input": [
      "# Plot the data\n",
      "plt.figure(figsize=(8,6))\n",
      "plt.xlabel(u'Fornitori')\n",
      "plt.ylabel('Persone')\n",
      "plt.title(u'Chi sono i tuoi principali fornitori?')\n",
      "plt.xticks(range(len(business_options)+1),business_options,rotation=90)\n",
      "ind = np.arange(len(business_columns))   # the x locations for the groups\n",
      "width = 0.25                              # the width of the bars\n",
      "\n",
      "my_colors = seaborn.color_palette(\"Set1\", 3) # Set color palette\n",
      "rect1 = plt.bar(ind,yes,width,color=my_colors[1],align='center') # Plot Yes\n",
      "rect2 = plt.bar(ind+width,no,width,color=my_colors[0],align='center') # Plot No \n",
      "rect3 = plt.bar(ind+width*2,nanvalue,width,color=my_colors[2],align='center') # Plot NaN\n",
      "plt.legend( (rect1, rect2, rect3), ('Si', 'No', 'NaN') )\n",
      "plt.savefig(\"pdf/Q053-MakerFornitori01.pdf\")"
     ],
     "language": "python",
     "metadata": {},
     "outputs": [
      {
       "metadata": {},
       "output_type": "display_data",
       "png": "[encoded data removed]",
       "text": [
        "<matplotlib.figure.Figure at 0x11076bd10>"
       ]
      }
     ],
     "prompt_number": 7
    },
    {
     "cell_type": "code",
     "collapsed": false,
     "input": [
      "# Get \"other\" data\n",
      "business_other = data[\"Q053[other]\"].str.lower().value_counts()\n",
      "print \"Data:\"\n",
      "print business_other\n",
      "print \"\"\n",
      "print \"Data %:\"\n",
      "print data[\"Q053[other]\"].str.lower().value_counts(normalize=True) * 100\n",
      "\n",
      "# Plot bar\n",
      "plt.figure(figsize=(8,6))\n",
      "plt.title(u'Chi sono i tuoi principali fornitori? Altro')\n",
      "plt.xticks(range(len(business_other.index)),business_other.index,rotation=90)\n",
      "plt.xlabel(u'Fornitori')\n",
      "plt.ylabel('Persone')\n",
      "ind = np.arange(len(business_other))   # the x locations for the groups\n",
      "width = 0.35                       # the width of the bars\n",
      "\n",
      "my_colors = seaborn.color_palette(\"husl\", len(business_other)) # Set color palette\n",
      "rect1 = plt.bar(ind,business_other,width,color=my_colors,align='center')\n",
      "plt.savefig(\"pdf/Q053-MakerFornitori02.pdf\")"
     ],
     "language": "python",
     "metadata": {},
     "outputs": [
      {
       "output_type": "stream",
       "stream": "stdout",
       "text": [
        "Data:\n",
        "artigiani                          2\n",
        "ebay                               1\n",
        "fornitori di materiali             1\n",
        "non lavoro!!!! non ho fornitori    1\n",
        "vendita diretta                    1\n",
        "nessuno dei precedenti             1\n",
        "tessuti                            1\n",
        "sharing                            1\n",
        "fornitori di materie prime         1\n",
        "dtype: int64\n",
        "\n",
        "Data %:\n",
        "artigiani                          1.492537\n",
        "ebay                               0.746269\n",
        "fornitori di materiali             0.746269\n",
        "non lavoro!!!! non ho fornitori    0.746269\n",
        "vendita diretta                    0.746269\n",
        "nessuno dei precedenti             0.746269\n",
        "tessuti                            0.746269\n",
        "sharing                            0.746269\n",
        "fornitori di materie prime         0.746269\n",
        "dtype: float64\n"
       ]
      },
      {
       "metadata": {},
       "output_type": "display_data",
       "png": "[encoded data removed]",
       "text": [
        "<matplotlib.figure.Figure at 0x110accf10>"
       ]
      }
     ],
     "prompt_number": 8
    },
    {
     "cell_type": "code",
     "collapsed": false,
     "input": [],
     "language": "python",
     "metadata": {},
     "outputs": []
    }
   ],
   "metadata": {}
  }
 ]
}