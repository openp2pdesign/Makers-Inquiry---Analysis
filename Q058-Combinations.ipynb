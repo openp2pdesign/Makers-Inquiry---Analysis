{
 "metadata": {
  "name": "",
  "signature": "sha256:2c84271f402bf435cd18b934a286016c659ccb79d330530e58a3d3428426fdc9"
 },
 "nbformat": 3,
 "nbformat_minor": 0,
 "worksheets": [
  {
   "cells": [
    {
     "cell_type": "heading",
     "level": 1,
     "metadata": {},
     "source": [
      "Q058 - Per quali fasce d'\u00e9t\u00e1?"
     ]
    },
    {
     "cell_type": "code",
     "collapsed": false,
     "input": [
      "# -*- coding: UTF-8 -*-\n",
      "\n",
      "# Render our plots inline\n",
      "%matplotlib inline \n",
      "\n",
      "import pandas as pd\n",
      "import matplotlib\n",
      "import matplotlib.pyplot as plt\n",
      "import numpy as np\n",
      "import seaborn\n",
      "import shutil\n",
      "\n",
      "pd.set_option('display.mpl_style', 'default') # Make the graphs a bit prettier, overridden by seaborn\n",
      "pd.set_option('display.max_columns', None) # Display all the columns\n",
      "plt.rcParams['font.family'] = 'sans-serif' # Sans Serif fonts for all the graphs\n",
      "\n",
      "# Reference for color palettes: http://web.stanford.edu/~mwaskom/software/seaborn/tutorial/color_palettes.html\n",
      "\n",
      "# Change the font\n",
      "matplotlib.rcParams.update({'font.family': 'Source Sans Pro'})"
     ],
     "language": "python",
     "metadata": {},
     "outputs": [],
     "prompt_number": 1
    },
    {
     "cell_type": "code",
     "collapsed": false,
     "input": [
      "# Load csv file first\n",
      "data = pd.read_csv(\"data/results-makers-40.csv\", encoding=\"utf-8\")"
     ],
     "language": "python",
     "metadata": {},
     "outputs": [],
     "prompt_number": 2
    },
    {
     "cell_type": "code",
     "collapsed": false,
     "input": [
      "# Check data\n",
      "#data[0:4] # Equals to data.head()"
     ],
     "language": "python",
     "metadata": {},
     "outputs": [],
     "prompt_number": 3
    },
    {
     "cell_type": "code",
     "collapsed": false,
     "input": [
      "# Range: Q058[SQ001] - Q058[SQ005] - Q058[other]\n",
      "\n",
      "education_columns = ['Q058[SQ001]','Q058[SQ002]','Q058[SQ003]','Q058[SQ004]','Q058[SQ005]']\n",
      "education_options = ['Bambini','Adolescenti','Giovani','Adulti','Anziani']\n",
      "education = data[education_columns]\n",
      "education.replace(u'S\u00ec', 'Si', inplace=True) # Get rid of accented characters \n",
      "education_other = data['Q058[other]'].str.lower().value_counts()"
     ],
     "language": "python",
     "metadata": {},
     "outputs": [
      {
       "output_type": "stream",
       "stream": "stderr",
       "text": [
        "-c:6: SettingWithCopyWarning: \n",
        "A value is trying to be set on a copy of a slice from a DataFrame\n",
        "\n",
        "See the the caveats in the documentation: http://pandas.pydata.org/pandas-docs/stable/indexing.html#indexing-view-versus-copy\n"
       ]
      }
     ],
     "prompt_number": 4
    },
    {
     "cell_type": "code",
     "collapsed": false,
     "input": [
      "#education[0:4]"
     ],
     "language": "python",
     "metadata": {},
     "outputs": [],
     "prompt_number": 5
    },
    {
     "cell_type": "heading",
     "level": 2,
     "metadata": {},
     "source": [
      "Combinations..."
     ]
    },
    {
     "cell_type": "code",
     "collapsed": false,
     "input": [
      "# Create all the possible combinations from the main options\n",
      "# See http://stackoverflow.com/questions/17176887/python-get-all-permutation-of-a-list-w-o-repetitions\n",
      "\n",
      "import itertools \n",
      "\n",
      "all_combinations = {}\n",
      "all_combinations_columns = []\n",
      "\n",
      "for i in range(1, len(education_columns)+1):\n",
      "    comb = list(itertools.combinations(education_columns, i))\n",
      "    for k in comb:\n",
      "        #\u00a0Each combination\n",
      "        all_combinations[k] = {}\n",
      "        all_combinations[k][\"col_list\"] = list(k)\n",
      "        #\u00a0Build the string and boolean list of each combination\n",
      "        comb_list = []\n",
      "        comb_bool_list = []\n",
      "        # Put default False value\n",
      "        for l in education_columns:\n",
      "            comb_bool_list.append(False)\n",
      "        for j in k:\n",
      "            pos = education_columns.index(j) # Get position\n",
      "            comb_list.append(education_options[pos])\n",
      "            comb_bool_list[pos] = True\n",
      "        all_combinations[k][\"list\"] = comb_list\n",
      "        all_combinations[k][\"bool_list\"] = comb_bool_list\n",
      "        all_combinations[k][\"str\"] = \", \".join(comb_list)"
     ],
     "language": "python",
     "metadata": {},
     "outputs": [],
     "prompt_number": 6
    },
    {
     "cell_type": "code",
     "collapsed": false,
     "input": [
      "#\u00a0Check which combinations correspond each row\n",
      "str_values = []\n",
      "for i in education.index:\n",
      "    current_bool_list = list(education.ix[i].isin([\"Si\"]))\n",
      "    for i in all_combinations:\n",
      "        if current_bool_list == all_combinations[i][\"bool_list\"]:\n",
      "            str_values.append(all_combinations[i][\"str\"])"
     ],
     "language": "python",
     "metadata": {},
     "outputs": [],
     "prompt_number": 7
    },
    {
     "cell_type": "code",
     "collapsed": false,
     "input": [
      "# Add combination column\n",
      "education[\"Combination\"] = pd.Series(str_values)"
     ],
     "language": "python",
     "metadata": {},
     "outputs": [
      {
       "output_type": "stream",
       "stream": "stderr",
       "text": [
        "-c:2: SettingWithCopyWarning: \n",
        "A value is trying to be set on a copy of a slice from a DataFrame.\n",
        "Try using .loc[row_indexer,col_indexer] = value instead\n",
        "\n",
        "See the the caveats in the documentation: http://pandas.pydata.org/pandas-docs/stable/indexing.html#indexing-view-versus-copy\n"
       ]
      }
     ],
     "prompt_number": 8
    },
    {
     "cell_type": "code",
     "collapsed": false,
     "input": [
      "# Gather data\n",
      "resulting_combinations = education[\"Combination\"].value_counts(dropna=False)\n",
      "resulting_combinations_percentage = education[\"Combination\"].value_counts(normalize=True,dropna=False)*100"
     ],
     "language": "python",
     "metadata": {},
     "outputs": [],
     "prompt_number": 9
    },
    {
     "cell_type": "code",
     "collapsed": false,
     "input": [
      "#\u00a0Plotting the first 10 values of the most popular combinations\n",
      "resulting_combinations[0:10].plot(kind='bar',figsize=(20,10),rot=90)\n",
      "plt.title(u\"Per quali fasce d'\u00e9t\u00e1? Combinazioni\", fontsize=18, y=1.02)\n",
      "plt.ylabel(\"Persone\", fontsize=16)\n",
      "plt.xlabel(\"Combinazioni\", fontsize=16)\n",
      "plt.savefig(\"svg/Q058-Combinazioni.svg\")\n",
      "plt.savefig(\"png/Q058-Combinazioni.png\")\n",
      "plt.savefig(\"pdf/Q058-Combinazioni.pdf\")"
     ],
     "language": "python",
     "metadata": {},
     "outputs": [
      {
       "metadata": {},
       "output_type": "display_data",
       "png": "[encoded data removed]",
       "text": [
        "<matplotlib.figure.Figure at 0x10ba2cd90>"
       ]
      }
     ],
     "prompt_number": 10
    },
    {
     "cell_type": "code",
     "collapsed": false,
     "input": [
      "%%capture output\n",
      "\n",
      "# Save the output as a variable that can be saved to a file\n",
      "# Data of the combinations\n",
      "print \"Data:\"\n",
      "print resulting_combinations\n",
      "print\n",
      "# Data of the combinations: percentage\n",
      "print \"Data %:\"\n",
      "print resulting_combinations_percentage"
     ],
     "language": "python",
     "metadata": {},
     "outputs": [],
     "prompt_number": 11
    },
    {
     "cell_type": "code",
     "collapsed": false,
     "input": [
      "# Save+show the output to a text file\n",
      "%save Q058-Combinazioni.py str(output)\n",
      "shutil.move(\"Q058-Combinazioni.py\", \"text/Q058-Combinazioni.txt\")"
     ],
     "language": "python",
     "metadata": {},
     "outputs": [
      {
       "output_type": "stream",
       "stream": "stdout",
       "text": [
        "The following commands were written to file `Q058-Combinazioni.py`:\n",
        "Data:\n",
        "NaN                                               108\n",
        "Bambini, Adolescenti, Giovani, Adulti, Anziani      9\n",
        "Adolescenti, Giovani, Adulti                        6\n",
        "Giovani, Adulti                                     4\n",
        "Bambini, Adolescenti, Giovani, Adulti               2\n",
        "Adulti                                              1\n",
        "Adolescenti, Giovani, Adulti, Anziani               1\n",
        "Bambini, Giovani, Adulti                            1\n",
        "Bambini, Adolescenti, Giovani                       1\n",
        "Giovani, Adulti, Anziani                            1\n",
        "dtype: int64\n",
        "\n",
        "Data %:\n",
        "NaN                                               80.597015\n",
        "Bambini, Adolescenti, Giovani, Adulti, Anziani     6.716418\n",
        "Adolescenti, Giovani, Adulti                       4.477612\n",
        "Giovani, Adulti                                    2.985075\n",
        "Bambini, Adolescenti, Giovani, Adulti              1.492537\n",
        "Adulti                                             0.746269\n",
        "Adolescenti, Giovani, Adulti, Anziani              0.746269\n",
        "Bambini, Giovani, Adulti                           0.746269\n",
        "Bambini, Adolescenti, Giovani                      0.746269\n",
        "Giovani, Adulti, Anziani                           0.746269\n",
        "dtype: float64\n",
        "\n"
       ]
      }
     ],
     "prompt_number": 12
    }
   ],
   "metadata": {}
  }
 ]
}