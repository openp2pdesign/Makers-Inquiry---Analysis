{
 "metadata": {
  "name": ""
 },
 "nbformat": 3,
 "nbformat_minor": 0,
 "worksheets": [
  {
   "cells": [
    {
     "cell_type": "heading",
     "level": 1,
     "metadata": {},
     "source": [
      "Q058 - Per quali fasce d'\u00e9t\u00e1?"
     ]
    },
    {
     "cell_type": "code",
     "collapsed": false,
     "input": [
      "# -*- coding: UTF-8 -*-\n",
      "\n",
      "# Render our plots inline\n",
      "%matplotlib inline \n",
      "\n",
      "import pandas as pd\n",
      "import matplotlib.pyplot as plt\n",
      "import numpy as np\n",
      "import seaborn\n",
      "\n",
      "pd.set_option('display.mpl_style', 'default') # Make the graphs a bit prettier, overridden by seaborn\n",
      "pd.set_option('display.max_columns', None) # Display all the columns\n",
      "plt.rcParams['font.family'] = 'sans-serif' # Sans Serif fonts for all the graphs\n",
      "\n",
      "# Reference for color palettes: http://web.stanford.edu/~mwaskom/software/seaborn/tutorial/color_palettes.html"
     ],
     "language": "python",
     "metadata": {},
     "outputs": [],
     "prompt_number": 1
    },
    {
     "cell_type": "code",
     "collapsed": false,
     "input": [
      "# Load csv file first\n",
      "data = pd.read_csv(\"data/results-makers-40.csv\", encoding=\"utf-8\")"
     ],
     "language": "python",
     "metadata": {},
     "outputs": [],
     "prompt_number": 4
    },
    {
     "cell_type": "code",
     "collapsed": false,
     "input": [
      "# Check data\n",
      "#data[0:4] # Equals to data.head()"
     ],
     "language": "python",
     "metadata": {},
     "outputs": [],
     "prompt_number": 5
    },
    {
     "cell_type": "code",
     "collapsed": false,
     "input": [
      "# Range: Q058[SQ001] - Q058[SQ005] - Q058[other]\n",
      "\n",
      "education_columns = ['Q058[SQ001]','Q058[SQ002]','Q058[SQ003]','Q058[SQ004]','Q058[SQ005]']\n",
      "education_options = ['Bambini','Adolescenti','Giovani','Adulti','Anziani']\n",
      "education = data[education_columns]\n",
      "education.replace(u'S\u00ec', 'Si', inplace=True) # Get rid of accented characters \n",
      "education_other = data['Q058[other]'].str.lower().value_counts()"
     ],
     "language": "python",
     "metadata": {},
     "outputs": [
      {
       "output_type": "stream",
       "stream": "stderr",
       "text": [
        "-c:6: SettingWithCopyWarning: A value is trying to be set on a copy of a slice from a DataFrame\n"
       ]
      }
     ],
     "prompt_number": 6
    },
    {
     "cell_type": "code",
     "collapsed": false,
     "input": [
      "education[0:4]"
     ],
     "language": "python",
     "metadata": {},
     "outputs": [
      {
       "html": [
        "<div style=\"max-height:1000px;max-width:1500px;overflow:auto;\">\n",
        "<table border=\"1\" class=\"dataframe\">\n",
        "  <thead>\n",
        "    <tr style=\"text-align: right;\">\n",
        "      <th></th>\n",
        "      <th>Q058[SQ001]</th>\n",
        "      <th>Q058[SQ002]</th>\n",
        "      <th>Q058[SQ003]</th>\n",
        "      <th>Q058[SQ004]</th>\n",
        "      <th>Q058[SQ005]</th>\n",
        "    </tr>\n",
        "  </thead>\n",
        "  <tbody>\n",
        "    <tr>\n",
        "      <th>0</th>\n",
        "      <td>  Si</td>\n",
        "      <td>  Si</td>\n",
        "      <td>  Si</td>\n",
        "      <td>  Si</td>\n",
        "      <td>  Si</td>\n",
        "    </tr>\n",
        "    <tr>\n",
        "      <th>1</th>\n",
        "      <td> NaN</td>\n",
        "      <td> NaN</td>\n",
        "      <td> NaN</td>\n",
        "      <td> NaN</td>\n",
        "      <td> NaN</td>\n",
        "    </tr>\n",
        "    <tr>\n",
        "      <th>2</th>\n",
        "      <td> NaN</td>\n",
        "      <td> NaN</td>\n",
        "      <td> NaN</td>\n",
        "      <td> NaN</td>\n",
        "      <td> NaN</td>\n",
        "    </tr>\n",
        "    <tr>\n",
        "      <th>3</th>\n",
        "      <td> NaN</td>\n",
        "      <td> NaN</td>\n",
        "      <td> NaN</td>\n",
        "      <td> NaN</td>\n",
        "      <td> NaN</td>\n",
        "    </tr>\n",
        "  </tbody>\n",
        "</table>\n",
        "</div>"
       ],
       "metadata": {},
       "output_type": "pyout",
       "prompt_number": 7,
       "text": [
        "  Q058[SQ001] Q058[SQ002] Q058[SQ003] Q058[SQ004] Q058[SQ005]\n",
        "0          Si          Si          Si          Si          Si\n",
        "1         NaN         NaN         NaN         NaN         NaN\n",
        "2         NaN         NaN         NaN         NaN         NaN\n",
        "3         NaN         NaN         NaN         NaN         NaN"
       ]
      }
     ],
     "prompt_number": 7
    },
    {
     "cell_type": "code",
     "collapsed": false,
     "input": [
      "#\u00a0Gather data\n",
      "education_b = {}\n",
      "for k,i in enumerate(education_columns):\n",
      "    education_b[k] = education[i].value_counts()\n",
      "    print \"Data:\",education_options[k]\n",
      "    print education_b[k]\n",
      "    print\n",
      "    print \"Data %:\",education_options[k]\n",
      "    print education[i].value_counts(normalize=True)*100\n",
      "    print\n",
      "    \n",
      "yes = []\n",
      "no = []\n",
      "\n",
      "# Get data for plotting, and check that we have all the values for Yes and No\n",
      "for k,i in enumerate(education_columns):\n",
      "    if len(education_b[k].index) == 2:\n",
      "        if education_b[k].index[0] == \"Si\":\n",
      "            yes.append(education_b[k].iloc[0])\n",
      "            no.append(education_b[k].iloc[1])\n",
      "        elif education_b[k].index[1] == \"Si\":\n",
      "            yes.append(education_b[k].iloc[1])\n",
      "            no.append(education_b[k].iloc[0])\n",
      "    elif len(education_b[k].index) == 1:\n",
      "        if education_b[k].index[0] == \"Si\":\n",
      "            yes.append(education_b[k].iloc[0])\n",
      "            no.append(0)\n",
      "        elif education_b[k].index[0] == \"No\":\n",
      "            yes.append(0)\n",
      "            no.append(education_b[k].iloc[0])\n",
      "    else:\n",
      "        yes.append(0)\n",
      "        no.append(0)\n",
      "\n",
      "# Plot the data\n",
      "plt.figure(figsize=(8,6))\n",
      "plt.xlabel(u'Fasce di et\u00e1 per la formazione')\n",
      "plt.ylabel('Persone')\n",
      "plt.title(u'Che fasce di et\u00e1 per la formazione che offri?')\n",
      "plt.xticks(range(len(education_options)),education_options,rotation=90)\n",
      "ind = np.arange(len(education_columns))   # the x locations for the groups\n",
      "width = 0.35                              # the width of the bars\n",
      "\n",
      "my_colors = seaborn.color_palette(\"Set1\", 5) # Set color palette\n",
      "rect1 = plt.bar(ind,yes,width,color=my_colors[1],align='center') # Plot Yes\n",
      "rect2 = plt.bar(ind+width,no,width,color=my_colors[0],align='center') # Plot No \n",
      "plt.legend( (rect1, rect2), ('Si', 'No') )\n",
      "plt.savefig(\"pdf/Q058-Education01.pdf\")"
     ],
     "language": "python",
     "metadata": {},
     "outputs": [
      {
       "output_type": "stream",
       "stream": "stdout",
       "text": [
        "Data: Bambini\n",
        "No    16\n",
        "Si    13\n",
        "dtype: int64"
       ]
      },
      {
       "output_type": "stream",
       "stream": "stdout",
       "text": [
        "\n",
        "\n",
        "Data %: Bambini\n",
        "No    11.940299\n",
        "Si     9.701493\n",
        "dtype: float64\n",
        "\n",
        "Data: Adolescenti\n",
        "Si    19\n",
        "No    10\n",
        "dtype: int64\n",
        "\n",
        "Data %: Adolescenti\n",
        "Si    14.179104\n",
        "No     7.462687\n",
        "dtype: float64\n",
        "\n",
        "Data: Giovani\n",
        "Si    25\n",
        "No     4\n",
        "dtype: int64\n",
        "\n",
        "Data %: Giovani\n",
        "Si    18.656716\n",
        "No     2.985075\n",
        "dtype: float64\n",
        "\n",
        "Data: Adulti\n",
        "Si    25\n",
        "No     4\n",
        "dtype: int64\n",
        "\n",
        "Data %: Adulti\n",
        "Si    18.656716\n",
        "No     2.985075\n",
        "dtype: float64\n",
        "\n",
        "Data: Anziani\n",
        "No    18\n",
        "Si    11\n",
        "dtype: int64\n",
        "\n",
        "Data %: Anziani\n",
        "No    13.432836\n",
        "Si     8.208955\n",
        "dtype: float64\n",
        "\n"
       ]
      },
      {
       "metadata": {},
       "output_type": "display_data",
       "png": "[encoded data removed]",
       "text": [
        "<matplotlib.figure.Figure at 0x108a9aad0>"
       ]
      }
     ],
     "prompt_number": 8
    },
    {
     "cell_type": "code",
     "collapsed": false,
     "input": [
      "# Get \"other\" data\n",
      "education_other = data[\"Q058[other]\"].str.lower().value_counts()\n",
      "print \"Data:\"\n",
      "print education_other\n",
      "print \"\"\n",
      "print \"Data %:\"\n",
      "print data[\"Q058[other]\"].str.lower().value_counts(normalize=True) * 100\n",
      "\n",
      "# Plot bar\n",
      "plt.figure(figsize=(8,6))\n",
      "plt.title(u'Che fasce di et\u00e1 per la formazione che offri? Altro')\n",
      "plt.xticks(range(len(education_other.index)),education_other.index,rotation=90)\n",
      "plt.xlabel(u'Fasce di et\u00e1')\n",
      "plt.ylabel('Persone')\n",
      "ind = np.arange(len(education_other))   # the x locations for the groups\n",
      "width = 0.35                       # the width of the bars\n",
      "\n",
      "my_colors = seaborn.color_palette(\"husl\", len(education_other)) # Set color palette\n",
      "rect1 = plt.bar(ind,education_other,width,color=my_colors,align='center')\n",
      "plt.savefig(\"pdf/Q058-Education02.pdf\") # Save pdf"
     ],
     "language": "python",
     "metadata": {},
     "outputs": [
      {
       "output_type": "stream",
       "stream": "stdout",
       "text": [
        "Data:\n",
        "Series([], dtype: int64)\n",
        "\n",
        "Data %:\n",
        "Series([], dtype: float64)\n"
       ]
      },
      {
       "metadata": {},
       "output_type": "display_data",
       "png": "[encoded data removed]",
       "text": [
        "<matplotlib.figure.Figure at 0x108a9a410>"
       ]
      }
     ],
     "prompt_number": 9
    },
    {
     "cell_type": "code",
     "collapsed": false,
     "input": [],
     "language": "python",
     "metadata": {},
     "outputs": [],
     "prompt_number": 7
    }
   ],
   "metadata": {}
  }
 ]
}