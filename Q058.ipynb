{
 "metadata": {
  "name": "",
  "signature": "sha256:c8c78117cf93cbcfadd69a15152030329e391b7f315cffd3465432b865e9f8f1"
 },
 "nbformat": 3,
 "nbformat_minor": 0,
 "worksheets": [
  {
   "cells": [
    {
     "cell_type": "heading",
     "level": 1,
     "metadata": {},
     "source": [
      "Q058 - Per quali fasce d'\u00e9t\u00e1?"
     ]
    },
    {
     "cell_type": "code",
     "collapsed": false,
     "input": [
      "# -*- coding: UTF-8 -*-\n",
      "\n",
      "# Render our plots inline\n",
      "%matplotlib inline \n",
      "\n",
      "import pandas as pd\n",
      "import matplotlib.pyplot as plt\n",
      "import numpy as np\n",
      "import seaborn\n",
      "\n",
      "pd.set_option('display.mpl_style', 'default') # Make the graphs a bit prettier, overridden by seaborn\n",
      "pd.set_option('display.max_columns', None) # Display all the columns\n",
      "plt.rcParams['font.family'] = 'sans-serif' # Sans Serif fonts for all the graphs\n",
      "\n",
      "# Reference for color palettes: http://web.stanford.edu/~mwaskom/software/seaborn/tutorial/color_palettes.html\n",
      "\n",
      "# Change the font\n",
      "matplotlib.rcParams.update({'font.family': 'Source Sans Pro'})"
     ],
     "language": "python",
     "metadata": {},
     "outputs": [],
     "prompt_number": 1
    },
    {
     "cell_type": "code",
     "collapsed": false,
     "input": [
      "# Load csv file first\n",
      "data = pd.read_csv(\"data/results-makers-40.csv\", encoding=\"utf-8\")"
     ],
     "language": "python",
     "metadata": {},
     "outputs": [],
     "prompt_number": 2
    },
    {
     "cell_type": "code",
     "collapsed": false,
     "input": [
      "# Check data\n",
      "#data[0:4] # Equals to data.head()"
     ],
     "language": "python",
     "metadata": {},
     "outputs": [],
     "prompt_number": 3
    },
    {
     "cell_type": "code",
     "collapsed": false,
     "input": [
      "# Get rid of the people who did not answer to this section\n",
      "data = data.loc[data['Q001'] == 'Gestore di makerspace']"
     ],
     "language": "python",
     "metadata": {},
     "outputs": [],
     "prompt_number": 4
    },
    {
     "cell_type": "code",
     "collapsed": false,
     "input": [
      "# Range: Q058[SQ001] - Q058[SQ005] - Q058[other]\n",
      "\n",
      "education_columns = ['Q058[SQ001]','Q058[SQ002]','Q058[SQ003]','Q058[SQ004]','Q058[SQ005]']\n",
      "education_options = ['Bambini','Adolescenti','Giovani','Adulti','Anziani']\n",
      "education = data[education_columns]\n",
      "education.replace(u'S\u00ec', 'Si', inplace=True) # Get rid of accented characters \n",
      "education_other = data['Q058[other]'].str.lower().value_counts()"
     ],
     "language": "python",
     "metadata": {},
     "outputs": [
      {
       "output_type": "stream",
       "stream": "stderr",
       "text": [
        "-c:6: SettingWithCopyWarning: \n",
        "A value is trying to be set on a copy of a slice from a DataFrame\n",
        "\n",
        "See the the caveats in the documentation: http://pandas.pydata.org/pandas-docs/stable/indexing.html#indexing-view-versus-copy\n"
       ]
      }
     ],
     "prompt_number": 5
    },
    {
     "cell_type": "code",
     "collapsed": false,
     "input": [
      "#education[0:4]"
     ],
     "language": "python",
     "metadata": {},
     "outputs": [],
     "prompt_number": 6
    },
    {
     "cell_type": "code",
     "collapsed": false,
     "input": [
      "#\u00a0Gather data\n",
      "education_b = {}\n",
      "\n",
      "for k,i in enumerate(education_columns):\n",
      "    education_b[k] = education[i].value_counts(dropna=False)\n",
      "    print \"Data:\",education_options[k]\n",
      "    print education_b[k]\n",
      "    print\n",
      "    print \"Data %:\",education_options[k]\n",
      "    print education[i].value_counts(normalize=True,dropna=False)*100\n",
      "    print\n",
      "    \n",
      "yes = []\n",
      "no = []\n",
      "nanvalue = []\n",
      "\n",
      "for k,i in enumerate(education_columns):\n",
      "    education_presents = education_b[k].index.tolist()\n",
      "    \n",
      "    #\u00a0Convert NaN to \"NaN\"\n",
      "    for o,h in enumerate(education_presents):\n",
      "        if type(h) is float:\n",
      "            education_presents.pop(o)\n",
      "            education_presents.append(\"NaN\")\n",
      "    \n",
      "    #\u00a0Reassign new list with \"NaN\"\n",
      "    education_b[k].index = education_presents\n",
      "    \n",
      "    #\u00a0Check for empty values, and put a 0 instead\n",
      "    if \"Si\" not in education_presents:\n",
      "        yes.append(0)\n",
      "    if \"No\" not in education_presents:\n",
      "        no.append(0)\n",
      "    if \"NaN\" not in education_presents:\n",
      "        nanvalue.append(0)\n",
      "    \n",
      "    for j in education_presents:\n",
      "        if j == \"Si\":\n",
      "            yes.append(education_b[k].ix[\"Si\"])\n",
      "        elif j == \"No\":\n",
      "            no.append(education_b[k].ix[\"No\"])\n",
      "        elif j == \"NaN\":\n",
      "            nanvalue.append(education_b[k].ix[\"NaN\"]) "
     ],
     "language": "python",
     "metadata": {},
     "outputs": [
      {
       "output_type": "stream",
       "stream": "stdout",
       "text": [
        "Data: Bambini\n",
        "No     16\n",
        "Si     13\n",
        "NaN     0\n",
        "dtype: int64\n",
        "\n",
        "Data %: Bambini\n",
        "No     55.172414\n",
        "Si     44.827586\n",
        "NaN     0.000000\n",
        "dtype: float64\n",
        "\n",
        "Data: Adolescenti\n",
        "Si     19\n",
        "No     10\n",
        "NaN     0\n",
        "dtype: int64\n",
        "\n",
        "Data %: Adolescenti\n",
        "Si     65.517241\n",
        "No     34.482759\n",
        "NaN     0.000000\n",
        "dtype: float64\n",
        "\n",
        "Data: Giovani\n",
        "Si     25\n",
        "No      4\n",
        "NaN     0\n",
        "dtype: int64\n",
        "\n",
        "Data %: Giovani\n",
        "Si     86.206897\n",
        "No     13.793103\n",
        "NaN     0.000000\n",
        "dtype: float64\n",
        "\n",
        "Data: Adulti\n",
        "Si     25\n",
        "No      4\n",
        "NaN     0\n",
        "dtype: int64\n",
        "\n",
        "Data %: Adulti\n",
        "Si     86.206897\n",
        "No     13.793103\n",
        "NaN     0.000000\n",
        "dtype: float64\n",
        "\n",
        "Data: Anziani\n",
        "No     18\n",
        "Si     11\n",
        "NaN     0\n",
        "dtype: int64\n",
        "\n",
        "Data %: Anziani\n",
        "No     62.068966\n",
        "Si     37.931034\n",
        "NaN     0.000000\n",
        "dtype: float64\n",
        "\n"
       ]
      }
     ],
     "prompt_number": 7
    },
    {
     "cell_type": "code",
     "collapsed": false,
     "input": [
      "# Plot the data\n",
      "plt.figure(figsize=(8,6))\n",
      "plt.xlabel(u'Fasce di et\u00e1 per la formazione', fontsize=16)\n",
      "plt.ylabel('Persone', fontsize=16)\n",
      "plt.title(u\"Per quali fasce d'\u00e9t\u00e1?\", fontsize=18)\n",
      "plt.xticks(range(len(education_options)+1),education_options,rotation=90)\n",
      "ind = np.arange(len(education_columns))   # the x locations for the groups\n",
      "width = 0.25                              # the width of the bars\n",
      "\n",
      "my_colors = seaborn.color_palette(\"Set1\", 3) # Set color palette\n",
      "rect1 = plt.bar(ind,yes,width,color=my_colors[1],align='center') # Plot Yes\n",
      "rect2 = plt.bar(ind+width,no,width,color=my_colors[0],align='center') # Plot No \n",
      "rect3 = plt.bar(ind+width*2,nanvalue,width,color=my_colors[2],align='center') # Plot NaN \n",
      "plt.legend( (rect1, rect2, rect3), ('Si', 'No', 'NaN') )\n",
      "plt.savefig(\"svg/Q058-MakerspaceEducation01.svg\")\n",
      "plt.savefig(\"png/Q058-MakerspaceEducation01.png\")"
     ],
     "language": "python",
     "metadata": {},
     "outputs": [
      {
       "metadata": {},
       "output_type": "display_data",
       "png": "[encoded data removed]",
       "text": [
        "<matplotlib.figure.Figure at 0x1096c8e50>"
       ]
      }
     ],
     "prompt_number": 8
    },
    {
     "cell_type": "code",
     "collapsed": false,
     "input": [
      "# Get \"other\" data\n",
      "education_other = data[\"Q058[other]\"].str.lower().value_counts()\n",
      "print \"Data:\"\n",
      "print education_other\n",
      "print \"\"\n",
      "print \"Data %:\"\n",
      "print data[\"Q058[other]\"].str.lower().value_counts(normalize=True) * 100\n",
      "\n",
      "# Plot bar\n",
      "plt.figure(figsize=(8,6))\n",
      "plt.title(u\"Per quali fasce d'\u00e9t\u00e1? Altro\", fontsize=18)\n",
      "plt.xticks(range(len(education_other.index)),education_other.index,rotation=90)\n",
      "plt.xlabel(u'Fasce di et\u00e1', fontsize=16)\n",
      "plt.ylabel('Persone', fontsize=16)\n",
      "ind = np.arange(len(education_other))   # the x locations for the groups\n",
      "width = 0.35                       # the width of the bars\n",
      "\n",
      "my_colors = seaborn.color_palette(\"husl\", len(education_other)) # Set color palette\n",
      "rect1 = plt.bar(ind,education_other,width,color=my_colors,align='center')\n",
      "plt.savefig(\"svg/Q058-MakerspaceEducation02.svg\")\n",
      "plt.savefig(\"png/Q058-MakerspaceEducation02.png\")"
     ],
     "language": "python",
     "metadata": {},
     "outputs": [
      {
       "output_type": "stream",
       "stream": "stdout",
       "text": [
        "Data:\n",
        "Series([], dtype: int64)\n",
        "\n",
        "Data %:\n",
        "Series([], dtype: float64)\n"
       ]
      },
      {
       "metadata": {},
       "output_type": "display_data",
       "png": "[encoded data removed]",
       "text": [
        "<matplotlib.figure.Figure at 0x1096c8b10>"
       ]
      }
     ],
     "prompt_number": 9
    }
   ],
   "metadata": {}
  }
 ]
}