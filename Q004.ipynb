{
 "metadata": {
  "name": "",
  "signature": "sha256:9b99c278b24431396e31b3cd0f6eef4d60cb392bc7d612ed522cfa60a289e0d5"
 },
 "nbformat": 3,
 "nbformat_minor": 0,
 "worksheets": [
  {
   "cells": [
    {
     "cell_type": "heading",
     "level": 1,
     "metadata": {},
     "source": [
      "Q004 - Qual \u00e9 il tuo genere?"
     ]
    },
    {
     "cell_type": "code",
     "collapsed": false,
     "input": [
      "# -*- coding: UTF-8 -*-\n",
      "\n",
      "# Render our plots inline\n",
      "%matplotlib inline \n",
      "\n",
      "import pandas as pd\n",
      "import matplotlib\n",
      "import matplotlib.pyplot as plt\n",
      "import numpy as np\n",
      "import seaborn\n",
      "import shutil\n",
      "\n",
      "pd.set_option('display.mpl_style', 'default') # Make the graphs a bit prettier, overridden by seaborn\n",
      "pd.set_option('display.max_columns', None) # Display all the columns\n",
      "plt.rcParams['font.family'] = 'sans-serif' # Sans Serif fonts for all the graphs\n",
      "\n",
      "# Reference for color palettes: http://web.stanford.edu/~mwaskom/software/seaborn/tutorial/color_palettes.html\n",
      "\n",
      "# Change the font\n",
      "matplotlib.rcParams.update({'font.family': 'Source Sans Pro'})"
     ],
     "language": "python",
     "metadata": {},
     "outputs": [],
     "prompt_number": 1
    },
    {
     "cell_type": "code",
     "collapsed": false,
     "input": [
      "# Load csv file first\n",
      "data = pd.read_csv(\"data/results-makers-40.csv\", encoding=\"utf-8\")"
     ],
     "language": "python",
     "metadata": {},
     "outputs": [],
     "prompt_number": 2
    },
    {
     "cell_type": "code",
     "collapsed": false,
     "input": [
      "# Check data\n",
      "#data[0:4] # Equals to data.head()"
     ],
     "language": "python",
     "metadata": {},
     "outputs": [],
     "prompt_number": 3
    },
    {
     "cell_type": "code",
     "collapsed": false,
     "input": [
      "%%capture Q004\n",
      "\n",
      "# Save the output as a variable that can be saved to a file\n",
      "#\u00a0Get the distribution of gender\n",
      "gender = data[\"Q004\"].value_counts(dropna=False)\n",
      "print \"Data:\"\n",
      "print gender\n",
      "print \"\"\n",
      "print \"Data %:\"\n",
      "print data[\"Q004\"].value_counts(normalize=True,dropna=False) * 100"
     ],
     "language": "python",
     "metadata": {},
     "outputs": [],
     "prompt_number": 4
    },
    {
     "cell_type": "code",
     "collapsed": false,
     "input": [
      "# Save+show the output to a text file\n",
      "%save Q004-GenereMaker.py str(Q004)\n",
      "shutil.move(\"Q004-GenereMaker.py\", \"text/Q004-GenereMaker.txt\")"
     ],
     "language": "python",
     "metadata": {},
     "outputs": [
      {
       "output_type": "stream",
       "stream": "stdout",
       "text": [
        "The following commands were written to file `Q004-GenereMaker.py`:\n",
        "Data:\n",
        "Maschio    97\n",
        "Femmina    32\n",
        "NaN         5\n",
        "dtype: int64\n",
        "\n",
        "Data %:\n",
        "Maschio    72.388060\n",
        "Femmina    23.880597\n",
        "NaN         3.731343\n",
        "dtype: float64\n",
        "\n"
       ]
      }
     ],
     "prompt_number": 5
    },
    {
     "cell_type": "code",
     "collapsed": false,
     "input": [
      "# Plot the data\n",
      "plt.figure(figsize=(8,6))\n",
      "plt.xlabel('Genere', fontsize=16)\n",
      "plt.ylabel('Persone', fontsize=16)\n",
      "plt.title(u\"Qual \u00e9 il tuo genere?\", fontsize=18, y=1.02)\n",
      "my_colors = seaborn.color_palette(\"coolwarm\", len(gender)) # Set color palette\n",
      "gender.plot(kind=\"bar\",color=my_colors)\n",
      "plt.savefig(u\"svg/Q004-GenereMaker01.svg\")\n",
      "plt.savefig(u\"png/Q004-GenereMaker01.png\")\n",
      "plt.savefig(u\"pdf/Q004-GenereMaker01.pdf\")"
     ],
     "language": "python",
     "metadata": {},
     "outputs": [
      {
       "metadata": {},
       "output_type": "display_data",
       "png": "[encoded data removed]",
       "text": [
        "<matplotlib.figure.Figure at 0x106633510>"
       ]
      }
     ],
     "prompt_number": 6
    },
    {
     "cell_type": "code",
     "collapsed": false,
     "input": [],
     "language": "python",
     "metadata": {},
     "outputs": [],
     "prompt_number": 6
    }
   ],
   "metadata": {}
  }
 ]
}