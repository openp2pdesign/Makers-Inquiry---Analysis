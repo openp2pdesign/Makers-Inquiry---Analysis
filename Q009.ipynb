{
 "metadata": {
  "name": ""
 },
 "nbformat": 3,
 "nbformat_minor": 0,
 "worksheets": [
  {
   "cells": [
    {
     "cell_type": "heading",
     "level": 1,
     "metadata": {},
     "source": [
      "Q009 - Quali lingue conosci?"
     ]
    },
    {
     "cell_type": "code",
     "collapsed": false,
     "input": [
      "# -*- coding: UTF-8 -*-\n",
      "\n",
      "# Render our plots inline\n",
      "%matplotlib inline \n",
      "\n",
      "import pandas as pd\n",
      "import matplotlib.pyplot as plt\n",
      "import numpy as np\n",
      "import seaborn\n",
      "\n",
      "pd.set_option('display.mpl_style', 'default') # Make the graphs a bit prettier, overridden by seaborn\n",
      "pd.set_option('display.max_columns', None) # Display all the columns\n",
      "plt.rcParams['font.family'] = 'sans-serif' # Sans Serif fonts for all the graphs\n",
      "\n",
      "# Reference for color palettes: http://web.stanford.edu/~mwaskom/software/seaborn/tutorial/color_palettes.html"
     ],
     "language": "python",
     "metadata": {},
     "outputs": [],
     "prompt_number": 1
    },
    {
     "cell_type": "code",
     "collapsed": false,
     "input": [
      "# Load csv file first\n",
      "data = pd.read_csv(\"data/results-makers.csv\", encoding=\"utf-8\")"
     ],
     "language": "python",
     "metadata": {},
     "outputs": [],
     "prompt_number": 2
    },
    {
     "cell_type": "code",
     "collapsed": false,
     "input": [
      "# Check data\n",
      "#data[0:4] # Equals to data.head()"
     ],
     "language": "python",
     "metadata": {},
     "outputs": [],
     "prompt_number": 3
    },
    {
     "cell_type": "code",
     "collapsed": false,
     "input": [
      "# Range: Q009[SQ001] - Q009[SQ006] - Q009[other]\n",
      "\n",
      "languages_columns = ['Q009[SQ001]','Q009[SQ002]','Q009[SQ003]','Q009[SQ004]','Q009[SQ005]','Q009[SQ006]']\n",
      "languages_options = ['Italiano','Inglese','Spagnolo','Francese','Tedesco','Portoghese']\n",
      "languages = data[languages_columns]\n",
      "languages.replace(u'S\u00ec', 'Si', inplace=True) # Get rid of accented characters \n",
      "languages_other = data['Q009[other]'].str.lower().value_counts()"
     ],
     "language": "python",
     "metadata": {},
     "outputs": [],
     "prompt_number": 8
    },
    {
     "cell_type": "code",
     "collapsed": false,
     "input": [
      "languages[0:4]"
     ],
     "language": "python",
     "metadata": {},
     "outputs": [
      {
       "html": [
        "<div style=\"max-height:1000px;max-width:1500px;overflow:auto;\">\n",
        "<table border=\"1\" class=\"dataframe\">\n",
        "  <thead>\n",
        "    <tr style=\"text-align: right;\">\n",
        "      <th></th>\n",
        "      <th>Q009[SQ001]</th>\n",
        "      <th>Q009[SQ002]</th>\n",
        "      <th>Q009[SQ003]</th>\n",
        "      <th>Q009[SQ004]</th>\n",
        "      <th>Q009[SQ005]</th>\n",
        "      <th>Q009[SQ006]</th>\n",
        "    </tr>\n",
        "  </thead>\n",
        "  <tbody>\n",
        "    <tr>\n",
        "      <th>0</th>\n",
        "      <td> Si</td>\n",
        "      <td> Si</td>\n",
        "      <td> Si</td>\n",
        "      <td> Si</td>\n",
        "      <td> No</td>\n",
        "      <td> No</td>\n",
        "    </tr>\n",
        "    <tr>\n",
        "      <th>1</th>\n",
        "      <td> Si</td>\n",
        "      <td> Si</td>\n",
        "      <td> No</td>\n",
        "      <td> No</td>\n",
        "      <td> No</td>\n",
        "      <td> No</td>\n",
        "    </tr>\n",
        "    <tr>\n",
        "      <th>2</th>\n",
        "      <td> Si</td>\n",
        "      <td> Si</td>\n",
        "      <td> No</td>\n",
        "      <td> No</td>\n",
        "      <td> No</td>\n",
        "      <td> No</td>\n",
        "    </tr>\n",
        "    <tr>\n",
        "      <th>3</th>\n",
        "      <td> Si</td>\n",
        "      <td> Si</td>\n",
        "      <td> No</td>\n",
        "      <td> No</td>\n",
        "      <td> No</td>\n",
        "      <td> No</td>\n",
        "    </tr>\n",
        "  </tbody>\n",
        "</table>\n",
        "</div>"
       ],
       "metadata": {},
       "output_type": "pyout",
       "prompt_number": 5,
       "text": [
        "  Q009[SQ001] Q009[SQ002] Q009[SQ003] Q009[SQ004] Q009[SQ005] Q009[SQ006]\n",
        "0          Si          Si          Si          Si          No          No\n",
        "1          Si          Si          No          No          No          No\n",
        "2          Si          Si          No          No          No          No\n",
        "3          Si          Si          No          No          No          No"
       ]
      }
     ],
     "prompt_number": 5
    },
    {
     "cell_type": "code",
     "collapsed": false,
     "input": [
      "#\u00a0Gather data\n",
      "languages_b = {}\n",
      "for k,i in enumerate(languages_columns):\n",
      "    languages_b[k] = languages[i].value_counts()\n",
      "    print \"Data:\",languages_options[k]\n",
      "    print languages_b[k]\n",
      "    print\n",
      "    print \"Data %:\",languages_options[k]\n",
      "    print languages[i].value_counts(normalize=True)*100\n",
      "    print\n",
      "    \n",
      "yes = []\n",
      "no = []\n",
      "\n",
      "# Get data for plotting, and check that we have all the values for Yes and No\n",
      "for k,i in enumerate(languages_columns):\n",
      "    if len(languages_b[k].index) == 2:\n",
      "        if languages_b[k].index[0] == \"Si\":\n",
      "            yes.append(languages_b[k].iloc[0])\n",
      "            no.append(languages_b[k].iloc[1])\n",
      "        elif languages_b[k].index[1] == \"Si\":\n",
      "            yes.append(languages_b[k].iloc[1])\n",
      "            no.append(languages_b[k].iloc[0])\n",
      "    elif len(languages_b[k].index) == 1:\n",
      "        if languages_b[k].index[0] == \"Si\":\n",
      "            yes.append(languages_b[k].iloc[0])\n",
      "            no.append(0)\n",
      "        elif languages_b[k].index[0] == \"No\":\n",
      "            yes.append(0)\n",
      "            no.append(languages_b[k].iloc[0])\n",
      "    else:\n",
      "        yes.append(0)\n",
      "        no.append(0)\n",
      "\n",
      "# Plot the data\n",
      "plt.figure(figsize=(8,6))\n",
      "plt.xlabel('Lingue')\n",
      "plt.ylabel('Persone')\n",
      "plt.title('Maker: Quali lingue parli?')\n",
      "plt.xticks(range(len(languages_options)),languages_options,rotation=90)\n",
      "ind = np.arange(len(languages_columns))   # the x locations for the groups\n",
      "width = 0.35                              # the width of the bars\n",
      "\n",
      "my_colors = seaborn.color_palette(\"Set1\", 2) # Set color palette\n",
      "rect1 = plt.bar(ind,yes,width,color=my_colors[1],align='center') # Plot Yes\n",
      "rect2 = plt.bar(ind+width,no,width,color=my_colors[0],align='center') # Plot No \n",
      "plt.legend( (rect1, rect2), ('Si', 'No') )\n",
      "plt.savefig(\"pdf/Q009-MakerLingue01.pdf\")"
     ],
     "language": "python",
     "metadata": {},
     "outputs": [
      {
       "output_type": "stream",
       "stream": "stdout",
       "text": [
        "Data: Italiano\n",
        "Si    96\n",
        "No     7\n",
        "dtype: int64\n",
        "\n",
        "Data %: Italiano\n",
        "Si    93.203883\n",
        "No     6.796117\n",
        "dtype: float64\n",
        "\n",
        "Data: Inglese\n",
        "Si    93\n",
        "No    10\n",
        "dtype: int64\n",
        "\n",
        "Data %: Inglese\n",
        "Si    90.291262\n",
        "No     9.708738\n",
        "dtype: float64\n",
        "\n",
        "Data: Spagnolo\n",
        "No    87\n",
        "Si    16\n",
        "dtype: int64\n",
        "\n",
        "Data %: Spagnolo\n",
        "No    84.466019\n",
        "Si    15.533981\n",
        "dtype: float64\n",
        "\n",
        "Data: Francese\n",
        "No    83\n",
        "Si    20\n",
        "dtype: int64\n",
        "\n",
        "Data %: Francese\n",
        "No    80.582524\n",
        "Si    19.417476\n",
        "dtype: float64\n",
        "\n",
        "Data: Tedesco\n",
        "No    98\n",
        "Si     5\n",
        "dtype: int64\n",
        "\n",
        "Data %: Tedesco\n",
        "No    95.145631\n",
        "Si     4.854369\n",
        "dtype: float64\n",
        "\n",
        "Data: Portoghese\n",
        "No    99\n",
        "Si     4\n",
        "dtype: int64\n",
        "\n",
        "Data %: Portoghese\n",
        "No    96.116505\n",
        "Si     3.883495\n",
        "dtype: float64\n",
        "\n"
       ]
      },
      {
       "metadata": {},
       "output_type": "display_data",
       "png": "[encoded data removed]",
       "text": [
        "<matplotlib.figure.Figure at 0x1101b7450>"
       ]
      }
     ],
     "prompt_number": 12
    },
    {
     "cell_type": "code",
     "collapsed": false,
     "input": [
      "# Get \"other\" data\n",
      "languages_other = data[\"Q009[other]\"].str.lower().value_counts()\n",
      "print \"Data:\"\n",
      "print languages_other\n",
      "print \"\"\n",
      "print \"Data %:\"\n",
      "print data[\"Q009[other]\"].str.lower().value_counts(normalize=True) * 100\n",
      "\n",
      "# Plot bar\n",
      "plt.figure(figsize=(8,6))\n",
      "plt.title('Quali lingue parli? Altro')\n",
      "plt.xticks(range(len(languages_other.index)),languages_other.index,rotation=90)\n",
      "plt.xlabel('Lingue')\n",
      "plt.ylabel('Persone')\n",
      "ind = np.arange(len(languages_other))   # the x locations for the groups\n",
      "width = 0.35                       # the width of the bars\n",
      "\n",
      "my_colors = seaborn.color_palette(\"husl\", len(languages_other)) # Set color palette\n",
      "rect1 = plt.bar(ind,languages_other,width,color=my_colors,align='center')\n",
      "plt.savefig(\"pdf/Q009-MakerLingue02.pdf\") # Save pdf"
     ],
     "language": "python",
     "metadata": {},
     "outputs": [
      {
       "output_type": "stream",
       "stream": "stdout",
       "text": [
        "Data:\n",
        "arabo                2\n",
        "olandese             1\n",
        "ungherese            1\n",
        "catalano             1\n",
        "dialetto di parma    1\n",
        "dtype: int64\n",
        "\n",
        "Data %:\n",
        "arabo                1.941748\n",
        "olandese             0.970874\n",
        "ungherese            0.970874\n",
        "catalano             0.970874\n",
        "dialetto di parma    0.970874\n",
        "dtype: float64\n"
       ]
      },
      {
       "metadata": {},
       "output_type": "display_data",
       "png": "[encoded data removed]",
       "text": [
        "<matplotlib.figure.Figure at 0x10fed4150>"
       ]
      }
     ],
     "prompt_number": 7
    },
    {
     "cell_type": "code",
     "collapsed": false,
     "input": [],
     "language": "python",
     "metadata": {},
     "outputs": [],
     "prompt_number": 7
    }
   ],
   "metadata": {}
  }
 ]
}