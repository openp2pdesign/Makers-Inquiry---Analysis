{
 "metadata": {
  "name": "",
  "signature": "sha256:1ed52cec0d53948212f002a3631d57d82ca75bfd308210fb536a58e2a3438233"
 },
 "nbformat": 3,
 "nbformat_minor": 0,
 "worksheets": [
  {
   "cells": [
    {
     "cell_type": "heading",
     "level": 1,
     "metadata": {},
     "source": [
      "Q009 - Quali lingue conosci?"
     ]
    },
    {
     "cell_type": "code",
     "collapsed": false,
     "input": [
      "# -*- coding: UTF-8 -*-\n",
      "\n",
      "# Render our plots inline\n",
      "%matplotlib inline \n",
      "\n",
      "import pandas as pd\n",
      "import matplotlib\n",
      "import matplotlib.pyplot as plt\n",
      "import numpy as np\n",
      "import seaborn\n",
      "import shutil\n",
      "\n",
      "pd.set_option('display.mpl_style', 'default') # Make the graphs a bit prettier, overridden by seaborn\n",
      "pd.set_option('display.max_columns', None) # Display all the columns\n",
      "plt.rcParams['font.family'] = 'sans-serif' # Sans Serif fonts for all the graphs\n",
      "\n",
      "# Reference for color palettes: http://web.stanford.edu/~mwaskom/software/seaborn/tutorial/color_palettes.html\n",
      "\n",
      "# Change the font\n",
      "matplotlib.rcParams.update({'font.family': 'Source Sans Pro'})"
     ],
     "language": "python",
     "metadata": {},
     "outputs": [],
     "prompt_number": 1
    },
    {
     "cell_type": "code",
     "collapsed": false,
     "input": [
      "# Load csv file first\n",
      "data = pd.read_csv(\"data/results-makers-40.csv\", encoding=\"utf-8\")"
     ],
     "language": "python",
     "metadata": {},
     "outputs": [],
     "prompt_number": 2
    },
    {
     "cell_type": "code",
     "collapsed": false,
     "input": [
      "# Check data\n",
      "#data[0:4] # Equals to data.head()"
     ],
     "language": "python",
     "metadata": {},
     "outputs": [],
     "prompt_number": 3
    },
    {
     "cell_type": "code",
     "collapsed": false,
     "input": [
      "# Range: Q009[SQ001] - Q009[SQ006] - Q009[other]\n",
      "\n",
      "languages_columns = ['Q009[SQ001]','Q009[SQ002]','Q009[SQ003]','Q009[SQ004]','Q009[SQ005]','Q009[SQ006]']\n",
      "languages_options = ['Italiano','Inglese','Spagnolo','Francese','Tedesco','Portoghese']\n",
      "languages = data[languages_columns]\n",
      "languages.replace(u'S\u00ec', 'Si', inplace=True) # Get rid of accented characters \n",
      "languages_other = data['Q009[other]'].str.lower().value_counts()"
     ],
     "language": "python",
     "metadata": {},
     "outputs": [
      {
       "output_type": "stream",
       "stream": "stderr",
       "text": [
        "-c:6: SettingWithCopyWarning: \n",
        "A value is trying to be set on a copy of a slice from a DataFrame\n",
        "\n",
        "See the the caveats in the documentation: http://pandas.pydata.org/pandas-docs/stable/indexing.html#indexing-view-versus-copy\n"
       ]
      }
     ],
     "prompt_number": 4
    },
    {
     "cell_type": "code",
     "collapsed": false,
     "input": [
      "#languages[0:4]"
     ],
     "language": "python",
     "metadata": {},
     "outputs": [],
     "prompt_number": 5
    },
    {
     "cell_type": "code",
     "collapsed": false,
     "input": [
      "%%capture output\n",
      "\n",
      "# Save the output as a variable that can be saved to a file\n",
      "# Gather data\n",
      "languages_b = {}\n",
      "for k,i in enumerate(languages_columns):\n",
      "    languages_b[k] = languages[i].value_counts(dropna=False)\n",
      "    print \"Data:\",languages_options[k]\n",
      "    print languages_b[k]\n",
      "    print\n",
      "    print \"Data %:\",languages_options[k]\n",
      "    print languages[i].value_counts(normalize=True,dropna=False)*100\n",
      "    print\n",
      "    \n",
      "    \n",
      "yes = []\n",
      "no = []\n",
      "nanvalue = []\n",
      "\n",
      "for k,i in enumerate(languages_columns):\n",
      "    languages_presents = languages_b[k].index.tolist()\n",
      "    \n",
      "    # Convert NaN to \"NaN\"\n",
      "    for o,h in enumerate(languages_presents):\n",
      "        if type(h) is float:\n",
      "            languages_presents.pop(o)\n",
      "            languages_presents.append(\"NaN\")\n",
      "    \n",
      "    # Reassign new list with \"NaN\"\n",
      "    languages_b[k].index = languages_presents\n",
      "    \n",
      "    # Check for empty values, and put a 0 instead\n",
      "    if \"Si\" not in languages_presents:\n",
      "        yes.append(0)\n",
      "    if \"No\" not in languages_presents:\n",
      "        no.append(0)\n",
      "    if \"NaN\" not in languages_presents:\n",
      "        nanvalue.append(0)\n",
      "    \n",
      "    for j in languages_presents:\n",
      "        if j == \"Si\":\n",
      "            yes.append(languages_b[k].ix[\"Si\"])\n",
      "        elif j == \"No\":\n",
      "            no.append(languages_b[k].ix[\"No\"])\n",
      "        elif j == \"NaN\":\n",
      "            nanvalue.append(languages_b[k].ix[\"NaN\"])"
     ],
     "language": "python",
     "metadata": {},
     "outputs": [],
     "prompt_number": 6
    },
    {
     "cell_type": "code",
     "collapsed": false,
     "input": [
      "# Save+show the output to a text file\n",
      "%save Q009-MakerLingue01.py str(output)\n",
      "shutil.move(\"Q009-MakerLingue01.py\", \"text/Q009-MakerLingue01.txt\")"
     ],
     "language": "python",
     "metadata": {},
     "outputs": [
      {
       "output_type": "stream",
       "stream": "stdout",
       "text": [
        "The following commands were written to file `Q009-MakerLingue01.py`:\n",
        "Data: Italiano\n",
        "Si     126\n",
        "No       8\n",
        "NaN      0\n",
        "dtype: int64\n",
        "\n",
        "Data %: Italiano\n",
        "Si     94.029851\n",
        "No      5.970149\n",
        "NaN     0.000000\n",
        "dtype: float64\n",
        "\n",
        "Data: Inglese\n",
        "Si     119\n",
        "No      15\n",
        "NaN      0\n",
        "dtype: int64\n",
        "\n",
        "Data %: Inglese\n",
        "Si     88.80597\n",
        "No     11.19403\n",
        "NaN     0.00000\n",
        "dtype: float64\n",
        "\n",
        "Data: Spagnolo\n",
        "No     112\n",
        "Si      22\n",
        "NaN      0\n",
        "dtype: int64\n",
        "\n",
        "Data %: Spagnolo\n",
        "No     83.58209\n",
        "Si     16.41791\n",
        "NaN     0.00000\n",
        "dtype: float64\n",
        "\n",
        "Data: Francese\n",
        "No     110\n",
        "Si      24\n",
        "NaN      0\n",
        "dtype: int64\n",
        "\n",
        "Data %: Francese\n",
        "No     82.089552\n",
        "Si     17.910448\n",
        "NaN     0.000000\n",
        "dtype: float64\n",
        "\n",
        "Data: Tedesco\n",
        "No     127\n",
        "Si       7\n",
        "NaN      0\n",
        "dtype: int64\n",
        "\n",
        "Data %: Tedesco\n",
        "No     94.776119\n",
        "Si      5.223881\n",
        "NaN     0.000000\n",
        "dtype: float64\n",
        "\n",
        "Data: Portoghese\n",
        "No     129\n",
        "Si       5\n",
        "NaN      0\n",
        "dtype: int64\n",
        "\n",
        "Data %: Portoghese\n",
        "No     96.268657\n",
        "Si      3.731343\n",
        "NaN     0.000000\n",
        "dtype: float64\n",
        "\n",
        "\n"
       ]
      }
     ],
     "prompt_number": 7
    },
    {
     "cell_type": "code",
     "collapsed": false,
     "input": [
      "# Plot the data\n",
      "plt.figure(figsize=(8,6))\n",
      "plt.xlabel('Lingue', fontsize=16)\n",
      "plt.ylabel('Persone', fontsize=16)\n",
      "plt.title('Quali lingue conosci?', fontsize=18, y=1.02)\n",
      "plt.xticks(range(len(languages_options)),languages_options,rotation=90)\n",
      "ind = np.arange(len(languages_columns))   # the x locations for the groups\n",
      "width = 0.35                              # the width of the bars\n",
      "\n",
      "my_colors = seaborn.color_palette(\"Set1\", 3) # Set color palette\n",
      "rect1 = plt.bar(ind,yes,width,color=my_colors[1],align='center') # Plot Yes\n",
      "rect2 = plt.bar(ind+width,no,width,color=my_colors[0],align='center') # Plot No \n",
      "rect3 = plt.bar(ind+width*2,nanvalue,width,color=my_colors[2],align='center') # Plot NaN\n",
      "plt.legend( (rect1, rect2, rect3), ('Si', 'No', 'NaN') )\n",
      "plt.savefig(\"svg/Q009-MakerLingue01.svg\")\n",
      "plt.savefig(\"png/Q009-MakerLingue01.png\")\n",
      "plt.savefig(\"pdf/Q009-MakerLingue01.pdf\")"
     ],
     "language": "python",
     "metadata": {},
     "outputs": [
      {
       "metadata": {},
       "output_type": "display_data",
       "png": "[encoded data removed]",
       "text": [
        "<matplotlib.figure.Figure at 0x111d60a90>"
       ]
      }
     ],
     "prompt_number": 8
    },
    {
     "cell_type": "code",
     "collapsed": false,
     "input": [
      "%%capture output\n",
      "\n",
      "# Save the output as a variable that can be saved to a file\n",
      "# Get \"other\" data\n",
      "languages_other = data[\"Q009[other]\"].str.lower().value_counts()\n",
      "print \"Data:\"\n",
      "print languages_other\n",
      "print \"\"\n",
      "print \"Data %:\"\n",
      "print data[\"Q009[other]\"].str.lower().value_counts(normalize=True) * 100"
     ],
     "language": "python",
     "metadata": {},
     "outputs": [],
     "prompt_number": 9
    },
    {
     "cell_type": "code",
     "collapsed": false,
     "input": [
      "# Save+show the output to a text file\n",
      "%save Q009-MakerLingue02.py str(Q009b)\n",
      "shutil.move(\"Q009-MakerLingue02.py\", \"text/Q009-MakerLingue02.txt\")"
     ],
     "language": "python",
     "metadata": {},
     "outputs": [
      {
       "output_type": "stream",
       "stream": "stdout",
       "text": [
        "The following commands were written to file `Q009-MakerLingue02.py`:\n",
        "Data:\n",
        "arabo                2\n",
        "olandese             1\n",
        "ungherese            1\n",
        "catalano             1\n",
        "dialetto di parma    1\n",
        "dtype: int64\n",
        "\n",
        "Data %:\n",
        "arabo                1.492537\n",
        "olandese             0.746269\n",
        "ungherese            0.746269\n",
        "catalano             0.746269\n",
        "dialetto di parma    0.746269\n",
        "dtype: float64\n",
        "\n"
       ]
      }
     ],
     "prompt_number": 10
    },
    {
     "cell_type": "code",
     "collapsed": false,
     "input": [
      "# Plot bar\n",
      "plt.figure(figsize=(8,6))\n",
      "plt.title('Quali lingue conosci? Altro', fontsize=18, y=1.02)\n",
      "plt.xticks(range(len(languages_other.index)),languages_other.index,rotation=90)\n",
      "plt.xlabel('Lingue', fontsize=16)\n",
      "plt.ylabel('Persone', fontsize=16)\n",
      "ind = np.arange(len(languages_other))   # the x locations for the groups\n",
      "width = 0.35                       # the width of the bars\n",
      "\n",
      "my_colors = seaborn.color_palette(\"husl\", len(languages_other)) # Set color palette\n",
      "rect1 = plt.bar(ind,languages_other,width,color=my_colors,align='center')\n",
      "plt.savefig(\"svg/Q009-MakerLingue02.svg\")\n",
      "plt.savefig(\"png/Q009-MakerLingue02.png\")\n",
      "plt.savefig(\"pdf/Q009-MakerLingue02.pdf\")"
     ],
     "language": "python",
     "metadata": {},
     "outputs": [
      {
       "metadata": {},
       "output_type": "display_data",
       "png": "[encoded data removed]",
       "text": [
        "<matplotlib.figure.Figure at 0x111d51c90>"
       ]
      }
     ],
     "prompt_number": 11
    },
    {
     "cell_type": "code",
     "collapsed": false,
     "input": [],
     "language": "python",
     "metadata": {},
     "outputs": [],
     "prompt_number": 11
    }
   ],
   "metadata": {}
  }
 ]
}