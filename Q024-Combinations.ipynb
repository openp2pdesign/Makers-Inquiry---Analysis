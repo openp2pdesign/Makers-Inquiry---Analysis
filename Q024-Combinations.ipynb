{
 "metadata": {
  "name": "",
  "signature": "sha256:3f31f4385711309e0e08e24b58d6de1a32f91a9ec3a3a0dc4be11f958c163a47"
 },
 "nbformat": 3,
 "nbformat_minor": 0,
 "worksheets": [
  {
   "cells": [
    {
     "cell_type": "heading",
     "level": 1,
     "metadata": {},
     "source": [
      "Q024 - Qual \u00e8 il tuo livello di \u2018confidenza\u2019 con le tecnologie?"
     ]
    },
    {
     "cell_type": "code",
     "collapsed": false,
     "input": [
      "# -*- coding: UTF-8 -*-\n",
      "\n",
      "# Render our plots inline\n",
      "%matplotlib inline \n",
      "\n",
      "import pandas as pd\n",
      "import matplotlib\n",
      "import matplotlib.pyplot as plt\n",
      "import numpy as np\n",
      "import seaborn\n",
      "import shutil\n",
      "\n",
      "pd.set_option('display.mpl_style', 'default') # Make the graphs a bit prettier, overridden by seaborn\n",
      "pd.set_option('display.max_columns', None) # Display all the columns\n",
      "plt.rcParams['font.family'] = 'sans-serif' # Sans Serif fonts for all the graphs\n",
      "\n",
      "# Reference for color palettes: http://web.stanford.edu/~mwaskom/software/seaborn/tutorial/color_palettes.html\n",
      "\n",
      "# Change the font\n",
      "matplotlib.rcParams.update({'font.family': 'Source Sans Pro'})"
     ],
     "language": "python",
     "metadata": {},
     "outputs": [],
     "prompt_number": 1
    },
    {
     "cell_type": "code",
     "collapsed": false,
     "input": [
      "# Load csv file first\n",
      "data = pd.read_csv(\"data/results-makers-40.csv\", encoding=\"utf-8\")"
     ],
     "language": "python",
     "metadata": {},
     "outputs": [],
     "prompt_number": 2
    },
    {
     "cell_type": "code",
     "collapsed": false,
     "input": [
      "# Check data\n",
      "#data[0:4] # Equals to data.head()"
     ],
     "language": "python",
     "metadata": {},
     "outputs": [],
     "prompt_number": 3
    },
    {
     "cell_type": "code",
     "collapsed": false,
     "input": [
      "# Range: Q023[SQ001] - Q023[SQ005] - Q023[other]\n",
      "\n",
      "confidence_columns = ['Q024[SQ001]','Q024[SQ002]','Q024[SQ003]','Q024[SQ004]','Q024[SQ005]']\n",
      "confidence_options = ['Le progetto','Le costruisco','Le modifico','Le riparo','Le rigenero']\n",
      "confidence = data[confidence_columns]\n",
      "confidence.replace(u'S\u00ec', 'Si', inplace=True) # Get rid of accented characters \n",
      "confidence_other = data['Q024[other]'].str.lower().value_counts()"
     ],
     "language": "python",
     "metadata": {},
     "outputs": [
      {
       "output_type": "stream",
       "stream": "stderr",
       "text": [
        "-c:6: SettingWithCopyWarning: \n",
        "A value is trying to be set on a copy of a slice from a DataFrame\n",
        "\n",
        "See the the caveats in the documentation: http://pandas.pydata.org/pandas-docs/stable/indexing.html#indexing-view-versus-copy\n"
       ]
      }
     ],
     "prompt_number": 4
    },
    {
     "cell_type": "code",
     "collapsed": false,
     "input": [
      "#places[0:4]"
     ],
     "language": "python",
     "metadata": {},
     "outputs": [],
     "prompt_number": 5
    },
    {
     "cell_type": "heading",
     "level": 2,
     "metadata": {},
     "source": [
      "Combinations..."
     ]
    },
    {
     "cell_type": "code",
     "collapsed": false,
     "input": [
      "# Create all the possible combinations from the main options\n",
      "# See http://stackoverflow.com/questions/17176887/python-get-all-permutation-of-a-list-w-o-repetitions\n",
      "\n",
      "import itertools \n",
      "\n",
      "all_combinations = {}\n",
      "all_combinations_columns = []\n",
      "\n",
      "for i in range(1, len(confidence_columns)+1):\n",
      "    comb = list(itertools.combinations(confidence_columns, i))\n",
      "    for k in comb:\n",
      "        #\u00a0Each combination\n",
      "        all_combinations[k] = {}\n",
      "        all_combinations[k][\"col_list\"] = list(k)\n",
      "        #\u00a0Build the string and boolean list of each combination\n",
      "        comb_list = []\n",
      "        comb_bool_list = []\n",
      "        # Put default False value\n",
      "        for l in confidence_columns:\n",
      "            comb_bool_list.append(False)\n",
      "        for j in k:\n",
      "            pos = confidence_columns.index(j) # Get position\n",
      "            comb_list.append(confidence_options[pos])\n",
      "            comb_bool_list[pos] = True\n",
      "        all_combinations[k][\"list\"] = comb_list\n",
      "        all_combinations[k][\"bool_list\"] = comb_bool_list\n",
      "        all_combinations[k][\"str\"] = \", \".join(comb_list)"
     ],
     "language": "python",
     "metadata": {},
     "outputs": [],
     "prompt_number": 6
    },
    {
     "cell_type": "code",
     "collapsed": false,
     "input": [
      "#\u00a0Check which combinations correspond each row\n",
      "str_values = []\n",
      "for i in confidence.index:\n",
      "    current_bool_list = list(confidence.ix[i].isin([\"Si\"]))\n",
      "    for i in all_combinations:\n",
      "        if current_bool_list == all_combinations[i][\"bool_list\"]:\n",
      "            str_values.append(all_combinations[i][\"str\"])"
     ],
     "language": "python",
     "metadata": {},
     "outputs": [],
     "prompt_number": 7
    },
    {
     "cell_type": "code",
     "collapsed": false,
     "input": [
      "# Add combination column\n",
      "confidence[\"Combination\"] = pd.Series(str_values)"
     ],
     "language": "python",
     "metadata": {},
     "outputs": [
      {
       "output_type": "stream",
       "stream": "stderr",
       "text": [
        "-c:2: SettingWithCopyWarning: \n",
        "A value is trying to be set on a copy of a slice from a DataFrame.\n",
        "Try using .loc[row_indexer,col_indexer] = value instead\n",
        "\n",
        "See the the caveats in the documentation: http://pandas.pydata.org/pandas-docs/stable/indexing.html#indexing-view-versus-copy\n"
       ]
      }
     ],
     "prompt_number": 8
    },
    {
     "cell_type": "code",
     "collapsed": false,
     "input": [
      "# Gather data\n",
      "resulting_combinations = confidence[\"Combination\"].value_counts()\n",
      "resulting_combinations_percentage = confidence[\"Combination\"].value_counts(normalize=True)*100"
     ],
     "language": "python",
     "metadata": {},
     "outputs": [],
     "prompt_number": 9
    },
    {
     "cell_type": "code",
     "collapsed": false,
     "input": [
      "#\u00a0Plotting the first 10 values of the most popular combinations\n",
      "resulting_combinations[0:10].plot(kind='bar',figsize=(20,10),rot=90)\n",
      "plt.title(u\"Qual \u00e8 il tuo livello di \u2018confidenza\u2019 con le tecnologie? Combinazioni\", fontsize=18, y=1.02)\n",
      "plt.ylabel(\"Persone\", fontsize=16)\n",
      "plt.xlabel(\"Combinazioni\", fontsize=16)\n",
      "plt.savefig(\"svg/Q024-Combinazioni.svg\")\n",
      "plt.savefig(\"png/Q024-Combinazioni.png\")\n",
      "plt.savefig(\"pdf/Q024-Combinazioni.pdf\")"
     ],
     "language": "python",
     "metadata": {},
     "outputs": [
      {
       "metadata": {},
       "output_type": "display_data",
       "png": "[encoded data removed]",
       "text": [
        "<matplotlib.figure.Figure at 0x1076f4b10>"
       ]
      }
     ],
     "prompt_number": 10
    },
    {
     "cell_type": "code",
     "collapsed": false,
     "input": [
      "%%capture output\n",
      "\n",
      "# Save the output as a variable that can be saved to a file\n",
      "# Data of the combinations\n",
      "print \"Data:\"\n",
      "print resulting_combinations\n",
      "print\n",
      "# Data of the combinations: percentage\n",
      "print \"Data %:\"\n",
      "print resulting_combinations_percentage"
     ],
     "language": "python",
     "metadata": {},
     "outputs": [],
     "prompt_number": 11
    },
    {
     "cell_type": "code",
     "collapsed": false,
     "input": [
      "# Save+show the output to a text file\n",
      "%save Q024-Combinazioni.py str(output)\n",
      "shutil.move(\"Q024-Combinazioni.py\", \"text/Q024-Combinazioni.txt\")"
     ],
     "language": "python",
     "metadata": {},
     "outputs": [
      {
       "name": "stdout",
       "output_type": "stream",
       "stream": "stdout",
       "text": [
        "File `Q024-Combinazioni.py` exists. Overwrite (y/[N])?  y\n"
       ]
      },
      {
       "output_type": "stream",
       "stream": "stdout",
       "text": [
        "The following commands were written to file `Q024-Combinazioni.py`:\n",
        "Data:\n",
        "Le progetto                                                     17\n",
        "Le progetto, Le costruisco, Le modifico, Le riparo, Le rigenero    16\n",
        "Le modifico                                                      9\n",
        "Le progetto, Le costruisco, Le modifico                          8\n",
        "Le costruisco                                                    7\n",
        "Le progetto, Le costruisco                                       7\n",
        "Le progetto, Le costruisco, Le modifico, Le riparo               5\n",
        "Le costruisco, Le modifico, Le riparo                            4\n",
        "Le modifico, Le riparo                                           4\n",
        "Le riparo                                                        2\n",
        "Le progetto, Le costruisco, Le riparo                            2\n",
        "Le costruisco, Le modifico                                       2\n",
        "Le progetto, Le costruisco, Le riparo, Le rigenero               1\n",
        "Le costruisco, Le modifico, Le rigenero                          1\n",
        "Le modifico, Le riparo, Le rigenero                              1\n",
        "Le progetto, Le riparo                                           1\n",
        "Le costruisco, Le riparo                                         1\n",
        "Le rigenero                                                      1\n",
        "Le progetto, Le modifico                                         1\n",
        "Le costruisco, Le riparo, Le rigenero                            1\n",
        "dtype: int64\n",
        "\n",
        "Data %:\n",
        "Le progetto                                                     12.686567\n",
        "Le progetto, Le costruisco, Le modifico, Le riparo, Le rigenero    11.940299\n",
        "Le modifico                                                      6.716418\n",
        "Le progetto, Le costruisco, Le modifico                          5.970149\n",
        "Le costruisco                                                    5.223881\n",
        "Le progetto, Le costruisco                                       5.223881\n",
        "Le progetto, Le costruisco, Le modifico, Le riparo               3.731343\n",
        "Le costruisco, Le modifico, Le riparo                            2.985075\n",
        "Le modifico, Le riparo                                           2.985075\n",
        "Le riparo                                                        1.492537\n",
        "Le progetto, Le costruisco, Le riparo                            1.492537\n",
        "Le costruisco, Le modifico                                       1.492537\n",
        "Le progetto, Le costruisco, Le riparo, Le rigenero               0.746269\n",
        "Le costruisco, Le modifico, Le rigenero                          0.746269\n",
        "Le modifico, Le riparo, Le rigenero                              0.746269\n",
        "Le progetto, Le riparo                                           0.746269\n",
        "Le costruisco, Le riparo                                         0.746269\n",
        "Le rigenero                                                      0.746269\n",
        "Le progetto, Le modifico                                         0.746269\n",
        "Le costruisco, Le riparo, Le rigenero                            0.746269\n",
        "dtype: float64\n",
        "\n"
       ]
      }
     ],
     "prompt_number": 12
    }
   ],
   "metadata": {}
  }
 ]
}