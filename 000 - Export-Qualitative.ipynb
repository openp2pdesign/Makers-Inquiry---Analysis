{
 "metadata": {
  "name": ""
 },
 "nbformat": 3,
 "nbformat_minor": 0,
 "worksheets": [
  {
   "cells": [
    {
     "cell_type": "heading",
     "level": 1,
     "metadata": {},
     "source": [
      "000 - Export qualitative questions for manual analysis"
     ]
    },
    {
     "cell_type": "code",
     "collapsed": false,
     "input": [
      "# -*- coding: UTF-8 -*-\n",
      "\n",
      "# Render our plots inline\n",
      "%matplotlib inline \n",
      "\n",
      "import pandas as pd\n",
      "import matplotlib.pyplot as plt\n",
      "import numpy as np\n",
      "import seaborn\n",
      "\n",
      "pd.set_option('display.mpl_style', 'default') # Make the graphs a bit prettier, overridden by seaborn\n",
      "pd.set_option('display.max_columns', None) # Display all the columns\n",
      "plt.rcParams['font.family'] = 'sans-serif' # Sans Serif fonts for all the graphs\n",
      "\n",
      "# Reference for color palettes: http://web.stanford.edu/~mwaskom/software/seaborn/tutorial/color_palettes.html"
     ],
     "language": "python",
     "metadata": {},
     "outputs": [],
     "prompt_number": 1
    },
    {
     "cell_type": "code",
     "collapsed": false,
     "input": [
      "# Load csv file first\n",
      "data = pd.read_csv(\"data/results-makers-40.csv\", encoding=\"utf-8\")"
     ],
     "language": "python",
     "metadata": {},
     "outputs": [],
     "prompt_number": 2
    },
    {
     "cell_type": "code",
     "collapsed": false,
     "input": [
      "# Check data\n",
      "#data[0:4] # Equals to data.head()"
     ],
     "language": "python",
     "metadata": {},
     "outputs": [],
     "prompt_number": 3
    },
    {
     "cell_type": "code",
     "collapsed": false,
     "input": [
      "#\u00a0Data to be exported:\n",
      "#\u00a0Q008 : Qual \u00e9 il tuo indirizzo di studi?\n",
      "# Q010 : Quali sono i tuoi interessi personali?\n",
      "#\u00a0Q015 : In quale settore operi?\n",
      "# Q018 : Con chi svolgi la tua attivit\u00e1 di making?\n",
      "# Q021 : Quali sono le tue competenze tecniche e tecnologiche?\n",
      "#\u00a0Q025 : Cosa fai per aggiornare le tue competenze tecniche e tecnologiche?\n",
      "#\u00a0Q026 : Che \u00e9 per te un maker?\n",
      "#\u00a0Q045 : A quali categorie merceologiche appartengono?\n",
      "#\u00a0Q061 : Come pensi sar\u00e1 tra 2 anni la tua attivit\u00e1 di making?\n",
      "#\u00a0Q064 : Raccontaci il tuo progetto. Inserisci una breve descrizione\n",
      "\n",
      "Q008 = data[\"Q008\"]\n",
      "Q010 = data[\"Q010\"]\n",
      "Q015 = data[\"Q015\"]\n",
      "Q018 = data[\"Q018\"]\n",
      "Q021 = data[['Q021[SQ001]','Q021[SQ002]','Q021[SQ003]','Q021[SQ004]','Q021[SQ005]']]\n",
      "Q025 = data[\"Q025\"]\n",
      "Q026 = data[\"Q026\"]\n",
      "Q045 = data[\"Q045\"]\n",
      "Q061 = data[\"Q061\"]\n",
      "Q064 = data[\"Q064\"]"
     ],
     "language": "python",
     "metadata": {},
     "outputs": [],
     "prompt_number": 4
    },
    {
     "cell_type": "code",
     "collapsed": false,
     "input": [
      "#\u00a0Export qualitative questions to single csv\n",
      "Q008.to_csv('data/qualitative-Q008.csv', encoding='utf-8')\n",
      "Q010.to_csv('data/qualitative-Q010.csv', encoding='utf-8')\n",
      "Q015.to_csv('data/qualitative-Q015.csv', encoding='utf-8')\n",
      "Q018.to_csv('data/qualitative-Q018.csv', encoding='utf-8')\n",
      "Q021.to_csv('data/qualitative-Q021.csv', encoding='utf-8')\n",
      "Q025.to_csv('data/qualitative-Q025.csv', encoding='utf-8')\n",
      "Q026.to_csv('data/qualitative-Q026.csv', encoding='utf-8')\n",
      "Q045.to_csv('data/qualitative-Q045.csv', encoding='utf-8')\n",
      "Q061.to_csv('data/qualitative-Q061.csv', encoding='utf-8')\n",
      "Q064.to_csv('data/qualitative-Q064.csv', encoding='utf-8')"
     ],
     "language": "python",
     "metadata": {},
     "outputs": [],
     "prompt_number": 5
    },
    {
     "cell_type": "code",
     "collapsed": false,
     "input": [],
     "language": "python",
     "metadata": {},
     "outputs": [],
     "prompt_number": 11
    }
   ],
   "metadata": {}
  }
 ]
}