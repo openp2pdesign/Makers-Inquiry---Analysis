{
 "metadata": {
  "name": "",
  "signature": "sha256:db7c900978e9f81b8772d87181895d0ee4a5f93c9c2e3fb23e567586d9f2aa44"
 },
 "nbformat": 3,
 "nbformat_minor": 0,
 "worksheets": [
  {
   "cells": [
    {
     "cell_type": "heading",
     "level": 1,
     "metadata": {},
     "source": [
      "Q050 - A chi vendi i tuoi progetti o prodotti?"
     ]
    },
    {
     "cell_type": "code",
     "collapsed": false,
     "input": [
      "# -*- coding: UTF-8 -*-\n",
      "\n",
      "# Render our plots inline\n",
      "%matplotlib inline \n",
      "\n",
      "import pandas as pd\n",
      "import matplotlib.pyplot as plt\n",
      "import numpy as np\n",
      "import seaborn\n",
      "\n",
      "pd.set_option('display.mpl_style', 'default') # Make the graphs a bit prettier, overridden by seaborn\n",
      "pd.set_option('display.max_columns', None) # Display all the columns\n",
      "plt.rcParams['font.family'] = 'sans-serif' # Sans Serif fonts for all the graphs\n",
      "\n",
      "# Reference for color palettes: http://web.stanford.edu/~mwaskom/software/seaborn/tutorial/color_palettes.html\n",
      "\n",
      "# Change the font\n",
      "matplotlib.rcParams.update({'font.family': 'Source Sans Pro'})"
     ],
     "language": "python",
     "metadata": {},
     "outputs": [],
     "prompt_number": 1
    },
    {
     "cell_type": "code",
     "collapsed": false,
     "input": [
      "# Load csv file first\n",
      "data = pd.read_csv(\"data/results-makers-40.csv\", encoding=\"utf-8\")"
     ],
     "language": "python",
     "metadata": {},
     "outputs": [],
     "prompt_number": 2
    },
    {
     "cell_type": "code",
     "collapsed": false,
     "input": [
      "# Check data\n",
      "#data[0:4] # Equals to data.head()"
     ],
     "language": "python",
     "metadata": {},
     "outputs": [],
     "prompt_number": 3
    },
    {
     "cell_type": "code",
     "collapsed": false,
     "input": [
      "# Range: Q050[SQ001] - Q050[SQ008] - Q050[other]\n",
      "\n",
      "business_columns = ['Q050[SQ001]','Q050[SQ002]','Q050[SQ003]','Q050[SQ004]',\n",
      "                    'Q050[SQ005]','Q050[SQ006]','Q050[SQ007]','Q050[SQ008]',]\n",
      "business_options = ['Imprese tradizionali',\n",
      "                  'Artigiani',\n",
      "                  'Distributori',\n",
      "                  'Makers',\n",
      "                  'Finanziatori (crowdfunding/venture capitalist)',\n",
      "                  'Professionisti',\n",
      "                  'Amici e parenti',\n",
      "                  'Non vendo i miei prodotti'\n",
      "                  ]\n",
      "business = data[business_columns]\n",
      "business.replace(u'S\u00ec', 'Si', inplace=True) # Get rid of accented characters \n",
      "business_other = data['Q050[other]'].str.lower().value_counts()"
     ],
     "language": "python",
     "metadata": {},
     "outputs": [
      {
       "output_type": "stream",
       "stream": "stderr",
       "text": [
        "-c:15: SettingWithCopyWarning: \n",
        "A value is trying to be set on a copy of a slice from a DataFrame\n",
        "\n",
        "See the the caveats in the documentation: http://pandas.pydata.org/pandas-docs/stable/indexing.html#indexing-view-versus-copy\n"
       ]
      }
     ],
     "prompt_number": 4
    },
    {
     "cell_type": "code",
     "collapsed": false,
     "input": [
      "#business[0:4]"
     ],
     "language": "python",
     "metadata": {},
     "outputs": [],
     "prompt_number": 5
    },
    {
     "cell_type": "heading",
     "level": 2,
     "metadata": {},
     "source": [
      "Combinations..."
     ]
    },
    {
     "cell_type": "code",
     "collapsed": false,
     "input": [
      "# Create all the possible combinations from the main options\n",
      "# See http://stackoverflow.com/questions/17176887/python-get-all-permutation-of-a-list-w-o-repetitions\n",
      "\n",
      "import itertools \n",
      "\n",
      "all_combinations = {}\n",
      "all_combinations_columns = []\n",
      "\n",
      "for i in range(1, len(business_columns)+1):\n",
      "    comb = list(itertools.combinations(business_columns, i))\n",
      "    for k in comb:\n",
      "        #\u00a0Each combination\n",
      "        all_combinations[k] = {}\n",
      "        all_combinations[k][\"col_list\"] = list(k)\n",
      "        #\u00a0Build the string and boolean list of each combination\n",
      "        comb_list = []\n",
      "        comb_bool_list = []\n",
      "        # Put default False value\n",
      "        for l in business_columns:\n",
      "            comb_bool_list.append(False)\n",
      "        for j in k:\n",
      "            pos = business_columns.index(j) # Get position\n",
      "            comb_list.append(business_options[pos])\n",
      "            comb_bool_list[pos] = True\n",
      "        all_combinations[k][\"list\"] = comb_list\n",
      "        all_combinations[k][\"bool_list\"] = comb_bool_list\n",
      "        all_combinations[k][\"str\"] = \", \".join(comb_list)"
     ],
     "language": "python",
     "metadata": {},
     "outputs": [],
     "prompt_number": 6
    },
    {
     "cell_type": "code",
     "collapsed": false,
     "input": [
      "#\u00a0Check which combinations correspond each row\n",
      "str_values = []\n",
      "for i in business.index:\n",
      "    current_bool_list = list(business.ix[i].isin([\"Si\"]))\n",
      "    for i in all_combinations:\n",
      "        if current_bool_list == all_combinations[i][\"bool_list\"]:\n",
      "            str_values.append(all_combinations[i][\"str\"])"
     ],
     "language": "python",
     "metadata": {},
     "outputs": [],
     "prompt_number": 7
    },
    {
     "cell_type": "code",
     "collapsed": false,
     "input": [
      "# Add combination column\n",
      "business[\"Combination\"] = pd.Series(str_values)"
     ],
     "language": "python",
     "metadata": {},
     "outputs": [
      {
       "output_type": "stream",
       "stream": "stderr",
       "text": [
        "-c:2: SettingWithCopyWarning: \n",
        "A value is trying to be set on a copy of a slice from a DataFrame.\n",
        "Try using .loc[row_indexer,col_indexer] = value instead\n",
        "\n",
        "See the the caveats in the documentation: http://pandas.pydata.org/pandas-docs/stable/indexing.html#indexing-view-versus-copy\n"
       ]
      }
     ],
     "prompt_number": 8
    },
    {
     "cell_type": "code",
     "collapsed": false,
     "input": [
      "# Gather data\n",
      "resulting_combinations = business[\"Combination\"].value_counts()\n",
      "resulting_combinations_percentage = business[\"Combination\"].value_counts(normalize=True)*100"
     ],
     "language": "python",
     "metadata": {},
     "outputs": [],
     "prompt_number": 9
    },
    {
     "cell_type": "code",
     "collapsed": false,
     "input": [
      "#\u00a0Plotting the first 10 values of the most popular combinations\n",
      "resulting_combinations[0:10].plot(kind='bar',figsize=(20,10),rot=90)\n",
      "plt.title(u\"A chi vendi i tuoi progetti o prodotti? Combinazioni\", fontsize=18)\n",
      "plt.ylabel(\"Persone\", fontsize=16)\n",
      "plt.xlabel(\"Combinazioni\", fontsize=16)\n",
      "plt.savefig(\"svg/Q050-Combinazioni.svg\")\n",
      "plt.savefig(\"png/Q050-Combinazioni.png\")"
     ],
     "language": "python",
     "metadata": {},
     "outputs": [
      {
       "metadata": {},
       "output_type": "display_data",
       "png": "[encoded data removed]",
       "text": [
        "<matplotlib.figure.Figure at 0x11514d810>"
       ]
      }
     ],
     "prompt_number": 10
    },
    {
     "cell_type": "code",
     "collapsed": false,
     "input": [
      "#\u00a0Data of the combinations\n",
      "resulting_combinations"
     ],
     "language": "python",
     "metadata": {},
     "outputs": [
      {
       "metadata": {},
       "output_type": "pyout",
       "prompt_number": 11,
       "text": [
        "Non vendo i miei prodotti                                       28\n",
        "Imprese tradizionali                                             4\n",
        "Distributori                                                     4\n",
        "Imprese tradizionali, Distributori                               4\n",
        "Amici e parenti                                                  4\n",
        "Professionisti                                                   4\n",
        "Amici e parenti, Non vendo i miei prodotti                       3\n",
        "Distributori, Professionisti, Amici e parenti                    3\n",
        "Makers                                                           3\n",
        "Professionisti, Amici e parenti                                  2\n",
        "Imprese tradizionali, Artigiani, Makers, Professionisti          2\n",
        "Imprese tradizionali, Professionisti                             2\n",
        "Artigiani, Makers, Amici e parenti                               2\n",
        "Imprese tradizionali, Distributori, Professionisti, Amici e parenti     2\n",
        "Imprese tradizionali, Artigiani, Professionisti                  2\n",
        "Imprese tradizionali, Distributori, Professionisti               2\n",
        "Artigiani, Distributori, Professionisti, Amici e parenti         1\n",
        "Imprese tradizionali, Finanziatori (crowdfunding/venture capitalist), Professionisti     1\n",
        "Distributori, Professionisti                                     1\n",
        "Imprese tradizionali, Artigiani, Distributori, Makers, Professionisti     1\n",
        "Makers, Finanziatori (crowdfunding/venture capitalist), Professionisti     1\n",
        "Artigiani, Distributori, Makers, Professionisti, Amici e parenti     1\n",
        "Imprese tradizionali, Artigiani, Makers, Professionisti, Amici e parenti     1\n",
        "Distributori, Amici e parenti                                    1\n",
        "Distributori, Makers, Professionisti, Amici e parenti            1\n",
        "Distributori, Finanziatori (crowdfunding/venture capitalist)     1\n",
        "Makers, Professionisti, Amici e parenti                          1\n",
        "Imprese tradizionali, Makers, Professionisti, Amici e parenti     1\n",
        "Imprese tradizionali, Artigiani, Distributori, Professionisti     1\n",
        "Finanziatori (crowdfunding/venture capitalist), Non vendo i miei prodotti     1\n",
        "Artigiani, Professionisti, Amici e parenti                       1\n",
        "Artigiani, Professionisti                                        1\n",
        "Imprese tradizionali, Artigiani, Professionisti, Amici e parenti     1\n",
        "Makers, Amici e parenti, Non vendo i miei prodotti               1\n",
        "Artigiani                                                        1\n",
        "Imprese tradizionali, Finanziatori (crowdfunding/venture capitalist)     1\n",
        "Imprese tradizionali, Artigiani, Distributori, Makers, Professionisti, Amici e parenti     1\n",
        "Finanziatori (crowdfunding/venture capitalist), Amici e parenti     1\n",
        "Distributori, Finanziatori (crowdfunding/venture capitalist), Amici e parenti     1\n",
        "Artigiani, Makers, Professionisti, Amici e parenti               1\n",
        "Imprese tradizionali, Distributori, Finanziatori (crowdfunding/venture capitalist), Professionisti, Amici e parenti     1\n",
        "Artigiani, Makers, Finanziatori (crowdfunding/venture capitalist)     1\n",
        "dtype: int64"
       ]
      }
     ],
     "prompt_number": 11
    },
    {
     "cell_type": "code",
     "collapsed": false,
     "input": [
      "# Data of the combinations: percentage\n",
      "resulting_combinations_percentage"
     ],
     "language": "python",
     "metadata": {},
     "outputs": [
      {
       "metadata": {},
       "output_type": "pyout",
       "prompt_number": 12,
       "text": [
        "Non vendo i miei prodotti                                       20.895522\n",
        "Imprese tradizionali                                             2.985075\n",
        "Distributori                                                     2.985075\n",
        "Imprese tradizionali, Distributori                               2.985075\n",
        "Amici e parenti                                                  2.985075\n",
        "Professionisti                                                   2.985075\n",
        "Amici e parenti, Non vendo i miei prodotti                       2.238806\n",
        "Distributori, Professionisti, Amici e parenti                    2.238806\n",
        "Makers                                                           2.238806\n",
        "Professionisti, Amici e parenti                                  1.492537\n",
        "Imprese tradizionali, Artigiani, Makers, Professionisti          1.492537\n",
        "Imprese tradizionali, Professionisti                             1.492537\n",
        "Artigiani, Makers, Amici e parenti                               1.492537\n",
        "Imprese tradizionali, Distributori, Professionisti, Amici e parenti     1.492537\n",
        "Imprese tradizionali, Artigiani, Professionisti                  1.492537\n",
        "Imprese tradizionali, Distributori, Professionisti               1.492537\n",
        "Artigiani, Distributori, Professionisti, Amici e parenti         0.746269\n",
        "Imprese tradizionali, Finanziatori (crowdfunding/venture capitalist), Professionisti     0.746269\n",
        "Distributori, Professionisti                                     0.746269\n",
        "Imprese tradizionali, Artigiani, Distributori, Makers, Professionisti     0.746269\n",
        "Makers, Finanziatori (crowdfunding/venture capitalist), Professionisti     0.746269\n",
        "Artigiani, Distributori, Makers, Professionisti, Amici e parenti     0.746269\n",
        "Imprese tradizionali, Artigiani, Makers, Professionisti, Amici e parenti     0.746269\n",
        "Distributori, Amici e parenti                                    0.746269\n",
        "Distributori, Makers, Professionisti, Amici e parenti            0.746269\n",
        "Distributori, Finanziatori (crowdfunding/venture capitalist)     0.746269\n",
        "Makers, Professionisti, Amici e parenti                          0.746269\n",
        "Imprese tradizionali, Makers, Professionisti, Amici e parenti     0.746269\n",
        "Imprese tradizionali, Artigiani, Distributori, Professionisti     0.746269\n",
        "Finanziatori (crowdfunding/venture capitalist), Non vendo i miei prodotti     0.746269\n",
        "Artigiani, Professionisti, Amici e parenti                       0.746269\n",
        "Artigiani, Professionisti                                        0.746269\n",
        "Imprese tradizionali, Artigiani, Professionisti, Amici e parenti     0.746269\n",
        "Makers, Amici e parenti, Non vendo i miei prodotti               0.746269\n",
        "Artigiani                                                        0.746269\n",
        "Imprese tradizionali, Finanziatori (crowdfunding/venture capitalist)     0.746269\n",
        "Imprese tradizionali, Artigiani, Distributori, Makers, Professionisti, Amici e parenti     0.746269\n",
        "Finanziatori (crowdfunding/venture capitalist), Amici e parenti     0.746269\n",
        "Distributori, Finanziatori (crowdfunding/venture capitalist), Amici e parenti     0.746269\n",
        "Artigiani, Makers, Professionisti, Amici e parenti               0.746269\n",
        "Imprese tradizionali, Distributori, Finanziatori (crowdfunding/venture capitalist), Professionisti, Amici e parenti     0.746269\n",
        "Artigiani, Makers, Finanziatori (crowdfunding/venture capitalist)     0.746269\n",
        "dtype: float64"
       ]
      }
     ],
     "prompt_number": 12
    }
   ],
   "metadata": {}
  }
 ]
}